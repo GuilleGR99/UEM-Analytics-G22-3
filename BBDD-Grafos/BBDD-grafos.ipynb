{
 "cells": [
  {
   "cell_type": "code",
   "execution_count": 1,
   "metadata": {},
   "outputs": [],
   "source": [
    "# Importamos bibliotecas\n",
    "import requests\n",
    "from lxml import html\n",
    "import time\n",
    "import random\n",
    "import pandas as pd"
   ]
  },
  {
   "cell_type": "code",
   "execution_count": 2,
   "metadata": {},
   "outputs": [],
   "source": [
    "#macros, se podren pasar como argumentos en futuras versiones\n",
    "#hasta = '2021-12-31'\n",
    "#desde = '2021-01-01'\n",
    "area = 'advantage actor critic'\n",
    "fuente = 'arxiv'\n",
    "# numero de paginas a revisar (paginas de 10 elementos)\n",
    "num_de_paginas = 4 "
   ]
  },
  {
   "cell_type": "code",
   "execution_count": 3,
   "metadata": {},
   "outputs": [],
   "source": [
    "# Url original \n",
    "#https://scholar.google.com/scholar?q=advantage+actor+critic+source%3Aarxiv&oq="
   ]
  },
  {
   "cell_type": "code",
   "execution_count": 4,
   "metadata": {},
   "outputs": [
    {
     "name": "stdout",
     "output_type": "stream",
     "text": [
      "<Response [200]>\n"
     ]
    }
   ],
   "source": [
    "pagina = 'https://scholar.google.com/scholar?q='+area.replace(\" \", \"+\")+'+source%3A'+fuente+'&oq='\n",
    "headers = requests.utils.default_headers()\n",
    "\n",
    "headers.update(\n",
    "    {\n",
    "        'User-Agent': 'Chrome/96.0.4664.93',\n",
    "    }\n",
    ")\n",
    "\n",
    "req =  requests.get(pagina, headers=headers)\n",
    "if req.status_code == 429:\n",
    "    print('wait' +req.headers.get('Retry-After'))\n",
    "    time.sleep(int(req.headers.get('Retry-After'))+1)\n",
    "    req =  requests.get(pagina, headers=headers)\n",
    "print(req)\n",
    "\n",
    "#Convertimos a tree \n",
    "arbol_html = html.fromstring(req.content)"
   ]
  },
  {
   "cell_type": "code",
   "execution_count": 5,
   "metadata": {},
   "outputs": [
    {
     "name": "stdout",
     "output_type": "stream",
     "text": [
      "Empiezo vuelta 0 :22:29:39\n",
      "Empiezo vuelta 1 :22:29:54\n",
      "Empiezo vuelta 2 :22:30:04\n",
      "Empiezo vuelta 3 :22:30:18\n"
     ]
    }
   ],
   "source": [
    "# start=10 \n",
    "\n",
    "\n",
    "papers = []\n",
    "\n",
    "\n",
    "for i in range (num_de_paginas):\n",
    "    print('Empiezo vuelta '+str(i)+' :'+time.strftime(\"%H:%M:%S\", time.gmtime()))\n",
    "    req =  requests.get(pagina, headers=headers)\n",
    "    if req.status_code == 429:\n",
    "        print('wait' +req.headers.get('Retry-After'))\n",
    "        time.sleep(int(req.headers.get('Retry-After'))+1)\n",
    "        req =  requests.get(pagina, headers=headers)\n",
    "    #Convertimos a tree \n",
    "    arbol_html = html.fromstring(req.content)\n",
    "    temp_res = arbol_html.xpath('//h3 [@class =\"gs_rt\"]/a/@href')\n",
    "    for i in range(len(temp_res)):\n",
    "        pag = temp_res[i]\n",
    "        time.sleep(random.randint(1,2)*0.5)\n",
    "        paper_res =  requests.get(pag, headers=headers)\n",
    "        paper_dic = {}\n",
    "        if paper_res.status_code == 429:\n",
    "            print('wait' +paper_res.headers.get('Retry-After'))\n",
    "            time.sleep(int(jugador_req.headers.get('Retry-After'))+1)\n",
    "            paper_res =  requests.get(pag, headers=headers)\n",
    "        paper_arbol_html = html.fromstring(paper_res.content)\n",
    "        # especifico de la pagina\n",
    "        paper_dic[\"fuente\"] = \"arxiv.org\"\n",
    "        paper_dic[\"titulo\"] = paper_arbol_html.xpath('//h1 [@class =\"title mathjax\"]/text()')\n",
    "        paper_dic[\"autores\"] = paper_arbol_html.xpath('//div [@class =\"authors\"]/a/text()')\n",
    "        paper_dic[\"abstract\"] = paper_arbol_html.xpath('//blockquote [@class =\"abstract mathjax\"]/text()')\n",
    "        paper_dic[\"clase_primaria\"] = paper_arbol_html.xpath('//span [@class =\"primary-subject\"]/text()')\n",
    "        paper_dic[\"otras_clases\"] = paper_arbol_html.xpath('//td [@class =\"tablecell subjects\"]/text()')\n",
    "        paper_dic[\"clase_primaria\"] = paper_arbol_html.xpath('//span [@class =\"primary-subject\"]/text()')\n",
    "        #generico\n",
    "        paper_dic[\"n_citaciones\"] = arbol_html.xpath('//a [@href =\"'+pag+'\"]/parent::*/parent::*/div [@class = \"gs_fl\"]/a [contains(text(),\"Citado\")]/text()')\n",
    "        paper_dic[\"citado\"] = arbol_html.xpath('//a [@href =\"'+pag+'\"]/parent::*/parent::*/div [@class = \"gs_fl\"]/a [contains(text(),\"Citado\")]/@href')\n",
    "        papers.append(paper_dic)\n",
    "        pagina = 'https://scholar.google.com/scholar?start='+str(10*(i+1))+'&q='+area.replace(\" \", \"+\")+'+source%3A'+fuente+'&oq='"
   ]
  },
  {
   "cell_type": "code",
   "execution_count": 6,
   "metadata": {},
   "outputs": [],
   "source": [
    "titulos = []\n",
    "autores = []\n",
    "abstractos = []\n",
    "clase_pri = []\n",
    "clase_otr = []\n",
    "for papel in papers:\n",
    "    try:\n",
    "        titulos.append(papel[\"titulo\"][0])\n",
    "        autores.append(papel[\"autores\"][0])\n",
    "        abstractos.append(papel[\"abstract\"][1])\n",
    "        clase_pri.append(papel[\"clase_primaria\"][0])\n",
    "    except:\n",
    "        continue\n",
    "    try:\n",
    "        clase_otr.append(papel[\"otras_clases\"][1])\n",
    "    except:\n",
    "        clase_otr.append(\"\")"
   ]
  },
  {
   "cell_type": "code",
   "execution_count": 7,
   "metadata": {},
   "outputs": [
    {
     "data": {
      "text/plain": [
       "34"
      ]
     },
     "execution_count": 7,
     "metadata": {},
     "output_type": "execute_result"
    }
   ],
   "source": [
    "len(autores)"
   ]
  },
  {
   "cell_type": "code",
   "execution_count": 8,
   "metadata": {},
   "outputs": [
    {
     "data": {
      "text/plain": [
       "34"
      ]
     },
     "execution_count": 8,
     "metadata": {},
     "output_type": "execute_result"
    }
   ],
   "source": [
    "len(titulos)"
   ]
  },
  {
   "cell_type": "code",
   "execution_count": 9,
   "metadata": {},
   "outputs": [],
   "source": [
    "data = {'titulo': titulos,\n",
    "        'autores': autores,\n",
    "        'abstract': abstractos,\n",
    "        'clase_pri': clase_pri,\n",
    "        'clase_otr': clase_otr\n",
    "        }\n",
    "\n",
    "df = pd.DataFrame(data)"
   ]
  },
  {
   "cell_type": "code",
   "execution_count": 10,
   "metadata": {},
   "outputs": [],
   "source": [
    "filepath = 'data_'+area+\".csv\"\n",
    "df.to_csv(filepath,index=False)  "
   ]
  },
  {
   "cell_type": "code",
   "execution_count": 11,
   "metadata": {},
   "outputs": [
    {
     "data": {
      "text/plain": [
       "titulo       object\n",
       "autores      object\n",
       "abstract     object\n",
       "clase_pri    object\n",
       "clase_otr    object\n",
       "dtype: object"
      ]
     },
     "execution_count": 11,
     "metadata": {},
     "output_type": "execute_result"
    }
   ],
   "source": [
    "df.dtypes"
   ]
  },
  {
   "cell_type": "code",
   "execution_count": 12,
   "metadata": {},
   "outputs": [
    {
     "data": {
      "text/html": [
       "<div>\n",
       "<style scoped>\n",
       "    .dataframe tbody tr th:only-of-type {\n",
       "        vertical-align: middle;\n",
       "    }\n",
       "\n",
       "    .dataframe tbody tr th {\n",
       "        vertical-align: top;\n",
       "    }\n",
       "\n",
       "    .dataframe thead th {\n",
       "        text-align: right;\n",
       "    }\n",
       "</style>\n",
       "<table border=\"1\" class=\"dataframe\">\n",
       "  <thead>\n",
       "    <tr style=\"text-align: right;\">\n",
       "      <th></th>\n",
       "      <th>titulo</th>\n",
       "      <th>autores</th>\n",
       "      <th>abstract</th>\n",
       "      <th>clase_pri</th>\n",
       "      <th>clase_otr</th>\n",
       "    </tr>\n",
       "  </thead>\n",
       "  <tbody>\n",
       "    <tr>\n",
       "      <th>0</th>\n",
       "      <td>Reinforcement Learning through Asynchronous Ad...</td>\n",
       "      <td>Mohammad Babaeizadeh</td>\n",
       "      <td>We introduce a hybrid CPU/GPU version of the...</td>\n",
       "      <td>Machine Learning (cs.LG)</td>\n",
       "      <td></td>\n",
       "    </tr>\n",
       "    <tr>\n",
       "      <th>1</th>\n",
       "      <td>Altruistic Maneuver Planning for Cooperative A...</td>\n",
       "      <td>Behrad Toghi</td>\n",
       "      <td>With the adoption of autonomous vehicles on ...</td>\n",
       "      <td>Robotics (cs.RO)</td>\n",
       "      <td></td>\n",
       "    </tr>\n",
       "    <tr>\n",
       "      <th>2</th>\n",
       "      <td>Towards Understanding Asynchronous Advantage A...</td>\n",
       "      <td>Han Shen</td>\n",
       "      <td>Asynchronous and parallel implementation of ...</td>\n",
       "      <td>Machine Learning (cs.LG)</td>\n",
       "      <td>; Optimization and Control (math.OC)</td>\n",
       "    </tr>\n",
       "    <tr>\n",
       "      <th>3</th>\n",
       "      <td>The Advantage Regret-Matching Actor-Critic</td>\n",
       "      <td>Audrūnas Gruslys</td>\n",
       "      <td>Regret minimization has played a key role in...</td>\n",
       "      <td>Artificial Intelligence (cs.AI)</td>\n",
       "      <td>; Machine Learning (cs.LG)</td>\n",
       "    </tr>\n",
       "    <tr>\n",
       "      <th>4</th>\n",
       "      <td>Actor-Critic Sequence Training for Image Capti...</td>\n",
       "      <td>Li Zhang</td>\n",
       "      <td>Generating natural language descriptions of ...</td>\n",
       "      <td>Computer Vision and Pattern Recognition (cs.CV)</td>\n",
       "      <td></td>\n",
       "    </tr>\n",
       "  </tbody>\n",
       "</table>\n",
       "</div>"
      ],
      "text/plain": [
       "                                              titulo               autores  \\\n",
       "0  Reinforcement Learning through Asynchronous Ad...  Mohammad Babaeizadeh   \n",
       "1  Altruistic Maneuver Planning for Cooperative A...          Behrad Toghi   \n",
       "2  Towards Understanding Asynchronous Advantage A...              Han Shen   \n",
       "3         The Advantage Regret-Matching Actor-Critic      Audrūnas Gruslys   \n",
       "4  Actor-Critic Sequence Training for Image Capti...              Li Zhang   \n",
       "\n",
       "                                            abstract  \\\n",
       "0    We introduce a hybrid CPU/GPU version of the...   \n",
       "1    With the adoption of autonomous vehicles on ...   \n",
       "2    Asynchronous and parallel implementation of ...   \n",
       "3    Regret minimization has played a key role in...   \n",
       "4    Generating natural language descriptions of ...   \n",
       "\n",
       "                                         clase_pri  \\\n",
       "0                         Machine Learning (cs.LG)   \n",
       "1                                 Robotics (cs.RO)   \n",
       "2                         Machine Learning (cs.LG)   \n",
       "3                  Artificial Intelligence (cs.AI)   \n",
       "4  Computer Vision and Pattern Recognition (cs.CV)   \n",
       "\n",
       "                              clase_otr  \n",
       "0                                        \n",
       "1                                        \n",
       "2  ; Optimization and Control (math.OC)  \n",
       "3            ; Machine Learning (cs.LG)  \n",
       "4                                        "
      ]
     },
     "execution_count": 12,
     "metadata": {},
     "output_type": "execute_result"
    }
   ],
   "source": [
    "df.head()"
   ]
  },
  {
   "cell_type": "code",
   "execution_count": 16,
   "metadata": {},
   "outputs": [],
   "source": [
    "df['id'] = df.index"
   ]
  },
  {
   "cell_type": "code",
   "execution_count": 18,
   "metadata": {},
   "outputs": [
    {
     "data": {
      "text/html": [
       "<div>\n",
       "<style scoped>\n",
       "    .dataframe tbody tr th:only-of-type {\n",
       "        vertical-align: middle;\n",
       "    }\n",
       "\n",
       "    .dataframe tbody tr th {\n",
       "        vertical-align: top;\n",
       "    }\n",
       "\n",
       "    .dataframe thead th {\n",
       "        text-align: right;\n",
       "    }\n",
       "</style>\n",
       "<table border=\"1\" class=\"dataframe\">\n",
       "  <thead>\n",
       "    <tr style=\"text-align: right;\">\n",
       "      <th></th>\n",
       "      <th>titulo</th>\n",
       "      <th>autores</th>\n",
       "      <th>abstract</th>\n",
       "      <th>clase_pri</th>\n",
       "      <th>clase_otr</th>\n",
       "      <th>id</th>\n",
       "    </tr>\n",
       "  </thead>\n",
       "  <tbody>\n",
       "    <tr>\n",
       "      <th>0</th>\n",
       "      <td>Reinforcement Learning through Asynchronous Ad...</td>\n",
       "      <td>Mohammad Babaeizadeh</td>\n",
       "      <td>We introduce a hybrid CPU/GPU version of the...</td>\n",
       "      <td>Machine Learning (cs.LG)</td>\n",
       "      <td></td>\n",
       "      <td>0</td>\n",
       "    </tr>\n",
       "    <tr>\n",
       "      <th>1</th>\n",
       "      <td>Altruistic Maneuver Planning for Cooperative A...</td>\n",
       "      <td>Behrad Toghi</td>\n",
       "      <td>With the adoption of autonomous vehicles on ...</td>\n",
       "      <td>Robotics (cs.RO)</td>\n",
       "      <td></td>\n",
       "      <td>1</td>\n",
       "    </tr>\n",
       "    <tr>\n",
       "      <th>2</th>\n",
       "      <td>Towards Understanding Asynchronous Advantage A...</td>\n",
       "      <td>Han Shen</td>\n",
       "      <td>Asynchronous and parallel implementation of ...</td>\n",
       "      <td>Machine Learning (cs.LG)</td>\n",
       "      <td>; Optimization and Control (math.OC)</td>\n",
       "      <td>2</td>\n",
       "    </tr>\n",
       "    <tr>\n",
       "      <th>3</th>\n",
       "      <td>The Advantage Regret-Matching Actor-Critic</td>\n",
       "      <td>Audrūnas Gruslys</td>\n",
       "      <td>Regret minimization has played a key role in...</td>\n",
       "      <td>Artificial Intelligence (cs.AI)</td>\n",
       "      <td>; Machine Learning (cs.LG)</td>\n",
       "      <td>3</td>\n",
       "    </tr>\n",
       "    <tr>\n",
       "      <th>4</th>\n",
       "      <td>Actor-Critic Sequence Training for Image Capti...</td>\n",
       "      <td>Li Zhang</td>\n",
       "      <td>Generating natural language descriptions of ...</td>\n",
       "      <td>Computer Vision and Pattern Recognition (cs.CV)</td>\n",
       "      <td></td>\n",
       "      <td>4</td>\n",
       "    </tr>\n",
       "  </tbody>\n",
       "</table>\n",
       "</div>"
      ],
      "text/plain": [
       "                                              titulo               autores  \\\n",
       "0  Reinforcement Learning through Asynchronous Ad...  Mohammad Babaeizadeh   \n",
       "1  Altruistic Maneuver Planning for Cooperative A...          Behrad Toghi   \n",
       "2  Towards Understanding Asynchronous Advantage A...              Han Shen   \n",
       "3         The Advantage Regret-Matching Actor-Critic      Audrūnas Gruslys   \n",
       "4  Actor-Critic Sequence Training for Image Capti...              Li Zhang   \n",
       "\n",
       "                                            abstract  \\\n",
       "0    We introduce a hybrid CPU/GPU version of the...   \n",
       "1    With the adoption of autonomous vehicles on ...   \n",
       "2    Asynchronous and parallel implementation of ...   \n",
       "3    Regret minimization has played a key role in...   \n",
       "4    Generating natural language descriptions of ...   \n",
       "\n",
       "                                         clase_pri  \\\n",
       "0                         Machine Learning (cs.LG)   \n",
       "1                                 Robotics (cs.RO)   \n",
       "2                         Machine Learning (cs.LG)   \n",
       "3                  Artificial Intelligence (cs.AI)   \n",
       "4  Computer Vision and Pattern Recognition (cs.CV)   \n",
       "\n",
       "                              clase_otr  id  \n",
       "0                                         0  \n",
       "1                                         1  \n",
       "2  ; Optimization and Control (math.OC)   2  \n",
       "3            ; Machine Learning (cs.LG)   3  \n",
       "4                                         4  "
      ]
     },
     "execution_count": 18,
     "metadata": {},
     "output_type": "execute_result"
    }
   ],
   "source": [
    "df.head()"
   ]
  },
  {
   "attachments": {},
   "cell_type": "markdown",
   "metadata": {},
   "source": [
    "### Conectar a Neo4j Desktop"
   ]
  },
  {
   "cell_type": "code",
   "execution_count": 13,
   "metadata": {},
   "outputs": [],
   "source": [
    "import pandas as pd\n",
    "from neo4j import GraphDatabase"
   ]
  },
  {
   "cell_type": "code",
   "execution_count": 2,
   "metadata": {},
   "outputs": [
    {
     "ename": "FileNotFoundError",
     "evalue": "[Errno 2] No such file or directory: '../AplicacionesYTendencias/ProyectoAyT/UEM-Analytics-G22-3/data_advantage actor critic.csv'",
     "output_type": "error",
     "traceback": [
      "\u001b[1;31m---------------------------------------------------------------------------\u001b[0m",
      "\u001b[1;31mFileNotFoundError\u001b[0m                         Traceback (most recent call last)",
      "\u001b[1;32m<ipython-input-2-0732c022e97b>\u001b[0m in \u001b[0;36m<module>\u001b[1;34m\u001b[0m\n\u001b[1;32m----> 1\u001b[1;33m \u001b[0mdf\u001b[0m \u001b[1;33m=\u001b[0m \u001b[0mpd\u001b[0m\u001b[1;33m.\u001b[0m\u001b[0mread_csv\u001b[0m\u001b[1;33m(\u001b[0m\u001b[1;34m'../AplicacionesYTendencias/ProyectoAyT/UEM-Analytics-G22-3/data_advantage actor critic.csv'\u001b[0m\u001b[1;33m)\u001b[0m\u001b[1;33m\u001b[0m\u001b[1;33m\u001b[0m\u001b[0m\n\u001b[0m\u001b[0;32m      2\u001b[0m \u001b[0mdf\u001b[0m\u001b[1;33m\u001b[0m\u001b[1;33m\u001b[0m\u001b[0m\n",
      "\u001b[1;32mc:\\Users\\migue\\anaconda3\\lib\\site-packages\\pandas\\util\\_decorators.py\u001b[0m in \u001b[0;36mwrapper\u001b[1;34m(*args, **kwargs)\u001b[0m\n\u001b[0;32m    309\u001b[0m                     \u001b[0mstacklevel\u001b[0m\u001b[1;33m=\u001b[0m\u001b[0mstacklevel\u001b[0m\u001b[1;33m,\u001b[0m\u001b[1;33m\u001b[0m\u001b[1;33m\u001b[0m\u001b[0m\n\u001b[0;32m    310\u001b[0m                 )\n\u001b[1;32m--> 311\u001b[1;33m             \u001b[1;32mreturn\u001b[0m \u001b[0mfunc\u001b[0m\u001b[1;33m(\u001b[0m\u001b[1;33m*\u001b[0m\u001b[0margs\u001b[0m\u001b[1;33m,\u001b[0m \u001b[1;33m**\u001b[0m\u001b[0mkwargs\u001b[0m\u001b[1;33m)\u001b[0m\u001b[1;33m\u001b[0m\u001b[1;33m\u001b[0m\u001b[0m\n\u001b[0m\u001b[0;32m    312\u001b[0m \u001b[1;33m\u001b[0m\u001b[0m\n\u001b[0;32m    313\u001b[0m         \u001b[1;32mreturn\u001b[0m \u001b[0mwrapper\u001b[0m\u001b[1;33m\u001b[0m\u001b[1;33m\u001b[0m\u001b[0m\n",
      "\u001b[1;32mc:\\Users\\migue\\anaconda3\\lib\\site-packages\\pandas\\io\\parsers\\readers.py\u001b[0m in \u001b[0;36mread_csv\u001b[1;34m(filepath_or_buffer, sep, delimiter, header, names, index_col, usecols, squeeze, prefix, mangle_dupe_cols, dtype, engine, converters, true_values, false_values, skipinitialspace, skiprows, skipfooter, nrows, na_values, keep_default_na, na_filter, verbose, skip_blank_lines, parse_dates, infer_datetime_format, keep_date_col, date_parser, dayfirst, cache_dates, iterator, chunksize, compression, thousands, decimal, lineterminator, quotechar, quoting, doublequote, escapechar, comment, encoding, encoding_errors, dialect, error_bad_lines, warn_bad_lines, on_bad_lines, delim_whitespace, low_memory, memory_map, float_precision, storage_options)\u001b[0m\n\u001b[0;32m    678\u001b[0m     \u001b[0mkwds\u001b[0m\u001b[1;33m.\u001b[0m\u001b[0mupdate\u001b[0m\u001b[1;33m(\u001b[0m\u001b[0mkwds_defaults\u001b[0m\u001b[1;33m)\u001b[0m\u001b[1;33m\u001b[0m\u001b[1;33m\u001b[0m\u001b[0m\n\u001b[0;32m    679\u001b[0m \u001b[1;33m\u001b[0m\u001b[0m\n\u001b[1;32m--> 680\u001b[1;33m     \u001b[1;32mreturn\u001b[0m \u001b[0m_read\u001b[0m\u001b[1;33m(\u001b[0m\u001b[0mfilepath_or_buffer\u001b[0m\u001b[1;33m,\u001b[0m \u001b[0mkwds\u001b[0m\u001b[1;33m)\u001b[0m\u001b[1;33m\u001b[0m\u001b[1;33m\u001b[0m\u001b[0m\n\u001b[0m\u001b[0;32m    681\u001b[0m \u001b[1;33m\u001b[0m\u001b[0m\n\u001b[0;32m    682\u001b[0m \u001b[1;33m\u001b[0m\u001b[0m\n",
      "\u001b[1;32mc:\\Users\\migue\\anaconda3\\lib\\site-packages\\pandas\\io\\parsers\\readers.py\u001b[0m in \u001b[0;36m_read\u001b[1;34m(filepath_or_buffer, kwds)\u001b[0m\n\u001b[0;32m    573\u001b[0m \u001b[1;33m\u001b[0m\u001b[0m\n\u001b[0;32m    574\u001b[0m     \u001b[1;31m# Create the parser.\u001b[0m\u001b[1;33m\u001b[0m\u001b[1;33m\u001b[0m\u001b[1;33m\u001b[0m\u001b[0m\n\u001b[1;32m--> 575\u001b[1;33m     \u001b[0mparser\u001b[0m \u001b[1;33m=\u001b[0m \u001b[0mTextFileReader\u001b[0m\u001b[1;33m(\u001b[0m\u001b[0mfilepath_or_buffer\u001b[0m\u001b[1;33m,\u001b[0m \u001b[1;33m**\u001b[0m\u001b[0mkwds\u001b[0m\u001b[1;33m)\u001b[0m\u001b[1;33m\u001b[0m\u001b[1;33m\u001b[0m\u001b[0m\n\u001b[0m\u001b[0;32m    576\u001b[0m \u001b[1;33m\u001b[0m\u001b[0m\n\u001b[0;32m    577\u001b[0m     \u001b[1;32mif\u001b[0m \u001b[0mchunksize\u001b[0m \u001b[1;32mor\u001b[0m \u001b[0miterator\u001b[0m\u001b[1;33m:\u001b[0m\u001b[1;33m\u001b[0m\u001b[1;33m\u001b[0m\u001b[0m\n",
      "\u001b[1;32mc:\\Users\\migue\\anaconda3\\lib\\site-packages\\pandas\\io\\parsers\\readers.py\u001b[0m in \u001b[0;36m__init__\u001b[1;34m(self, f, engine, **kwds)\u001b[0m\n\u001b[0;32m    932\u001b[0m \u001b[1;33m\u001b[0m\u001b[0m\n\u001b[0;32m    933\u001b[0m         \u001b[0mself\u001b[0m\u001b[1;33m.\u001b[0m\u001b[0mhandles\u001b[0m\u001b[1;33m:\u001b[0m \u001b[0mIOHandles\u001b[0m \u001b[1;33m|\u001b[0m \u001b[1;32mNone\u001b[0m \u001b[1;33m=\u001b[0m \u001b[1;32mNone\u001b[0m\u001b[1;33m\u001b[0m\u001b[1;33m\u001b[0m\u001b[0m\n\u001b[1;32m--> 934\u001b[1;33m         \u001b[0mself\u001b[0m\u001b[1;33m.\u001b[0m\u001b[0m_engine\u001b[0m \u001b[1;33m=\u001b[0m \u001b[0mself\u001b[0m\u001b[1;33m.\u001b[0m\u001b[0m_make_engine\u001b[0m\u001b[1;33m(\u001b[0m\u001b[0mf\u001b[0m\u001b[1;33m,\u001b[0m \u001b[0mself\u001b[0m\u001b[1;33m.\u001b[0m\u001b[0mengine\u001b[0m\u001b[1;33m)\u001b[0m\u001b[1;33m\u001b[0m\u001b[1;33m\u001b[0m\u001b[0m\n\u001b[0m\u001b[0;32m    935\u001b[0m \u001b[1;33m\u001b[0m\u001b[0m\n\u001b[0;32m    936\u001b[0m     \u001b[1;32mdef\u001b[0m \u001b[0mclose\u001b[0m\u001b[1;33m(\u001b[0m\u001b[0mself\u001b[0m\u001b[1;33m)\u001b[0m\u001b[1;33m:\u001b[0m\u001b[1;33m\u001b[0m\u001b[1;33m\u001b[0m\u001b[0m\n",
      "\u001b[1;32mc:\\Users\\migue\\anaconda3\\lib\\site-packages\\pandas\\io\\parsers\\readers.py\u001b[0m in \u001b[0;36m_make_engine\u001b[1;34m(self, f, engine)\u001b[0m\n\u001b[0;32m   1216\u001b[0m             \u001b[1;31m# \"Union[str, PathLike[str], ReadCsvBuffer[bytes], ReadCsvBuffer[str]]\"\u001b[0m\u001b[1;33m\u001b[0m\u001b[1;33m\u001b[0m\u001b[1;33m\u001b[0m\u001b[0m\n\u001b[0;32m   1217\u001b[0m             \u001b[1;31m# , \"str\", \"bool\", \"Any\", \"Any\", \"Any\", \"Any\", \"Any\"\u001b[0m\u001b[1;33m\u001b[0m\u001b[1;33m\u001b[0m\u001b[1;33m\u001b[0m\u001b[0m\n\u001b[1;32m-> 1218\u001b[1;33m             self.handles = get_handle(  # type: ignore[call-overload]\n\u001b[0m\u001b[0;32m   1219\u001b[0m                 \u001b[0mf\u001b[0m\u001b[1;33m,\u001b[0m\u001b[1;33m\u001b[0m\u001b[1;33m\u001b[0m\u001b[0m\n\u001b[0;32m   1220\u001b[0m                 \u001b[0mmode\u001b[0m\u001b[1;33m,\u001b[0m\u001b[1;33m\u001b[0m\u001b[1;33m\u001b[0m\u001b[0m\n",
      "\u001b[1;32mc:\\Users\\migue\\anaconda3\\lib\\site-packages\\pandas\\io\\common.py\u001b[0m in \u001b[0;36mget_handle\u001b[1;34m(path_or_buf, mode, encoding, compression, memory_map, is_text, errors, storage_options)\u001b[0m\n\u001b[0;32m    784\u001b[0m         \u001b[1;32mif\u001b[0m \u001b[0mioargs\u001b[0m\u001b[1;33m.\u001b[0m\u001b[0mencoding\u001b[0m \u001b[1;32mand\u001b[0m \u001b[1;34m\"b\"\u001b[0m \u001b[1;32mnot\u001b[0m \u001b[1;32min\u001b[0m \u001b[0mioargs\u001b[0m\u001b[1;33m.\u001b[0m\u001b[0mmode\u001b[0m\u001b[1;33m:\u001b[0m\u001b[1;33m\u001b[0m\u001b[1;33m\u001b[0m\u001b[0m\n\u001b[0;32m    785\u001b[0m             \u001b[1;31m# Encoding\u001b[0m\u001b[1;33m\u001b[0m\u001b[1;33m\u001b[0m\u001b[1;33m\u001b[0m\u001b[0m\n\u001b[1;32m--> 786\u001b[1;33m             handle = open(\n\u001b[0m\u001b[0;32m    787\u001b[0m                 \u001b[0mhandle\u001b[0m\u001b[1;33m,\u001b[0m\u001b[1;33m\u001b[0m\u001b[1;33m\u001b[0m\u001b[0m\n\u001b[0;32m    788\u001b[0m                 \u001b[0mioargs\u001b[0m\u001b[1;33m.\u001b[0m\u001b[0mmode\u001b[0m\u001b[1;33m,\u001b[0m\u001b[1;33m\u001b[0m\u001b[1;33m\u001b[0m\u001b[0m\n",
      "\u001b[1;31mFileNotFoundError\u001b[0m: [Errno 2] No such file or directory: '../AplicacionesYTendencias/ProyectoAyT/UEM-Analytics-G22-3/data_advantage actor critic.csv'"
     ]
    }
   ],
   "source": [
    "df = pd.read_csv('../AplicacionesYTendencias/ProyectoAyT/UEM-Analytics-G22-3/data_advantage actor critic.csv')\n",
    "df"
   ]
  },
  {
   "cell_type": "code",
   "execution_count": 14,
   "metadata": {},
   "outputs": [],
   "source": [
    "class Neo4jConnection:\n",
    "    \n",
    "    def __init__(self, uri, user, pwd):\n",
    "        self.__uri = uri\n",
    "        self.__user = user\n",
    "        self.__pwd = pwd\n",
    "        self.__driver = None\n",
    "        try:\n",
    "            self.__driver = GraphDatabase.driver(self.__uri, auth=(self.__user, self.__pwd))\n",
    "        except Exception as e:\n",
    "            print(\"Failed to create the driver:\", e)\n",
    "        \n",
    "    def close(self):\n",
    "        if self.__driver is not None:\n",
    "            self.__driver.close()\n",
    "        \n",
    "    def query(self, query, db=None):\n",
    "        assert self.__driver is not None, \"Driver not initialized!\"\n",
    "        session = None\n",
    "        response = None\n",
    "        try: \n",
    "            session = self.__driver.session(database=db) if db is not None else self.__driver.session() \n",
    "            response = list(session.run(query))\n",
    "        except Exception as e:\n",
    "            print(\"Query failed:\", e)\n",
    "        finally: \n",
    "            if session is not None:\n",
    "                session.close()\n",
    "        return response"
   ]
  },
  {
   "cell_type": "code",
   "execution_count": 15,
   "metadata": {},
   "outputs": [],
   "source": [
    "conn = Neo4jConnection(uri=\"bolt://localhost:7687\", \n",
    "                       user=\"usermate\",              \n",
    "                       pwd=\"glass\")"
   ]
  },
  {
   "cell_type": "markdown",
   "metadata": {},
   "source": [
    "### Creación BBDD"
   ]
  },
  {
   "cell_type": "code",
   "execution_count": 25,
   "metadata": {},
   "outputs": [
    {
     "data": {
      "text/plain": [
       "[]"
      ]
     },
     "execution_count": 25,
     "metadata": {},
     "output_type": "execute_result"
    }
   ],
   "source": [
    "conn.query('CREATE CONSTRAINT papers IF NOT EXISTS FOR (p:Paper) REQUIRE p.id IS UNIQUE')\n",
    "conn.query('CREATE CONSTRAINT authors IF NOT EXISTS FOR (a:Author) REQUIRE a.name IS UNIQUE')\n",
    "conn.query('CREATE CONSTRAINT categories IF NOT EXISTS FOR (c:Category) REQUIRE c.category IS UNIQUE')"
   ]
  },
  {
   "cell_type": "code",
   "execution_count": 26,
   "metadata": {},
   "outputs": [],
   "source": [
    "def add_categories(categories):\n",
    "    # Adds category nodes to the Neo4j graph.\n",
    "    query = '''\n",
    "            UNWIND $rows AS row\n",
    "            MERGE (c:Category {category: row.category})\n",
    "            RETURN count(*) as total\n",
    "            '''\n",
    "    return conn.query(query, parameters = {'rows':categories.to_dict('records')})\n",
    "\n",
    "\n",
    "def add_authors(rows, batch_size=10000):\n",
    "    # Adds author nodes to the Neo4j graph as a batch job.\n",
    "    query = '''\n",
    "            UNWIND $rows AS row\n",
    "            MERGE (:Author {name: row.author})\n",
    "            RETURN count(*) as total\n",
    "            '''\n",
    "    return insert_data(query, rows, batch_size)\n",
    "\n",
    "\n",
    "def insert_data(query, rows, batch_size = 10000):\n",
    "    # Function to handle the updating the Neo4j database in batch mode.\n",
    "    \n",
    "    total = 0\n",
    "    batch = 0\n",
    "    start = time.time()\n",
    "    result = None\n",
    "    \n",
    "    while batch * batch_size < len(rows):\n",
    "\n",
    "        res = conn.query(query, \n",
    "                         parameters = {'rows': rows[batch*batch_size:(batch+1)*batch_size].to_dict('records')})\n",
    "        total += res[0]['total']\n",
    "        batch += 1\n",
    "        result = {\"total\":total, \n",
    "                  \"batches\":batch, \n",
    "                  \"time\":time.time()-start}\n",
    "        print(result)\n",
    "        \n",
    "    return result"
   ]
  },
  {
   "cell_type": "code",
   "execution_count": 27,
   "metadata": {},
   "outputs": [],
   "source": [
    "def add_papers(rows, batch_size=5000):\n",
    "   # Adds paper nodes and (:Author)--(:Paper) and \n",
    "   # (:Paper)--(:Category) relationships to the Neo4j graph as a \n",
    "   # batch job.\n",
    " \n",
    "   query = '''\n",
    "   UNWIND $rows as row\n",
    "   MERGE (p:Paper {id:row.id}) ON CREATE SET p.title = row.title\n",
    " \n",
    "   // connect categories\n",
    "   WITH row, p\n",
    "   UNWIND row.category_list AS category_name\n",
    "   MATCH (c:Category {category: category_name})\n",
    "   MERGE (p)-[:IN_CATEGORY]->(c)\n",
    " \n",
    "   // connect authors\n",
    "   WITH distinct row, p // reduce cardinality\n",
    "   UNWIND row.cleaned_authors_list AS author\n",
    "   MATCH (a:Author {name: author})\n",
    "   MERGE (a)-[:AUTHORED]->(p)\n",
    "   RETURN count(distinct p) as total\n",
    "   '''\n",
    " \n",
    "   return insert_data(query, rows, batch_size)"
   ]
  },
  {
   "cell_type": "code",
   "execution_count": 29,
   "metadata": {},
   "outputs": [
    {
     "data": {
      "text/html": [
       "<div>\n",
       "<style scoped>\n",
       "    .dataframe tbody tr th:only-of-type {\n",
       "        vertical-align: middle;\n",
       "    }\n",
       "\n",
       "    .dataframe tbody tr th {\n",
       "        vertical-align: top;\n",
       "    }\n",
       "\n",
       "    .dataframe thead th {\n",
       "        text-align: right;\n",
       "    }\n",
       "</style>\n",
       "<table border=\"1\" class=\"dataframe\">\n",
       "  <thead>\n",
       "    <tr style=\"text-align: right;\">\n",
       "      <th></th>\n",
       "      <th>titulo</th>\n",
       "      <th>autores</th>\n",
       "      <th>abstract</th>\n",
       "      <th>clase_pri</th>\n",
       "      <th>clase_otr</th>\n",
       "      <th>id</th>\n",
       "    </tr>\n",
       "  </thead>\n",
       "  <tbody>\n",
       "    <tr>\n",
       "      <th>0</th>\n",
       "      <td>Reinforcement Learning through Asynchronous Ad...</td>\n",
       "      <td>Mohammad Babaeizadeh</td>\n",
       "      <td>We introduce a hybrid CPU/GPU version of the...</td>\n",
       "      <td>Machine Learning (cs.LG)</td>\n",
       "      <td></td>\n",
       "      <td>0</td>\n",
       "    </tr>\n",
       "    <tr>\n",
       "      <th>1</th>\n",
       "      <td>Altruistic Maneuver Planning for Cooperative A...</td>\n",
       "      <td>Behrad Toghi</td>\n",
       "      <td>With the adoption of autonomous vehicles on ...</td>\n",
       "      <td>Robotics (cs.RO)</td>\n",
       "      <td></td>\n",
       "      <td>1</td>\n",
       "    </tr>\n",
       "    <tr>\n",
       "      <th>2</th>\n",
       "      <td>Towards Understanding Asynchronous Advantage A...</td>\n",
       "      <td>Han Shen</td>\n",
       "      <td>Asynchronous and parallel implementation of ...</td>\n",
       "      <td>Machine Learning (cs.LG)</td>\n",
       "      <td>; Optimization and Control (math.OC)</td>\n",
       "      <td>2</td>\n",
       "    </tr>\n",
       "    <tr>\n",
       "      <th>3</th>\n",
       "      <td>The Advantage Regret-Matching Actor-Critic</td>\n",
       "      <td>Audrūnas Gruslys</td>\n",
       "      <td>Regret minimization has played a key role in...</td>\n",
       "      <td>Artificial Intelligence (cs.AI)</td>\n",
       "      <td>; Machine Learning (cs.LG)</td>\n",
       "      <td>3</td>\n",
       "    </tr>\n",
       "    <tr>\n",
       "      <th>4</th>\n",
       "      <td>Actor-Critic Sequence Training for Image Capti...</td>\n",
       "      <td>Li Zhang</td>\n",
       "      <td>Generating natural language descriptions of ...</td>\n",
       "      <td>Computer Vision and Pattern Recognition (cs.CV)</td>\n",
       "      <td></td>\n",
       "      <td>4</td>\n",
       "    </tr>\n",
       "  </tbody>\n",
       "</table>\n",
       "</div>"
      ],
      "text/plain": [
       "                                              titulo               autores  \\\n",
       "0  Reinforcement Learning through Asynchronous Ad...  Mohammad Babaeizadeh   \n",
       "1  Altruistic Maneuver Planning for Cooperative A...          Behrad Toghi   \n",
       "2  Towards Understanding Asynchronous Advantage A...              Han Shen   \n",
       "3         The Advantage Regret-Matching Actor-Critic      Audrūnas Gruslys   \n",
       "4  Actor-Critic Sequence Training for Image Capti...              Li Zhang   \n",
       "\n",
       "                                            abstract  \\\n",
       "0    We introduce a hybrid CPU/GPU version of the...   \n",
       "1    With the adoption of autonomous vehicles on ...   \n",
       "2    Asynchronous and parallel implementation of ...   \n",
       "3    Regret minimization has played a key role in...   \n",
       "4    Generating natural language descriptions of ...   \n",
       "\n",
       "                                         clase_pri  \\\n",
       "0                         Machine Learning (cs.LG)   \n",
       "1                                 Robotics (cs.RO)   \n",
       "2                         Machine Learning (cs.LG)   \n",
       "3                  Artificial Intelligence (cs.AI)   \n",
       "4  Computer Vision and Pattern Recognition (cs.CV)   \n",
       "\n",
       "                              clase_otr  id  \n",
       "0                                         0  \n",
       "1                                         1  \n",
       "2  ; Optimization and Control (math.OC)   2  \n",
       "3            ; Machine Learning (cs.LG)   3  \n",
       "4                                         4  "
      ]
     },
     "execution_count": 29,
     "metadata": {},
     "output_type": "execute_result"
    }
   ],
   "source": [
    "df.head()"
   ]
  },
  {
   "cell_type": "code",
   "execution_count": 31,
   "metadata": {},
   "outputs": [],
   "source": [
    "categories = pd.DataFrame(df[['clase_pri']])\n",
    "categories.rename(columns={'clase_pri':'category'},\n",
    "                  inplace=True)\n",
    "categories = categories.explode('category') \\\n",
    "                       .drop_duplicates(subset=['category'])\n",
    "\n",
    "authors = pd.DataFrame(df[['autores']])\n",
    "authors.rename(columns={'autores':'author'},\n",
    "               inplace=True)\n",
    "authors=authors.explode('author').drop_duplicates(subset=['author'])\n",
    "add_categories(categories)\n",
    "add_authors(authors)\n",
    "add_papers(df)"
   ]
  }
 ],
 "metadata": {
  "kernelspec": {
   "display_name": "Python 3.8.3 ('base': conda)",
   "language": "python",
   "name": "python3"
  },
  "language_info": {
   "codemirror_mode": {
    "name": "ipython",
    "version": 3
   },
   "file_extension": ".py",
   "mimetype": "text/x-python",
   "name": "python",
   "nbconvert_exporter": "python",
   "pygments_lexer": "ipython3",
   "version": "3.8.3"
  },
  "orig_nbformat": 4,
  "vscode": {
   "interpreter": {
    "hash": "506d569f0b28ea103188d4d9f745b7b2b85d3e31dafde01bdf7899299ac0033b"
   }
  }
 },
 "nbformat": 4,
 "nbformat_minor": 2
}
