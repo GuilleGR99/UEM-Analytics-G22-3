{
 "cells": [
  {
   "attachments": {},
   "cell_type": "markdown",
   "metadata": {},
   "source": [
    "### Conectar a Neo4j Desktop"
   ]
  },
  {
   "cell_type": "code",
   "execution_count": 1,
   "metadata": {},
   "outputs": [],
   "source": [
    "import pandas as pd\n",
    "from neo4j import GraphDatabase\n",
    "import time"
   ]
  },
  {
   "cell_type": "code",
   "execution_count": 2,
   "metadata": {},
   "outputs": [
    {
     "data": {
      "text/html": [
       "<div>\n",
       "<style scoped>\n",
       "    .dataframe tbody tr th:only-of-type {\n",
       "        vertical-align: middle;\n",
       "    }\n",
       "\n",
       "    .dataframe tbody tr th {\n",
       "        vertical-align: top;\n",
       "    }\n",
       "\n",
       "    .dataframe thead th {\n",
       "        text-align: right;\n",
       "    }\n",
       "</style>\n",
       "<table border=\"1\" class=\"dataframe\">\n",
       "  <thead>\n",
       "    <tr style=\"text-align: right;\">\n",
       "      <th></th>\n",
       "      <th>titulo</th>\n",
       "      <th>autores</th>\n",
       "      <th>abstract</th>\n",
       "      <th>clase_pri</th>\n",
       "      <th>clase_otr</th>\n",
       "      <th>id</th>\n",
       "    </tr>\n",
       "  </thead>\n",
       "  <tbody>\n",
       "    <tr>\n",
       "      <th>0</th>\n",
       "      <td>Reinforcement Learning through Asynchronous Ad...</td>\n",
       "      <td>Mohammad Babaeizadeh</td>\n",
       "      <td>We introduce a hybrid CPU/GPU version of the...</td>\n",
       "      <td>Machine Learning (cs.LG)</td>\n",
       "      <td>NaN</td>\n",
       "      <td>0</td>\n",
       "    </tr>\n",
       "    <tr>\n",
       "      <th>1</th>\n",
       "      <td>Altruistic Maneuver Planning for Cooperative A...</td>\n",
       "      <td>Behrad Toghi</td>\n",
       "      <td>With the adoption of autonomous vehicles on ...</td>\n",
       "      <td>Robotics (cs.RO)</td>\n",
       "      <td>NaN</td>\n",
       "      <td>1</td>\n",
       "    </tr>\n",
       "    <tr>\n",
       "      <th>2</th>\n",
       "      <td>Towards Understanding Asynchronous Advantage A...</td>\n",
       "      <td>Han Shen</td>\n",
       "      <td>Asynchronous and parallel implementation of ...</td>\n",
       "      <td>Machine Learning (cs.LG)</td>\n",
       "      <td>; Optimization and Control (math.OC)</td>\n",
       "      <td>2</td>\n",
       "    </tr>\n",
       "    <tr>\n",
       "      <th>3</th>\n",
       "      <td>The Advantage Regret-Matching Actor-Critic</td>\n",
       "      <td>Audrūnas Gruslys</td>\n",
       "      <td>Regret minimization has played a key role in...</td>\n",
       "      <td>Artificial Intelligence (cs.AI)</td>\n",
       "      <td>; Machine Learning (cs.LG)</td>\n",
       "      <td>3</td>\n",
       "    </tr>\n",
       "    <tr>\n",
       "      <th>4</th>\n",
       "      <td>Actor-Critic Sequence Training for Image Capti...</td>\n",
       "      <td>Li Zhang</td>\n",
       "      <td>Generating natural language descriptions of ...</td>\n",
       "      <td>Computer Vision and Pattern Recognition (cs.CV)</td>\n",
       "      <td>NaN</td>\n",
       "      <td>4</td>\n",
       "    </tr>\n",
       "  </tbody>\n",
       "</table>\n",
       "</div>"
      ],
      "text/plain": [
       "                                              titulo               autores  \\\n",
       "0  Reinforcement Learning through Asynchronous Ad...  Mohammad Babaeizadeh   \n",
       "1  Altruistic Maneuver Planning for Cooperative A...          Behrad Toghi   \n",
       "2  Towards Understanding Asynchronous Advantage A...              Han Shen   \n",
       "3         The Advantage Regret-Matching Actor-Critic      Audrūnas Gruslys   \n",
       "4  Actor-Critic Sequence Training for Image Capti...              Li Zhang   \n",
       "\n",
       "                                            abstract  \\\n",
       "0    We introduce a hybrid CPU/GPU version of the...   \n",
       "1    With the adoption of autonomous vehicles on ...   \n",
       "2    Asynchronous and parallel implementation of ...   \n",
       "3    Regret minimization has played a key role in...   \n",
       "4    Generating natural language descriptions of ...   \n",
       "\n",
       "                                         clase_pri  \\\n",
       "0                         Machine Learning (cs.LG)   \n",
       "1                                 Robotics (cs.RO)   \n",
       "2                         Machine Learning (cs.LG)   \n",
       "3                  Artificial Intelligence (cs.AI)   \n",
       "4  Computer Vision and Pattern Recognition (cs.CV)   \n",
       "\n",
       "                              clase_otr  id  \n",
       "0                                   NaN   0  \n",
       "1                                   NaN   1  \n",
       "2  ; Optimization and Control (math.OC)   2  \n",
       "3            ; Machine Learning (cs.LG)   3  \n",
       "4                                   NaN   4  "
      ]
     },
     "execution_count": 2,
     "metadata": {},
     "output_type": "execute_result"
    }
   ],
   "source": [
    "df = pd.read_csv('C:/Users/migue/AplicacionesYTendencias/ProyectoAyT/UEM-Analytics-G22-3/BBDD-Grafos/data_advantege actor critic2.csv')\n",
    "df.head()"
   ]
  },
  {
   "cell_type": "code",
   "execution_count": 3,
   "metadata": {},
   "outputs": [],
   "source": [
    "class Neo4jConnection:\n",
    "    \n",
    "    def __init__(self, uri, user, pwd):\n",
    "        self.__uri = uri\n",
    "        self.__user = user\n",
    "        self.__pwd = pwd\n",
    "        self.__driver = None\n",
    "        try:\n",
    "            self.__driver = GraphDatabase.driver(self.__uri, auth=(self.__user, self.__pwd))\n",
    "        except Exception as e:\n",
    "            print(\"Failed to create the driver:\", e)\n",
    "        \n",
    "    def close(self):\n",
    "        if self.__driver is not None:\n",
    "            self.__driver.close()\n",
    "        \n",
    "    def query(self, query, db=None):\n",
    "        assert self.__driver is not None, \"Driver not initialized!\"\n",
    "        session = None\n",
    "        response = None\n",
    "        try: \n",
    "            session = self.__driver.session(database=db) if db is not None else self.__driver.session() \n",
    "            response = list(session.run(query))\n",
    "        except Exception as e:\n",
    "            print(\"Query failed:\", e)\n",
    "        finally: \n",
    "            if session is not None:\n",
    "                session.close()\n",
    "        return response"
   ]
  },
  {
   "cell_type": "code",
   "execution_count": 4,
   "metadata": {},
   "outputs": [],
   "source": [
    "conn = Neo4jConnection(uri=\"bolt://localhost:7687\", \n",
    "                       user=\"usermate\",              \n",
    "                       pwd=\"glass\")"
   ]
  },
  {
   "cell_type": "markdown",
   "metadata": {},
   "source": [
    "### Creación BBDD"
   ]
  },
  {
   "cell_type": "code",
   "execution_count": 5,
   "metadata": {},
   "outputs": [
    {
     "data": {
      "text/plain": [
       "[]"
      ]
     },
     "execution_count": 5,
     "metadata": {},
     "output_type": "execute_result"
    }
   ],
   "source": [
    "conn.query('CREATE CONSTRAINT papers IF NOT EXISTS FOR (p:Paper) REQUIRE p.id IS UNIQUE')\n",
    "conn.query('CREATE CONSTRAINT authors IF NOT EXISTS FOR (a:Author) REQUIRE a.name IS UNIQUE')\n",
    "conn.query('CREATE CONSTRAINT categories IF NOT EXISTS FOR (c:Category) REQUIRE c.category IS UNIQUE')"
   ]
  },
  {
   "cell_type": "code",
   "execution_count": 17,
   "metadata": {},
   "outputs": [],
   "source": [
    "def add_categories(categories):\n",
    "    # Añade a la BBDD de grafos de Neo4j el nodo de categorías.\n",
    "    query = '''\n",
    "            UNWIND $rows AS row\n",
    "            MERGE (c:Category {category: row.category})\n",
    "            RETURN count(*) as total\n",
    "            '''\n",
    "        \n",
    "    return conn.query(query, {'rows':categories})\n",
    "    #return conn.query(query, parameters = {'rows':categories.to_dict('records')})\n"
   ]
  },
  {
   "cell_type": "code",
   "execution_count": 7,
   "metadata": {},
   "outputs": [],
   "source": [
    "def add_authors(rows, batch_size=10000):\n",
    "    # Añade a la BBDD de grafos de Neo4j el nodo de autores.\n",
    "    # Adds author nodes to the Neo4j graph as a batch job.\n",
    "    query = '''\n",
    "            UNWIND $rows AS row\n",
    "            MERGE (:Author {name: row.author})\n",
    "            RETURN count(*) as total\n",
    "            '''\n",
    "    return insert_data(query, rows, batch_size)\n",
    "\n",
    "def insert_data(query, rows, batch_size = 10000):\n",
    "    # Funcición para gestionar las cargas de la BBDD de Neo4j en modo batch.\n",
    "    # Puede ser útil para cuando se tengan más de 50.000 cargas.\n",
    "    \n",
    "    total = 0\n",
    "    batch = 0\n",
    "    start = time.time()\n",
    "    result = None\n",
    "    \n",
    "    while batch * batch_size < len(rows):\n",
    "\n",
    "        res = conn.query(query, \n",
    "                         parameters = {'rows': rows[batch*batch_size:(batch+1)*batch_size].to_dict('records')})\n",
    "        total += res[0]['total']\n",
    "        batch += 1\n",
    "        result = {\"total\":total, \n",
    "                  \"batches\":batch, \n",
    "                  \"time\":time.time()-start}\n",
    "        print(result)\n",
    "        \n",
    "    return result"
   ]
  },
  {
   "cell_type": "code",
   "execution_count": 8,
   "metadata": {},
   "outputs": [],
   "source": [
    "def add_papers(rows, batch_size=5000):\n",
    "   # Se Añade a la BBDD de grafos de Neo4j el nodo de los papers.\n",
    "\n",
    "   # Añade el nodo de papers (:Author)--(:Paper)  \n",
    "   # (:Paper)--(:Category) y las relaciones a la BBDD de grafos de Neo4j en modo batch.\n",
    " \n",
    "   query = '''\n",
    "   UNWIND $rows as row\n",
    "   MERGE (p:Paper {id:row.id}) ON CREATE SET p.title = row.title\n",
    " \n",
    "   // connect categories\n",
    "   WITH row, p\n",
    "   UNWIND row.clase_pri AS category_name\n",
    "   MATCH (c:Category {category: category_name})\n",
    "   MERGE (p)-[:IN_CATEGORY]->(c)\n",
    " \n",
    "   // connect authors\n",
    "   WITH distinct row, p // reduce cardinality\n",
    "   UNWIND row.autores AS author\n",
    "   MATCH (a:Author {name: author})\n",
    "   MERGE (a)-[:AUTHORED]->(p)\n",
    "   RETURN count(distinct p) as total\n",
    "   '''\n",
    " \n",
    "   return insert_data(query, rows, batch_size)"
   ]
  },
  {
   "cell_type": "code",
   "execution_count": 9,
   "metadata": {},
   "outputs": [
    {
     "data": {
      "text/html": [
       "<div>\n",
       "<style scoped>\n",
       "    .dataframe tbody tr th:only-of-type {\n",
       "        vertical-align: middle;\n",
       "    }\n",
       "\n",
       "    .dataframe tbody tr th {\n",
       "        vertical-align: top;\n",
       "    }\n",
       "\n",
       "    .dataframe thead th {\n",
       "        text-align: right;\n",
       "    }\n",
       "</style>\n",
       "<table border=\"1\" class=\"dataframe\">\n",
       "  <thead>\n",
       "    <tr style=\"text-align: right;\">\n",
       "      <th></th>\n",
       "      <th>titulo</th>\n",
       "      <th>autores</th>\n",
       "      <th>abstract</th>\n",
       "      <th>clase_pri</th>\n",
       "      <th>clase_otr</th>\n",
       "      <th>id</th>\n",
       "    </tr>\n",
       "  </thead>\n",
       "  <tbody>\n",
       "    <tr>\n",
       "      <th>0</th>\n",
       "      <td>Reinforcement Learning through Asynchronous Ad...</td>\n",
       "      <td>Mohammad Babaeizadeh</td>\n",
       "      <td>We introduce a hybrid CPU/GPU version of the...</td>\n",
       "      <td>Machine Learning (cs.LG)</td>\n",
       "      <td>NaN</td>\n",
       "      <td>0</td>\n",
       "    </tr>\n",
       "    <tr>\n",
       "      <th>1</th>\n",
       "      <td>Altruistic Maneuver Planning for Cooperative A...</td>\n",
       "      <td>Behrad Toghi</td>\n",
       "      <td>With the adoption of autonomous vehicles on ...</td>\n",
       "      <td>Robotics (cs.RO)</td>\n",
       "      <td>NaN</td>\n",
       "      <td>1</td>\n",
       "    </tr>\n",
       "    <tr>\n",
       "      <th>2</th>\n",
       "      <td>Towards Understanding Asynchronous Advantage A...</td>\n",
       "      <td>Han Shen</td>\n",
       "      <td>Asynchronous and parallel implementation of ...</td>\n",
       "      <td>Machine Learning (cs.LG)</td>\n",
       "      <td>; Optimization and Control (math.OC)</td>\n",
       "      <td>2</td>\n",
       "    </tr>\n",
       "    <tr>\n",
       "      <th>3</th>\n",
       "      <td>The Advantage Regret-Matching Actor-Critic</td>\n",
       "      <td>Audrūnas Gruslys</td>\n",
       "      <td>Regret minimization has played a key role in...</td>\n",
       "      <td>Artificial Intelligence (cs.AI)</td>\n",
       "      <td>; Machine Learning (cs.LG)</td>\n",
       "      <td>3</td>\n",
       "    </tr>\n",
       "    <tr>\n",
       "      <th>4</th>\n",
       "      <td>Actor-Critic Sequence Training for Image Capti...</td>\n",
       "      <td>Li Zhang</td>\n",
       "      <td>Generating natural language descriptions of ...</td>\n",
       "      <td>Computer Vision and Pattern Recognition (cs.CV)</td>\n",
       "      <td>NaN</td>\n",
       "      <td>4</td>\n",
       "    </tr>\n",
       "  </tbody>\n",
       "</table>\n",
       "</div>"
      ],
      "text/plain": [
       "                                              titulo               autores  \\\n",
       "0  Reinforcement Learning through Asynchronous Ad...  Mohammad Babaeizadeh   \n",
       "1  Altruistic Maneuver Planning for Cooperative A...          Behrad Toghi   \n",
       "2  Towards Understanding Asynchronous Advantage A...              Han Shen   \n",
       "3         The Advantage Regret-Matching Actor-Critic      Audrūnas Gruslys   \n",
       "4  Actor-Critic Sequence Training for Image Capti...              Li Zhang   \n",
       "\n",
       "                                            abstract  \\\n",
       "0    We introduce a hybrid CPU/GPU version of the...   \n",
       "1    With the adoption of autonomous vehicles on ...   \n",
       "2    Asynchronous and parallel implementation of ...   \n",
       "3    Regret minimization has played a key role in...   \n",
       "4    Generating natural language descriptions of ...   \n",
       "\n",
       "                                         clase_pri  \\\n",
       "0                         Machine Learning (cs.LG)   \n",
       "1                                 Robotics (cs.RO)   \n",
       "2                         Machine Learning (cs.LG)   \n",
       "3                  Artificial Intelligence (cs.AI)   \n",
       "4  Computer Vision and Pattern Recognition (cs.CV)   \n",
       "\n",
       "                              clase_otr  id  \n",
       "0                                   NaN   0  \n",
       "1                                   NaN   1  \n",
       "2  ; Optimization and Control (math.OC)   2  \n",
       "3            ; Machine Learning (cs.LG)   3  \n",
       "4                                   NaN   4  "
      ]
     },
     "execution_count": 9,
     "metadata": {},
     "output_type": "execute_result"
    }
   ],
   "source": [
    "df.head()"
   ]
  },
  {
   "cell_type": "code",
   "execution_count": 15,
   "metadata": {},
   "outputs": [],
   "source": [
    "categories = pd.DataFrame(df[['clase_pri']])\n",
    "categories.rename(columns={'clase_pri':'category'},\n",
    "                  inplace=True)\n",
    "categories = categories.explode('category') \\\n",
    "                       .drop_duplicates(subset=['category'])\n",
    "\n",
    "authors = pd.DataFrame(df[['autores']])\n",
    "authors.rename(columns={'autores':'author'},\n",
    "               inplace=True)\n",
    "authors=authors.explode('author').drop_duplicates(subset=['author'])"
   ]
  },
  {
   "cell_type": "code",
   "execution_count": 18,
   "metadata": {},
   "outputs": [
    {
     "name": "stdout",
     "output_type": "stream",
     "text": [
      "Query failed: Values of type <class 'pandas.core.frame.DataFrame'> are not supported\n"
     ]
    }
   ],
   "source": [
    "add_categories(categories)"
   ]
  },
  {
   "cell_type": "code",
   "execution_count": 11,
   "metadata": {},
   "outputs": [
    {
     "ename": "TypeError",
     "evalue": "query() got an unexpected keyword argument 'parameters'",
     "output_type": "error",
     "traceback": [
      "\u001b[1;31m---------------------------------------------------------------------------\u001b[0m",
      "\u001b[1;31mTypeError\u001b[0m                                 Traceback (most recent call last)",
      "\u001b[1;32m<ipython-input-11-e15ce7f5e14d>\u001b[0m in \u001b[0;36m<module>\u001b[1;34m\u001b[0m\n\u001b[1;32m----> 1\u001b[1;33m \u001b[0madd_authors\u001b[0m\u001b[1;33m(\u001b[0m\u001b[0mauthors\u001b[0m\u001b[1;33m)\u001b[0m\u001b[1;33m\u001b[0m\u001b[1;33m\u001b[0m\u001b[0m\n\u001b[0m",
      "\u001b[1;32m<ipython-input-6-672b2a1889a0>\u001b[0m in \u001b[0;36madd_authors\u001b[1;34m(rows, batch_size)\u001b[0m\n\u001b[0;32m     17\u001b[0m             \u001b[0mRETURN\u001b[0m \u001b[0mcount\u001b[0m\u001b[1;33m(\u001b[0m\u001b[1;33m*\u001b[0m\u001b[1;33m)\u001b[0m \u001b[1;32mas\u001b[0m \u001b[0mtotal\u001b[0m\u001b[1;33m\u001b[0m\u001b[1;33m\u001b[0m\u001b[0m\n\u001b[0;32m     18\u001b[0m             '''\n\u001b[1;32m---> 19\u001b[1;33m     \u001b[1;32mreturn\u001b[0m \u001b[0minsert_data\u001b[0m\u001b[1;33m(\u001b[0m\u001b[0mquery\u001b[0m\u001b[1;33m,\u001b[0m \u001b[0mrows\u001b[0m\u001b[1;33m,\u001b[0m \u001b[0mbatch_size\u001b[0m\u001b[1;33m)\u001b[0m\u001b[1;33m\u001b[0m\u001b[1;33m\u001b[0m\u001b[0m\n\u001b[0m\u001b[0;32m     20\u001b[0m \u001b[1;33m\u001b[0m\u001b[0m\n\u001b[0;32m     21\u001b[0m \u001b[1;33m\u001b[0m\u001b[0m\n",
      "\u001b[1;32m<ipython-input-6-672b2a1889a0>\u001b[0m in \u001b[0;36minsert_data\u001b[1;34m(query, rows, batch_size)\u001b[0m\n\u001b[0;32m     30\u001b[0m     \u001b[1;32mwhile\u001b[0m \u001b[0mbatch\u001b[0m \u001b[1;33m*\u001b[0m \u001b[0mbatch_size\u001b[0m \u001b[1;33m<\u001b[0m \u001b[0mlen\u001b[0m\u001b[1;33m(\u001b[0m\u001b[0mrows\u001b[0m\u001b[1;33m)\u001b[0m\u001b[1;33m:\u001b[0m\u001b[1;33m\u001b[0m\u001b[1;33m\u001b[0m\u001b[0m\n\u001b[0;32m     31\u001b[0m \u001b[1;33m\u001b[0m\u001b[0m\n\u001b[1;32m---> 32\u001b[1;33m         res = conn.query(query, \n\u001b[0m\u001b[0;32m     33\u001b[0m                          parameters = {'rows': rows[batch*batch_size:(batch+1)*batch_size].to_dict('records')})\n\u001b[0;32m     34\u001b[0m         \u001b[0mtotal\u001b[0m \u001b[1;33m+=\u001b[0m \u001b[0mres\u001b[0m\u001b[1;33m[\u001b[0m\u001b[1;36m0\u001b[0m\u001b[1;33m]\u001b[0m\u001b[1;33m[\u001b[0m\u001b[1;34m'total'\u001b[0m\u001b[1;33m]\u001b[0m\u001b[1;33m\u001b[0m\u001b[1;33m\u001b[0m\u001b[0m\n",
      "\u001b[1;31mTypeError\u001b[0m: query() got an unexpected keyword argument 'parameters'"
     ]
    }
   ],
   "source": [
    "add_authors(authors)"
   ]
  },
  {
   "cell_type": "code",
   "execution_count": 12,
   "metadata": {},
   "outputs": [
    {
     "ename": "TypeError",
     "evalue": "query() got an unexpected keyword argument 'parameters'",
     "output_type": "error",
     "traceback": [
      "\u001b[1;31m---------------------------------------------------------------------------\u001b[0m",
      "\u001b[1;31mTypeError\u001b[0m                                 Traceback (most recent call last)",
      "\u001b[1;32m<ipython-input-12-ae6531b1ac76>\u001b[0m in \u001b[0;36m<module>\u001b[1;34m\u001b[0m\n\u001b[1;32m----> 1\u001b[1;33m \u001b[0madd_papers\u001b[0m\u001b[1;33m(\u001b[0m\u001b[0mdf\u001b[0m\u001b[1;33m)\u001b[0m\u001b[1;33m\u001b[0m\u001b[1;33m\u001b[0m\u001b[0m\n\u001b[0m",
      "\u001b[1;32m<ipython-input-7-88cf45557bc7>\u001b[0m in \u001b[0;36madd_papers\u001b[1;34m(rows, batch_size)\u001b[0m\n\u001b[0;32m     22\u001b[0m    '''\n\u001b[0;32m     23\u001b[0m \u001b[1;33m\u001b[0m\u001b[0m\n\u001b[1;32m---> 24\u001b[1;33m    \u001b[1;32mreturn\u001b[0m \u001b[0minsert_data\u001b[0m\u001b[1;33m(\u001b[0m\u001b[0mquery\u001b[0m\u001b[1;33m,\u001b[0m \u001b[0mrows\u001b[0m\u001b[1;33m,\u001b[0m \u001b[0mbatch_size\u001b[0m\u001b[1;33m)\u001b[0m\u001b[1;33m\u001b[0m\u001b[1;33m\u001b[0m\u001b[0m\n\u001b[0m",
      "\u001b[1;32m<ipython-input-6-672b2a1889a0>\u001b[0m in \u001b[0;36minsert_data\u001b[1;34m(query, rows, batch_size)\u001b[0m\n\u001b[0;32m     30\u001b[0m     \u001b[1;32mwhile\u001b[0m \u001b[0mbatch\u001b[0m \u001b[1;33m*\u001b[0m \u001b[0mbatch_size\u001b[0m \u001b[1;33m<\u001b[0m \u001b[0mlen\u001b[0m\u001b[1;33m(\u001b[0m\u001b[0mrows\u001b[0m\u001b[1;33m)\u001b[0m\u001b[1;33m:\u001b[0m\u001b[1;33m\u001b[0m\u001b[1;33m\u001b[0m\u001b[0m\n\u001b[0;32m     31\u001b[0m \u001b[1;33m\u001b[0m\u001b[0m\n\u001b[1;32m---> 32\u001b[1;33m         res = conn.query(query, \n\u001b[0m\u001b[0;32m     33\u001b[0m                          parameters = {'rows': rows[batch*batch_size:(batch+1)*batch_size].to_dict('records')})\n\u001b[0;32m     34\u001b[0m         \u001b[0mtotal\u001b[0m \u001b[1;33m+=\u001b[0m \u001b[0mres\u001b[0m\u001b[1;33m[\u001b[0m\u001b[1;36m0\u001b[0m\u001b[1;33m]\u001b[0m\u001b[1;33m[\u001b[0m\u001b[1;34m'total'\u001b[0m\u001b[1;33m]\u001b[0m\u001b[1;33m\u001b[0m\u001b[1;33m\u001b[0m\u001b[0m\n",
      "\u001b[1;31mTypeError\u001b[0m: query() got an unexpected keyword argument 'parameters'"
     ]
    }
   ],
   "source": [
    "add_papers(df)"
   ]
  }
 ],
 "metadata": {
  "kernelspec": {
   "display_name": "Python 3.8.3 ('base': conda)",
   "language": "python",
   "name": "python3"
  },
  "language_info": {
   "codemirror_mode": {
    "name": "ipython",
    "version": 3
   },
   "file_extension": ".py",
   "mimetype": "text/x-python",
   "name": "python",
   "nbconvert_exporter": "python",
   "pygments_lexer": "ipython3",
   "version": "3.8.3"
  },
  "orig_nbformat": 4,
  "vscode": {
   "interpreter": {
    "hash": "506d569f0b28ea103188d4d9f745b7b2b85d3e31dafde01bdf7899299ac0033b"
   }
  }
 },
 "nbformat": 4,
 "nbformat_minor": 2
}
