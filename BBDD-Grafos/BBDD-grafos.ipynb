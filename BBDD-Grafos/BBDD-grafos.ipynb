{
 "cells": [
  {
   "cell_type": "code",
   "execution_count": 1,
   "metadata": {},
   "outputs": [],
   "source": [
    "# Se importan las librerías\n",
    "import pandas as pd\n",
    "from neo4j import GraphDatabase\n",
    "import time"
   ]
  },
  {
   "cell_type": "code",
   "execution_count": 2,
   "metadata": {},
   "outputs": [
    {
     "data": {
      "text/html": [
       "<div>\n",
       "<style scoped>\n",
       "    .dataframe tbody tr th:only-of-type {\n",
       "        vertical-align: middle;\n",
       "    }\n",
       "\n",
       "    .dataframe tbody tr th {\n",
       "        vertical-align: top;\n",
       "    }\n",
       "\n",
       "    .dataframe thead th {\n",
       "        text-align: right;\n",
       "    }\n",
       "</style>\n",
       "<table border=\"1\" class=\"dataframe\">\n",
       "  <thead>\n",
       "    <tr style=\"text-align: right;\">\n",
       "      <th></th>\n",
       "      <th>id</th>\n",
       "      <th>idioma</th>\n",
       "      <th>titulo</th>\n",
       "      <th>genero</th>\n",
       "      <th>abstract</th>\n",
       "      <th>categorias</th>\n",
       "    </tr>\n",
       "  </thead>\n",
       "  <tbody>\n",
       "    <tr>\n",
       "      <th>0</th>\n",
       "      <td>doi:10.1007/978-3-031-16203-9_8</td>\n",
       "      <td>en</td>\n",
       "      <td>The Comprehensive Model of Using In-Depth Cons...</td>\n",
       "      <td>OriginalPaper</td>\n",
       "      <td>paper describ relev machin learn method name t...</td>\n",
       "      <td>['Computational Intelligence', 'Artificial Int...</td>\n",
       "    </tr>\n",
       "    <tr>\n",
       "      <th>1</th>\n",
       "      <td>doi:10.1007/978-3-031-08246-7_7</td>\n",
       "      <td>en</td>\n",
       "      <td>Implementation of Reinforcement-Learning Algor...</td>\n",
       "      <td>OriginalPaper</td>\n",
       "      <td>problem autonom robot navig indoor environ mus...</td>\n",
       "      <td>['Computational Intelligence', 'Artificial Int...</td>\n",
       "    </tr>\n",
       "    <tr>\n",
       "      <th>2</th>\n",
       "      <td>doi:10.1007/978-981-19-4960-9_31</td>\n",
       "      <td>en</td>\n",
       "      <td>Reinforcement Learning for Autonomous Driving ...</td>\n",
       "      <td>OriginalPaper</td>\n",
       "      <td>decisionmak process autonom vehicl come numer ...</td>\n",
       "      <td>['Computational Intelligence', 'Artificial Int...</td>\n",
       "    </tr>\n",
       "    <tr>\n",
       "      <th>3</th>\n",
       "      <td>doi:10.1007/978-3-031-18461-1_11</td>\n",
       "      <td>en</td>\n",
       "      <td>A Survey of Reinforcement Learning Toolkits fo...</td>\n",
       "      <td>OriginalPaper</td>\n",
       "      <td>game industri becom one excit creativ industri...</td>\n",
       "      <td>['Computational Intelligence', 'Control, Robot...</td>\n",
       "    </tr>\n",
       "    <tr>\n",
       "      <th>4</th>\n",
       "      <td>doi:10.1007/978-981-19-7648-3_12</td>\n",
       "      <td>en</td>\n",
       "      <td>Priority-Aware Computational Resource Allocation</td>\n",
       "      <td>OriginalPaper</td>\n",
       "      <td>vehicular fog comput vfc expect promis scheme ...</td>\n",
       "      <td>['Computer Science', 'Communications Engineeri...</td>\n",
       "    </tr>\n",
       "  </tbody>\n",
       "</table>\n",
       "</div>"
      ],
      "text/plain": [
       "                                 id idioma  \\\n",
       "0   doi:10.1007/978-3-031-16203-9_8     en   \n",
       "1   doi:10.1007/978-3-031-08246-7_7     en   \n",
       "2  doi:10.1007/978-981-19-4960-9_31     en   \n",
       "3  doi:10.1007/978-3-031-18461-1_11     en   \n",
       "4  doi:10.1007/978-981-19-7648-3_12     en   \n",
       "\n",
       "                                              titulo         genero  \\\n",
       "0  The Comprehensive Model of Using In-Depth Cons...  OriginalPaper   \n",
       "1  Implementation of Reinforcement-Learning Algor...  OriginalPaper   \n",
       "2  Reinforcement Learning for Autonomous Driving ...  OriginalPaper   \n",
       "3  A Survey of Reinforcement Learning Toolkits fo...  OriginalPaper   \n",
       "4   Priority-Aware Computational Resource Allocation  OriginalPaper   \n",
       "\n",
       "                                            abstract  \\\n",
       "0  paper describ relev machin learn method name t...   \n",
       "1  problem autonom robot navig indoor environ mus...   \n",
       "2  decisionmak process autonom vehicl come numer ...   \n",
       "3  game industri becom one excit creativ industri...   \n",
       "4  vehicular fog comput vfc expect promis scheme ...   \n",
       "\n",
       "                                          categorias  \n",
       "0  ['Computational Intelligence', 'Artificial Int...  \n",
       "1  ['Computational Intelligence', 'Artificial Int...  \n",
       "2  ['Computational Intelligence', 'Artificial Int...  \n",
       "3  ['Computational Intelligence', 'Control, Robot...  \n",
       "4  ['Computer Science', 'Communications Engineeri...  "
      ]
     },
     "execution_count": 2,
     "metadata": {},
     "output_type": "execute_result"
    }
   ],
   "source": [
    "# Se carga el csv con el preprocesado de la parte de Lucas\n",
    "# El csv es del 13/12/2022\n",
    "df = pd.read_csv('totalPrueba.csv')\n",
    "df.head()"
   ]
  },
  {
   "cell_type": "code",
   "execution_count": 3,
   "metadata": {},
   "outputs": [
    {
     "data": {
      "text/plain": [
       "OriginalPaper                                                13502\n",
       "['OriginalPaper', 'Original Article']                          814\n",
       "['OriginalPaper', 'Article']                                   616\n",
       "['OriginalPaper', 'Research']                                  329\n",
       "['OriginalPaper', 'Original Paper']                            312\n",
       "                                                             ...  \n",
       "['OriginalPaper', 'Low Vision']                                  1\n",
       "['OriginalPaper', 'Original Paper - Production Geology ']        1\n",
       "['OriginalPaper', 'Report']                                      1\n",
       "['OriginalPaper', 'Gastrointestinal']                            1\n",
       "['OriginalPaper', 'Symposium/Special Issue']                     1\n",
       "Name: genero, Length: 497, dtype: int64"
      ]
     },
     "execution_count": 3,
     "metadata": {},
     "output_type": "execute_result"
    }
   ],
   "source": [
    "df['genero'].value_counts()"
   ]
  },
  {
   "cell_type": "code",
   "execution_count": 4,
   "metadata": {},
   "outputs": [
    {
     "data": {
      "text/plain": [
       "en    17980\n",
       "de       49\n",
       "nl       33\n",
       "Name: idioma, dtype: int64"
      ]
     },
     "execution_count": 4,
     "metadata": {},
     "output_type": "execute_result"
    }
   ],
   "source": [
    "df['idioma'].value_counts()"
   ]
  },
  {
   "attachments": {},
   "cell_type": "markdown",
   "metadata": {},
   "source": [
    "### Conectar a Neo4j Desktop"
   ]
  },
  {
   "cell_type": "code",
   "execution_count": 6,
   "metadata": {},
   "outputs": [],
   "source": [
    "# Se crea una clase en la que se esctablece la conexión entre la máquina local donde\n",
    "# se encuentra el código de python y la base de datos de Neo4j Desktop.\n",
    "# Le indicamos la URL, el usuario y la contraseña para completar la conexión\n",
    "class Neo4jConnection:\n",
    "    \n",
    "    def __init__(self, uri, user, pwd):\n",
    "        self.__uri = uri\n",
    "        self.__user = user\n",
    "        self.__pwd = pwd\n",
    "        self.__driver = None\n",
    "        try:\n",
    "            self.__driver = GraphDatabase.driver(self.__uri, auth=(self.__user, self.__pwd))\n",
    "        except Exception as e:\n",
    "            print(\"Failed to create the driver:\", e)\n",
    "        \n",
    "    def close(self):\n",
    "        if self.__driver is not None:\n",
    "            self.__driver.close()\n",
    "        \n",
    "    def query(self, query, db=None):\n",
    "        assert self.__driver is not None, \"Driver not initialized!\"\n",
    "        session = None\n",
    "        response = None\n",
    "        try: \n",
    "            session = self.__driver.session(database=db) if db is not None else self.__driver.session() \n",
    "            response = list(session.run(query))\n",
    "        except Exception as e:\n",
    "            print(\"Query failed:\", e)\n",
    "        finally: \n",
    "            if session is not None:\n",
    "                session.close()\n",
    "        return response\n",
    "        \n",
    "conn = Neo4jConnection(uri=\"bolt://localhost:7687\", \n",
    "                       user=\"usermate\",              \n",
    "                       pwd=\"glass\")"
   ]
  },
  {
   "cell_type": "markdown",
   "metadata": {},
   "source": [
    "### Creación BBDD"
   ]
  },
  {
   "cell_type": "code",
   "execution_count": 7,
   "metadata": {},
   "outputs": [
    {
     "data": {
      "text/html": [
       "<div>\n",
       "<style scoped>\n",
       "    .dataframe tbody tr th:only-of-type {\n",
       "        vertical-align: middle;\n",
       "    }\n",
       "\n",
       "    .dataframe tbody tr th {\n",
       "        vertical-align: top;\n",
       "    }\n",
       "\n",
       "    .dataframe thead th {\n",
       "        text-align: right;\n",
       "    }\n",
       "</style>\n",
       "<table border=\"1\" class=\"dataframe\">\n",
       "  <thead>\n",
       "    <tr style=\"text-align: right;\">\n",
       "      <th></th>\n",
       "      <th>id</th>\n",
       "      <th>idioma</th>\n",
       "      <th>titulo</th>\n",
       "      <th>genero</th>\n",
       "      <th>abstract</th>\n",
       "      <th>categorias</th>\n",
       "    </tr>\n",
       "  </thead>\n",
       "  <tbody>\n",
       "    <tr>\n",
       "      <th>0</th>\n",
       "      <td>doi:10.1007/978-3-031-16203-9_8</td>\n",
       "      <td>en</td>\n",
       "      <td>The Comprehensive Model of Using In-Depth Cons...</td>\n",
       "      <td>OriginalPaper</td>\n",
       "      <td>paper describ relev machin learn method name t...</td>\n",
       "      <td>['Computational Intelligence', 'Artificial Int...</td>\n",
       "    </tr>\n",
       "    <tr>\n",
       "      <th>1</th>\n",
       "      <td>doi:10.1007/978-3-031-08246-7_7</td>\n",
       "      <td>en</td>\n",
       "      <td>Implementation of Reinforcement-Learning Algor...</td>\n",
       "      <td>OriginalPaper</td>\n",
       "      <td>problem autonom robot navig indoor environ mus...</td>\n",
       "      <td>['Computational Intelligence', 'Artificial Int...</td>\n",
       "    </tr>\n",
       "    <tr>\n",
       "      <th>2</th>\n",
       "      <td>doi:10.1007/978-981-19-4960-9_31</td>\n",
       "      <td>en</td>\n",
       "      <td>Reinforcement Learning for Autonomous Driving ...</td>\n",
       "      <td>OriginalPaper</td>\n",
       "      <td>decisionmak process autonom vehicl come numer ...</td>\n",
       "      <td>['Computational Intelligence', 'Artificial Int...</td>\n",
       "    </tr>\n",
       "    <tr>\n",
       "      <th>3</th>\n",
       "      <td>doi:10.1007/978-3-031-18461-1_11</td>\n",
       "      <td>en</td>\n",
       "      <td>A Survey of Reinforcement Learning Toolkits fo...</td>\n",
       "      <td>OriginalPaper</td>\n",
       "      <td>game industri becom one excit creativ industri...</td>\n",
       "      <td>['Computational Intelligence', 'Control, Robot...</td>\n",
       "    </tr>\n",
       "    <tr>\n",
       "      <th>4</th>\n",
       "      <td>doi:10.1007/978-981-19-7648-3_12</td>\n",
       "      <td>en</td>\n",
       "      <td>Priority-Aware Computational Resource Allocation</td>\n",
       "      <td>OriginalPaper</td>\n",
       "      <td>vehicular fog comput vfc expect promis scheme ...</td>\n",
       "      <td>['Computer Science', 'Communications Engineeri...</td>\n",
       "    </tr>\n",
       "  </tbody>\n",
       "</table>\n",
       "</div>"
      ],
      "text/plain": [
       "                                 id idioma  \\\n",
       "0   doi:10.1007/978-3-031-16203-9_8     en   \n",
       "1   doi:10.1007/978-3-031-08246-7_7     en   \n",
       "2  doi:10.1007/978-981-19-4960-9_31     en   \n",
       "3  doi:10.1007/978-3-031-18461-1_11     en   \n",
       "4  doi:10.1007/978-981-19-7648-3_12     en   \n",
       "\n",
       "                                              titulo         genero  \\\n",
       "0  The Comprehensive Model of Using In-Depth Cons...  OriginalPaper   \n",
       "1  Implementation of Reinforcement-Learning Algor...  OriginalPaper   \n",
       "2  Reinforcement Learning for Autonomous Driving ...  OriginalPaper   \n",
       "3  A Survey of Reinforcement Learning Toolkits fo...  OriginalPaper   \n",
       "4   Priority-Aware Computational Resource Allocation  OriginalPaper   \n",
       "\n",
       "                                            abstract  \\\n",
       "0  paper describ relev machin learn method name t...   \n",
       "1  problem autonom robot navig indoor environ mus...   \n",
       "2  decisionmak process autonom vehicl come numer ...   \n",
       "3  game industri becom one excit creativ industri...   \n",
       "4  vehicular fog comput vfc expect promis scheme ...   \n",
       "\n",
       "                                          categorias  \n",
       "0  ['Computational Intelligence', 'Artificial Int...  \n",
       "1  ['Computational Intelligence', 'Artificial Int...  \n",
       "2  ['Computational Intelligence', 'Artificial Int...  \n",
       "3  ['Computational Intelligence', 'Control, Robot...  \n",
       "4  ['Computer Science', 'Communications Engineeri...  "
      ]
     },
     "execution_count": 7,
     "metadata": {},
     "output_type": "execute_result"
    }
   ],
   "source": [
    "df.head()"
   ]
  },
  {
   "cell_type": "code",
   "execution_count": 9,
   "metadata": {},
   "outputs": [
    {
     "data": {
      "text/plain": [
       "[]"
      ]
     },
     "execution_count": 9,
     "metadata": {},
     "output_type": "execute_result"
    }
   ],
   "source": [
    "# Llenamos la base de datos.\n",
    "# Se crean CONSTRAINTS para garantizar que los nodos no estén\n",
    "# duplicados mientras configuramos algunos índices.\n",
    "conn.query('CREATE CONSTRAINT papers IF NOT EXISTS FOR (p:Paper) REQUIRE p.id IS UNIQUE')\n",
    "conn.query('CREATE CONSTRAINT categories IF NOT EXISTS FOR (c:Category) REQUIRE c.category IS UNIQUE')"
   ]
  },
  {
   "cell_type": "code",
   "execution_count": 10,
   "metadata": {},
   "outputs": [
    {
     "data": {
      "text/plain": [
       "[]"
      ]
     },
     "execution_count": 10,
     "metadata": {},
     "output_type": "execute_result"
    }
   ],
   "source": [
    "# query = '''\n",
    "# WITH 'file:///totalPrueba.csv' AS data \n",
    "# LOAD CSV WITH HEADERS FROM data AS row\n",
    "# MERGE (c:Category {category: row.categorias})\n",
    "# '''\n",
    "# conn.query(query, db='neo4j2')\n",
    "\n",
    "query = '''\n",
    "//Create and Relation Papers and Categories\n",
    "LOAD CSV WITH HEADERS FROM 'file:///totalPrueba.csv' AS row\n",
    "MERGE (p:Paper {id:row.id}) ON CREATE SET p.titulo = row.titulo\n",
    "WITH p, row\n",
    "UNWIND split(row.categorias, ', ') AS category_name\n",
    "MERGE (c:Category {category: category_name})\n",
    "MERGE (p)-[:IN_CATEGORY]->(c)\n",
    "'''\n",
    "conn.query(query,db='neo4j')"
   ]
  },
  {
   "cell_type": "code",
   "execution_count": 11,
   "metadata": {},
   "outputs": [],
   "source": [
    "# query = '''\n",
    "# //Create and Relation Papers and Categories\n",
    "# LOAD CSV WITH HEADERS FROM 'file:///totalPrueba.csv' AS row\n",
    "# MERGE (p:Paper {id:row.id}) ON CREATE SET p.titulo = row.titulo\n",
    "# WITH p, row\n",
    "# UNWIND split(row.categorias, ', ') AS category_name\n",
    "# MERGE (c:Category {category: category_name})\n",
    "# MERGE (p)-[:IN_CATEGORY]->(c)\n",
    "# '''\n",
    "# conn.query(query,db='neo4j2')"
   ]
  },
  {
   "cell_type": "code",
   "execution_count": 12,
   "metadata": {},
   "outputs": [],
   "source": [
    "# query = '''\n",
    "# WITH 'file:///totalPrueba.csv' AS data \n",
    "# LOAD CSV WITH HEADERS FROM data AS row\n",
    "# MERGE (p:Paper {id:row.id}) ON CREATE SET p.titulo = row.titulo\n",
    "# // connect categories\n",
    "# WITH row, p\n",
    "# UNWIND row.categorias AS category_name\n",
    "# MATCH (p:Category {category: category_name})\n",
    "# MERGE (p)-[:IN_CATEGORY]->(c)\n",
    "# '''\n",
    "# conn.query(query, db='neo4j2')"
   ]
  },
  {
   "cell_type": "code",
   "execution_count": 13,
   "metadata": {},
   "outputs": [
    {
     "data": {
      "text/plain": [
       "[<Record p=<Node element_id='4:fd98e22d-4acd-4275-91fc-02d5dc9c7d3a:443' labels=frozenset({'Paper'}) properties={'titulo': 'Mixed Martial Arts Bout Prediction Using Artificial Intelligence', 'id': 'doi:10.1007/978-3-031-17697-5_36'}> c=<Node element_id='4:fd98e22d-4acd-4275-91fc-02d5dc9c7d3a:33' labels=frozenset({'Category'}) properties={'category': \"['Computational Intelligence'\"}>>,\n",
       " <Record p=<Node element_id='4:fd98e22d-4acd-4275-91fc-02d5dc9c7d3a:12462' labels=frozenset({'Paper'}) properties={'titulo': 'Research of the Freight Trains Movement Stability with a Network Effect', 'id': 'doi:10.1007/978-3-031-20141-7_70'}> c=<Node element_id='4:fd98e22d-4acd-4275-91fc-02d5dc9c7d3a:33' labels=frozenset({'Category'}) properties={'category': \"['Computational Intelligence'\"}>>,\n",
       " <Record p=<Node element_id='4:fd98e22d-4acd-4275-91fc-02d5dc9c7d3a:4698' labels=frozenset({'Paper'}) properties={'titulo': 'Effect of Entrepreneurial Education on Entrepreneurial Intention: Mediating Role of Entrepreneurs Personality Traits', 'id': 'doi:10.1007/978-3-031-13150-9_29'}> c=<Node element_id='4:fd98e22d-4acd-4275-91fc-02d5dc9c7d3a:33' labels=frozenset({'Category'}) properties={'category': \"['Computational Intelligence'\"}>>,\n",
       " <Record p=<Node element_id='4:fd98e22d-4acd-4275-91fc-02d5dc9c7d3a:7348' labels=frozenset({'Paper'}) properties={'titulo': 'Cross-Modal Retrieval Using Deep Learning', 'id': 'doi:10.1007/978-981-19-3148-2_62'}> c=<Node element_id='4:fd98e22d-4acd-4275-91fc-02d5dc9c7d3a:33' labels=frozenset({'Category'}) properties={'category': \"['Computational Intelligence'\"}>>,\n",
       " <Record p=<Node element_id='4:fd98e22d-4acd-4275-91fc-02d5dc9c7d3a:8771' labels=frozenset({'Paper'}) properties={'titulo': 'Design of a Dynamic Horizontal Fragmentation Method for Multimedia Databases', 'id': 'doi:10.1007/978-3-031-08246-7_4'}> c=<Node element_id='4:fd98e22d-4acd-4275-91fc-02d5dc9c7d3a:33' labels=frozenset({'Category'}) properties={'category': \"['Computational Intelligence'\"}>>,\n",
       " <Record p=<Node element_id='4:fd98e22d-4acd-4275-91fc-02d5dc9c7d3a:8348' labels=frozenset({'Paper'}) properties={'titulo': 'A Novel Hysynset-Based Topic Modeling Approach for Marathi Language', 'id': 'doi:10.1007/978-981-19-3575-6_34'}> c=<Node element_id='4:fd98e22d-4acd-4275-91fc-02d5dc9c7d3a:33' labels=frozenset({'Category'}) properties={'category': \"['Computational Intelligence'\"}>>,\n",
       " <Record p=<Node element_id='4:fd98e22d-4acd-4275-91fc-02d5dc9c7d3a:2665' labels=frozenset({'Paper'}) properties={'titulo': 'Sentiment Analysis of Social Media Platforms for Safety in Smart Cities', 'id': 'doi:10.1007/978-981-19-5221-0_44'}> c=<Node element_id='4:fd98e22d-4acd-4275-91fc-02d5dc9c7d3a:33' labels=frozenset({'Category'}) properties={'category': \"['Computational Intelligence'\"}>>,\n",
       " <Record p=<Node element_id='4:fd98e22d-4acd-4275-91fc-02d5dc9c7d3a:7443' labels=frozenset({'Paper'}) properties={'titulo': 'A SO2 Pollution Concentrations Prediction Approach Using Autoencoders', 'id': 'doi:10.1007/978-3-031-18050-7_5'}> c=<Node element_id='4:fd98e22d-4acd-4275-91fc-02d5dc9c7d3a:33' labels=frozenset({'Category'}) properties={'category': \"['Computational Intelligence'\"}>>,\n",
       " <Record p=<Node element_id='4:fd98e22d-4acd-4275-91fc-02d5dc9c7d3a:10222' labels=frozenset({'Paper'}) properties={'titulo': 'CorrNet: pearson correlation based pruning for efficient convolutional neural networks', 'id': 'doi:10.1007/s13042-022-01624-5'}> c=<Node element_id='4:fd98e22d-4acd-4275-91fc-02d5dc9c7d3a:33' labels=frozenset({'Category'}) properties={'category': \"['Computational Intelligence'\"}>>,\n",
       " <Record p=<Node element_id='4:fd98e22d-4acd-4275-91fc-02d5dc9c7d3a:7010' labels=frozenset({'Paper'}) properties={'titulo': 'The Interpretation of Deep Learning Based Analysis of Medical Images—An Examination of Methodological and Practical Challenges Using Chest X-ray Data', 'id': 'doi:10.1007/978-3-031-14771-5_14'}> c=<Node element_id='4:fd98e22d-4acd-4275-91fc-02d5dc9c7d3a:33' labels=frozenset({'Category'}) properties={'category': \"['Computational Intelligence'\"}>>,\n",
       " <Record p=<Node element_id='4:fd98e22d-4acd-4275-91fc-02d5dc9c7d3a:596' labels=frozenset({'Paper'}) properties={'titulo': 'Graded Classification of Liver Cirrhosis Using Machine Learning Algorithms on a Highly Unbalanced Dataset', 'id': 'doi:10.1007/978-981-19-5403-0_31'}> c=<Node element_id='4:fd98e22d-4acd-4275-91fc-02d5dc9c7d3a:33' labels=frozenset({'Category'}) properties={'category': \"['Computational Intelligence'\"}>>,\n",
       " <Record p=<Node element_id='4:fd98e22d-4acd-4275-91fc-02d5dc9c7d3a:17315' labels=frozenset({'Paper'}) properties={'titulo': 'The Awareness of Internet of Things (IoT) Privacy Risk: A Survey Study', 'id': 'doi:10.1007/978-3-031-18458-1_13'}> c=<Node element_id='4:fd98e22d-4acd-4275-91fc-02d5dc9c7d3a:33' labels=frozenset({'Category'}) properties={'category': \"['Computational Intelligence'\"}>>,\n",
       " <Record p=<Node element_id='4:fd98e22d-4acd-4275-91fc-02d5dc9c7d3a:5866' labels=frozenset({'Paper'}) properties={'titulo': 'Prediction of COVID-19 Severity Using Patient’s PHR', 'id': 'doi:10.1007/978-981-19-3575-6_6'}> c=<Node element_id='4:fd98e22d-4acd-4275-91fc-02d5dc9c7d3a:33' labels=frozenset({'Category'}) properties={'category': \"['Computational Intelligence'\"}>>,\n",
       " <Record p=<Node element_id='4:fd98e22d-4acd-4275-91fc-02d5dc9c7d3a:7154' labels=frozenset({'Paper'}) properties={'titulo': 'Machine Learning and Data Mining Use Cases in the Development of Marketing Strategies', 'id': 'doi:10.1007/978-981-19-3148-2_50'}> c=<Node element_id='4:fd98e22d-4acd-4275-91fc-02d5dc9c7d3a:33' labels=frozenset({'Category'}) properties={'category': \"['Computational Intelligence'\"}>>,\n",
       " <Record p=<Node element_id='4:fd98e22d-4acd-4275-91fc-02d5dc9c7d3a:1560' labels=frozenset({'Paper'}) properties={'titulo': 'Covid-19 Prediction Analysis Using Machine Learning Approach', 'id': 'doi:10.1007/978-981-19-4052-1_15'}> c=<Node element_id='4:fd98e22d-4acd-4275-91fc-02d5dc9c7d3a:33' labels=frozenset({'Category'}) properties={'category': \"['Computational Intelligence'\"}>>,\n",
       " <Record p=<Node element_id='4:fd98e22d-4acd-4275-91fc-02d5dc9c7d3a:15188' labels=frozenset({'Paper'}) properties={'titulo': 'Review rating prediction framework using deep learning', 'id': 'doi:10.1007/s12652-020-01807-4'}> c=<Node element_id='4:fd98e22d-4acd-4275-91fc-02d5dc9c7d3a:33' labels=frozenset({'Category'}) properties={'category': \"['Computational Intelligence'\"}>>,\n",
       " <Record p=<Node element_id='4:fd98e22d-4acd-4275-91fc-02d5dc9c7d3a:7504' labels=frozenset({'Paper'}) properties={'titulo': 'A Cluster-Based Deep Learning Model for\\xa0Energy Consumption Forecasting in\\xa0Ethiopia', 'id': 'doi:10.1007/978-3-031-18050-7_41'}> c=<Node element_id='4:fd98e22d-4acd-4275-91fc-02d5dc9c7d3a:33' labels=frozenset({'Category'}) properties={'category': \"['Computational Intelligence'\"}>>,\n",
       " <Record p=<Node element_id='4:fd98e22d-4acd-4275-91fc-02d5dc9c7d3a:1318' labels=frozenset({'Paper'}) properties={'titulo': 'Technological Equipment and Automation Control of the Three-Dimensional Structures Laser Welding Process in Different Spatial Positions', 'id': 'doi:10.1007/978-3-031-20141-7_51'}> c=<Node element_id='4:fd98e22d-4acd-4275-91fc-02d5dc9c7d3a:33' labels=frozenset({'Category'}) properties={'category': \"['Computational Intelligence'\"}>>,\n",
       " <Record p=<Node element_id='4:fd98e22d-4acd-4275-91fc-02d5dc9c7d3a:438' labels=frozenset({'Paper'}) properties={'titulo': 'Teaching Data Structures and\\xa0Algorithms Through Games', 'id': 'doi:10.1007/978-3-031-20257-5_1'}> c=<Node element_id='4:fd98e22d-4acd-4275-91fc-02d5dc9c7d3a:33' labels=frozenset({'Category'}) properties={'category': \"['Computational Intelligence'\"}>>,\n",
       " <Record p=<Node element_id='4:fd98e22d-4acd-4275-91fc-02d5dc9c7d3a:5081' labels=frozenset({'Paper'}) properties={'titulo': 'Recurrent and Graph Neural Networks for Particle Tracking at the BM@N Experiment', 'id': 'doi:10.1007/978-3-031-19032-2_32'}> c=<Node element_id='4:fd98e22d-4acd-4275-91fc-02d5dc9c7d3a:33' labels=frozenset({'Category'}) properties={'category': \"['Computational Intelligence'\"}>>,\n",
       " <Record p=<Node element_id='4:fd98e22d-4acd-4275-91fc-02d5dc9c7d3a:12382' labels=frozenset({'Paper'}) properties={'titulo': 'Nature-Based Computing Bioinformatics Approaches in Drug Discovery Against Promising Molecular Targets Carbonic Anhydrases and Serine/Threonine Kinases for Cancer Treatment', 'id': 'doi:10.1007/978-981-19-6379-7_16'}> c=<Node element_id='4:fd98e22d-4acd-4275-91fc-02d5dc9c7d3a:33' labels=frozenset({'Category'}) properties={'category': \"['Computational Intelligence'\"}>>,\n",
       " <Record p=<Node element_id='4:fd98e22d-4acd-4275-91fc-02d5dc9c7d3a:5274' labels=frozenset({'Paper'}) properties={'titulo': 'IAI-CGM: A Framework for Intention to Adopt IoT-Enabled Continuous Glucose Monitors', 'id': 'doi:10.1007/978-3-031-16072-1_46'}> c=<Node element_id='4:fd98e22d-4acd-4275-91fc-02d5dc9c7d3a:33' labels=frozenset({'Category'}) properties={'category': \"['Computational Intelligence'\"}>>,\n",
       " <Record p=<Node element_id='4:fd98e22d-4acd-4275-91fc-02d5dc9c7d3a:3801' labels=frozenset({'Paper'}) properties={'titulo': 'Role of Resource Description Framework in Knowledge Discovery in World Wide Web', 'id': 'doi:10.1007/978-981-19-3590-9_6'}> c=<Node element_id='4:fd98e22d-4acd-4275-91fc-02d5dc9c7d3a:33' labels=frozenset({'Category'}) properties={'category': \"['Computational Intelligence'\"}>>,\n",
       " <Record p=<Node element_id='4:fd98e22d-4acd-4275-91fc-02d5dc9c7d3a:4172' labels=frozenset({'Paper'}) properties={'titulo': 'IQ-GAN: Instance-Quantized Image Synthesis', 'id': 'doi:10.1007/978-3-031-19032-2_30'}> c=<Node element_id='4:fd98e22d-4acd-4275-91fc-02d5dc9c7d3a:33' labels=frozenset({'Category'}) properties={'category': \"['Computational Intelligence'\"}>>,\n",
       " <Record p=<Node element_id='4:fd98e22d-4acd-4275-91fc-02d5dc9c7d3a:15825' labels=frozenset({'Paper'}) properties={'titulo': 'Modeling the leader–follower supply chain network under uncertainty and solving by the HGALO algorithm', 'id': 'doi:10.1007/s00500-022-07364-6'}> c=<Node element_id='4:fd98e22d-4acd-4275-91fc-02d5dc9c7d3a:33' labels=frozenset({'Category'}) properties={'category': \"['Computational Intelligence'\"}>>]"
      ]
     },
     "execution_count": 13,
     "metadata": {},
     "output_type": "execute_result"
    }
   ],
   "source": [
    "query = '''\n",
    "MATCH (p:Paper)-[r:IN_CATEGORY]->(c:Category) \n",
    "RETURN p,c LIMIT 25\n",
    "'''\n",
    "conn.query(query, db='neo4j')"
   ]
  },
  {
   "cell_type": "code",
   "execution_count": 14,
   "metadata": {},
   "outputs": [
    {
     "data": {
      "text/plain": [
       "[]"
      ]
     },
     "execution_count": 14,
     "metadata": {},
     "output_type": "execute_result"
    }
   ],
   "source": [
    "query = '''\n",
    "//Create node for language and relationship for language and paper\n",
    "WITH 'file:///totalPrueba.csv' AS data \n",
    "LOAD CSV WITH HEADERS FROM data AS row\n",
    "CREATE (l:Language {language:row.idioma})\n",
    "WITH row, l\n",
    "MATCH (p:Paper {id: row.id})\n",
    "MERGE (p)-[:IN_LANGUAGE]->(l)\n",
    "'''\n",
    "conn.query(query,db='neo4j')"
   ]
  },
  {
   "cell_type": "code",
   "execution_count": 15,
   "metadata": {},
   "outputs": [
    {
     "data": {
      "text/plain": [
       "[<Record l=<Node element_id='4:fd98e22d-4acd-4275-91fc-02d5dc9c7d3a:36238' labels=frozenset({'Language'}) properties={'language': 'en'}> p=<Node element_id='4:fd98e22d-4acd-4275-91fc-02d5dc9c7d3a:0' labels=frozenset({'Paper'}) properties={'titulo': 'The Comprehensive Model of\\xa0Using In-Depth Consolidated Multimodal Learning to\\xa0Study Trading Strategies in\\xa0the\\xa0Securities Market', 'id': 'doi:10.1007/978-3-031-16203-9_8'}>>,\n",
       " <Record l=<Node element_id='4:fd98e22d-4acd-4275-91fc-02d5dc9c7d3a:18176' labels=frozenset({'Language'}) properties={'language': 'en'}> p=<Node element_id='4:fd98e22d-4acd-4275-91fc-02d5dc9c7d3a:0' labels=frozenset({'Paper'}) properties={'titulo': 'The Comprehensive Model of\\xa0Using In-Depth Consolidated Multimodal Learning to\\xa0Study Trading Strategies in\\xa0the\\xa0Securities Market', 'id': 'doi:10.1007/978-3-031-16203-9_8'}>>,\n",
       " <Record l=<Node element_id='4:fd98e22d-4acd-4275-91fc-02d5dc9c7d3a:36239' labels=frozenset({'Language'}) properties={'language': 'en'}> p=<Node element_id='4:fd98e22d-4acd-4275-91fc-02d5dc9c7d3a:1' labels=frozenset({'Paper'}) properties={'titulo': 'Implementation of Reinforcement-Learning Algorithms in Autonomous Robot Navigation', 'id': 'doi:10.1007/978-3-031-08246-7_7'}>>,\n",
       " <Record l=<Node element_id='4:fd98e22d-4acd-4275-91fc-02d5dc9c7d3a:18177' labels=frozenset({'Language'}) properties={'language': 'en'}> p=<Node element_id='4:fd98e22d-4acd-4275-91fc-02d5dc9c7d3a:1' labels=frozenset({'Paper'}) properties={'titulo': 'Implementation of Reinforcement-Learning Algorithms in Autonomous Robot Navigation', 'id': 'doi:10.1007/978-3-031-08246-7_7'}>>,\n",
       " <Record l=<Node element_id='4:fd98e22d-4acd-4275-91fc-02d5dc9c7d3a:36240' labels=frozenset({'Language'}) properties={'language': 'en'}> p=<Node element_id='4:fd98e22d-4acd-4275-91fc-02d5dc9c7d3a:2' labels=frozenset({'Paper'}) properties={'titulo': 'Reinforcement Learning for Autonomous Driving Scenarios in Indian Roads', 'id': 'doi:10.1007/978-981-19-4960-9_31'}>>,\n",
       " <Record l=<Node element_id='4:fd98e22d-4acd-4275-91fc-02d5dc9c7d3a:18178' labels=frozenset({'Language'}) properties={'language': 'en'}> p=<Node element_id='4:fd98e22d-4acd-4275-91fc-02d5dc9c7d3a:2' labels=frozenset({'Paper'}) properties={'titulo': 'Reinforcement Learning for Autonomous Driving Scenarios in Indian Roads', 'id': 'doi:10.1007/978-981-19-4960-9_31'}>>,\n",
       " <Record l=<Node element_id='4:fd98e22d-4acd-4275-91fc-02d5dc9c7d3a:36241' labels=frozenset({'Language'}) properties={'language': 'en'}> p=<Node element_id='4:fd98e22d-4acd-4275-91fc-02d5dc9c7d3a:3' labels=frozenset({'Paper'}) properties={'titulo': 'A Survey of\\xa0Reinforcement Learning Toolkits for\\xa0Gaming: Applications, Challenges and\\xa0Trends', 'id': 'doi:10.1007/978-3-031-18461-1_11'}>>,\n",
       " <Record l=<Node element_id='4:fd98e22d-4acd-4275-91fc-02d5dc9c7d3a:18179' labels=frozenset({'Language'}) properties={'language': 'en'}> p=<Node element_id='4:fd98e22d-4acd-4275-91fc-02d5dc9c7d3a:3' labels=frozenset({'Paper'}) properties={'titulo': 'A Survey of\\xa0Reinforcement Learning Toolkits for\\xa0Gaming: Applications, Challenges and\\xa0Trends', 'id': 'doi:10.1007/978-3-031-18461-1_11'}>>,\n",
       " <Record l=<Node element_id='4:fd98e22d-4acd-4275-91fc-02d5dc9c7d3a:36242' labels=frozenset({'Language'}) properties={'language': 'en'}> p=<Node element_id='4:fd98e22d-4acd-4275-91fc-02d5dc9c7d3a:4' labels=frozenset({'Paper'}) properties={'titulo': 'Priority-Aware Computational Resource Allocation', 'id': 'doi:10.1007/978-981-19-7648-3_12'}>>,\n",
       " <Record l=<Node element_id='4:fd98e22d-4acd-4275-91fc-02d5dc9c7d3a:18180' labels=frozenset({'Language'}) properties={'language': 'en'}> p=<Node element_id='4:fd98e22d-4acd-4275-91fc-02d5dc9c7d3a:4' labels=frozenset({'Paper'}) properties={'titulo': 'Priority-Aware Computational Resource Allocation', 'id': 'doi:10.1007/978-981-19-7648-3_12'}>>,\n",
       " <Record l=<Node element_id='4:fd98e22d-4acd-4275-91fc-02d5dc9c7d3a:36243' labels=frozenset({'Language'}) properties={'language': 'en'}> p=<Node element_id='4:fd98e22d-4acd-4275-91fc-02d5dc9c7d3a:5' labels=frozenset({'Paper'}) properties={'titulo': 'A-DDPG: Attention Mechanism-Based Deep Reinforcement Learning for NFV', 'id': 'doi:10.1007/978-981-19-4815-2_6'}>>,\n",
       " <Record l=<Node element_id='4:fd98e22d-4acd-4275-91fc-02d5dc9c7d3a:18181' labels=frozenset({'Language'}) properties={'language': 'en'}> p=<Node element_id='4:fd98e22d-4acd-4275-91fc-02d5dc9c7d3a:5' labels=frozenset({'Paper'}) properties={'titulo': 'A-DDPG: Attention Mechanism-Based Deep Reinforcement Learning for NFV', 'id': 'doi:10.1007/978-981-19-4815-2_6'}>>,\n",
       " <Record l=<Node element_id='4:fd98e22d-4acd-4275-91fc-02d5dc9c7d3a:36244' labels=frozenset({'Language'}) properties={'language': 'en'}> p=<Node element_id='4:fd98e22d-4acd-4275-91fc-02d5dc9c7d3a:6' labels=frozenset({'Paper'}) properties={'titulo': 'Towards End-to-End Chase in Urban Autonomous Driving Using Reinforcement Learning', 'id': 'doi:10.1007/978-3-031-16075-2_29'}>>,\n",
       " <Record l=<Node element_id='4:fd98e22d-4acd-4275-91fc-02d5dc9c7d3a:18182' labels=frozenset({'Language'}) properties={'language': 'en'}> p=<Node element_id='4:fd98e22d-4acd-4275-91fc-02d5dc9c7d3a:6' labels=frozenset({'Paper'}) properties={'titulo': 'Towards End-to-End Chase in Urban Autonomous Driving Using Reinforcement Learning', 'id': 'doi:10.1007/978-3-031-16075-2_29'}>>,\n",
       " <Record l=<Node element_id='4:fd98e22d-4acd-4275-91fc-02d5dc9c7d3a:36245' labels=frozenset({'Language'}) properties={'language': 'en'}> p=<Node element_id='4:fd98e22d-4acd-4275-91fc-02d5dc9c7d3a:7' labels=frozenset({'Paper'}) properties={'titulo': 'Towards Efficient Edge Computing Through Adoption of Reinforcement Learning Strategies: A Review', 'id': 'doi:10.1007/978-981-19-2600-6_17'}>>,\n",
       " <Record l=<Node element_id='4:fd98e22d-4acd-4275-91fc-02d5dc9c7d3a:18183' labels=frozenset({'Language'}) properties={'language': 'en'}> p=<Node element_id='4:fd98e22d-4acd-4275-91fc-02d5dc9c7d3a:7' labels=frozenset({'Paper'}) properties={'titulo': 'Towards Efficient Edge Computing Through Adoption of Reinforcement Learning Strategies: A Review', 'id': 'doi:10.1007/978-981-19-2600-6_17'}>>,\n",
       " <Record l=<Node element_id='4:fd98e22d-4acd-4275-91fc-02d5dc9c7d3a:36246' labels=frozenset({'Language'}) properties={'language': 'en'}> p=<Node element_id='4:fd98e22d-4acd-4275-91fc-02d5dc9c7d3a:8' labels=frozenset({'Paper'}) properties={'titulo': 'A Study on\\xa0Efficient Reinforcement Learning Through Knowledge Transfer', 'id': 'doi:10.1007/978-3-031-11748-0_14'}>>,\n",
       " <Record l=<Node element_id='4:fd98e22d-4acd-4275-91fc-02d5dc9c7d3a:18184' labels=frozenset({'Language'}) properties={'language': 'en'}> p=<Node element_id='4:fd98e22d-4acd-4275-91fc-02d5dc9c7d3a:8' labels=frozenset({'Paper'}) properties={'titulo': 'A Study on\\xa0Efficient Reinforcement Learning Through Knowledge Transfer', 'id': 'doi:10.1007/978-3-031-11748-0_14'}>>,\n",
       " <Record l=<Node element_id='4:fd98e22d-4acd-4275-91fc-02d5dc9c7d3a:36247' labels=frozenset({'Language'}) properties={'language': 'en'}> p=<Node element_id='4:fd98e22d-4acd-4275-91fc-02d5dc9c7d3a:9' labels=frozenset({'Paper'}) properties={'titulo': 'A Comprehensive Study on 5G: RAN Architecture, Enabling Technologies, Challenges, and Deployment', 'id': 'doi:10.1007/978-3-031-13786-0_1'}>>,\n",
       " <Record l=<Node element_id='4:fd98e22d-4acd-4275-91fc-02d5dc9c7d3a:18185' labels=frozenset({'Language'}) properties={'language': 'en'}> p=<Node element_id='4:fd98e22d-4acd-4275-91fc-02d5dc9c7d3a:9' labels=frozenset({'Paper'}) properties={'titulo': 'A Comprehensive Study on 5G: RAN Architecture, Enabling Technologies, Challenges, and Deployment', 'id': 'doi:10.1007/978-3-031-13786-0_1'}>>,\n",
       " <Record l=<Node element_id='4:fd98e22d-4acd-4275-91fc-02d5dc9c7d3a:36248' labels=frozenset({'Language'}) properties={'language': 'en'}> p=<Node element_id='4:fd98e22d-4acd-4275-91fc-02d5dc9c7d3a:10' labels=frozenset({'Paper'}) properties={'titulo': 'One-Shot Federated Learning-based Model-Free Reinforcement Learning', 'id': 'doi:10.1007/978-3-031-16035-6_4'}>>,\n",
       " <Record l=<Node element_id='4:fd98e22d-4acd-4275-91fc-02d5dc9c7d3a:18186' labels=frozenset({'Language'}) properties={'language': 'en'}> p=<Node element_id='4:fd98e22d-4acd-4275-91fc-02d5dc9c7d3a:10' labels=frozenset({'Paper'}) properties={'titulo': 'One-Shot Federated Learning-based Model-Free Reinforcement Learning', 'id': 'doi:10.1007/978-3-031-16035-6_4'}>>,\n",
       " <Record l=<Node element_id='4:fd98e22d-4acd-4275-91fc-02d5dc9c7d3a:36249' labels=frozenset({'Language'}) properties={'language': 'en'}> p=<Node element_id='4:fd98e22d-4acd-4275-91fc-02d5dc9c7d3a:11' labels=frozenset({'Paper'}) properties={'titulo': 'Training Heterogeneous Features in\\xa0Sequence to\\xa0Sequence Tasks: Latent Enhanced Multi-filter Seq2Seq Model', 'id': 'doi:10.1007/978-3-031-16078-3_6'}>>,\n",
       " <Record l=<Node element_id='4:fd98e22d-4acd-4275-91fc-02d5dc9c7d3a:18187' labels=frozenset({'Language'}) properties={'language': 'en'}> p=<Node element_id='4:fd98e22d-4acd-4275-91fc-02d5dc9c7d3a:11' labels=frozenset({'Paper'}) properties={'titulo': 'Training Heterogeneous Features in\\xa0Sequence to\\xa0Sequence Tasks: Latent Enhanced Multi-filter Seq2Seq Model', 'id': 'doi:10.1007/978-3-031-16078-3_6'}>>,\n",
       " <Record l=<Node element_id='4:fd98e22d-4acd-4275-91fc-02d5dc9c7d3a:36250' labels=frozenset({'Language'}) properties={'language': 'en'}> p=<Node element_id='4:fd98e22d-4acd-4275-91fc-02d5dc9c7d3a:12' labels=frozenset({'Paper'}) properties={'titulo': 'A PSO-Optimized Fixed and a PSO-Optimized Neural Network-Adaptive Traffic Signal Controllers for Traffic Improvement in Santo Domingo, Dominican Republic', 'id': 'doi:10.1007/978-981-19-3951-8_46'}>>]"
      ]
     },
     "execution_count": 15,
     "metadata": {},
     "output_type": "execute_result"
    }
   ],
   "source": [
    "query = '''\n",
    "MATCH (p:Paper)-[r:IN_LANGUAGE]->(l:Language) \n",
    "RETURN l,p LIMIT 25\n",
    "'''\n",
    "conn.query(query, db='neo4j')"
   ]
  },
  {
   "cell_type": "code",
   "execution_count": 16,
   "metadata": {},
   "outputs": [
    {
     "data": {
      "text/html": [
       "<div>\n",
       "<style scoped>\n",
       "    .dataframe tbody tr th:only-of-type {\n",
       "        vertical-align: middle;\n",
       "    }\n",
       "\n",
       "    .dataframe tbody tr th {\n",
       "        vertical-align: top;\n",
       "    }\n",
       "\n",
       "    .dataframe thead th {\n",
       "        text-align: right;\n",
       "    }\n",
       "</style>\n",
       "<table border=\"1\" class=\"dataframe\">\n",
       "  <thead>\n",
       "    <tr style=\"text-align: right;\">\n",
       "      <th></th>\n",
       "      <th>p.id</th>\n",
       "      <th>p.titulo</th>\n",
       "      <th>p.abstract</th>\n",
       "    </tr>\n",
       "  </thead>\n",
       "  <tbody>\n",
       "    <tr>\n",
       "      <th>2133</th>\n",
       "      <td>doi:10.1007/978-3-031-13433-3_1</td>\n",
       "      <td>What is Intelligent Construction?</td>\n",
       "      <td>None</td>\n",
       "    </tr>\n",
       "    <tr>\n",
       "      <th>7947</th>\n",
       "      <td>doi:10.1007/978-3-031-16865-9_12</td>\n",
       "      <td>Factors Influencing the Intention to Adopt Big...</td>\n",
       "      <td>None</td>\n",
       "    </tr>\n",
       "    <tr>\n",
       "      <th>12896</th>\n",
       "      <td>doi:10.1007/s10489-022-03190-3</td>\n",
       "      <td>AP-BERT: enhanced pre-trained model through av...</td>\n",
       "      <td>None</td>\n",
       "    </tr>\n",
       "    <tr>\n",
       "      <th>11493</th>\n",
       "      <td>doi:10.1038/s41598-022-24567-x</td>\n",
       "      <td>Detecting hierarchical organization of pervasi...</td>\n",
       "      <td>None</td>\n",
       "    </tr>\n",
       "    <tr>\n",
       "      <th>16238</th>\n",
       "      <td>doi:10.1007/978-3-031-11058-0_43</td>\n",
       "      <td>Simulation Model of Retarder Stopper on the En...</td>\n",
       "      <td>None</td>\n",
       "    </tr>\n",
       "    <tr>\n",
       "      <th>1761</th>\n",
       "      <td>doi:10.1007/978-981-19-4052-1_72</td>\n",
       "      <td>A Hybrid Gray Wolf Optimizer for Modeling and ...</td>\n",
       "      <td>None</td>\n",
       "    </tr>\n",
       "    <tr>\n",
       "      <th>419</th>\n",
       "      <td>doi:10.1007/978-3-031-19039-1_6</td>\n",
       "      <td>What Is on the Horizon?</td>\n",
       "      <td>None</td>\n",
       "    </tr>\n",
       "    <tr>\n",
       "      <th>365</th>\n",
       "      <td>doi:10.1007/978-981-19-3035-5_4</td>\n",
       "      <td>A Study on Reinforcement Learning-Based Traffi...</td>\n",
       "      <td>None</td>\n",
       "    </tr>\n",
       "    <tr>\n",
       "      <th>6176</th>\n",
       "      <td>doi:10.1007/978-981-19-4606-6_2</td>\n",
       "      <td>Instructions for the Preparation Intervention ...</td>\n",
       "      <td>None</td>\n",
       "    </tr>\n",
       "    <tr>\n",
       "      <th>2884</th>\n",
       "      <td>doi:10.1007/978-981-19-1457-7_19</td>\n",
       "      <td>Effect of Catalyst in the Pyrolysis of Waste P...</td>\n",
       "      <td>None</td>\n",
       "    </tr>\n",
       "  </tbody>\n",
       "</table>\n",
       "</div>"
      ],
      "text/plain": [
       "                                   p.id  \\\n",
       "2133    doi:10.1007/978-3-031-13433-3_1   \n",
       "7947   doi:10.1007/978-3-031-16865-9_12   \n",
       "12896    doi:10.1007/s10489-022-03190-3   \n",
       "11493    doi:10.1038/s41598-022-24567-x   \n",
       "16238  doi:10.1007/978-3-031-11058-0_43   \n",
       "1761   doi:10.1007/978-981-19-4052-1_72   \n",
       "419     doi:10.1007/978-3-031-19039-1_6   \n",
       "365     doi:10.1007/978-981-19-3035-5_4   \n",
       "6176    doi:10.1007/978-981-19-4606-6_2   \n",
       "2884   doi:10.1007/978-981-19-1457-7_19   \n",
       "\n",
       "                                                p.titulo p.abstract  \n",
       "2133                   What is Intelligent Construction?       None  \n",
       "7947   Factors Influencing the Intention to Adopt Big...       None  \n",
       "12896  AP-BERT: enhanced pre-trained model through av...       None  \n",
       "11493  Detecting hierarchical organization of pervasi...       None  \n",
       "16238  Simulation Model of Retarder Stopper on the En...       None  \n",
       "1761   A Hybrid Gray Wolf Optimizer for Modeling and ...       None  \n",
       "419                              What Is on the Horizon?       None  \n",
       "365    A Study on Reinforcement Learning-Based Traffi...       None  \n",
       "6176   Instructions for the Preparation Intervention ...       None  \n",
       "2884   Effect of Catalyst in the Pyrolysis of Waste P...       None  "
      ]
     },
     "execution_count": 16,
     "metadata": {},
     "output_type": "execute_result"
    }
   ],
   "source": [
    "from pandas import DataFrame\n",
    "\n",
    "query = '''\n",
    "MATCH (p:Paper)\n",
    "RETURN DISTINCT p.id, p.titulo, p.abstract\n",
    "'''\n",
    "dtf_data = DataFrame([dict(_) for _ in conn.query(query, db='neo4j')])\n",
    "dtf_data.sample(10)"
   ]
  }
 ],
 "metadata": {
  "kernelspec": {
   "display_name": "base",
   "language": "python",
   "name": "python3"
  },
  "language_info": {
   "codemirror_mode": {
    "name": "ipython",
    "version": 3
   },
   "file_extension": ".py",
   "mimetype": "text/x-python",
   "name": "python",
   "nbconvert_exporter": "python",
   "pygments_lexer": "ipython3",
   "version": "3.8.3"
  },
  "orig_nbformat": 4,
  "vscode": {
   "interpreter": {
    "hash": "506d569f0b28ea103188d4d9f745b7b2b85d3e31dafde01bdf7899299ac0033b"
   }
  }
 },
 "nbformat": 4,
 "nbformat_minor": 2
}
