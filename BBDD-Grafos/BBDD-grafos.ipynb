{
 "cells": [
  {
   "cell_type": "code",
   "execution_count": 1,
   "metadata": {},
   "outputs": [],
   "source": [
    "# Se importan las librerías\n",
    "import pandas as pd\n",
    "from neo4j import GraphDatabase\n",
    "import time"
   ]
  },
  {
   "cell_type": "code",
   "execution_count": 2,
   "metadata": {},
   "outputs": [],
   "source": [
    "# Se carga el csv final_distances de la carpeta output_modelo_parte2\n",
    "# df = pd.read_json (r'C:\\Users\\migue\\AplicacionesYTendencias\\ProyectoAyT\\UEM-Analytics-G22-3\\BBDD-Grafos\\final_distances.json')\n",
    "# df.to_csv (r'C:\\Users\\migue\\AplicacionesYTendencias\\ProyectoAyT\\UEM-Analytics-G22-3\\BBDD-Grafos\\final_distances.csv', index = None)\n",
    "\n",
    "final_distances = pd.read_csv('final_distances.csv')"
   ]
  },
  {
   "cell_type": "code",
   "execution_count": 3,
   "metadata": {},
   "outputs": [],
   "source": [
    "# Se carga el csv final_paper de la carpeta output_modelo_parte2\n",
    "# df2 = pd.read_json (r'C:\\Users\\migue\\AplicacionesYTendencias\\ProyectoAyT\\UEM-Analytics-G22-3\\BBDD-Grafos\\final_paper.json')\n",
    "# df2.to_csv (r'C:\\Users\\migue\\AplicacionesYTendencias\\ProyectoAyT\\UEM-Analytics-G22-3\\BBDD-Grafos\\final_paper.csv', index = None)\n",
    "\n",
    "final_paper = pd.read_csv('final_paper.csv')"
   ]
  },
  {
   "attachments": {},
   "cell_type": "markdown",
   "metadata": {},
   "source": [
    "### Conectar a Neo4j Desktop"
   ]
  },
  {
   "cell_type": "code",
   "execution_count": 4,
   "metadata": {},
   "outputs": [],
   "source": [
    "# Se crea una clase en la que se esctablece la conexión entre la máquina local donde\n",
    "# se encuentra el código de python y la base de datos de Neo4j Desktop.\n",
    "# Le indicamos la URL, el usuario y la contraseña para completar la conexión\n",
    "class Neo4jConnection:\n",
    "    \n",
    "    def __init__(self, uri, user, pwd):\n",
    "        self.__uri = uri\n",
    "        self.__user = user\n",
    "        self.__pwd = pwd\n",
    "        self.__driver = None\n",
    "        try:\n",
    "            self.__driver = GraphDatabase.driver(self.__uri, auth=(self.__user, self.__pwd))\n",
    "        except Exception as e:\n",
    "            print(\"Failed to create the driver:\", e)\n",
    "        \n",
    "    def close(self):\n",
    "        if self.__driver is not None:\n",
    "            self.__driver.close()\n",
    "        \n",
    "    def query(self, query, db=None):\n",
    "        assert self.__driver is not None, \"Driver not initialized!\"\n",
    "        session = None\n",
    "        response = None\n",
    "        try: \n",
    "            session = self.__driver.session(database=db) if db is not None else self.__driver.session() \n",
    "            response = list(session.run(query))\n",
    "        except Exception as e:\n",
    "            print(\"Query failed:\", e)\n",
    "        finally: \n",
    "            if session is not None:\n",
    "                session.close()\n",
    "        return response\n",
    "        \n",
    "conn = Neo4jConnection(uri=\"bolt://localhost:7687\", \n",
    "                       user=\"usermate\",              \n",
    "                       pwd=\"glass\")"
   ]
  },
  {
   "cell_type": "markdown",
   "metadata": {},
   "source": [
    "### Creación BBDD"
   ]
  },
  {
   "cell_type": "code",
   "execution_count": 5,
   "metadata": {},
   "outputs": [
    {
     "data": {
      "text/plain": [
       "[]"
      ]
     },
     "execution_count": 5,
     "metadata": {},
     "output_type": "execute_result"
    }
   ],
   "source": [
    "# Llenamos la base de datos.\n",
    "# Se crean CONSTRAINTS para garantizar que los nodos no estén\n",
    "# duplicados mientras configuramos algunos índices.\n",
    "\n",
    "conn.query('CREATE CONSTRAINT papers IF NOT EXISTS FOR (p:Paper) REQUIRE p.titulo IS UNIQUE')\n",
    "conn.query('CREATE CONSTRAINT fuentes IF NOT EXISTS FOR (f:Fuente) REQUIRE f.fuente IS UNIQUE')\n",
    "conn.query('CREATE CONSTRAINT autores IF NOT EXISTS FOR (a:Autor) REQUIRE a.autor IS UNIQUE')\n",
    "conn.query('CREATE CONSTRAINT clases IF NOT EXISTS FOR (c:Clase) REQUIRE c.clase IS UNIQUE')\n",
    "conn.query('CREATE CONSTRAINT keywords IF NOT EXISTS FOR (k:Keyword) REQUIRE k.keyword IS UNIQUE')"
   ]
  },
  {
   "cell_type": "code",
   "execution_count": 6,
   "metadata": {},
   "outputs": [
    {
     "data": {
      "text/plain": [
       "[]"
      ]
     },
     "execution_count": 6,
     "metadata": {},
     "output_type": "execute_result"
    }
   ],
   "source": [
    "# Se crea el nodo Paper con las propiedades de id, titulo, abstract y resumen.\n",
    "# Con la sentencia UNWIND se separa cada valor de una lista en una fila.\n",
    "# Se crea el nodo Clase con la propiedad de clase\n",
    "# Se conectan los nodos de Paper y Clase mediante la relacion :EN_CLASE.\n",
    "\n",
    "query = '''\n",
    "//Create and Relation Papers and Categories\n",
    "LOAD CSV WITH HEADERS FROM 'file:///final_paper.csv' AS row\n",
    "MERGE (p:Paper {titulo:row.titulo}) ON CREATE SET p.abstract = row.abstract_limpio, p.resumen = row.resumen_limpio\n",
    "WITH p, row\n",
    "UNWIND split(row.clase_primaria, ', ') AS clase_primaria_name\n",
    "MERGE (c:Clase {clase: clase_primaria_name})\n",
    "MERGE (p)-[:EN_CLASE]->(c)\n",
    "'''\n",
    "conn.query(query,db='neo4j2')"
   ]
  },
  {
   "cell_type": "code",
   "execution_count": 7,
   "metadata": {},
   "outputs": [
    {
     "data": {
      "text/plain": [
       "[]"
      ]
     },
     "execution_count": 7,
     "metadata": {},
     "output_type": "execute_result"
    }
   ],
   "source": [
    "# Se crea el nodo Fuente con la propiedad de fuente.\n",
    "# Se conectan los nodos de Paper y Fuente mediante la relacion :EN_FUENTE.\n",
    "\n",
    "query = '''\n",
    "//Create node for fuente and relationship for fuente and paper\n",
    "WITH 'file:///final_paper.csv' AS data \n",
    "LOAD CSV WITH HEADERS FROM data AS row\n",
    "MERGE (f:Fuente {fuente: row.fuente})\n",
    "WITH row, f\n",
    "MATCH (p:Paper {titulo: row.titulo})\n",
    "MERGE (p)-[:EN_FUENTE]->(f)\n",
    "'''\n",
    "conn.query(query,db='neo4j2')"
   ]
  },
  {
   "cell_type": "code",
   "execution_count": 8,
   "metadata": {},
   "outputs": [
    {
     "data": {
      "text/plain": [
       "[]"
      ]
     },
     "execution_count": 8,
     "metadata": {},
     "output_type": "execute_result"
    }
   ],
   "source": [
    "# Se crea el nodo Autor con la propiedad de name.\n",
    "# Con la sentencia UNWIND se separa cada autor de la lista de autores en una fila cada uno.\n",
    "# Se conectan los nodos de Autor y Paper mediante la relacion :REALIZA.\n",
    "\n",
    "query = '''\n",
    "//Create node for Autor and Relationship between papers and autores\n",
    "LOAD CSV WITH HEADERS FROM 'file:///final_paper.csv' AS row\n",
    "UNWIND split(row.autores, ', ') AS autor_name\n",
    "MERGE (a:Autor {name: autor_name})\n",
    "WITH a, row\n",
    "MATCH (p:Paper {titulo: row.titulo})\n",
    "MERGE (a)-[:REALIZA]->(p)\n",
    "'''\n",
    "conn.query(query,db='neo4j2')"
   ]
  },
  {
   "cell_type": "code",
   "execution_count": 9,
   "metadata": {},
   "outputs": [
    {
     "data": {
      "text/plain": [
       "[]"
      ]
     },
     "execution_count": 9,
     "metadata": {},
     "output_type": "execute_result"
    }
   ],
   "source": [
    "# Se crea el nodo Keyword con la propiedad de keyword.\n",
    "# Con la sentencia UNWIND se separa cada keyword de la lista de keywords en una fila cada uno.\n",
    "# Se conectan los nodos de Paper y Keyword mediante la relacion :REALIZA.\n",
    "\n",
    "query = '''\n",
    "//Create node for Keywords and Relationship between papers and autores\n",
    "LOAD CSV WITH HEADERS FROM 'file:///final_paper.csv' AS row\n",
    "UNWIND split(row.keywords, ',') AS keyword_name\n",
    "MERGE (k:Keyword {keyword: keyword_name})\n",
    "WITH k, row\n",
    "MATCH (p:Paper {titulo: row.titulo})\n",
    "MERGE (p)-[:CONTIENE]->(k)\n",
    "'''\n",
    "conn.query(query,db='neo4j2')"
   ]
  },
  {
   "cell_type": "code",
   "execution_count": 10,
   "metadata": {},
   "outputs": [
    {
     "data": {
      "text/plain": [
       "[]"
      ]
     },
     "execution_count": 10,
     "metadata": {},
     "output_type": "execute_result"
    }
   ],
   "source": [
    "# Se conecta el nodo de Paper así mismo para obtener las distancias entre papers.\n",
    "\n",
    "query = '''\n",
    "//Create and Relation Papers and Categories\n",
    "LOAD CSV WITH HEADERS FROM 'file:///final_distances.csv' AS row\n",
    "MATCH (titulo_2:Paper {titulo: row.titulo_2})\n",
    "MATCH (titulo:Paper {titulo: row.titulo})\n",
    "MERGE (titulo_2)-[:DISTANCE {distance: toFloat(row.distance)}]->(titulo)\n",
    "'''\n",
    "conn.query(query,db='neo4j2')"
   ]
  }
 ],
 "metadata": {
  "kernelspec": {
   "display_name": "base",
   "language": "python",
   "name": "python3"
  },
  "language_info": {
   "codemirror_mode": {
    "name": "ipython",
    "version": 3
   },
   "file_extension": ".py",
   "mimetype": "text/x-python",
   "name": "python",
   "nbconvert_exporter": "python",
   "pygments_lexer": "ipython3",
   "version": "3.8.3"
  },
  "orig_nbformat": 4,
  "vscode": {
   "interpreter": {
    "hash": "506d569f0b28ea103188d4d9f745b7b2b85d3e31dafde01bdf7899299ac0033b"
   }
  }
 },
 "nbformat": 4,
 "nbformat_minor": 2
}
