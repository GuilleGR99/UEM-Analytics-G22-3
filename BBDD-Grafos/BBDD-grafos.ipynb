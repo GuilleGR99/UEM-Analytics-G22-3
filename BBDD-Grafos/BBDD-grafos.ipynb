{
 "cells": [
  {
   "cell_type": "code",
   "execution_count": 1,
   "metadata": {},
   "outputs": [],
   "source": [
    "# Se importan las librerías\n",
    "import pandas as pd\n",
    "from neo4j import GraphDatabase\n",
    "import time"
   ]
  },
  {
   "cell_type": "code",
   "execution_count": 2,
   "metadata": {},
   "outputs": [
    {
     "data": {
      "text/html": [
       "<div>\n",
       "<style scoped>\n",
       "    .dataframe tbody tr th:only-of-type {\n",
       "        vertical-align: middle;\n",
       "    }\n",
       "\n",
       "    .dataframe tbody tr th {\n",
       "        vertical-align: top;\n",
       "    }\n",
       "\n",
       "    .dataframe thead th {\n",
       "        text-align: right;\n",
       "    }\n",
       "</style>\n",
       "<table border=\"1\" class=\"dataframe\">\n",
       "  <thead>\n",
       "    <tr style=\"text-align: right;\">\n",
       "      <th></th>\n",
       "      <th>id</th>\n",
       "      <th>idioma</th>\n",
       "      <th>titulo</th>\n",
       "      <th>genero</th>\n",
       "      <th>abstract</th>\n",
       "      <th>categorias</th>\n",
       "    </tr>\n",
       "  </thead>\n",
       "  <tbody>\n",
       "    <tr>\n",
       "      <th>0</th>\n",
       "      <td>doi:10.1007/978-3-031-16203-9_8</td>\n",
       "      <td>en</td>\n",
       "      <td>The Comprehensive Model of Using In-Depth Cons...</td>\n",
       "      <td>OriginalPaper</td>\n",
       "      <td>paper describ relev machin learn method name t...</td>\n",
       "      <td>['Computational Intelligence', 'Artificial Int...</td>\n",
       "    </tr>\n",
       "    <tr>\n",
       "      <th>1</th>\n",
       "      <td>doi:10.1007/978-3-031-08246-7_7</td>\n",
       "      <td>en</td>\n",
       "      <td>Implementation of Reinforcement-Learning Algor...</td>\n",
       "      <td>OriginalPaper</td>\n",
       "      <td>problem autonom robot navig indoor environ mus...</td>\n",
       "      <td>['Computational Intelligence', 'Artificial Int...</td>\n",
       "    </tr>\n",
       "    <tr>\n",
       "      <th>2</th>\n",
       "      <td>doi:10.1007/978-981-19-4960-9_31</td>\n",
       "      <td>en</td>\n",
       "      <td>Reinforcement Learning for Autonomous Driving ...</td>\n",
       "      <td>OriginalPaper</td>\n",
       "      <td>decisionmak process autonom vehicl come numer ...</td>\n",
       "      <td>['Computational Intelligence', 'Artificial Int...</td>\n",
       "    </tr>\n",
       "    <tr>\n",
       "      <th>3</th>\n",
       "      <td>doi:10.1007/978-3-031-18461-1_11</td>\n",
       "      <td>en</td>\n",
       "      <td>A Survey of Reinforcement Learning Toolkits fo...</td>\n",
       "      <td>OriginalPaper</td>\n",
       "      <td>game industri becom one excit creativ industri...</td>\n",
       "      <td>['Computational Intelligence', 'Control, Robot...</td>\n",
       "    </tr>\n",
       "    <tr>\n",
       "      <th>4</th>\n",
       "      <td>doi:10.1007/978-981-19-7648-3_12</td>\n",
       "      <td>en</td>\n",
       "      <td>Priority-Aware Computational Resource Allocation</td>\n",
       "      <td>OriginalPaper</td>\n",
       "      <td>vehicular fog comput vfc expect promis scheme ...</td>\n",
       "      <td>['Computer Science', 'Communications Engineeri...</td>\n",
       "    </tr>\n",
       "  </tbody>\n",
       "</table>\n",
       "</div>"
      ],
      "text/plain": [
       "                                 id idioma  \\\n",
       "0   doi:10.1007/978-3-031-16203-9_8     en   \n",
       "1   doi:10.1007/978-3-031-08246-7_7     en   \n",
       "2  doi:10.1007/978-981-19-4960-9_31     en   \n",
       "3  doi:10.1007/978-3-031-18461-1_11     en   \n",
       "4  doi:10.1007/978-981-19-7648-3_12     en   \n",
       "\n",
       "                                              titulo         genero  \\\n",
       "0  The Comprehensive Model of Using In-Depth Cons...  OriginalPaper   \n",
       "1  Implementation of Reinforcement-Learning Algor...  OriginalPaper   \n",
       "2  Reinforcement Learning for Autonomous Driving ...  OriginalPaper   \n",
       "3  A Survey of Reinforcement Learning Toolkits fo...  OriginalPaper   \n",
       "4   Priority-Aware Computational Resource Allocation  OriginalPaper   \n",
       "\n",
       "                                            abstract  \\\n",
       "0  paper describ relev machin learn method name t...   \n",
       "1  problem autonom robot navig indoor environ mus...   \n",
       "2  decisionmak process autonom vehicl come numer ...   \n",
       "3  game industri becom one excit creativ industri...   \n",
       "4  vehicular fog comput vfc expect promis scheme ...   \n",
       "\n",
       "                                          categorias  \n",
       "0  ['Computational Intelligence', 'Artificial Int...  \n",
       "1  ['Computational Intelligence', 'Artificial Int...  \n",
       "2  ['Computational Intelligence', 'Artificial Int...  \n",
       "3  ['Computational Intelligence', 'Control, Robot...  \n",
       "4  ['Computer Science', 'Communications Engineeri...  "
      ]
     },
     "execution_count": 2,
     "metadata": {},
     "output_type": "execute_result"
    }
   ],
   "source": [
    "# Se carga el csv con el preprocesado de la parte de Lucas\n",
    "# El csv es del 13/12/2022\n",
    "df = pd.read_csv('C:/Users/migue/AplicacionesYTendencias/ProyectoAyT/UEM-Analytics-G22-3/BBDD-Grafos/totalPrueba.csv')\n",
    "df.head()"
   ]
  },
  {
   "attachments": {},
   "cell_type": "markdown",
   "metadata": {},
   "source": [
    "### Conectar a Neo4j Desktop"
   ]
  },
  {
   "cell_type": "code",
   "execution_count": 3,
   "metadata": {},
   "outputs": [],
   "source": [
    "# Se crea una clase en la que se esctablece la conexión entre la máquina local donde\n",
    "# se encuentra el código de python y la base de datos de Neo4j Desktop.\n",
    "# Le indicamos la URL, el usuario y la contraseña para completar la conexión\n",
    "class Neo4jConnection:\n",
    "    \n",
    "    def __init__(self, uri, user, pwd):\n",
    "        self.__uri = uri\n",
    "        self.__user = user\n",
    "        self.__pwd = pwd\n",
    "        self.__driver = None\n",
    "        try:\n",
    "            self.__driver = GraphDatabase.driver(self.__uri, auth=(self.__user, self.__pwd))\n",
    "        except Exception as e:\n",
    "            print(\"Failed to create the driver:\", e)\n",
    "        \n",
    "    def close(self):\n",
    "        if self.__driver is not None:\n",
    "            self.__driver.close()\n",
    "        \n",
    "    def query(self, query, db=None):\n",
    "        assert self.__driver is not None, \"Driver not initialized!\"\n",
    "        session = None\n",
    "        response = None\n",
    "        try: \n",
    "            session = self.__driver.session(database=db) if db is not None else self.__driver.session() \n",
    "            response = list(session.run(query))\n",
    "        except Exception as e:\n",
    "            print(\"Query failed:\", e)\n",
    "        finally: \n",
    "            if session is not None:\n",
    "                session.close()\n",
    "        return response\n",
    "        \n",
    "conn = Neo4jConnection(uri=\"bolt://localhost:7687\", \n",
    "                       user=\"usermate\",              \n",
    "                       pwd=\"glass\")"
   ]
  },
  {
   "cell_type": "markdown",
   "metadata": {},
   "source": [
    "### Creación BBDD"
   ]
  },
  {
   "cell_type": "code",
   "execution_count": 4,
   "metadata": {},
   "outputs": [
    {
     "data": {
      "text/html": [
       "<div>\n",
       "<style scoped>\n",
       "    .dataframe tbody tr th:only-of-type {\n",
       "        vertical-align: middle;\n",
       "    }\n",
       "\n",
       "    .dataframe tbody tr th {\n",
       "        vertical-align: top;\n",
       "    }\n",
       "\n",
       "    .dataframe thead th {\n",
       "        text-align: right;\n",
       "    }\n",
       "</style>\n",
       "<table border=\"1\" class=\"dataframe\">\n",
       "  <thead>\n",
       "    <tr style=\"text-align: right;\">\n",
       "      <th></th>\n",
       "      <th>id</th>\n",
       "      <th>idioma</th>\n",
       "      <th>titulo</th>\n",
       "      <th>genero</th>\n",
       "      <th>abstract</th>\n",
       "      <th>categorias</th>\n",
       "    </tr>\n",
       "  </thead>\n",
       "  <tbody>\n",
       "    <tr>\n",
       "      <th>0</th>\n",
       "      <td>doi:10.1007/978-3-031-16203-9_8</td>\n",
       "      <td>en</td>\n",
       "      <td>The Comprehensive Model of Using In-Depth Cons...</td>\n",
       "      <td>OriginalPaper</td>\n",
       "      <td>paper describ relev machin learn method name t...</td>\n",
       "      <td>['Computational Intelligence', 'Artificial Int...</td>\n",
       "    </tr>\n",
       "    <tr>\n",
       "      <th>1</th>\n",
       "      <td>doi:10.1007/978-3-031-08246-7_7</td>\n",
       "      <td>en</td>\n",
       "      <td>Implementation of Reinforcement-Learning Algor...</td>\n",
       "      <td>OriginalPaper</td>\n",
       "      <td>problem autonom robot navig indoor environ mus...</td>\n",
       "      <td>['Computational Intelligence', 'Artificial Int...</td>\n",
       "    </tr>\n",
       "    <tr>\n",
       "      <th>2</th>\n",
       "      <td>doi:10.1007/978-981-19-4960-9_31</td>\n",
       "      <td>en</td>\n",
       "      <td>Reinforcement Learning for Autonomous Driving ...</td>\n",
       "      <td>OriginalPaper</td>\n",
       "      <td>decisionmak process autonom vehicl come numer ...</td>\n",
       "      <td>['Computational Intelligence', 'Artificial Int...</td>\n",
       "    </tr>\n",
       "    <tr>\n",
       "      <th>3</th>\n",
       "      <td>doi:10.1007/978-3-031-18461-1_11</td>\n",
       "      <td>en</td>\n",
       "      <td>A Survey of Reinforcement Learning Toolkits fo...</td>\n",
       "      <td>OriginalPaper</td>\n",
       "      <td>game industri becom one excit creativ industri...</td>\n",
       "      <td>['Computational Intelligence', 'Control, Robot...</td>\n",
       "    </tr>\n",
       "    <tr>\n",
       "      <th>4</th>\n",
       "      <td>doi:10.1007/978-981-19-7648-3_12</td>\n",
       "      <td>en</td>\n",
       "      <td>Priority-Aware Computational Resource Allocation</td>\n",
       "      <td>OriginalPaper</td>\n",
       "      <td>vehicular fog comput vfc expect promis scheme ...</td>\n",
       "      <td>['Computer Science', 'Communications Engineeri...</td>\n",
       "    </tr>\n",
       "  </tbody>\n",
       "</table>\n",
       "</div>"
      ],
      "text/plain": [
       "                                 id idioma  \\\n",
       "0   doi:10.1007/978-3-031-16203-9_8     en   \n",
       "1   doi:10.1007/978-3-031-08246-7_7     en   \n",
       "2  doi:10.1007/978-981-19-4960-9_31     en   \n",
       "3  doi:10.1007/978-3-031-18461-1_11     en   \n",
       "4  doi:10.1007/978-981-19-7648-3_12     en   \n",
       "\n",
       "                                              titulo         genero  \\\n",
       "0  The Comprehensive Model of Using In-Depth Cons...  OriginalPaper   \n",
       "1  Implementation of Reinforcement-Learning Algor...  OriginalPaper   \n",
       "2  Reinforcement Learning for Autonomous Driving ...  OriginalPaper   \n",
       "3  A Survey of Reinforcement Learning Toolkits fo...  OriginalPaper   \n",
       "4   Priority-Aware Computational Resource Allocation  OriginalPaper   \n",
       "\n",
       "                                            abstract  \\\n",
       "0  paper describ relev machin learn method name t...   \n",
       "1  problem autonom robot navig indoor environ mus...   \n",
       "2  decisionmak process autonom vehicl come numer ...   \n",
       "3  game industri becom one excit creativ industri...   \n",
       "4  vehicular fog comput vfc expect promis scheme ...   \n",
       "\n",
       "                                          categorias  \n",
       "0  ['Computational Intelligence', 'Artificial Int...  \n",
       "1  ['Computational Intelligence', 'Artificial Int...  \n",
       "2  ['Computational Intelligence', 'Artificial Int...  \n",
       "3  ['Computational Intelligence', 'Control, Robot...  \n",
       "4  ['Computer Science', 'Communications Engineeri...  "
      ]
     },
     "execution_count": 4,
     "metadata": {},
     "output_type": "execute_result"
    }
   ],
   "source": [
    "df.head()"
   ]
  },
  {
   "cell_type": "code",
   "execution_count": 5,
   "metadata": {},
   "outputs": [
    {
     "data": {
      "text/plain": [
       "[]"
      ]
     },
     "execution_count": 5,
     "metadata": {},
     "output_type": "execute_result"
    }
   ],
   "source": [
    "# Llenamos la base de datos.\n",
    "# Se crean CONSTRAINTS para garantizar que los nodos no estén\n",
    "# duplicados mientras configuramos algunos índices.\n",
    "conn.query('CREATE CONSTRAINT papers IF NOT EXISTS FOR (p:Paper) REQUIRE p.id IS UNIQUE')\n",
    "conn.query('CREATE CONSTRAINT categories IF NOT EXISTS FOR (c:Category) REQUIRE c.category IS UNIQUE')"
   ]
  },
  {
   "cell_type": "code",
   "execution_count": 6,
   "metadata": {},
   "outputs": [
    {
     "data": {
      "text/plain": [
       "[]"
      ]
     },
     "execution_count": 6,
     "metadata": {},
     "output_type": "execute_result"
    }
   ],
   "source": [
    "query = '''\n",
    "WITH 'file:///totalPrueba.csv' AS data \n",
    "LOAD CSV WITH HEADERS FROM data AS row\n",
    "MERGE (c:Category {category: row.categorias})\n",
    "'''\n",
    "conn.query(query, db='neo4j2')"
   ]
  },
  {
   "cell_type": "code",
   "execution_count": 7,
   "metadata": {},
   "outputs": [
    {
     "data": {
      "text/plain": [
       "[]"
      ]
     },
     "execution_count": 7,
     "metadata": {},
     "output_type": "execute_result"
    }
   ],
   "source": [
    "query = '''\n",
    "WITH 'file:///totalPrueba.csv' AS data \n",
    "LOAD CSV WITH HEADERS FROM data AS row\n",
    "MERGE (p:Paper {id:row.id}) ON CREATE SET p.titulo = row.titulo\n",
    " \n",
    "// connect categories\n",
    "WITH row, p\n",
    "UNWIND row.categorias AS category_name\n",
    "MATCH (c:Category {category: category_name})\n",
    "MERGE (p)-[:IN_CATEGORY]->(c)\n",
    "'''\n",
    "conn.query(query, db='neo4j2')"
   ]
  },
  {
   "cell_type": "code",
   "execution_count": 8,
   "metadata": {},
   "outputs": [
    {
     "data": {
      "text/plain": [
       "[<Record p=<Node element_id='4:72029615-e08a-45bb-a9c8-557d244bc950:569' labels=frozenset({'Paper'}) properties={'titulo': 'The Scope and Applications of Nature-Inspired Computing in Bioinformatics\\r\\n', 'id': 'doi:10.1007/978-981-19-6379-7_1'}> c=<Node element_id='4:72029615-e08a-45bb-a9c8-557d244bc950:0' labels=frozenset({'Category'}) properties={'category': \"['Computational Intelligence', 'Artificial Intelligence']\"}>>,\n",
       " <Record p=<Node element_id='4:72029615-e08a-45bb-a9c8-557d244bc950:4709' labels=frozenset({'Paper'}) properties={'titulo': 'E-commerce Application with Analytics for Pharmaceutical Industry', 'id': 'doi:10.1007/978-981-19-3590-9_22'}> c=<Node element_id='4:72029615-e08a-45bb-a9c8-557d244bc950:0' labels=frozenset({'Category'}) properties={'category': \"['Computational Intelligence', 'Artificial Intelligence']\"}>>,\n",
       " <Record p=<Node element_id='4:72029615-e08a-45bb-a9c8-557d244bc950:4233' labels=frozenset({'Paper'}) properties={'titulo': 'The Investigation of Network Security, Including Penetrating Threats and Potential Security Measures', 'id': 'doi:10.1007/978-981-19-3590-9_9'}> c=<Node element_id='4:72029615-e08a-45bb-a9c8-557d244bc950:0' labels=frozenset({'Category'}) properties={'category': \"['Computational Intelligence', 'Artificial Intelligence']\"}>>,\n",
       " <Record p=<Node element_id='4:72029615-e08a-45bb-a9c8-557d244bc950:2874' labels=frozenset({'Paper'}) properties={'titulo': 'Multi-class Short Text Classification Using Ensemble of\\xa0Deep Learning Classifier', 'id': 'doi:10.1007/978-3-031-19958-5_45'}> c=<Node element_id='4:72029615-e08a-45bb-a9c8-557d244bc950:0' labels=frozenset({'Category'}) properties={'category': \"['Computational Intelligence', 'Artificial Intelligence']\"}>>,\n",
       " <Record p=<Node element_id='4:72029615-e08a-45bb-a9c8-557d244bc950:1751' labels=frozenset({'Paper'}) properties={'titulo': 'Application of\\xa0Swarm Based Approaches for\\xa0Elastic Modulus Prediction of\\xa0Recycled Aggregate Concrete', 'id': 'doi:10.1007/978-3-031-09835-2_8'}> c=<Node element_id='4:72029615-e08a-45bb-a9c8-557d244bc950:0' labels=frozenset({'Category'}) properties={'category': \"['Computational Intelligence', 'Artificial Intelligence']\"}>>,\n",
       " <Record p=<Node element_id='4:72029615-e08a-45bb-a9c8-557d244bc950:557' labels=frozenset({'Paper'}) properties={'titulo': 'Predicting the Value of Cryptocurrencies Using Machine Learning Algorithms', 'id': 'doi:10.1007/978-3-031-17697-5_33'}> c=<Node element_id='4:72029615-e08a-45bb-a9c8-557d244bc950:0' labels=frozenset({'Category'}) properties={'category': \"['Computational Intelligence', 'Artificial Intelligence']\"}>>,\n",
       " <Record p=<Node element_id='4:72029615-e08a-45bb-a9c8-557d244bc950:7858' labels=frozenset({'Paper'}) properties={'titulo': 'Why Rectified Linear Neurons: Two Convexity-Related Explanations', 'id': 'doi:10.1007/978-3-031-08580-2_4'}> c=<Node element_id='4:72029615-e08a-45bb-a9c8-557d244bc950:0' labels=frozenset({'Category'}) properties={'category': \"['Computational Intelligence', 'Artificial Intelligence']\"}>>,\n",
       " <Record p=<Node element_id='4:72029615-e08a-45bb-a9c8-557d244bc950:2404' labels=frozenset({'Paper'}) properties={'titulo': 'Attacks Against Artificial Intelligence Systems: Classification, The Threat Model and the Approach to Protection', 'id': 'doi:10.1007/978-3-031-19620-1_28'}> c=<Node element_id='4:72029615-e08a-45bb-a9c8-557d244bc950:0' labels=frozenset({'Category'}) properties={'category': \"['Computational Intelligence', 'Artificial Intelligence']\"}>>,\n",
       " <Record p=<Node element_id='4:72029615-e08a-45bb-a9c8-557d244bc950:12192' labels=frozenset({'Paper'}) properties={'titulo': 'New Ranking Approach to\\xa0Solve MCDM Problems with\\xa0Generalized Intuitionistic Fuzzy Information', 'id': 'doi:10.1007/978-981-19-4929-6_26'}> c=<Node element_id='4:72029615-e08a-45bb-a9c8-557d244bc950:0' labels=frozenset({'Category'}) properties={'category': \"['Computational Intelligence', 'Artificial Intelligence']\"}>>,\n",
       " <Record p=<Node element_id='4:72029615-e08a-45bb-a9c8-557d244bc950:8729' labels=frozenset({'Paper'}) properties={'titulo': 'Lossy Compression Effect on\\xa0Color and\\xa0Texture Based Image Retrieval Performance', 'id': 'doi:10.1007/978-3-031-19958-5_108'}> c=<Node element_id='4:72029615-e08a-45bb-a9c8-557d244bc950:0' labels=frozenset({'Category'}) properties={'category': \"['Computational Intelligence', 'Artificial Intelligence']\"}>>,\n",
       " <Record p=<Node element_id='4:72029615-e08a-45bb-a9c8-557d244bc950:2121' labels=frozenset({'Paper'}) properties={'titulo': 'A Comparison of Deep Learning Techniques for Corrosion Detection', 'id': 'doi:10.1007/978-3-031-20601-6_18'}> c=<Node element_id='4:72029615-e08a-45bb-a9c8-557d244bc950:0' labels=frozenset({'Category'}) properties={'category': \"['Computational Intelligence', 'Artificial Intelligence']\"}>>,\n",
       " <Record p=<Node element_id='4:72029615-e08a-45bb-a9c8-557d244bc950:8661' labels=frozenset({'Paper'}) properties={'titulo': 'A Research on Countering Virtual Machine Evasion Techniques of Malware in Dynamic Analysis', 'id': 'doi:10.1007/978-3-031-19958-5_55'}> c=<Node element_id='4:72029615-e08a-45bb-a9c8-557d244bc950:0' labels=frozenset({'Category'}) properties={'category': \"['Computational Intelligence', 'Artificial Intelligence']\"}>>,\n",
       " <Record p=<Node element_id='4:72029615-e08a-45bb-a9c8-557d244bc950:12328' labels=frozenset({'Paper'}) properties={'titulo': 'CTrace: Language for\\xa0Definition of\\xa0Epidemiological Models with\\xa0Contact-Tracing Transmission', 'id': 'doi:10.1007/978-3-031-16203-9_25'}> c=<Node element_id='4:72029615-e08a-45bb-a9c8-557d244bc950:0' labels=frozenset({'Category'}) properties={'category': \"['Computational Intelligence', 'Artificial Intelligence']\"}>>,\n",
       " <Record p=<Node element_id='4:72029615-e08a-45bb-a9c8-557d244bc950:7693' labels=frozenset({'Paper'}) properties={'titulo': 'Use of Special Cases of Ontologies for Big Data Analysis in Decision Making Systems', 'id': 'doi:10.1007/978-3-031-08246-7_9'}> c=<Node element_id='4:72029615-e08a-45bb-a9c8-557d244bc950:0' labels=frozenset({'Category'}) properties={'category': \"['Computational Intelligence', 'Artificial Intelligence']\"}>>,\n",
       " <Record p=<Node element_id='4:72029615-e08a-45bb-a9c8-557d244bc950:1924' labels=frozenset({'Paper'}) properties={'titulo': 'Alzheimer’s Disease Multi-class Classification Model Based on CNN and StackNet Using Brain MRI Data', 'id': 'doi:10.1007/978-3-031-20601-6_23'}> c=<Node element_id='4:72029615-e08a-45bb-a9c8-557d244bc950:0' labels=frozenset({'Category'}) properties={'category': \"['Computational Intelligence', 'Artificial Intelligence']\"}>>,\n",
       " <Record p=<Node element_id='4:72029615-e08a-45bb-a9c8-557d244bc950:4952' labels=frozenset({'Paper'}) properties={'titulo': 'Success and Failure Factors Affecting Software Development Projects from IT Professionals’ Perspective', 'id': 'doi:10.1007/978-981-19-3590-9_60'}> c=<Node element_id='4:72029615-e08a-45bb-a9c8-557d244bc950:0' labels=frozenset({'Category'}) properties={'category': \"['Computational Intelligence', 'Artificial Intelligence']\"}>>,\n",
       " <Record p=<Node element_id='4:72029615-e08a-45bb-a9c8-557d244bc950:2373' labels=frozenset({'Paper'}) properties={'titulo': 'Using AI to Manage Project Deadlines—Case Study of a Global Human Capital Management (HCM) Software Company', 'id': 'doi:10.1007/978-981-19-3590-9_35'}> c=<Node element_id='4:72029615-e08a-45bb-a9c8-557d244bc950:0' labels=frozenset({'Category'}) properties={'category': \"['Computational Intelligence', 'Artificial Intelligence']\"}>>,\n",
       " <Record p=<Node element_id='4:72029615-e08a-45bb-a9c8-557d244bc950:1781' labels=frozenset({'Paper'}) properties={'titulo': 'Processing Technology of\\xa0Thematic Identification and\\xa0Classification of\\xa0Objects in\\xa0the\\xa0Multispectral Remote Sensing Imagery', 'id': 'doi:10.1007/978-3-031-16203-9_24'}> c=<Node element_id='4:72029615-e08a-45bb-a9c8-557d244bc950:0' labels=frozenset({'Category'}) properties={'category': \"['Computational Intelligence', 'Artificial Intelligence']\"}>>,\n",
       " <Record p=<Node element_id='4:72029615-e08a-45bb-a9c8-557d244bc950:4626' labels=frozenset({'Paper'}) properties={'titulo': 'Using Ontology and Semantic Web Tools to Improve New Product Development Process. Towards State of Arts', 'id': 'doi:10.1007/978-3-031-20601-6_57'}> c=<Node element_id='4:72029615-e08a-45bb-a9c8-557d244bc950:0' labels=frozenset({'Category'}) properties={'category': \"['Computational Intelligence', 'Artificial Intelligence']\"}>>,\n",
       " <Record p=<Node element_id='4:72029615-e08a-45bb-a9c8-557d244bc950:963' labels=frozenset({'Paper'}) properties={'titulo': 'Real Time Adaptive GPS Trajectory Compression', 'id': 'doi:10.1007/978-3-031-20601-6_32'}> c=<Node element_id='4:72029615-e08a-45bb-a9c8-557d244bc950:0' labels=frozenset({'Category'}) properties={'category': \"['Computational Intelligence', 'Artificial Intelligence']\"}>>,\n",
       " <Record p=<Node element_id='4:72029615-e08a-45bb-a9c8-557d244bc950:1853' labels=frozenset({'Paper'}) properties={'titulo': 'A Survey of Concurrency Control Algorithms in Collaborative Applications', 'id': 'doi:10.1007/978-3-031-20601-6_28'}> c=<Node element_id='4:72029615-e08a-45bb-a9c8-557d244bc950:0' labels=frozenset({'Category'}) properties={'category': \"['Computational Intelligence', 'Artificial Intelligence']\"}>>,\n",
       " <Record p=<Node element_id='4:72029615-e08a-45bb-a9c8-557d244bc950:18264' labels=frozenset({'Paper'}) properties={'titulo': 'Historical Data-Driven Composite Learning Adaptive Fuzzy Control of Fractional-Order Nonlinear Systems', 'id': 'doi:10.1007/s40815-022-01430-9'}> c=<Node element_id='4:72029615-e08a-45bb-a9c8-557d244bc950:0' labels=frozenset({'Category'}) properties={'category': \"['Computational Intelligence', 'Artificial Intelligence']\"}>>,\n",
       " <Record p=<Node element_id='4:72029615-e08a-45bb-a9c8-557d244bc950:12337' labels=frozenset({'Paper'}) properties={'titulo': 'Mathematical and\\xa0Computer Model of\\xa0the\\xa0Tree Crown Ignition Process from\\xa0a\\xa0Mobile Grassroots Fire', 'id': 'doi:10.1007/978-3-031-16203-9_9'}> c=<Node element_id='4:72029615-e08a-45bb-a9c8-557d244bc950:0' labels=frozenset({'Category'}) properties={'category': \"['Computational Intelligence', 'Artificial Intelligence']\"}>>,\n",
       " <Record p=<Node element_id='4:72029615-e08a-45bb-a9c8-557d244bc950:5023' labels=frozenset({'Paper'}) properties={'titulo': 'Chatbots for Creating Smart Things with Children: Preliminary Investigations and Several Challenges', 'id': 'doi:10.1007/978-3-031-20257-5_20'}> c=<Node element_id='4:72029615-e08a-45bb-a9c8-557d244bc950:0' labels=frozenset({'Category'}) properties={'category': \"['Computational Intelligence', 'Artificial Intelligence']\"}>>,\n",
       " <Record p=<Node element_id='4:72029615-e08a-45bb-a9c8-557d244bc950:556' labels=frozenset({'Paper'}) properties={'titulo': 'Overview of Gradient Descent Algorithms: Application to Railway Regularity', 'id': 'doi:10.1007/978-3-031-20601-6_4'}> c=<Node element_id='4:72029615-e08a-45bb-a9c8-557d244bc950:0' labels=frozenset({'Category'}) properties={'category': \"['Computational Intelligence', 'Artificial Intelligence']\"}>>]"
      ]
     },
     "execution_count": 8,
     "metadata": {},
     "output_type": "execute_result"
    }
   ],
   "source": [
    "query = '''\n",
    "MATCH (p:Paper)-[r:IN_CATEGORY]->(c:Category) \n",
    "RETURN p,c LIMIT 25\n",
    "'''\n",
    "conn.query(query, db='neo4j2')"
   ]
  },
  {
   "cell_type": "code",
   "execution_count": 11,
   "metadata": {},
   "outputs": [
    {
     "data": {
      "text/html": [
       "<div>\n",
       "<style scoped>\n",
       "    .dataframe tbody tr th:only-of-type {\n",
       "        vertical-align: middle;\n",
       "    }\n",
       "\n",
       "    .dataframe tbody tr th {\n",
       "        vertical-align: top;\n",
       "    }\n",
       "\n",
       "    .dataframe thead th {\n",
       "        text-align: right;\n",
       "    }\n",
       "</style>\n",
       "<table border=\"1\" class=\"dataframe\">\n",
       "  <thead>\n",
       "    <tr style=\"text-align: right;\">\n",
       "      <th></th>\n",
       "      <th>p.id</th>\n",
       "      <th>p.titulo</th>\n",
       "      <th>p.abstract</th>\n",
       "    </tr>\n",
       "  </thead>\n",
       "  <tbody>\n",
       "    <tr>\n",
       "      <th>12612</th>\n",
       "      <td>doi:10.1007/s10489-022-03451-1</td>\n",
       "      <td>Video summarization with u-shaped transformer</td>\n",
       "      <td>None</td>\n",
       "    </tr>\n",
       "    <tr>\n",
       "      <th>2596</th>\n",
       "      <td>doi:10.1007/978-3-031-18154-2_1</td>\n",
       "      <td>Baby Fever</td>\n",
       "      <td>None</td>\n",
       "    </tr>\n",
       "    <tr>\n",
       "      <th>5151</th>\n",
       "      <td>doi:10.1007/978-3-031-15457-7_8</td>\n",
       "      <td>Strategic Communication in a Transnational Pro...</td>\n",
       "      <td>None</td>\n",
       "    </tr>\n",
       "    <tr>\n",
       "      <th>785</th>\n",
       "      <td>doi:10.1007/978-981-19-3015-7_32</td>\n",
       "      <td>Knowing Your Customers Using Customer Segmenta...</td>\n",
       "      <td>None</td>\n",
       "    </tr>\n",
       "    <tr>\n",
       "      <th>9120</th>\n",
       "      <td>doi:10.1007/s13201-022-01830-0</td>\n",
       "      <td>River flow prediction based on improved machin...</td>\n",
       "      <td>None</td>\n",
       "    </tr>\n",
       "    <tr>\n",
       "      <th>17867</th>\n",
       "      <td>doi:10.1007/978-3-031-04721-3_7</td>\n",
       "      <td>Additive Manufacturing of Ceramics: Materials,...</td>\n",
       "      <td>None</td>\n",
       "    </tr>\n",
       "    <tr>\n",
       "      <th>5414</th>\n",
       "      <td>doi:10.1007/978-3-031-08954-1_95</td>\n",
       "      <td>Fear and Panic Buying Behavior Associated with...</td>\n",
       "      <td>None</td>\n",
       "    </tr>\n",
       "    <tr>\n",
       "      <th>5443</th>\n",
       "      <td>doi:10.1007/978-981-19-1610-6_57</td>\n",
       "      <td>A Systematized Literature Review: Internet of ...</td>\n",
       "      <td>None</td>\n",
       "    </tr>\n",
       "    <tr>\n",
       "      <th>9787</th>\n",
       "      <td>doi:10.1007/s40031-022-00794-8</td>\n",
       "      <td>Structural Seismic Vibration Analysis Using Mu...</td>\n",
       "      <td>None</td>\n",
       "    </tr>\n",
       "    <tr>\n",
       "      <th>1308</th>\n",
       "      <td>doi:10.1007/978-981-19-3842-9_60</td>\n",
       "      <td>Visual-Inertial Odometry Design Based on Nonli...</td>\n",
       "      <td>None</td>\n",
       "    </tr>\n",
       "  </tbody>\n",
       "</table>\n",
       "</div>"
      ],
      "text/plain": [
       "                                   p.id  \\\n",
       "12612    doi:10.1007/s10489-022-03451-1   \n",
       "2596    doi:10.1007/978-3-031-18154-2_1   \n",
       "5151    doi:10.1007/978-3-031-15457-7_8   \n",
       "785    doi:10.1007/978-981-19-3015-7_32   \n",
       "9120     doi:10.1007/s13201-022-01830-0   \n",
       "17867   doi:10.1007/978-3-031-04721-3_7   \n",
       "5414   doi:10.1007/978-3-031-08954-1_95   \n",
       "5443   doi:10.1007/978-981-19-1610-6_57   \n",
       "9787     doi:10.1007/s40031-022-00794-8   \n",
       "1308   doi:10.1007/978-981-19-3842-9_60   \n",
       "\n",
       "                                                p.titulo p.abstract  \n",
       "12612      Video summarization with u-shaped transformer       None  \n",
       "2596                                          Baby Fever       None  \n",
       "5151   Strategic Communication in a Transnational Pro...       None  \n",
       "785    Knowing Your Customers Using Customer Segmenta...       None  \n",
       "9120   River flow prediction based on improved machin...       None  \n",
       "17867  Additive Manufacturing of Ceramics: Materials,...       None  \n",
       "5414   Fear and Panic Buying Behavior Associated with...       None  \n",
       "5443   A Systematized Literature Review: Internet of ...       None  \n",
       "9787   Structural Seismic Vibration Analysis Using Mu...       None  \n",
       "1308   Visual-Inertial Odometry Design Based on Nonli...       None  "
      ]
     },
     "execution_count": 11,
     "metadata": {},
     "output_type": "execute_result"
    }
   ],
   "source": [
    "from pandas import DataFrame\n",
    "\n",
    "query = '''\n",
    "MATCH (p:Paper)\n",
    "RETURN DISTINCT p.id, p.titulo, p.abstract\n",
    "'''\n",
    "dtf_data = DataFrame([dict(_) for _ in conn.query(query, db='neo4j2')])\n",
    "dtf_data.sample(10)"
   ]
  },
  {
   "cell_type": "code",
   "execution_count": 6,
   "metadata": {},
   "outputs": [],
   "source": [
    "def add_categories(categories):\n",
    "    # Añade el nodo de categorías a la BBDD de grafos de Neo4j.\n",
    "    query = '''\n",
    "            UNWIND $rows AS row\n",
    "            MERGE (c:Category {category: row.category})\n",
    "            RETURN count(*) as total\n",
    "            '''\n",
    "        \n",
    "    return conn.query(query, parameters = {'rows':categories.to_dict('records')})\n",
    "    #return conn.query(query, parameters = {'rows':categories.to_dict('records')})\n"
   ]
  },
  {
   "cell_type": "code",
   "execution_count": 7,
   "metadata": {},
   "outputs": [],
   "source": [
    "# def add_authors(rows, batch_size=10000):\n",
    "#     # Añade a la BBDD de grafos de Neo4j el nodo de autores.\n",
    "#     # Adds author nodes to the Neo4j graph as a batch job.\n",
    "#     query = '''\n",
    "#             UNWIND $rows AS row\n",
    "#             MERGE (:Author {name: row.author})\n",
    "#             RETURN count(*) as total\n",
    "#             '''\n",
    "#     return insert_data(query, rows, batch_size)\n",
    "\n"
   ]
  },
  {
   "cell_type": "code",
   "execution_count": 7,
   "metadata": {},
   "outputs": [],
   "source": [
    "def insert_data(query, rows, batch_size = 10000):\n",
    "    # Funcición para gestionar las cargas de la BBDD de Neo4j en modo batch.\n",
    "    # Puede ser útil para cuando se tengan más de 50.000 cargas.\n",
    "    \n",
    "    total = 0\n",
    "    batch = 0\n",
    "    start = time.time()\n",
    "    result = None\n",
    "    \n",
    "    while batch * batch_size < len(rows):\n",
    "\n",
    "        res = conn.query(query, \n",
    "                         parameters = {'rows': rows[batch*batch_size:(batch+1)*batch_size].to_dict('records')})\n",
    "        total += res[0]['total']\n",
    "        batch += 1\n",
    "        result = {\"total\":total, \n",
    "                  \"batches\":batch, \n",
    "                  \"time\":time.time()-start}\n",
    "        print(result)\n",
    "        \n",
    "    return result"
   ]
  },
  {
   "cell_type": "code",
   "execution_count": 8,
   "metadata": {},
   "outputs": [],
   "source": [
    "def add_papers(rows, batch_size=5000):\n",
    "   # Se Añade a la BBDD de grafos de Neo4j el nodo de los papers.\n",
    "\n",
    "   # Añade el nodo de papers (:Author)--(:Paper)  \n",
    "   # (:Paper)--(:Category) y las relaciones a la BBDD de grafos de Neo4j en modo batch.\n",
    " \n",
    "   query = '''\n",
    "   UNWIND $rows as row\n",
    "   MERGE (p:Paper {id:row.id}) ON CREATE SET p.titulo = row.titulo\n",
    " \n",
    "   // connect categories\n",
    "   WITH row, p\n",
    "   UNWIND row.categorias AS category_name\n",
    "   MATCH (c:Category {category: category_name})\n",
    "   MERGE (p)-[:IN_CATEGORY]->(c)\n",
    "   '''\n",
    " \n",
    "   return insert_data(query, rows, batch_size)"
   ]
  },
  {
   "cell_type": "code",
   "execution_count": 8,
   "metadata": {},
   "outputs": [],
   "source": [
    "# def add_papers(rows, batch_size=5000):\n",
    "#    # Se Añade a la BBDD de grafos de Neo4j el nodo de los papers.\n",
    "\n",
    "#    # Añade el nodo de papers (:Author)--(:Paper)  \n",
    "#    # (:Paper)--(:Category) y las relaciones a la BBDD de grafos de Neo4j en modo batch.\n",
    " \n",
    "#    query = '''\n",
    "#    UNWIND $rows as row\n",
    "#    MERGE (p:Paper {id:row.id}) ON CREATE SET p.title = row.title\n",
    " \n",
    "#    // connect categories\n",
    "#    WITH row, p\n",
    "#    UNWIND row.clase_pri AS category_name\n",
    "#    MATCH (c:Category {category: category_name})\n",
    "#    MERGE (p)-[:IN_CATEGORY]->(c)\n",
    " \n",
    "#    // connect authors\n",
    "#    WITH distinct row, p // reduce cardinality\n",
    "#    UNWIND row.autores AS author\n",
    "#    MATCH (a:Author {name: author})\n",
    "#    MERGE (a)-[:AUTHORED]->(p)\n",
    "#    RETURN count(distinct p) as total\n",
    "#    '''\n",
    " \n",
    "#    return insert_data(query, rows, batch_size)"
   ]
  },
  {
   "cell_type": "code",
   "execution_count": 9,
   "metadata": {},
   "outputs": [
    {
     "data": {
      "text/html": [
       "<div>\n",
       "<style scoped>\n",
       "    .dataframe tbody tr th:only-of-type {\n",
       "        vertical-align: middle;\n",
       "    }\n",
       "\n",
       "    .dataframe tbody tr th {\n",
       "        vertical-align: top;\n",
       "    }\n",
       "\n",
       "    .dataframe thead th {\n",
       "        text-align: right;\n",
       "    }\n",
       "</style>\n",
       "<table border=\"1\" class=\"dataframe\">\n",
       "  <thead>\n",
       "    <tr style=\"text-align: right;\">\n",
       "      <th></th>\n",
       "      <th>titulo</th>\n",
       "      <th>autores</th>\n",
       "      <th>abstract</th>\n",
       "      <th>clase_pri</th>\n",
       "      <th>clase_otr</th>\n",
       "      <th>id</th>\n",
       "    </tr>\n",
       "  </thead>\n",
       "  <tbody>\n",
       "    <tr>\n",
       "      <th>0</th>\n",
       "      <td>Reinforcement Learning through Asynchronous Ad...</td>\n",
       "      <td>Mohammad Babaeizadeh</td>\n",
       "      <td>We introduce a hybrid CPU/GPU version of the...</td>\n",
       "      <td>Machine Learning (cs.LG)</td>\n",
       "      <td>NaN</td>\n",
       "      <td>0</td>\n",
       "    </tr>\n",
       "    <tr>\n",
       "      <th>1</th>\n",
       "      <td>Altruistic Maneuver Planning for Cooperative A...</td>\n",
       "      <td>Behrad Toghi</td>\n",
       "      <td>With the adoption of autonomous vehicles on ...</td>\n",
       "      <td>Robotics (cs.RO)</td>\n",
       "      <td>NaN</td>\n",
       "      <td>1</td>\n",
       "    </tr>\n",
       "    <tr>\n",
       "      <th>2</th>\n",
       "      <td>Towards Understanding Asynchronous Advantage A...</td>\n",
       "      <td>Han Shen</td>\n",
       "      <td>Asynchronous and parallel implementation of ...</td>\n",
       "      <td>Machine Learning (cs.LG)</td>\n",
       "      <td>; Optimization and Control (math.OC)</td>\n",
       "      <td>2</td>\n",
       "    </tr>\n",
       "    <tr>\n",
       "      <th>3</th>\n",
       "      <td>The Advantage Regret-Matching Actor-Critic</td>\n",
       "      <td>Audrūnas Gruslys</td>\n",
       "      <td>Regret minimization has played a key role in...</td>\n",
       "      <td>Artificial Intelligence (cs.AI)</td>\n",
       "      <td>; Machine Learning (cs.LG)</td>\n",
       "      <td>3</td>\n",
       "    </tr>\n",
       "    <tr>\n",
       "      <th>4</th>\n",
       "      <td>Actor-Critic Sequence Training for Image Capti...</td>\n",
       "      <td>Li Zhang</td>\n",
       "      <td>Generating natural language descriptions of ...</td>\n",
       "      <td>Computer Vision and Pattern Recognition (cs.CV)</td>\n",
       "      <td>NaN</td>\n",
       "      <td>4</td>\n",
       "    </tr>\n",
       "  </tbody>\n",
       "</table>\n",
       "</div>"
      ],
      "text/plain": [
       "                                              titulo               autores  \\\n",
       "0  Reinforcement Learning through Asynchronous Ad...  Mohammad Babaeizadeh   \n",
       "1  Altruistic Maneuver Planning for Cooperative A...          Behrad Toghi   \n",
       "2  Towards Understanding Asynchronous Advantage A...              Han Shen   \n",
       "3         The Advantage Regret-Matching Actor-Critic      Audrūnas Gruslys   \n",
       "4  Actor-Critic Sequence Training for Image Capti...              Li Zhang   \n",
       "\n",
       "                                            abstract  \\\n",
       "0    We introduce a hybrid CPU/GPU version of the...   \n",
       "1    With the adoption of autonomous vehicles on ...   \n",
       "2    Asynchronous and parallel implementation of ...   \n",
       "3    Regret minimization has played a key role in...   \n",
       "4    Generating natural language descriptions of ...   \n",
       "\n",
       "                                         clase_pri  \\\n",
       "0                         Machine Learning (cs.LG)   \n",
       "1                                 Robotics (cs.RO)   \n",
       "2                         Machine Learning (cs.LG)   \n",
       "3                  Artificial Intelligence (cs.AI)   \n",
       "4  Computer Vision and Pattern Recognition (cs.CV)   \n",
       "\n",
       "                              clase_otr  id  \n",
       "0                                   NaN   0  \n",
       "1                                   NaN   1  \n",
       "2  ; Optimization and Control (math.OC)   2  \n",
       "3            ; Machine Learning (cs.LG)   3  \n",
       "4                                   NaN   4  "
      ]
     },
     "execution_count": 9,
     "metadata": {},
     "output_type": "execute_result"
    }
   ],
   "source": [
    "df.head()"
   ]
  },
  {
   "cell_type": "code",
   "execution_count": 9,
   "metadata": {},
   "outputs": [],
   "source": [
    "categories = pd.DataFrame(df[['categorias']])\n",
    "categories.rename(columns={'categorias':'categoria'},\n",
    "                  inplace=True)\n",
    "categories = categories.explode('categoria') \\\n",
    "                       .drop_duplicates(subset=['categoria'])\n",
    "\n",
    "# authors = pd.DataFrame(df[['autores']])\n",
    "# authors.rename(columns={'autores':'author'},\n",
    "#                inplace=True)\n",
    "# authors=authors.explode('author').drop_duplicates(subset=['author'])"
   ]
  },
  {
   "cell_type": "code",
   "execution_count": 10,
   "metadata": {},
   "outputs": [
    {
     "ename": "TypeError",
     "evalue": "query() got an unexpected keyword argument 'parameters'",
     "output_type": "error",
     "traceback": [
      "\u001b[1;31m---------------------------------------------------------------------------\u001b[0m",
      "\u001b[1;31mTypeError\u001b[0m                                 Traceback (most recent call last)",
      "\u001b[1;32m<ipython-input-10-640632e2b8ac>\u001b[0m in \u001b[0;36m<module>\u001b[1;34m\u001b[0m\n\u001b[1;32m----> 1\u001b[1;33m \u001b[0madd_categories\u001b[0m\u001b[1;33m(\u001b[0m\u001b[0mcategories\u001b[0m\u001b[1;33m)\u001b[0m\u001b[1;33m\u001b[0m\u001b[1;33m\u001b[0m\u001b[0m\n\u001b[0m",
      "\u001b[1;32m<ipython-input-6-be57801aadf7>\u001b[0m in \u001b[0;36madd_categories\u001b[1;34m(categories)\u001b[0m\n\u001b[0;32m      7\u001b[0m             '''\n\u001b[0;32m      8\u001b[0m \u001b[1;33m\u001b[0m\u001b[0m\n\u001b[1;32m----> 9\u001b[1;33m     \u001b[1;32mreturn\u001b[0m \u001b[0mconn\u001b[0m\u001b[1;33m.\u001b[0m\u001b[0mquery\u001b[0m\u001b[1;33m(\u001b[0m\u001b[0mquery\u001b[0m\u001b[1;33m,\u001b[0m \u001b[0mparameters\u001b[0m \u001b[1;33m=\u001b[0m \u001b[1;33m{\u001b[0m\u001b[1;34m'rows'\u001b[0m\u001b[1;33m:\u001b[0m\u001b[0mcategories\u001b[0m\u001b[1;33m.\u001b[0m\u001b[0mto_dict\u001b[0m\u001b[1;33m(\u001b[0m\u001b[1;34m'records'\u001b[0m\u001b[1;33m)\u001b[0m\u001b[1;33m}\u001b[0m\u001b[1;33m)\u001b[0m\u001b[1;33m\u001b[0m\u001b[1;33m\u001b[0m\u001b[0m\n\u001b[0m\u001b[0;32m     10\u001b[0m     \u001b[1;31m#return conn.query(query, parameters = {'rows':categories.to_dict('records')})\u001b[0m\u001b[1;33m\u001b[0m\u001b[1;33m\u001b[0m\u001b[1;33m\u001b[0m\u001b[0m\n",
      "\u001b[1;31mTypeError\u001b[0m: query() got an unexpected keyword argument 'parameters'"
     ]
    }
   ],
   "source": [
    "add_categories(categories)"
   ]
  },
  {
   "cell_type": "code",
   "execution_count": 11,
   "metadata": {},
   "outputs": [
    {
     "ename": "TypeError",
     "evalue": "query() got an unexpected keyword argument 'parameters'",
     "output_type": "error",
     "traceback": [
      "\u001b[1;31m---------------------------------------------------------------------------\u001b[0m",
      "\u001b[1;31mTypeError\u001b[0m                                 Traceback (most recent call last)",
      "\u001b[1;32m<ipython-input-11-e15ce7f5e14d>\u001b[0m in \u001b[0;36m<module>\u001b[1;34m\u001b[0m\n\u001b[1;32m----> 1\u001b[1;33m \u001b[0madd_authors\u001b[0m\u001b[1;33m(\u001b[0m\u001b[0mauthors\u001b[0m\u001b[1;33m)\u001b[0m\u001b[1;33m\u001b[0m\u001b[1;33m\u001b[0m\u001b[0m\n\u001b[0m",
      "\u001b[1;32m<ipython-input-6-672b2a1889a0>\u001b[0m in \u001b[0;36madd_authors\u001b[1;34m(rows, batch_size)\u001b[0m\n\u001b[0;32m     17\u001b[0m             \u001b[0mRETURN\u001b[0m \u001b[0mcount\u001b[0m\u001b[1;33m(\u001b[0m\u001b[1;33m*\u001b[0m\u001b[1;33m)\u001b[0m \u001b[1;32mas\u001b[0m \u001b[0mtotal\u001b[0m\u001b[1;33m\u001b[0m\u001b[1;33m\u001b[0m\u001b[0m\n\u001b[0;32m     18\u001b[0m             '''\n\u001b[1;32m---> 19\u001b[1;33m     \u001b[1;32mreturn\u001b[0m \u001b[0minsert_data\u001b[0m\u001b[1;33m(\u001b[0m\u001b[0mquery\u001b[0m\u001b[1;33m,\u001b[0m \u001b[0mrows\u001b[0m\u001b[1;33m,\u001b[0m \u001b[0mbatch_size\u001b[0m\u001b[1;33m)\u001b[0m\u001b[1;33m\u001b[0m\u001b[1;33m\u001b[0m\u001b[0m\n\u001b[0m\u001b[0;32m     20\u001b[0m \u001b[1;33m\u001b[0m\u001b[0m\n\u001b[0;32m     21\u001b[0m \u001b[1;33m\u001b[0m\u001b[0m\n",
      "\u001b[1;32m<ipython-input-6-672b2a1889a0>\u001b[0m in \u001b[0;36minsert_data\u001b[1;34m(query, rows, batch_size)\u001b[0m\n\u001b[0;32m     30\u001b[0m     \u001b[1;32mwhile\u001b[0m \u001b[0mbatch\u001b[0m \u001b[1;33m*\u001b[0m \u001b[0mbatch_size\u001b[0m \u001b[1;33m<\u001b[0m \u001b[0mlen\u001b[0m\u001b[1;33m(\u001b[0m\u001b[0mrows\u001b[0m\u001b[1;33m)\u001b[0m\u001b[1;33m:\u001b[0m\u001b[1;33m\u001b[0m\u001b[1;33m\u001b[0m\u001b[0m\n\u001b[0;32m     31\u001b[0m \u001b[1;33m\u001b[0m\u001b[0m\n\u001b[1;32m---> 32\u001b[1;33m         res = conn.query(query, \n\u001b[0m\u001b[0;32m     33\u001b[0m                          parameters = {'rows': rows[batch*batch_size:(batch+1)*batch_size].to_dict('records')})\n\u001b[0;32m     34\u001b[0m         \u001b[0mtotal\u001b[0m \u001b[1;33m+=\u001b[0m \u001b[0mres\u001b[0m\u001b[1;33m[\u001b[0m\u001b[1;36m0\u001b[0m\u001b[1;33m]\u001b[0m\u001b[1;33m[\u001b[0m\u001b[1;34m'total'\u001b[0m\u001b[1;33m]\u001b[0m\u001b[1;33m\u001b[0m\u001b[1;33m\u001b[0m\u001b[0m\n",
      "\u001b[1;31mTypeError\u001b[0m: query() got an unexpected keyword argument 'parameters'"
     ]
    }
   ],
   "source": [
    "# add_authors(authors)"
   ]
  },
  {
   "cell_type": "code",
   "execution_count": 11,
   "metadata": {},
   "outputs": [
    {
     "ename": "TypeError",
     "evalue": "query() got an unexpected keyword argument 'parameters'",
     "output_type": "error",
     "traceback": [
      "\u001b[1;31m---------------------------------------------------------------------------\u001b[0m",
      "\u001b[1;31mTypeError\u001b[0m                                 Traceback (most recent call last)",
      "\u001b[1;32m<ipython-input-11-ae6531b1ac76>\u001b[0m in \u001b[0;36m<module>\u001b[1;34m\u001b[0m\n\u001b[1;32m----> 1\u001b[1;33m \u001b[0madd_papers\u001b[0m\u001b[1;33m(\u001b[0m\u001b[0mdf\u001b[0m\u001b[1;33m)\u001b[0m\u001b[1;33m\u001b[0m\u001b[1;33m\u001b[0m\u001b[0m\n\u001b[0m",
      "\u001b[1;32m<ipython-input-8-ddfecd8338c6>\u001b[0m in \u001b[0;36madd_papers\u001b[1;34m(rows, batch_size)\u001b[0m\n\u001b[0;32m     16\u001b[0m    '''\n\u001b[0;32m     17\u001b[0m \u001b[1;33m\u001b[0m\u001b[0m\n\u001b[1;32m---> 18\u001b[1;33m    \u001b[1;32mreturn\u001b[0m \u001b[0minsert_data\u001b[0m\u001b[1;33m(\u001b[0m\u001b[0mquery\u001b[0m\u001b[1;33m,\u001b[0m \u001b[0mrows\u001b[0m\u001b[1;33m,\u001b[0m \u001b[0mbatch_size\u001b[0m\u001b[1;33m)\u001b[0m\u001b[1;33m\u001b[0m\u001b[1;33m\u001b[0m\u001b[0m\n\u001b[0m",
      "\u001b[1;32m<ipython-input-7-13623b9042c9>\u001b[0m in \u001b[0;36minsert_data\u001b[1;34m(query, rows, batch_size)\u001b[0m\n\u001b[0;32m     10\u001b[0m     \u001b[1;32mwhile\u001b[0m \u001b[0mbatch\u001b[0m \u001b[1;33m*\u001b[0m \u001b[0mbatch_size\u001b[0m \u001b[1;33m<\u001b[0m \u001b[0mlen\u001b[0m\u001b[1;33m(\u001b[0m\u001b[0mrows\u001b[0m\u001b[1;33m)\u001b[0m\u001b[1;33m:\u001b[0m\u001b[1;33m\u001b[0m\u001b[1;33m\u001b[0m\u001b[0m\n\u001b[0;32m     11\u001b[0m \u001b[1;33m\u001b[0m\u001b[0m\n\u001b[1;32m---> 12\u001b[1;33m         res = conn.query(query, \n\u001b[0m\u001b[0;32m     13\u001b[0m                          parameters = {'rows': rows[batch*batch_size:(batch+1)*batch_size].to_dict('records')})\n\u001b[0;32m     14\u001b[0m         \u001b[0mtotal\u001b[0m \u001b[1;33m+=\u001b[0m \u001b[0mres\u001b[0m\u001b[1;33m[\u001b[0m\u001b[1;36m0\u001b[0m\u001b[1;33m]\u001b[0m\u001b[1;33m[\u001b[0m\u001b[1;34m'total'\u001b[0m\u001b[1;33m]\u001b[0m\u001b[1;33m\u001b[0m\u001b[1;33m\u001b[0m\u001b[0m\n",
      "\u001b[1;31mTypeError\u001b[0m: query() got an unexpected keyword argument 'parameters'"
     ]
    }
   ],
   "source": [
    "add_papers(df)"
   ]
  }
 ],
 "metadata": {
  "kernelspec": {
   "display_name": "Python 3.8.3 ('base': conda)",
   "language": "python",
   "name": "python3"
  },
  "language_info": {
   "codemirror_mode": {
    "name": "ipython",
    "version": 3
   },
   "file_extension": ".py",
   "mimetype": "text/x-python",
   "name": "python",
   "nbconvert_exporter": "python",
   "pygments_lexer": "ipython3",
   "version": "3.8.3 (default, Jul  2 2020, 17:30:36) [MSC v.1916 64 bit (AMD64)]"
  },
  "orig_nbformat": 4,
  "vscode": {
   "interpreter": {
    "hash": "506d569f0b28ea103188d4d9f745b7b2b85d3e31dafde01bdf7899299ac0033b"
   }
  }
 },
 "nbformat": 4,
 "nbformat_minor": 2
}
