{
 "cells": [
  {
   "cell_type": "code",
   "execution_count": null,
   "id": "d432a346",
   "metadata": {},
   "outputs": [],
   "source": [
    "#### requiere:\n",
    "\n",
    "## pip install pysocks\n",
    "##  pip install requests[socks]\n",
    "import requests\n",
    "from stem import Signal\n",
    "from stem.control import Controller\n",
    "import socks, socket\n",
    "import time\n",
    "def changeIp(controller):\n",
    "    controller.signal(Signal.NEWNYM)\n",
    "    time.sleep(controller.get_newnym_wait())\n",
    "def get_tor_session():\n",
    "    session = requests.session()\n",
    "    # Tor uses the 9050 port as the default socks port\n",
    "    session.proxies = {'http':  'socks5://127.0.0.1:9050',\n",
    "                       'https': 'socks5://127.0.0.1:9050'}\n",
    "    return session\n",
    "\n",
    "\n",
    "def main():\n",
    "    # Make a request through the Tor connection\n",
    "    # IP visible through Tor\n",
    "    session = get_tor_session()\n",
    "    print(\"prueba tor 1: \",session.get(\"http://httpbin.org/ip\").text)\n",
    "    # Above sh\n",
    "    # Following prints your normal public IP\n",
    "    print(\"prueba tor my ip: \",requests.get(\"http://httpbin.org/ip\").text)\n",
    "    \n",
    "    with Controller.from_port(port=9051) as controller:\n",
    "        socks.setdefaultproxy(proxy_type=socks.PROXY_TYPE_SOCKS5, addr=\"127.0.0.1\", port=9050)\n",
    "        socket.socket = socks.socksocket\n",
    "        controller.authenticate()\n",
    "        print(\"prueba tor 4: \",requests.get(\"http://httpbin.org/ip\").text)\n",
    "        changeIp(controller)\n",
    "        print(\"prueba tor 3: \",requests.get(\"http://httpbin.org/ip\").text)\n",
    "    \n",
    "if __name__ == \"__main__\":\n",
    "    main()"
   ]
  },
  {
   "cell_type": "code",
   "execution_count": 2,
   "id": "42150054",
   "metadata": {},
   "outputs": [
    {
     "name": "stdout",
     "output_type": "stream",
     "text": [
      "prueba tor my ip:  {\n",
      "  \"origin\": \"80.174.53.31\"\n",
      "}\n",
      "\n"
     ]
    }
   ],
   "source": [
    "#print(\"prueba tor my ip: \",requests.get(\"http://httpbin.org/ip\").text)"
   ]
  },
  {
   "cell_type": "code",
   "execution_count": null,
   "id": "96880274",
   "metadata": {},
   "outputs": [],
   "source": []
  }
 ],
 "metadata": {
  "kernelspec": {
   "display_name": "Python 3 (ipykernel)",
   "language": "python",
   "name": "python3"
  },
  "language_info": {
   "codemirror_mode": {
    "name": "ipython",
    "version": 3
   },
   "file_extension": ".py",
   "mimetype": "text/x-python",
   "name": "python",
   "nbconvert_exporter": "python",
   "pygments_lexer": "ipython3",
   "version": "3.9.15"
  }
 },
 "nbformat": 4,
 "nbformat_minor": 5
}
