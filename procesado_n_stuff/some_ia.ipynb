{
 "cells": [
  {
   "cell_type": "code",
   "execution_count": 1,
   "id": "0bf38fad",
   "metadata": {},
   "outputs": [],
   "source": [
    "#!pip uninstall protobuf \n",
    "\n",
    "#!pip install protobuf==3.19.4\n",
    "#! pip install tensorflow --upgrade --user\n"
   ]
  },
  {
   "cell_type": "code",
   "execution_count": 2,
   "id": "fb319110",
   "metadata": {},
   "outputs": [],
   "source": [
    "from tensorflow.keras import layers\n",
    "from tensorflow import keras\n",
    "import tensorflow as tf\n",
    "\n",
    "from sklearn.model_selection import train_test_split\n",
    "from ast import literal_eval\n",
    "\n",
    "import matplotlib.pyplot as plt\n",
    "import pandas as pd\n",
    "import numpy as np"
   ]
  },
  {
   "cell_type": "code",
   "execution_count": 3,
   "id": "d004683d",
   "metadata": {},
   "outputs": [],
   "source": [
    "data = pd.read_csv('total.csv')"
   ]
  },
  {
   "cell_type": "code",
   "execution_count": 4,
   "id": "0670cb4a",
   "metadata": {},
   "outputs": [],
   "source": [
    "data = data.drop(columns=['clase_pri', 'clase_otr','clases'])"
   ]
  },
  {
   "cell_type": "code",
   "execution_count": 5,
   "id": "330e9b3e",
   "metadata": {},
   "outputs": [
    {
     "data": {
      "text/html": [
       "<div>\n",
       "<style scoped>\n",
       "    .dataframe tbody tr th:only-of-type {\n",
       "        vertical-align: middle;\n",
       "    }\n",
       "\n",
       "    .dataframe tbody tr th {\n",
       "        vertical-align: top;\n",
       "    }\n",
       "\n",
       "    .dataframe thead th {\n",
       "        text-align: right;\n",
       "    }\n",
       "</style>\n",
       "<table border=\"1\" class=\"dataframe\">\n",
       "  <thead>\n",
       "    <tr style=\"text-align: right;\">\n",
       "      <th></th>\n",
       "      <th>titulo</th>\n",
       "      <th>abstract</th>\n",
       "      <th>categorias</th>\n",
       "    </tr>\n",
       "  </thead>\n",
       "  <tbody>\n",
       "    <tr>\n",
       "      <th>0</th>\n",
       "      <td>An Actor-Critic Algorithm for Sequence Prediction</td>\n",
       "      <td>We present an approach to training neural ne...</td>\n",
       "      <td>['cs.LG']</td>\n",
       "    </tr>\n",
       "    <tr>\n",
       "      <th>1</th>\n",
       "      <td>Playing Flappy Bird via Asynchronous Advantage...</td>\n",
       "      <td>Flappy Bird, which has a very high popularit...</td>\n",
       "      <td>['cs.LG', 'cs.NE']</td>\n",
       "    </tr>\n",
       "    <tr>\n",
       "      <th>2</th>\n",
       "      <td>Distributional Advantage Actor-Critic</td>\n",
       "      <td>In traditional reinforcement learning, an ag...</td>\n",
       "      <td>['cs.LG', 'cs.AI', 'stat.ML']</td>\n",
       "    </tr>\n",
       "    <tr>\n",
       "      <th>3</th>\n",
       "      <td>Off-Policy Actor-Critic</td>\n",
       "      <td>This paper presents the first actor-critic a...</td>\n",
       "      <td>['cs.LG']</td>\n",
       "    </tr>\n",
       "    <tr>\n",
       "      <th>4</th>\n",
       "      <td>Asymmetric Actor Critic for Image-Based Robot ...</td>\n",
       "      <td>Deep reinforcement learning (RL) has proven ...</td>\n",
       "      <td>['cs.RO', 'cs.AI', 'cs.LG']</td>\n",
       "    </tr>\n",
       "    <tr>\n",
       "      <th>...</th>\n",
       "      <td>...</td>\n",
       "      <td>...</td>\n",
       "      <td>...</td>\n",
       "    </tr>\n",
       "    <tr>\n",
       "      <th>36859</th>\n",
       "      <td>A Ray-based Approach for Boundary Estimation o...</td>\n",
       "      <td>Diffusion Tensor Imaging (DTI) is a non-invasi...</td>\n",
       "      <td>['cs.CV']</td>\n",
       "    </tr>\n",
       "    <tr>\n",
       "      <th>36860</th>\n",
       "      <td>Statistical Denoising for single molecule fluo...</td>\n",
       "      <td>Single molecule fluorescence microscopy is a p...</td>\n",
       "      <td>['cs.CV']</td>\n",
       "    </tr>\n",
       "    <tr>\n",
       "      <th>36861</th>\n",
       "      <td>Blinking Molecule Tracking</td>\n",
       "      <td>We discuss a method for tracking individual mo...</td>\n",
       "      <td>['cs.CV', 'cs.DM']</td>\n",
       "    </tr>\n",
       "    <tr>\n",
       "      <th>36862</th>\n",
       "      <td>Towards a Mathematical Foundation of Immunolog...</td>\n",
       "      <td>We attempt to set a mathematical foundation of...</td>\n",
       "      <td>['stat.ML', 'cs.LG', 'q-bio.GN']</td>\n",
       "    </tr>\n",
       "    <tr>\n",
       "      <th>36863</th>\n",
       "      <td>A Semi-Automatic Graph-Based Approach for Dete...</td>\n",
       "      <td>Diffusion Tensor Imaging (DTI) allows estimati...</td>\n",
       "      <td>['cs.CV']</td>\n",
       "    </tr>\n",
       "  </tbody>\n",
       "</table>\n",
       "<p>36864 rows × 3 columns</p>\n",
       "</div>"
      ],
      "text/plain": [
       "                                                  titulo  \\\n",
       "0      An Actor-Critic Algorithm for Sequence Prediction   \n",
       "1      Playing Flappy Bird via Asynchronous Advantage...   \n",
       "2                  Distributional Advantage Actor-Critic   \n",
       "3                                Off-Policy Actor-Critic   \n",
       "4      Asymmetric Actor Critic for Image-Based Robot ...   \n",
       "...                                                  ...   \n",
       "36859  A Ray-based Approach for Boundary Estimation o...   \n",
       "36860  Statistical Denoising for single molecule fluo...   \n",
       "36861                         Blinking Molecule Tracking   \n",
       "36862  Towards a Mathematical Foundation of Immunolog...   \n",
       "36863  A Semi-Automatic Graph-Based Approach for Dete...   \n",
       "\n",
       "                                                abstract  \\\n",
       "0        We present an approach to training neural ne...   \n",
       "1        Flappy Bird, which has a very high popularit...   \n",
       "2        In traditional reinforcement learning, an ag...   \n",
       "3        This paper presents the first actor-critic a...   \n",
       "4        Deep reinforcement learning (RL) has proven ...   \n",
       "...                                                  ...   \n",
       "36859  Diffusion Tensor Imaging (DTI) is a non-invasi...   \n",
       "36860  Single molecule fluorescence microscopy is a p...   \n",
       "36861  We discuss a method for tracking individual mo...   \n",
       "36862  We attempt to set a mathematical foundation of...   \n",
       "36863  Diffusion Tensor Imaging (DTI) allows estimati...   \n",
       "\n",
       "                             categorias  \n",
       "0                             ['cs.LG']  \n",
       "1                    ['cs.LG', 'cs.NE']  \n",
       "2         ['cs.LG', 'cs.AI', 'stat.ML']  \n",
       "3                             ['cs.LG']  \n",
       "4           ['cs.RO', 'cs.AI', 'cs.LG']  \n",
       "...                                 ...  \n",
       "36859                         ['cs.CV']  \n",
       "36860                         ['cs.CV']  \n",
       "36861                ['cs.CV', 'cs.DM']  \n",
       "36862  ['stat.ML', 'cs.LG', 'q-bio.GN']  \n",
       "36863                         ['cs.CV']  \n",
       "\n",
       "[36864 rows x 3 columns]"
      ]
     },
     "execution_count": 5,
     "metadata": {},
     "output_type": "execute_result"
    }
   ],
   "source": [
    "data"
   ]
  },
  {
   "cell_type": "code",
   "execution_count": 6,
   "id": "fced2d81",
   "metadata": {},
   "outputs": [
    {
     "data": {
      "text/plain": [
       "array([list(['cs.LG']), list(['cs.LG', 'cs.NE']),\n",
       "       list(['cs.LG', 'cs.AI', 'stat.ML']), list(['cs.LG']),\n",
       "       list(['cs.RO', 'cs.AI', 'cs.LG'])], dtype=object)"
      ]
     },
     "execution_count": 6,
     "metadata": {},
     "output_type": "execute_result"
    }
   ],
   "source": [
    "data[\"categorias\"] = data[\"categorias\"].apply(\n",
    "    lambda x: literal_eval(x)\n",
    ")\n",
    "data[\"categorias\"].values[:5]"
   ]
  },
  {
   "cell_type": "code",
   "execution_count": 7,
   "id": "7c8e8cf3",
   "metadata": {},
   "outputs": [],
   "source": [
    "test_split = 0.1\n",
    "\n",
    "# Initial train and test split.\n",
    "train_df, test_df = train_test_split(\n",
    "    data,\n",
    "    test_size=test_split,\n",
    "    stratify=data[\"categorias\"].values,\n",
    ")\n",
    "# Splitting the test set further into validation\n",
    "# and new test sets.\n",
    "val_df = test_df.sample(frac=0.5)\n",
    "test_df.drop(val_df.index, inplace=True)"
   ]
  },
  {
   "cell_type": "code",
   "execution_count": 8,
   "id": "1af927fd",
   "metadata": {},
   "outputs": [
    {
     "name": "stdout",
     "output_type": "stream",
     "text": [
      "Vocabulary:\n",
      "\n",
      "['[UNK]', 'cs.CV', 'cs.LG', 'stat.ML', 'cs.AI', 'eess.IV', 'cs.RO', 'cs.CL', 'cs.NE', 'cs.CR', 'math.OC', 'eess.SP', 'cs.GR', 'cs.SI', 'cs.MM', 'cs.SY', 'cs.IR', 'cs.MA', 'eess.SY', 'cs.HC', 'cs.CY', 'math.IT', 'cs.IT', 'cs.DC', 'stat.AP', 'stat.TH', 'math.ST', 'stat.ME', 'eess.AS', 'cs.SD', 'q-bio.QM', 'q-bio.NC', 'cs.DS', 'cs.NI', 'cs.GT', 'cs.SE', 'cs.CG', 'I.2.6', 'stat.CO', 'math.NA', 'cs.NA', 'cs.DB', 'physics.chem-ph', 'quant-ph', 'q-bio.BM', 'cs.PL', 'cs.LO', 'cond-mat.dis-nn', '68T45', 'math.PR', 'physics.comp-ph', 'cs.AR', 'cs.CE', 'I.2.10', 'q-fin.ST', 'cond-mat.stat-mech', 'math.DS', 'cs.CC', '68T05', 'physics.data-an', 'I.4.6', 'physics.soc-ph', 'astro-ph.IM', 'physics.ao-ph', 'econ.EM', 'cs.DM', 'q-bio.GN', 'physics.med-ph', 'math.AT', 'cs.PF', 'I.4.8', 'cond-mat.str-el', 'cond-mat.mes-hall', 'I.4', 'q-fin.TR', 'cs.FL', 'cond-mat.mtrl-sci', 'I.5.4', 'I.2', '68U10', 'physics.geo-ph', 'hep-ex', '68T10', 'q-fin.GN', 'physics.optics', 'physics.flu-dyn', 'math.AP', 'cs.MS', 'I.4; I.5', 'I.4.9', 'I.2.6; I.2.8', 'I.2.10; I.4; I.5', '68T01', '65D19', 'q-fin.CP', 'nlin.CD', 'math.CO', 'cond-mat.supr-con', 'I.2.6; I.5.1', 'I.2.0; I.2.6', '68T07', 'cs.SC', 'cs.ET', 'K.3.2', 'I.2.8', '68U01', '68T30', '68', 'q-fin.EC', 'q-bio.MN', 'econ.GN', 'I.4.9; I.5.4', 'I.4.5', 'I.2; I.5', 'I.2; I.4; I.5', 'I.2.6; I.2.7', 'I.2.10; I.4.8', '68T99', '68Q32', '62H30', 'q-fin.RM', 'q-fin.PM', 'q-bio.TO', 'q-bio.OT', 'physics.ins-det', 'physics.bio-ph', 'nucl-th', 'nlin.AO', 'math.SP', 'math.LO', 'math.FA', 'math-ph', 'hep-ph', 'cond-mat.soft', 'astro-ph.HE', 'I.4.6; I.4.8', 'I.4.4', 'I.4.3', 'I.4.0', 'I.2; J.2', 'I.2; I.2.6; I.2.7', 'I.2.7', 'I.2.6; I.5.4', 'I.2.6; I.2.9', 'I.2.6; I.2.7; H.3.1; H.3.3', 'I.2.6; I.2.10', 'I.2.6, I.5.4', 'I.2.1; J.3', 'I.2.10; I.5.1; I.4.8', 'I.2.10; I.4.8; I.5.4', 'I.2.10; I.2.6', 'I.2.1', 'H.3.1; I.2.6; I.2.7', 'H.3.1; H.3.3; I.2.6; I.2.7', 'G.3', 'F.2.2; I.2.7', 'E.5; E.4; E.2; H.1.1; F.1.1; F.1.3', '68Txx', '62H99', '62H35', '14J60 (Primary) 14F05, 14J26 (Secondary)']\n"
     ]
    }
   ],
   "source": [
    "terms = tf.ragged.constant(train_df[\"categorias\"].values)\n",
    "lookup = tf.keras.layers.StringLookup(output_mode=\"multi_hot\")\n",
    "lookup.adapt(terms)\n",
    "vocab = lookup.get_vocabulary()\n",
    "\n",
    "\n",
    "def invert_multi_hot(encoded_labels):\n",
    "    \"\"\"Reverse a single multi-hot encoded label to a tuple of vocab terms.\"\"\"\n",
    "    hot_indices = np.argwhere(encoded_labels == 1.0)[..., 0]\n",
    "    return np.take(vocab, hot_indices)\n",
    "\n",
    "\n",
    "print(\"Vocabulary:\\n\")\n",
    "print(vocab)"
   ]
  },
  {
   "cell_type": "code",
   "execution_count": 9,
   "id": "85b32d5f",
   "metadata": {},
   "outputs": [
    {
     "name": "stdout",
     "output_type": "stream",
     "text": [
      "Original label: ['cs.CV']\n",
      "Label-binarized representation: [[0. 1. 0. 0. 0. 0. 0. 0. 0. 0. 0. 0. 0. 0. 0. 0. 0. 0. 0. 0. 0. 0. 0. 0.\n",
      "  0. 0. 0. 0. 0. 0. 0. 0. 0. 0. 0. 0. 0. 0. 0. 0. 0. 0. 0. 0. 0. 0. 0. 0.\n",
      "  0. 0. 0. 0. 0. 0. 0. 0. 0. 0. 0. 0. 0. 0. 0. 0. 0. 0. 0. 0. 0. 0. 0. 0.\n",
      "  0. 0. 0. 0. 0. 0. 0. 0. 0. 0. 0. 0. 0. 0. 0. 0. 0. 0. 0. 0. 0. 0. 0. 0.\n",
      "  0. 0. 0. 0. 0. 0. 0. 0. 0. 0. 0. 0. 0. 0. 0. 0. 0. 0. 0. 0. 0. 0. 0. 0.\n",
      "  0. 0. 0. 0. 0. 0. 0. 0. 0. 0. 0. 0. 0. 0. 0. 0. 0. 0. 0. 0. 0. 0. 0. 0.\n",
      "  0. 0. 0. 0. 0. 0. 0. 0. 0. 0. 0. 0. 0. 0. 0. 0. 0.]]\n"
     ]
    }
   ],
   "source": [
    "sample_label = train_df[\"categorias\"].iloc[0]\n",
    "print(f\"Original label: {sample_label}\")\n",
    "\n",
    "label_binarized = lookup([sample_label])\n",
    "print(f\"Label-binarized representation: {label_binarized}\")"
   ]
  },
  {
   "cell_type": "code",
   "execution_count": 10,
   "id": "36df5615",
   "metadata": {},
   "outputs": [
    {
     "data": {
      "text/plain": [
       "count    33177.000000\n",
       "mean       156.435452\n",
       "std         41.631554\n",
       "min          5.000000\n",
       "25%        128.000000\n",
       "50%        154.000000\n",
       "75%        183.000000\n",
       "max        462.000000\n",
       "Name: abstract, dtype: float64"
      ]
     },
     "execution_count": 10,
     "metadata": {},
     "output_type": "execute_result"
    }
   ],
   "source": [
    "train_df[\"abstract\"].apply(lambda x: len(x.split(\" \"))).describe()"
   ]
  },
  {
   "cell_type": "code",
   "execution_count": 11,
   "id": "516e752a",
   "metadata": {},
   "outputs": [],
   "source": [
    "max_seqlen = 155\n",
    "batch_size = 128\n",
    "padding_token = \"<pad>\"\n",
    "auto = tf.data.AUTOTUNE\n",
    "\n",
    "\n",
    "def make_dataset(dataframe, is_train=True):\n",
    "    labels = tf.ragged.constant(dataframe[\"categorias\"].values)\n",
    "    label_binarized = lookup(labels).numpy()\n",
    "    dataset = tf.data.Dataset.from_tensor_slices(\n",
    "        (dataframe[\"abstract\"].values, label_binarized)\n",
    "    )\n",
    "    dataset = dataset.shuffle(batch_size * 10) if is_train else dataset\n",
    "    return dataset.batch(batch_size)"
   ]
  },
  {
   "cell_type": "code",
   "execution_count": 12,
   "id": "d542146f",
   "metadata": {},
   "outputs": [],
   "source": [
    "train_dataset = make_dataset(train_df, is_train=True)\n",
    "validation_dataset = make_dataset(val_df, is_train=False)\n",
    "test_dataset = make_dataset(test_df, is_train=False)"
   ]
  },
  {
   "cell_type": "code",
   "execution_count": 13,
   "id": "c6b6bf3a",
   "metadata": {},
   "outputs": [
    {
     "name": "stdout",
     "output_type": "stream",
     "text": [
      "Abstract: b'We present a learning-based method for 6 DoF pose estimation of rigid objects\\nin point cloud data. Many recent learning-based approaches use primarily RGB\\ninformation for detecting objects, in some cases with an added refinement step\\nusing depth data. Our method consumes unordered point sets with/without RGB\\ninformation, from initial detection to the final transformation estimation\\nstage. This allows us to achieve accurate pose estimates, in some cases\\nsurpassing state of the art methods trained on the same data.'\n",
      "Label(s): ['cs.CV']\n",
      " \n",
      "Abstract: b'Predictive business process monitoring focuses on predicting future\\ncharacteristics of a running process using event logs. The foresight into\\nprocess execution promises great potentials for efficient operations, better\\nresource management, and effective customer services. Deep learning-based\\napproaches have been widely adopted in process mining to address the\\nlimitations of classical algorithms for solving multiple problems, especially\\nthe next event and remaining-time prediction tasks. Nevertheless, designing a\\ndeep neural architecture that performs competitively across various tasks is\\nchallenging as existing methods fail to capture long-range dependencies in the\\ninput sequences and perform poorly for lengthy process traces. In this paper,\\nwe propose ProcessTransformer, an approach for learning high-level\\nrepresentations from event logs with an attention-based network. Our model\\nincorporates long-range memory and relies on a self-attention mechanism to\\nestablish dependencies between a multitude of event sequences and corresponding\\noutputs. We evaluate the applicability of our technique on nine real event\\nlogs. We demonstrate that the transformer-based model outperforms several\\nbaselines of prior techniques by obtaining on average above 80% accuracy for\\nthe task of predicting the next activity. Our method also perform\\ncompetitively, compared to baselines, for the tasks of predicting event time\\nand remaining time of a running case'\n",
      "Label(s): ['cs.LG' 'cs.AI']\n",
      " \n",
      "Abstract: b'QTRAN is a multi-agent reinforcement learning (MARL) algorithm capable of\\nlearning the largest class of joint-action value functions up to date. However,\\ndespite its strong theoretical guarantee, it has shown poor empirical\\nperformance in complex environments, such as Starcraft Multi-Agent Challenge\\n(SMAC). In this paper, we identify the performance bottleneck of QTRAN and\\npropose a substantially improved version, coined QTRAN++. Our gains come from\\n(i) stabilizing the training objective of QTRAN, (ii) removing the strict role\\nseparation between the action-value estimators of QTRAN, and (iii) introducing\\na multi-head mixing network for value transformation. Through extensive\\nevaluation, we confirm that our diagnosis is correct, and QTRAN++ successfully\\nbridges the gap between empirical performance and theoretical guarantee. In\\nparticular, QTRAN++ newly achieves state-of-the-art performance in the SMAC\\nenvironment. The code will be released.'\n",
      "Label(s): ['cs.LG' 'stat.ML']\n",
      " \n",
      "Abstract: b'Temporal segmentation of long videos is an important problem, that has\\nlargely been tackled through supervised learning, often requiring large amounts\\nof annotated training data. In this paper, we tackle the problem of\\nself-supervised temporal segmentation of long videos that alleviate the need\\nfor any supervision. We introduce a self-supervised, predictive learning\\nframework that draws inspiration from cognitive psychology to segment long,\\nvisually complex videos into individual, stable segments that share the same\\nsemantics. We also introduce a new adaptive learning paradigm that helps reduce\\nthe effect of catastrophic forgetting in recurrent neural networks. Extensive\\nexperiments on three publicly available datasets - Breakfast Actions, 50\\nSalads, and INRIA Instructional Videos datasets show the efficacy of the\\nproposed approach. We show that the proposed approach is able to outperform\\nweakly-supervised and other unsupervised learning approaches by up to 24% and\\nhave competitive performance compared to fully supervised approaches. We also\\nshow that the proposed approach is able to learn highly discriminative features\\nthat help improve action recognition when used in a representation learning\\nparadigm.'\n",
      "Label(s): ['cs.CV']\n",
      " \n",
      "Abstract: b'This paper addresses the mid-term electricity load forecasting problem.\\nSolving this problem is necessary for power system operation and planning as\\nwell as for negotiating forward contracts in deregulated energy markets. We\\nshow that our proposed deep neural network modeling approach based on the deep\\nneural architecture is effective at solving the mid-term electricity load\\nforecasting problem. Proposed neural network has high expressive power to solve\\nnon-linear stochastic forecasting problems with time series including trends,\\nseasonality and significant random fluctuations. At the same time, it is simple\\nto implement and train, it does not require signal preprocessing, and it is\\nequipped with a forecast bias reduction mechanism. We compare our approach\\nagainst ten baseline methods, including classical statistical methods, machine\\nlearning and hybrid approaches, on 35 monthly electricity demand time series\\nfor European countries. The empirical study shows that proposed neural network\\nclearly outperforms all competitors in terms of both accuracy and forecast\\nbias. Code is available here: https://github.com/boreshkinai/nbeats-midterm.'\n",
      "Label(s): ['cs.LG' 'eess.SP']\n",
      " \n"
     ]
    }
   ],
   "source": [
    "text_batch, label_batch = next(iter(train_dataset))\n",
    "\n",
    "for i, text in enumerate(text_batch[:5]):\n",
    "    label = label_batch[i].numpy()[None, ...]\n",
    "    print(f\"Abstract: {text}\")\n",
    "    print(f\"Label(s): {invert_multi_hot(label[0])}\")\n",
    "    print(\" \")"
   ]
  },
  {
   "cell_type": "code",
   "execution_count": 14,
   "id": "c7da1cdf",
   "metadata": {},
   "outputs": [
    {
     "name": "stdout",
     "output_type": "stream",
     "text": [
      "153948\n"
     ]
    }
   ],
   "source": [
    "# Source: https://stackoverflow.com/a/18937309/7636462\n",
    "vocabulary = set()\n",
    "train_df[\"abstract\"].str.lower().str.split().apply(vocabulary.update)\n",
    "vocabulary_size = len(vocabulary)\n",
    "print(vocabulary_size)"
   ]
  },
  {
   "cell_type": "code",
   "execution_count": 15,
   "id": "90cce1cd",
   "metadata": {},
   "outputs": [
    {
     "name": "stdout",
     "output_type": "stream",
     "text": [
      "WARNING:tensorflow:From C:\\Users\\yo\\AppData\\Roaming\\Python\\Python38\\site-packages\\tensorflow\\python\\autograph\\pyct\\static_analysis\\liveness.py:83: Analyzer.lamba_check (from tensorflow.python.autograph.pyct.static_analysis.liveness) is deprecated and will be removed after 2023-09-23.\n",
      "Instructions for updating:\n",
      "Lambda fuctions will be no more assumed to be used in the statement where they are used, or at least in the same block. https://github.com/tensorflow/tensorflow/issues/56089\n"
     ]
    }
   ],
   "source": [
    "text_vectorizer = layers.TextVectorization(\n",
    "    max_tokens=vocabulary_size, ngrams=2, output_mode=\"tf_idf\"\n",
    ")\n",
    "\n",
    "# `TextVectorization` layer needs to be adapted as per the vocabulary from our\n",
    "# training set.\n",
    "with tf.device(\"/CPU:0\"):\n",
    "    text_vectorizer.adapt(train_dataset.map(lambda text, label: text))\n",
    "\n",
    "train_dataset = train_dataset.map(\n",
    "    lambda text, label: (text_vectorizer(text), label), num_parallel_calls=auto\n",
    ").prefetch(auto)\n",
    "validation_dataset = validation_dataset.map(\n",
    "    lambda text, label: (text_vectorizer(text), label), num_parallel_calls=auto\n",
    ").prefetch(auto)\n",
    "test_dataset = test_dataset.map(\n",
    "    lambda text, label: (text_vectorizer(text), label), num_parallel_calls=auto\n",
    ").prefetch(auto)"
   ]
  },
  {
   "cell_type": "code",
   "execution_count": 16,
   "id": "827201ba",
   "metadata": {},
   "outputs": [],
   "source": [
    "def make_model():\n",
    "    shallow_mlp_model = keras.Sequential(\n",
    "        [\n",
    "            layers.Dense(512, activation=\"relu\"),\n",
    "            layers.Dense(256, activation=\"relu\"),\n",
    "            layers.Dense(lookup.vocabulary_size(), activation=\"sigmoid\"),\n",
    "        ]  # More on why \"sigmoid\" has been used here in a moment.\n",
    "    )\n",
    "    return shallow_mlp_model"
   ]
  },
  {
   "cell_type": "code",
   "execution_count": 17,
   "id": "c3c00d25",
   "metadata": {},
   "outputs": [
    {
     "name": "stdout",
     "output_type": "stream",
     "text": [
      "Epoch 1/20\n",
      "260/260 [==============================] - 175s 667ms/step - loss: 0.0311 - binary_accuracy: 0.9897 - val_loss: 0.0178 - val_binary_accuracy: 0.9945\n",
      "Epoch 2/20\n",
      "260/260 [==============================] - 184s 707ms/step - loss: 0.0031 - binary_accuracy: 0.9991 - val_loss: 0.0255 - val_binary_accuracy: 0.9941\n",
      "Epoch 3/20\n",
      "260/260 [==============================] - 179s 686ms/step - loss: 8.1132e-04 - binary_accuracy: 0.9998 - val_loss: 0.0307 - val_binary_accuracy: 0.9940\n",
      "Epoch 4/20\n",
      "260/260 [==============================] - 185s 709ms/step - loss: 3.3187e-04 - binary_accuracy: 1.0000 - val_loss: 0.0356 - val_binary_accuracy: 0.9942\n",
      "Epoch 5/20\n",
      "260/260 [==============================] - 198s 760ms/step - loss: 2.0053e-04 - binary_accuracy: 1.0000 - val_loss: 0.0376 - val_binary_accuracy: 0.9940\n",
      "Epoch 6/20\n",
      "260/260 [==============================] - 190s 727ms/step - loss: 1.2671e-04 - binary_accuracy: 1.0000 - val_loss: 0.0388 - val_binary_accuracy: 0.9942\n",
      "Epoch 7/20\n",
      "260/260 [==============================] - 198s 761ms/step - loss: 9.7093e-05 - binary_accuracy: 1.0000 - val_loss: 0.0400 - val_binary_accuracy: 0.9941\n",
      "Epoch 8/20\n",
      "260/260 [==============================] - 192s 738ms/step - loss: 8.7426e-05 - binary_accuracy: 1.0000 - val_loss: 0.0420 - val_binary_accuracy: 0.9941\n",
      "Epoch 9/20\n",
      "260/260 [==============================] - 212s 815ms/step - loss: 6.4786e-05 - binary_accuracy: 1.0000 - val_loss: 0.0424 - val_binary_accuracy: 0.9940\n",
      "Epoch 10/20\n",
      "260/260 [==============================] - 206s 792ms/step - loss: 5.7451e-05 - binary_accuracy: 1.0000 - val_loss: 0.0444 - val_binary_accuracy: 0.9940\n",
      "Epoch 11/20\n",
      "260/260 [==============================] - 200s 766ms/step - loss: 6.3135e-05 - binary_accuracy: 1.0000 - val_loss: 0.0456 - val_binary_accuracy: 0.9942\n",
      "Epoch 12/20\n",
      "260/260 [==============================] - 239s 919ms/step - loss: 1.4390e-04 - binary_accuracy: 1.0000 - val_loss: 0.0429 - val_binary_accuracy: 0.9940\n",
      "Epoch 13/20\n",
      "260/260 [==============================] - 228s 875ms/step - loss: 6.6392e-04 - binary_accuracy: 0.9998 - val_loss: 0.0395 - val_binary_accuracy: 0.9937\n",
      "Epoch 14/20\n",
      "260/260 [==============================] - 226s 869ms/step - loss: 0.0018 - binary_accuracy: 0.9994 - val_loss: 0.0371 - val_binary_accuracy: 0.9937\n",
      "Epoch 15/20\n",
      "260/260 [==============================] - 214s 821ms/step - loss: 0.0015 - binary_accuracy: 0.9995 - val_loss: 0.0414 - val_binary_accuracy: 0.9937\n",
      "Epoch 16/20\n",
      "260/260 [==============================] - 196s 752ms/step - loss: 8.0605e-04 - binary_accuracy: 0.9998 - val_loss: 0.0484 - val_binary_accuracy: 0.9936\n",
      "Epoch 17/20\n",
      "260/260 [==============================] - 245s 942ms/step - loss: 4.9037e-04 - binary_accuracy: 0.9999 - val_loss: 0.0502 - val_binary_accuracy: 0.9935\n",
      "Epoch 18/20\n",
      "260/260 [==============================] - 236s 905ms/step - loss: 2.8520e-04 - binary_accuracy: 0.9999 - val_loss: 0.0520 - val_binary_accuracy: 0.9935\n",
      "Epoch 19/20\n",
      "260/260 [==============================] - 201s 772ms/step - loss: 1.7331e-04 - binary_accuracy: 1.0000 - val_loss: 0.0562 - val_binary_accuracy: 0.9934\n",
      "Epoch 20/20\n",
      "260/260 [==============================] - 232s 893ms/step - loss: 1.7410e-04 - binary_accuracy: 1.0000 - val_loss: 0.0572 - val_binary_accuracy: 0.9936\n"
     ]
    },
    {
     "data": {
      "image/png": "[encoded data removed]",
      "text/plain": [
       "<Figure size 432x288 with 1 Axes>"
      ]
     },
     "metadata": {
      "needs_background": "light"
     },
     "output_type": "display_data"
    },
    {
     "data": {
      "image/png": "[encoded data removed]",
      "text/plain": [
       "<Figure size 432x288 with 1 Axes>"
      ]
     },
     "metadata": {
      "needs_background": "light"
     },
     "output_type": "display_data"
    }
   ],
   "source": [
    "epochs = 20\n",
    "\n",
    "shallow_mlp_model = make_model()\n",
    "shallow_mlp_model.compile(\n",
    "    loss=\"binary_crossentropy\", optimizer=\"adam\", metrics=[\"binary_accuracy\"]\n",
    ")\n",
    "\n",
    "history = shallow_mlp_model.fit(\n",
    "    train_dataset, validation_data=validation_dataset, epochs=epochs\n",
    ")\n",
    "\n",
    "\n",
    "def plot_result(item):\n",
    "    plt.plot(history.history[item], label=item)\n",
    "    plt.plot(history.history[\"val_\" + item], label=\"val_\" + item)\n",
    "    plt.xlabel(\"Epochs\")\n",
    "    plt.ylabel(item)\n",
    "    plt.title(\"Train and Validation {} Over Epochs\".format(item), fontsize=14)\n",
    "    plt.legend()\n",
    "    plt.grid()\n",
    "    plt.show()\n",
    "\n",
    "\n",
    "plot_result(\"loss\")\n",
    "plot_result(\"binary_accuracy\")"
   ]
  },
  {
   "cell_type": "code",
   "execution_count": 19,
   "id": "eed4dc9f",
   "metadata": {},
   "outputs": [],
   "source": [
    "keras.models.save_model(shallow_mlp_model,'radEd_model_v1.hdf5')"
   ]
  },
  {
   "cell_type": "code",
   "execution_count": 18,
   "id": "bde01777",
   "metadata": {},
   "outputs": [
    {
     "name": "stdout",
     "output_type": "stream",
     "text": [
      "15/15 [==============================] - 5s 320ms/step - loss: 0.0609 - binary_accuracy: 0.9935\n",
      "Categorical accuracy on the test set: 99.35%.\n"
     ]
    }
   ],
   "source": [
    "_, binary_acc = shallow_mlp_model.evaluate(test_dataset)\n",
    "print(f\"Categorical accuracy on the test set: {round(binary_acc * 100, 2)}%.\")"
   ]
  }
 ],
 "metadata": {
  "kernelspec": {
   "display_name": "Python 3 (ipykernel)",
   "language": "python",
   "name": "python3"
  },
  "language_info": {
   "codemirror_mode": {
    "name": "ipython",
    "version": 3
   },
   "file_extension": ".py",
   "mimetype": "text/x-python",
   "name": "python",
   "nbconvert_exporter": "python",
   "pygments_lexer": "ipython3",
   "version": "3.8.8"
  }
 },
 "nbformat": 4,
 "nbformat_minor": 5
}
