{
 "cells": [
  {
   "cell_type": "code",
   "execution_count": 1,
   "id": "e8ca4d2c",
   "metadata": {},
   "outputs": [],
   "source": [
    "#!conda install -c defaults cudatoolkit=11.2 cudnn=8.1.0"
   ]
  },
  {
   "cell_type": "code",
   "execution_count": 2,
   "id": "0bf38fad",
   "metadata": {},
   "outputs": [],
   "source": [
    "#!pip uninstall protobuf \n",
    "\n",
    "#!pip install protobuf==3.19.4\n",
    "#! pip install tensorflow --upgrade --user\n",
    "\n",
    "#!export LD_LIBRARY_PATH=$LD_LIBRARY_PATH:$CONDA_PREFIX/lib/\n",
    "#!python3 -m pip install tensorflow\n",
    "# Verify install:\n",
    "#!python3 -c \"import tensorflow as tf; print(tf.config.list_physical_devices('GPU'))\""
   ]
  },
  {
   "cell_type": "code",
   "execution_count": 3,
   "id": "fb319110",
   "metadata": {},
   "outputs": [],
   "source": [
    "from tensorflow.keras import layers\n",
    "from tensorflow import keras\n",
    "import tensorflow as tf\n",
    "\n",
    "from sklearn.model_selection import train_test_split\n",
    "from ast import literal_eval\n",
    "\n",
    "import matplotlib.pyplot as plt\n",
    "import pandas as pd\n",
    "import numpy as np"
   ]
  },
  {
   "cell_type": "code",
   "execution_count": 4,
   "id": "eeb8a267",
   "metadata": {},
   "outputs": [
    {
     "name": "stdout",
     "output_type": "stream",
     "text": [
      "[name: \"/device:CPU:0\"\n",
      "device_type: \"CPU\"\n",
      "memory_limit: 268435456\n",
      "locality {\n",
      "}\n",
      "incarnation: 12079266329315269115\n",
      "xla_global_id: -1\n",
      "]\n"
     ]
    }
   ],
   "source": [
    "from tensorflow.python.client import device_lib\n",
    "print(device_lib.list_local_devices())"
   ]
  },
  {
   "cell_type": "code",
   "execution_count": 5,
   "id": "d004683d",
   "metadata": {},
   "outputs": [],
   "source": [
    "data = pd.read_csv('total.csv')"
   ]
  },
  {
   "cell_type": "code",
   "execution_count": 6,
   "id": "0670cb4a",
   "metadata": {},
   "outputs": [],
   "source": [
    "data = data.drop(columns=['clase_pri', 'clase_otr','clases'])"
   ]
  },
  {
   "cell_type": "code",
   "execution_count": 7,
   "id": "330e9b3e",
   "metadata": {},
   "outputs": [
    {
     "data": {
      "text/html": [
       "<div>\n",
       "<style scoped>\n",
       "    .dataframe tbody tr th:only-of-type {\n",
       "        vertical-align: middle;\n",
       "    }\n",
       "\n",
       "    .dataframe tbody tr th {\n",
       "        vertical-align: top;\n",
       "    }\n",
       "\n",
       "    .dataframe thead th {\n",
       "        text-align: right;\n",
       "    }\n",
       "</style>\n",
       "<table border=\"1\" class=\"dataframe\">\n",
       "  <thead>\n",
       "    <tr style=\"text-align: right;\">\n",
       "      <th></th>\n",
       "      <th>titulo</th>\n",
       "      <th>abstract</th>\n",
       "      <th>categorias</th>\n",
       "    </tr>\n",
       "  </thead>\n",
       "  <tbody>\n",
       "    <tr>\n",
       "      <th>0</th>\n",
       "      <td>An Actor-Critic Algorithm for Sequence Prediction</td>\n",
       "      <td>We present an approach to training neural ne...</td>\n",
       "      <td>['cs.LG']</td>\n",
       "    </tr>\n",
       "    <tr>\n",
       "      <th>1</th>\n",
       "      <td>Playing Flappy Bird via Asynchronous Advantage...</td>\n",
       "      <td>Flappy Bird, which has a very high popularit...</td>\n",
       "      <td>['cs.LG', 'cs.NE']</td>\n",
       "    </tr>\n",
       "    <tr>\n",
       "      <th>2</th>\n",
       "      <td>Distributional Advantage Actor-Critic</td>\n",
       "      <td>In traditional reinforcement learning, an ag...</td>\n",
       "      <td>['cs.LG', 'cs.AI', 'stat.ML']</td>\n",
       "    </tr>\n",
       "    <tr>\n",
       "      <th>3</th>\n",
       "      <td>Off-Policy Actor-Critic</td>\n",
       "      <td>This paper presents the first actor-critic a...</td>\n",
       "      <td>['cs.LG']</td>\n",
       "    </tr>\n",
       "    <tr>\n",
       "      <th>4</th>\n",
       "      <td>Asymmetric Actor Critic for Image-Based Robot ...</td>\n",
       "      <td>Deep reinforcement learning (RL) has proven ...</td>\n",
       "      <td>['cs.RO', 'cs.AI', 'cs.LG']</td>\n",
       "    </tr>\n",
       "    <tr>\n",
       "      <th>...</th>\n",
       "      <td>...</td>\n",
       "      <td>...</td>\n",
       "      <td>...</td>\n",
       "    </tr>\n",
       "    <tr>\n",
       "      <th>36859</th>\n",
       "      <td>A Ray-based Approach for Boundary Estimation o...</td>\n",
       "      <td>Diffusion Tensor Imaging (DTI) is a non-invasi...</td>\n",
       "      <td>['cs.CV']</td>\n",
       "    </tr>\n",
       "    <tr>\n",
       "      <th>36860</th>\n",
       "      <td>Statistical Denoising for single molecule fluo...</td>\n",
       "      <td>Single molecule fluorescence microscopy is a p...</td>\n",
       "      <td>['cs.CV']</td>\n",
       "    </tr>\n",
       "    <tr>\n",
       "      <th>36861</th>\n",
       "      <td>Blinking Molecule Tracking</td>\n",
       "      <td>We discuss a method for tracking individual mo...</td>\n",
       "      <td>['cs.CV', 'cs.DM']</td>\n",
       "    </tr>\n",
       "    <tr>\n",
       "      <th>36862</th>\n",
       "      <td>Towards a Mathematical Foundation of Immunolog...</td>\n",
       "      <td>We attempt to set a mathematical foundation of...</td>\n",
       "      <td>['stat.ML', 'cs.LG', 'q-bio.GN']</td>\n",
       "    </tr>\n",
       "    <tr>\n",
       "      <th>36863</th>\n",
       "      <td>A Semi-Automatic Graph-Based Approach for Dete...</td>\n",
       "      <td>Diffusion Tensor Imaging (DTI) allows estimati...</td>\n",
       "      <td>['cs.CV']</td>\n",
       "    </tr>\n",
       "  </tbody>\n",
       "</table>\n",
       "<p>36864 rows × 3 columns</p>\n",
       "</div>"
      ],
      "text/plain": [
       "                                                  titulo  \\\n",
       "0      An Actor-Critic Algorithm for Sequence Prediction   \n",
       "1      Playing Flappy Bird via Asynchronous Advantage...   \n",
       "2                  Distributional Advantage Actor-Critic   \n",
       "3                                Off-Policy Actor-Critic   \n",
       "4      Asymmetric Actor Critic for Image-Based Robot ...   \n",
       "...                                                  ...   \n",
       "36859  A Ray-based Approach for Boundary Estimation o...   \n",
       "36860  Statistical Denoising for single molecule fluo...   \n",
       "36861                         Blinking Molecule Tracking   \n",
       "36862  Towards a Mathematical Foundation of Immunolog...   \n",
       "36863  A Semi-Automatic Graph-Based Approach for Dete...   \n",
       "\n",
       "                                                abstract  \\\n",
       "0        We present an approach to training neural ne...   \n",
       "1        Flappy Bird, which has a very high popularit...   \n",
       "2        In traditional reinforcement learning, an ag...   \n",
       "3        This paper presents the first actor-critic a...   \n",
       "4        Deep reinforcement learning (RL) has proven ...   \n",
       "...                                                  ...   \n",
       "36859  Diffusion Tensor Imaging (DTI) is a non-invasi...   \n",
       "36860  Single molecule fluorescence microscopy is a p...   \n",
       "36861  We discuss a method for tracking individual mo...   \n",
       "36862  We attempt to set a mathematical foundation of...   \n",
       "36863  Diffusion Tensor Imaging (DTI) allows estimati...   \n",
       "\n",
       "                             categorias  \n",
       "0                             ['cs.LG']  \n",
       "1                    ['cs.LG', 'cs.NE']  \n",
       "2         ['cs.LG', 'cs.AI', 'stat.ML']  \n",
       "3                             ['cs.LG']  \n",
       "4           ['cs.RO', 'cs.AI', 'cs.LG']  \n",
       "...                                 ...  \n",
       "36859                         ['cs.CV']  \n",
       "36860                         ['cs.CV']  \n",
       "36861                ['cs.CV', 'cs.DM']  \n",
       "36862  ['stat.ML', 'cs.LG', 'q-bio.GN']  \n",
       "36863                         ['cs.CV']  \n",
       "\n",
       "[36864 rows x 3 columns]"
      ]
     },
     "execution_count": 7,
     "metadata": {},
     "output_type": "execute_result"
    }
   ],
   "source": [
    "data"
   ]
  },
  {
   "cell_type": "code",
   "execution_count": 8,
   "id": "fced2d81",
   "metadata": {},
   "outputs": [
    {
     "data": {
      "text/plain": [
       "array([list(['cs.LG']), list(['cs.LG', 'cs.NE']),\n",
       "       list(['cs.LG', 'cs.AI', 'stat.ML']), list(['cs.LG']),\n",
       "       list(['cs.RO', 'cs.AI', 'cs.LG'])], dtype=object)"
      ]
     },
     "execution_count": 8,
     "metadata": {},
     "output_type": "execute_result"
    }
   ],
   "source": [
    "data[\"categorias\"] = data[\"categorias\"].apply(\n",
    "    lambda x: literal_eval(x)\n",
    ")\n",
    "data[\"categorias\"].values[:5]"
   ]
  },
  {
   "cell_type": "code",
   "execution_count": 9,
   "id": "7c8e8cf3",
   "metadata": {},
   "outputs": [],
   "source": [
    "test_split = 0.2\n",
    "\n",
    "# Initial train and test split.\n",
    "train_df, test_df = train_test_split(\n",
    "    data,\n",
    "    test_size=test_split,\n",
    "    stratify=data[\"categorias\"].values,\n",
    ")\n",
    "# Splitting the test set further into validation\n",
    "# and new test sets.\n",
    "val_df = test_df.sample(frac=0.5)\n",
    "test_df.drop(val_df.index, inplace=True)"
   ]
  },
  {
   "cell_type": "code",
   "execution_count": 10,
   "id": "1af927fd",
   "metadata": {},
   "outputs": [
    {
     "name": "stdout",
     "output_type": "stream",
     "text": [
      "Vocabulary:\n",
      "\n",
      "['[UNK]', 'cs.CV', 'cs.LG', 'stat.ML', 'cs.AI', 'eess.IV', 'cs.RO', 'cs.CL', 'cs.NE', 'cs.CR', 'math.OC', 'eess.SP', 'cs.GR', 'cs.SI', 'cs.MM', 'cs.SY', 'cs.IR', 'cs.MA', 'eess.SY', 'cs.HC', 'cs.CY', 'math.IT', 'cs.IT', 'cs.DC', 'stat.AP', 'stat.TH', 'math.ST', 'stat.ME', 'eess.AS', 'q-bio.QM', 'cs.SD', 'q-bio.NC', 'cs.DS', 'cs.NI', 'cs.GT', 'cs.CG', 'cs.SE', 'I.2.6', 'stat.CO', 'math.NA', 'physics.chem-ph', 'cs.NA', 'cs.DB', 'quant-ph', 'cs.PL', 'q-bio.BM', 'cs.LO', 'cond-mat.dis-nn', '68T45', 'math.PR', 'physics.comp-ph', 'cs.CE', 'cs.AR', 'I.2.10', 'q-fin.ST', 'physics.data-an', 'cond-mat.stat-mech', 'cs.CC', '68T05', 'math.DS', 'I.4.6', 'physics.ao-ph', 'econ.EM', 'astro-ph.IM', 'physics.soc-ph', 'math.AT', 'cs.DM', 'q-bio.GN', 'physics.med-ph', 'cs.PF', 'I.4.8', 'cs.FL', 'cond-mat.mtrl-sci', 'I.5.4', 'I.4', '68U10', 'q-fin.TR', 'cond-mat.str-el', 'cond-mat.mes-hall', 'I.2', 'physics.geo-ph', '68T10', 'physics.optics', 'physics.flu-dyn', 'math.AP', 'hep-ex', 'I.2.6; I.2.8', '68T01', 'q-fin.GN', 'q-fin.CP', 'math.CO', 'cs.MS', 'I.4; I.5', 'I.4.9', 'I.2.10; I.4; I.5', '65D19', 'nlin.CD', 'cs.SC', 'cs.ET', 'cond-mat.supr-con', 'K.3.2', 'I.2.8', 'I.2.6; I.5.1', 'I.2.0; I.2.6', '68U01', '68T30', '68T07', 'I.2; I.5', 'I.2.10; I.4.8', '68', 'q-fin.RM', 'q-fin.PM', 'q-fin.EC', 'q-bio.TO', 'q-bio.OT', 'q-bio.MN', 'physics.ins-det', 'physics.bio-ph', 'nucl-th', 'math.SP', 'math.LO', 'math.FA', 'math-ph', 'hep-ph', 'econ.GN', 'cond-mat.soft', 'astro-ph.HE', 'I.4.9; I.5.4', 'I.4.6; I.4.8', 'I.4.5', 'I.4.4', 'I.4.3', 'I.4.0', 'I.2; J.2', 'I.2; I.4; I.5', 'I.2; I.2.6; I.2.7', 'I.2.7', 'I.2.6; I.5.4', 'I.2.6; I.2.9', 'I.2.6; I.2.7', 'I.2.6; I.2.10', 'I.2.6, I.5.4', 'I.2.1; J.3', 'I.2.10; I.5.1; I.4.8', 'I.2.10; I.4.8; I.5.4', 'I.2.10; I.2.6', 'I.2.1', 'H.3.1; I.2.6; I.2.7', 'H.3.1; H.3.3; I.2.6; I.2.7', 'G.3', 'F.2.2; I.2.7', 'E.5; E.4; E.2; H.1.1; F.1.1; F.1.3', '68Txx', '68T99', '68Q32', '62H99', '62H35', '62H30', '14J60 (Primary) 14F05, 14J26 (Secondary)', 'nlin.AO', 'I.2.6; I.2.7; H.3.1; H.3.3']\n"
     ]
    }
   ],
   "source": [
    "terms = tf.ragged.constant(train_df[\"categorias\"].values)\n",
    "lookup = tf.keras.layers.StringLookup(output_mode=\"multi_hot\")\n",
    "lookup.adapt(terms)\n",
    "vocab = lookup.get_vocabulary()\n",
    "\n",
    "\n",
    "def invert_multi_hot(encoded_labels):\n",
    "    \"\"\"Reverse a single multi-hot encoded label to a tuple of vocab terms.\"\"\"\n",
    "    hot_indices = np.argwhere(encoded_labels == 1.0)[..., 0]\n",
    "    return np.take(vocab, hot_indices)\n",
    "\n",
    "\n",
    "print(\"Vocabulary:\\n\")\n",
    "print(vocab)"
   ]
  },
  {
   "cell_type": "code",
   "execution_count": 11,
   "id": "85b32d5f",
   "metadata": {},
   "outputs": [
    {
     "name": "stdout",
     "output_type": "stream",
     "text": [
      "Original label: ['cs.CV']\n",
      "Label-binarized representation: [[0. 1. 0. 0. 0. 0. 0. 0. 0. 0. 0. 0. 0. 0. 0. 0. 0. 0. 0. 0. 0. 0. 0. 0.\n",
      "  0. 0. 0. 0. 0. 0. 0. 0. 0. 0. 0. 0. 0. 0. 0. 0. 0. 0. 0. 0. 0. 0. 0. 0.\n",
      "  0. 0. 0. 0. 0. 0. 0. 0. 0. 0. 0. 0. 0. 0. 0. 0. 0. 0. 0. 0. 0. 0. 0. 0.\n",
      "  0. 0. 0. 0. 0. 0. 0. 0. 0. 0. 0. 0. 0. 0. 0. 0. 0. 0. 0. 0. 0. 0. 0. 0.\n",
      "  0. 0. 0. 0. 0. 0. 0. 0. 0. 0. 0. 0. 0. 0. 0. 0. 0. 0. 0. 0. 0. 0. 0. 0.\n",
      "  0. 0. 0. 0. 0. 0. 0. 0. 0. 0. 0. 0. 0. 0. 0. 0. 0. 0. 0. 0. 0. 0. 0. 0.\n",
      "  0. 0. 0. 0. 0. 0. 0. 0. 0. 0. 0. 0. 0. 0. 0. 0. 0.]]\n"
     ]
    }
   ],
   "source": [
    "sample_label = train_df[\"categorias\"].iloc[0]\n",
    "print(f\"Original label: {sample_label}\")\n",
    "\n",
    "label_binarized = lookup([sample_label])\n",
    "print(f\"Label-binarized representation: {label_binarized}\")"
   ]
  },
  {
   "cell_type": "code",
   "execution_count": 12,
   "id": "36df5615",
   "metadata": {},
   "outputs": [
    {
     "data": {
      "text/plain": [
       "count    29491.000000\n",
       "mean       156.346580\n",
       "std         41.566468\n",
       "min          5.000000\n",
       "25%        128.000000\n",
       "50%        154.000000\n",
       "75%        183.000000\n",
       "max        462.000000\n",
       "Name: abstract, dtype: float64"
      ]
     },
     "execution_count": 12,
     "metadata": {},
     "output_type": "execute_result"
    }
   ],
   "source": [
    "train_df[\"abstract\"].apply(lambda x: len(x.split(\" \"))).describe()"
   ]
  },
  {
   "cell_type": "code",
   "execution_count": 13,
   "id": "516e752a",
   "metadata": {},
   "outputs": [],
   "source": [
    "max_seqlen = 155\n",
    "batch_size = 128\n",
    "padding_token = \"<pad>\"\n",
    "auto = tf.data.AUTOTUNE\n",
    "\n",
    "\n",
    "def make_dataset(dataframe, is_train=True):\n",
    "    labels = tf.ragged.constant(dataframe[\"categorias\"].values)\n",
    "    label_binarized = lookup(labels).numpy()\n",
    "    dataset = tf.data.Dataset.from_tensor_slices(\n",
    "        (dataframe[\"abstract\"].values, label_binarized)\n",
    "    )\n",
    "    dataset = dataset.shuffle(batch_size * 10) if is_train else dataset\n",
    "    return dataset.batch(batch_size)"
   ]
  },
  {
   "cell_type": "code",
   "execution_count": 14,
   "id": "d542146f",
   "metadata": {},
   "outputs": [],
   "source": [
    "train_dataset = make_dataset(train_df, is_train=True)\n",
    "validation_dataset = make_dataset(val_df, is_train=False)\n",
    "test_dataset = make_dataset(test_df, is_train=False)"
   ]
  },
  {
   "cell_type": "code",
   "execution_count": 15,
   "id": "c6b6bf3a",
   "metadata": {},
   "outputs": [
    {
     "name": "stdout",
     "output_type": "stream",
     "text": [
      "Abstract: b'Recent neural-network-based architectures for image segmentation make\\nextensive usage of feature forwarding mechanisms to integrate information from\\nmultiple scales. Although yielding good results, even deeper architectures and\\nalternative methods for feature fusion at different resolutions have been\\nscarcely investigated for medical applications. In this work we propose to\\nimplement segmentation via an encoder-decoder architecture which differs from\\nany other previously published method since (i) it employs a very deep\\narchitecture based on residual learning and (ii) combines features via a\\nconvolutional Long Short Term Memory (LSTM), instead of concatenation or\\nsummation. The intuition is that the memory mechanism implemented by LSTMs can\\nbetter integrate features from different scales through a coarse-to-fine\\nstrategy; hence the name Coarse-to-Fine Context Memory (CFCM). We demonstrate\\nthe remarkable advantages of this approach on two datasets: the Montgomery\\ncounty lung segmentation dataset, and the EndoVis 2015 challenge dataset for\\nsurgical instrument segmentation.'\n",
      "Label(s): ['cs.CV']\n",
      " \n",
      "Abstract: b'We present a generalization of graph convolutional networks by generalizing\\nthe diffusion operation underlying this class of graph neural networks. These\\nsheaf neural networks are based on the sheaf Laplacian, a generalization of the\\ngraph Laplacian that encodes additional relational structure parameterized by\\nthe underlying graph. The sheaf Laplacian and associated matrices provide an\\nextended version of the diffusion operation in graph convolutional networks,\\nproviding a proper generalization for domains where relations between nodes are\\nnon-constant, asymmetric, and varying in dimension. We show that the resulting\\nsheaf neural networks can outperform graph convolutional networks in domains\\nwhere relations between nodes are asymmetric and signed.'\n",
      "Label(s): ['cs.LG' 'math.AT']\n",
      " \n",
      "Abstract: b'Self-supervised learning algorithms based on instance discrimination train\\nencoders to be invariant to pre-defined transformations of the same instance.\\nWhile most methods treat different views of the same image as positives for a\\ncontrastive loss, we are interested in using positives from other instances in\\nthe dataset. Our method, Nearest-Neighbor Contrastive Learning of visual\\nRepresentations (NNCLR), samples the nearest neighbors from the dataset in the\\nlatent space, and treats them as positives. This provides more semantic\\nvariations than pre-defined transformations.\\n  We find that using the nearest-neighbor as positive in contrastive losses\\nimproves performance significantly on ImageNet classification, from 71.7% to\\n75.6%, outperforming previous state-of-the-art methods. On semi-supervised\\nlearning benchmarks we improve performance significantly when only 1% ImageNet\\nlabels are available, from 53.8% to 56.5%. On transfer learning benchmarks our\\nmethod outperforms state-of-the-art methods (including supervised learning with\\nImageNet) on 8 out of 12 downstream datasets. Furthermore, we demonstrate\\nempirically that our method is less reliant on complex data augmentations. We\\nsee a relative reduction of only 2.1% ImageNet Top-1 accuracy when we train\\nusing only random crops.'\n",
      "Label(s): ['cs.CV']\n",
      " \n",
      "Abstract: b'This paper proposes a framework for adaptively learning a feedback\\nlinearization-based tracking controller for an unknown system using\\ndiscrete-time model-free policy-gradient parameter update rules. The primary\\nadvantage of the scheme over standard model-reference adaptive control\\ntechniques is that it does not require the learned inverse model to be\\ninvertible at all instances of time. This enables the use of general function\\napproximators to approximate the linearizing controller for the system without\\nhaving to worry about singularities. However, the discrete-time and stochastic\\nnature of these algorithms precludes the direct application of standard\\nmachinery from the adaptive control literature to provide deterministic\\nstability proofs for the system. Nevertheless, we leverage these techniques\\nalongside tools from the stochastic approximation literature to demonstrate\\nthat with high probability the tracking and parameter errors concentrate near\\nzero when a certain persistence of excitation condition is satisfied. A\\nsimulated example of a double pendulum demonstrates the utility of the proposed\\ntheory. 1'\n",
      "Label(s): ['cs.LG' 'stat.ML' 'math.OC' 'math.DS']\n",
      " \n",
      "Abstract: b'Recent deep monocular depth estimation approaches based on supervised\\nregression have achieved remarkable performance. However, they require costly\\nground truth annotations during training. To cope with this issue, in this\\npaper we present a novel unsupervised deep learning approach for predicting\\ndepth maps. We introduce a new network architecture, named Progressive Fusion\\nNetwork (PFN), that is specifically designed for binocular stereo depth\\nestimation. This network is based on a multi-scale refinement strategy that\\ncombines the information provided by both stereo views. In addition, we propose\\nto stack twice this network in order to form a cycle. This cycle approach can\\nbe interpreted as a form of data-augmentation since, at training time, the\\nnetwork learns both from the training set images (in the forward half-cycle)\\nbut also from the synthesized images (in the backward half-cycle). The\\narchitecture is jointly trained with adversarial learning. Extensive\\nexperiments on the publicly available datasets KITTI, Cityscapes and\\nApolloScape demonstrate the effectiveness of the proposed model which is\\ncompetitive with other unsupervised deep learning methods for depth prediction.'\n",
      "Label(s): ['cs.CV']\n",
      " \n"
     ]
    }
   ],
   "source": [
    "text_batch, label_batch = next(iter(train_dataset))\n",
    "\n",
    "for i, text in enumerate(text_batch[:5]):\n",
    "    label = label_batch[i].numpy()[None, ...]\n",
    "    print(f\"Abstract: {text}\")\n",
    "    print(f\"Label(s): {invert_multi_hot(label[0])}\")\n",
    "    print(\" \")"
   ]
  },
  {
   "cell_type": "code",
   "execution_count": 16,
   "id": "c7da1cdf",
   "metadata": {},
   "outputs": [
    {
     "name": "stdout",
     "output_type": "stream",
     "text": [
      "142532\n"
     ]
    }
   ],
   "source": [
    "# Source: https://stackoverflow.com/a/18937309/7636462\n",
    "vocabulary = set()\n",
    "train_df[\"abstract\"].str.lower().str.split().apply(vocabulary.update)\n",
    "vocabulary_size = len(vocabulary)\n",
    "print(vocabulary_size)"
   ]
  },
  {
   "cell_type": "code",
   "execution_count": 17,
   "id": "90cce1cd",
   "metadata": {},
   "outputs": [
    {
     "name": "stdout",
     "output_type": "stream",
     "text": [
      "WARNING:tensorflow:From C:\\Users\\yo\\AppData\\Roaming\\Python\\Python38\\site-packages\\tensorflow\\python\\autograph\\pyct\\static_analysis\\liveness.py:83: Analyzer.lamba_check (from tensorflow.python.autograph.pyct.static_analysis.liveness) is deprecated and will be removed after 2023-09-23.\n",
      "Instructions for updating:\n",
      "Lambda fuctions will be no more assumed to be used in the statement where they are used, or at least in the same block. https://github.com/tensorflow/tensorflow/issues/56089\n"
     ]
    }
   ],
   "source": [
    "text_vectorizer = layers.TextVectorization(\n",
    "    max_tokens=vocabulary_size, ngrams=2, output_mode=\"tf_idf\"\n",
    ")\n",
    "\n",
    "# `TextVectorization` layer needs to be adapted as per the vocabulary from our\n",
    "# training set.\n",
    "with tf.device(\"/CPU:0\"):\n",
    "    text_vectorizer.adapt(train_dataset.map(lambda text, label: text))\n",
    "\n",
    "train_dataset = train_dataset.map(\n",
    "    lambda text, label: (text_vectorizer(text), label), num_parallel_calls=auto\n",
    ").prefetch(auto)\n",
    "validation_dataset = validation_dataset.map(\n",
    "    lambda text, label: (text_vectorizer(text), label), num_parallel_calls=auto\n",
    ").prefetch(auto)\n",
    "test_dataset = test_dataset.map(\n",
    "    lambda text, label: (text_vectorizer(text), label), num_parallel_calls=auto\n",
    ").prefetch(auto)"
   ]
  },
  {
   "cell_type": "code",
   "execution_count": 18,
   "id": "827201ba",
   "metadata": {},
   "outputs": [],
   "source": [
    "def make_model():\n",
    "    shallow_mlp_model = keras.Sequential(\n",
    "        [\n",
    "            layers.Dense(512, activation=\"relu\"),\n",
    "            layers.Dense(256, activation=\"relu\"),\n",
    "            layers.Dense(lookup.vocabulary_size(), activation=\"sigmoid\"),\n",
    "        ]  # More on why \"sigmoid\" has been used here in a moment.\n",
    "    )\n",
    "    return shallow_mlp_model"
   ]
  },
  {
   "cell_type": "code",
   "execution_count": 19,
   "id": "c3c00d25",
   "metadata": {},
   "outputs": [],
   "source": [
    "epochs = 5 \n",
    "#5 para acelerar las primeras versiones, solo queremos ver que no explota\n",
    "shallow_mlp_model = make_model()\n",
    "shallow_mlp_model.compile(\n",
    "    loss=\"binary_crossentropy\", optimizer=\"adam\", metrics=[\"binary_accuracy\"]\n",
    ")\n",
    "\n"
   ]
  },
  {
   "cell_type": "code",
   "execution_count": 20,
   "id": "95a2dcae",
   "metadata": {},
   "outputs": [
    {
     "name": "stdout",
     "output_type": "stream",
     "text": [
      "Epoch 1/5\n",
      "231/231 [==============================] - 145s 624ms/step - loss: 0.0333 - accuracy: 0.8574 - val_loss: 0.0185 - val_accuracy: 0.8771\n",
      "Epoch 2/5\n",
      "231/231 [==============================] - 152s 656ms/step - loss: 0.0034 - accuracy: 0.8909 - val_loss: 0.0253 - val_accuracy: 0.8766\n",
      "Epoch 3/5\n",
      "231/231 [==============================] - 150s 649ms/step - loss: 7.4479e-04 - accuracy: 0.8533 - val_loss: 0.0309 - val_accuracy: 0.8595\n",
      "Epoch 4/5\n",
      "231/231 [==============================] - 152s 655ms/step - loss: 2.4932e-04 - accuracy: 0.8391 - val_loss: 0.0359 - val_accuracy: 0.8776\n",
      "Epoch 5/5\n",
      "231/231 [==============================] - 156s 675ms/step - loss: 1.3196e-04 - accuracy: 0.8358 - val_loss: 0.0382 - val_accuracy: 0.8635\n"
     ]
    },
    {
     "data": {
      "image/png": "[encoded data removed]",
      "text/plain": [
       "<Figure size 432x288 with 1 Axes>"
      ]
     },
     "metadata": {
      "needs_background": "light"
     },
     "output_type": "display_data"
    },
    {
     "ename": "KeyError",
     "evalue": "'binary_accuracy'",
     "output_type": "error",
     "traceback": [
      "\u001b[1;31m---------------------------------------------------------------------------\u001b[0m",
      "\u001b[1;31mKeyError\u001b[0m                                  Traceback (most recent call last)",
      "Input \u001b[1;32mIn [20]\u001b[0m, in \u001b[0;36m<cell line: 16>\u001b[1;34m()\u001b[0m\n\u001b[0;32m     12\u001b[0m     plt\u001b[38;5;241m.\u001b[39mshow()\n\u001b[0;32m     15\u001b[0m plot_result(\u001b[38;5;124m\"\u001b[39m\u001b[38;5;124mloss\u001b[39m\u001b[38;5;124m\"\u001b[39m)\n\u001b[1;32m---> 16\u001b[0m \u001b[43mplot_result\u001b[49m\u001b[43m(\u001b[49m\u001b[38;5;124;43m\"\u001b[39;49m\u001b[38;5;124;43mbinary_accuracy\u001b[39;49m\u001b[38;5;124;43m\"\u001b[39;49m\u001b[43m)\u001b[49m\n",
      "Input \u001b[1;32mIn [20]\u001b[0m, in \u001b[0;36mplot_result\u001b[1;34m(item)\u001b[0m\n\u001b[0;32m      4\u001b[0m \u001b[38;5;28;01mdef\u001b[39;00m \u001b[38;5;21mplot_result\u001b[39m(item):\n\u001b[1;32m----> 5\u001b[0m     plt\u001b[38;5;241m.\u001b[39mplot(\u001b[43mhistory\u001b[49m\u001b[38;5;241;43m.\u001b[39;49m\u001b[43mhistory\u001b[49m\u001b[43m[\u001b[49m\u001b[43mitem\u001b[49m\u001b[43m]\u001b[49m, label\u001b[38;5;241m=\u001b[39mitem)\n\u001b[0;32m      6\u001b[0m     plt\u001b[38;5;241m.\u001b[39mplot(history\u001b[38;5;241m.\u001b[39mhistory[\u001b[38;5;124m\"\u001b[39m\u001b[38;5;124mval_\u001b[39m\u001b[38;5;124m\"\u001b[39m \u001b[38;5;241m+\u001b[39m item], label\u001b[38;5;241m=\u001b[39m\u001b[38;5;124m\"\u001b[39m\u001b[38;5;124mval_\u001b[39m\u001b[38;5;124m\"\u001b[39m \u001b[38;5;241m+\u001b[39m item)\n\u001b[0;32m      7\u001b[0m     plt\u001b[38;5;241m.\u001b[39mxlabel(\u001b[38;5;124m\"\u001b[39m\u001b[38;5;124mEpochs\u001b[39m\u001b[38;5;124m\"\u001b[39m)\n",
      "\u001b[1;31mKeyError\u001b[0m: 'binary_accuracy'"
     ]
    }
   ],
   "source": [
    "history = shallow_mlp_model.fit(train_dataset, validation_data=validation_dataset, epochs=epochs)\n",
    "\n",
    "\n",
    "\n"
   ]
  },
  {
   "cell_type": "code",
   "execution_count": 21,
   "id": "e2559a8c",
   "metadata": {},
   "outputs": [
    {
     "data": {
      "image/png": "[encoded data removed]",
      "text/plain": [
       "<Figure size 432x288 with 1 Axes>"
      ]
     },
     "metadata": {
      "needs_background": "light"
     },
     "output_type": "display_data"
    },
    {
     "data": {
      "image/png": "[encoded data removed]",
      "text/plain": [
       "<Figure size 432x288 with 1 Axes>"
      ]
     },
     "metadata": {
      "needs_background": "light"
     },
     "output_type": "display_data"
    }
   ],
   "source": [
    "def plot_result(item):\n",
    "    plt.plot(history.history[item], label=item)\n",
    "    plt.plot(history.history[\"val_\" + item], label=\"val_\" + item)\n",
    "    plt.xlabel(\"Epochs\")\n",
    "    plt.ylabel(item)\n",
    "    plt.title(\"Train and Validation {} Over Epochs\".format(item), fontsize=14)\n",
    "    plt.legend()\n",
    "    plt.grid()\n",
    "    plt.show()\n",
    "\n",
    "\n",
    "plot_result(\"loss\")\n",
    "plot_result(\"accuracy\")"
   ]
  },
  {
   "cell_type": "code",
   "execution_count": 22,
   "id": "eed4dc9f",
   "metadata": {},
   "outputs": [],
   "source": [
    "keras.models.save_model(shallow_mlp_model,'radEd_model_v1.hdf5')\n",
    "#shallow_mlp_model = tf.keras.models.load_model('radEd_model_v1.hdf5')\n"
   ]
  },
  {
   "cell_type": "code",
   "execution_count": 23,
   "id": "bde01777",
   "metadata": {},
   "outputs": [
    {
     "name": "stdout",
     "output_type": "stream",
     "text": [
      "29/29 [==============================] - 5s 166ms/step - loss: 0.0382 - accuracy: 0.8579\n",
      "Categorical accuracy on the test set: 85.79%.\n"
     ]
    }
   ],
   "source": [
    "_, binary_acc = shallow_mlp_model.evaluate(test_dataset)\n",
    "print(f\"Categorical accuracy on the test set: {round(binary_acc * 100, 2)}%.\")"
   ]
  },
  {
   "cell_type": "code",
   "execution_count": 24,
   "id": "02897c51",
   "metadata": {},
   "outputs": [
    {
     "name": "stdout",
     "output_type": "stream",
     "text": [
      "4/4 [==============================] - 0s 41ms/step\n",
      "Abstract: b'Conventional saliency maps highlight input features to which neural network\\npredictions are highly sensitive. We take a different approach to saliency, in\\nwhich we identify and analyze the network parameters, rather than inputs, which\\nare responsible for erroneous decisions. We find that samples which cause\\nsimilar parameters to malfunction are semantically similar. We also show that\\npruning the most salient parameters for a wrongly classified sample often\\nimproves model behavior. Furthermore, fine-tuning a small number of the most\\nsalient parameters on a single sample results in error correction on other\\nsamples that are misclassified for similar reasons. Based on our parameter\\nsaliency method, we also introduce an input-space saliency technique that\\nreveals how image features cause specific network components to malfunction.\\nFurther, we rigorously validate the meaningfulness of our saliency maps on both\\nthe dataset and case-study levels.'\n",
      "Label(s): ['cs.CV' 'cs.LG']\n",
      "Predicted Label(s): (cs.CV, cs.LG, stat.ML)\n",
      " \n",
      "Abstract: b'The accuracy of deep convolutional neural networks (CNNs) generally improves\\nwhen fueled with high resolution images. However, this often comes at a high\\ncomputational cost and high memory footprint. Inspired by the fact that not all\\nregions in an image are task-relevant, we propose a novel framework that\\nperforms efficient image classification by processing a sequence of relatively\\nsmall inputs, which are strategically selected from the original image with\\nreinforcement learning. Such a dynamic decision process naturally facilitates\\nadaptive inference at test time, i.e., it can be terminated once the model is\\nsufficiently confident about its prediction and thus avoids further redundant\\ncomputation. Notably, our framework is general and flexible as it is compatible\\nwith most of the state-of-the-art light-weighted CNNs (such as MobileNets,\\nEfficientNets and RegNets), which can be conveniently deployed as the backbone\\nfeature extractor. Experiments on ImageNet show that our method consistently\\nimproves the computational efficiency of a wide variety of deep models. For\\nexample, it further reduces the average latency of the highly efficient\\nMobileNet-V3 on an iPhone XS Max by 20% without sacrificing accuracy. Code and\\npre-trained models are available at\\nhttps://github.com/blackfeather-wang/GFNet-Pytorch.'\n",
      "Label(s): ['cs.CV' 'cs.LG' 'cs.AI']\n",
      "Predicted Label(s): (cs.CV, cs.LG, stat.ML)\n",
      " \n",
      "Abstract: b'While deep learning methods are increasingly being applied to tasks such as\\ncomputer-aided diagnosis, these models are difficult to interpret, do not\\nincorporate prior domain knowledge, and are often considered as a \"black-box.\"\\nThe lack of model interpretability hinders them from being fully understood by\\ntarget users such as radiologists. In this paper, we present a novel\\ninterpretable deep hierarchical semantic convolutional neural network (HSCNN)\\nto predict whether a given pulmonary nodule observed on a computed tomography\\n(CT) scan is malignant. Our network provides two levels of output: 1) low-level\\nradiologist semantic features, and 2) a high-level malignancy prediction score.\\nThe low-level semantic outputs quantify the diagnostic features used by\\nradiologists and serve to explain how the model interprets the images in an\\nexpert-driven manner. The information from these low-level tasks, along with\\nthe representations learned by the convolutional layers, are then combined and\\nused to infer the high-level task of predicting nodule malignancy. This unified\\narchitecture is trained by optimizing a global loss function including both\\nlow- and high-level tasks, thereby learning all the parameters within a joint\\nframework. Our experimental results using the Lung Image Database Consortium\\n(LIDC) show that the proposed method not only produces interpretable lung\\ncancer predictions but also achieves significantly better results compared to\\ncommon 3D CNN approaches.'\n",
      "Label(s): ['cs.CV' 'cs.AI']\n",
      "Predicted Label(s): (cs.CV, cs.LG, stat.ML)\n",
      " \n",
      "Abstract: b'Transformer-based models consist of interleaved feed-forward blocks - that\\ncapture content meaning, and relatively more expensive self-attention blocks -\\nthat capture context meaning. In this paper, we explored trade-offs and\\nordering of the blocks to improve upon the current Transformer architecture and\\nproposed PAR Transformer. It needs 35% lower compute time than Transformer-XL\\nachieved by replacing ~63% of the self-attention blocks with feed-forward\\nblocks, and retains the perplexity on WikiText-103 language modelling\\nbenchmark. We further validated our results on text8 and enwiki8 datasets, as\\nwell as on the BERT model.'\n",
      "Label(s): ['cs.LG' 'cs.CL']\n",
      "Predicted Label(s): (stat.ML, cs.LG, cs.CL)\n",
      " \n",
      "Abstract: b'With the rapid development of social network and multimedia technology,\\ncustomized image and video stylization has been widely used for various\\nsocial-media applications. In this paper, we explore the problem of\\nexemplar-based photo style transfer, which provides a flexible and convenient\\nway to invoke fantastic visual impression. Rather than investigating some fixed\\nartistic patterns to represent certain styles as was done in some previous\\nworks, our work emphasizes styles related to a series of visual effects in the\\nphotograph, e.g. color, tone, and contrast. We propose a photo stylistic brush,\\nan automatic robust style transfer approach based on Superpixel-based BIpartite\\nGraph (SuperBIG). A two-step bipartite graph algorithm with different\\ngranularity levels is employed to aggregate pixels into superpixels and find\\ntheir correspondences. In the first step, with the extracted hierarchical\\nfeatures, a bipartite graph is constructed to describe the content similarity\\nfor pixel partition to produce superpixels. In the second step, superpixels in\\nthe input/reference image are rematched to form a new superpixel-based\\nbipartite graph, and superpixel-level correspondences are generated by a\\nbipartite matching. Finally, the refined correspondence guides SuperBIG to\\nperform the transformation in a decorrelated color space. Extensive\\nexperimental results demonstrate the effectiveness and robustness of the\\nproposed method for transferring various styles of exemplar images, even for\\nsome challenging cases, such as night images.'\n",
      "Label(s): ['cs.CV']\n",
      "Predicted Label(s): (cs.CV, cs.MM, cs.GR)\n",
      " \n"
     ]
    }
   ],
   "source": [
    "# Create a model for inference.\n",
    "model_for_inference = keras.Sequential([text_vectorizer, shallow_mlp_model])\n",
    "\n",
    "# Create a small dataset just for demoing inference.\n",
    "inference_dataset = make_dataset(test_df.sample(100), is_train=False)\n",
    "text_batch, label_batch = next(iter(inference_dataset))\n",
    "predicted_probabilities = model_for_inference.predict(text_batch)\n",
    "\n",
    "# Perform inference.\n",
    "for i, text in enumerate(text_batch[:5]):\n",
    "    label = label_batch[i].numpy()[None, ...]\n",
    "    print(f\"Abstract: {text}\")\n",
    "    print(f\"Label(s): {invert_multi_hot(label[0])}\")\n",
    "    predicted_proba = [proba for proba in predicted_probabilities[i]]\n",
    "    top_3_labels = [\n",
    "        x\n",
    "        for _, x in sorted(\n",
    "            zip(predicted_probabilities[i], lookup.get_vocabulary()),\n",
    "            key=lambda pair: pair[0],\n",
    "            reverse=True,\n",
    "        )\n",
    "    ][:3]\n",
    "    print(f\"Predicted Label(s): ({', '.join([label for label in top_3_labels])})\")\n",
    "    print(\" \")"
   ]
  },
  {
   "cell_type": "code",
   "execution_count": null,
   "id": "247ae111",
   "metadata": {},
   "outputs": [],
   "source": []
  }
 ],
 "metadata": {
  "kernelspec": {
   "display_name": "Python 3 (ipykernel)",
   "language": "python",
   "name": "python3"
  },
  "language_info": {
   "codemirror_mode": {
    "name": "ipython",
    "version": 3
   },
   "file_extension": ".py",
   "mimetype": "text/x-python",
   "name": "python",
   "nbconvert_exporter": "python",
   "pygments_lexer": "ipython3",
   "version": "3.8.8"
  }
 },
 "nbformat": 4,
 "nbformat_minor": 5
}
