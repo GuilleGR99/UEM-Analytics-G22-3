{
 "cells": [
  {
   "cell_type": "code",
   "execution_count": 1,
   "id": "d66ca074",
   "metadata": {},
   "outputs": [],
   "source": [
    "import os\n",
    "#!pip install -U numpy\n",
    "#os.environ['KMP_DUPLICATE_LIB_OK']='True'\n",
    "from tensorflow.keras import layers\n",
    "from tensorflow import keras\n",
    "import tensorflow as tf\n",
    "\n",
    "from sklearn.model_selection import train_test_split\n",
    "from sklearn.model_selection import StratifiedKFold\n",
    "from ast import literal_eval\n",
    "import random\n",
    "import matplotlib.pyplot as plt\n",
    "import numpy as np\n",
    "import pandas as pd\n",
    "from sklearn.utils import class_weight\n"
   ]
  },
  {
   "cell_type": "code",
   "execution_count": 2,
   "id": "2ed59ef6",
   "metadata": {},
   "outputs": [
    {
     "data": {
      "text/plain": [
       "[PhysicalDevice(name='/physical_device:CPU:0', device_type='CPU'),\n",
       " PhysicalDevice(name='/physical_device:GPU:0', device_type='GPU')]"
      ]
     },
     "execution_count": 2,
     "metadata": {},
     "output_type": "execute_result"
    }
   ],
   "source": [
    "tf.config.list_physical_devices()"
   ]
  },
  {
   "cell_type": "code",
   "execution_count": null,
   "id": "f51db6a6",
   "metadata": {},
   "outputs": [],
   "source": []
  },
  {
   "cell_type": "code",
   "execution_count": 3,
   "id": "47e75f81",
   "metadata": {},
   "outputs": [],
   "source": [
    "data = pd.read_csv(\"spring/total.csv\",encoding='utf-8')"
   ]
  },
  {
   "cell_type": "code",
   "execution_count": 4,
   "id": "23a7cca5",
   "metadata": {},
   "outputs": [],
   "source": [
    "data[\"categorias\"] = data[\"categorias\"].apply(\n",
    "    lambda x: literal_eval(x)\n",
    ")\n"
   ]
  },
  {
   "cell_type": "code",
   "execution_count": null,
   "id": "8eb4de75",
   "metadata": {},
   "outputs": [],
   "source": []
  },
  {
   "cell_type": "code",
   "execution_count": 5,
   "id": "c8d44e62",
   "metadata": {},
   "outputs": [],
   "source": [
    "test_split = 0.3\n",
    "\n",
    "# Initial train and test split.\n",
    "train_df, test_df = train_test_split(\n",
    "    data,\n",
    "    test_size=test_split,\n",
    "    stratify=data[\"categorias\"].values,\n",
    ")\n",
    "# Splitting the test set further into validation\n",
    "# and new test sets.\n",
    "val_df = test_df.sample(frac=0.2)\n",
    "test_df.drop(val_df.index, inplace=True)"
   ]
  },
  {
   "cell_type": "code",
   "execution_count": 6,
   "id": "97f433e2",
   "metadata": {},
   "outputs": [
    {
     "name": "stdout",
     "output_type": "stream",
     "text": [
      "Vocabulary:\n",
      "\n",
      "32\n"
     ]
    }
   ],
   "source": [
    "terms = tf.ragged.constant(train_df[\"categorias\"].values)\n",
    "lookup = tf.keras.layers.StringLookup(output_mode=\"multi_hot\")\n",
    "lookup.adapt(terms)\n",
    "vocab = lookup.get_vocabulary()\n",
    "\n",
    "\n",
    "def invert_multi_hot(encoded_labels):\n",
    "    \"\"\"Reverse a single multi-hot encoded label to a tuple of vocab terms.\"\"\"\n",
    "    hot_indices = np.argwhere(encoded_labels == 1.0)[..., 0]\n",
    "    return np.take(vocab, hot_indices)\n",
    "\n",
    "\n",
    "print(\"Vocabulary:\\n\")\n",
    "print(lookup.vocabulary_size())"
   ]
  },
  {
   "cell_type": "code",
   "execution_count": 7,
   "id": "9e571b55",
   "metadata": {},
   "outputs": [
    {
     "data": {
      "text/plain": [
       "{'[UNK]': 0,\n",
       " 'Artificial Intelligence': 6549,\n",
       " 'Computational Intelligence': 5357,\n",
       " 'Computer Science': 3988,\n",
       " 'Communications Engineering, Networks': 2955,\n",
       " 'Control, Robotics, Mechatronics': 2010,\n",
       " 'Cyber-physical systems, IoT': 1962,\n",
       " 'Professional Computing': 1538,\n",
       " 'Mechanical Engineering': 1470,\n",
       " 'Data Structures and Information Theory': 1189,\n",
       " 'Industrial and Production Engineering': 1173,\n",
       " 'Medicine & Public Health': 1171,\n",
       " 'Science, Humanities and Social Sciences, multidisciplinary': 1154,\n",
       " 'Machine Learning': 1079,\n",
       " 'Computer Communication Networks': 1002,\n",
       " 'Manufacturing, Machines, Tools, Processes': 932,\n",
       " 'Robotics and Automation': 869,\n",
       " 'Computer Science, general': 816,\n",
       " 'Signal, Image and Speech Processing': 808,\n",
       " 'Data Engineering': 795,\n",
       " 'Data Mining and Knowledge Discovery': 788,\n",
       " 'Control and Systems Theory': 716,\n",
       " 'Business and Management': 671,\n",
       " 'Aerospace Technology and Astronautics': 654,\n",
       " 'Image Processing and Computer Vision': 644,\n",
       " 'Computer Imaging, Vision, Pattern Recognition and Graphics': 602,\n",
       " 'Transportation Technology and Traffic Engineering': 601,\n",
       " 'Statistics, general': 563,\n",
       " 'Life Sciences': 561,\n",
       " 'Automotive Engineering': 540,\n",
       " 'Computational Biology/Bioinformatics': 534,\n",
       " 'Science, multidisciplinary': 529}"
      ]
     },
     "execution_count": 7,
     "metadata": {},
     "output_type": "execute_result"
    }
   ],
   "source": [
    "flat = [item for sublist in data[\"categorias\"].tolist() for item in sublist]\n",
    "from collections import Counter\n",
    "contados = Counter(flat)\n",
    "{ i:contados[i] for i in vocab}"
   ]
  },
  {
   "cell_type": "code",
   "execution_count": 8,
   "id": "6b435c76",
   "metadata": {},
   "outputs": [
    {
     "name": "stdout",
     "output_type": "stream",
     "text": [
      "Original label: ['Medicine & Public Health']\n",
      "Label-binarized representation: [[0. 0. 0. 0. 0. 0. 0. 0. 0. 0. 0. 1. 0. 0. 0. 0. 0. 0. 0. 0. 0. 0. 0. 0.\n",
      "  0. 0. 0. 0. 0. 0. 0. 0.]]\n"
     ]
    }
   ],
   "source": [
    "sample_label = train_df[\"categorias\"].iloc[0]\n",
    "print(f\"Original label: {sample_label}\")\n",
    "\n",
    "label_binarized = lookup([sample_label])\n",
    "print(f\"Label-binarized representation: {label_binarized}\")"
   ]
  },
  {
   "cell_type": "code",
   "execution_count": 9,
   "id": "f8fb5e55",
   "metadata": {},
   "outputs": [
    {
     "data": {
      "text/plain": [
       "count    12643.000000\n",
       "mean       112.749347\n",
       "std         44.628666\n",
       "min          1.000000\n",
       "25%         84.000000\n",
       "50%        110.000000\n",
       "75%        138.000000\n",
       "max        852.000000\n",
       "Name: abstract, dtype: float64"
      ]
     },
     "execution_count": 9,
     "metadata": {},
     "output_type": "execute_result"
    }
   ],
   "source": [
    "train_df[\"abstract\"].apply(lambda x: len(x.split(\" \"))).describe()"
   ]
  },
  {
   "cell_type": "code",
   "execution_count": 10,
   "id": "cf1778f0",
   "metadata": {},
   "outputs": [],
   "source": [
    "max_seqlen = 221\n",
    "batch_size = 500\n",
    "padding_token = \"<pad>\"\n",
    "auto = tf.data.AUTOTUNE\n",
    "\n",
    "\n",
    "def make_dataset(dataframe, is_train=True):\n",
    "    labels = tf.ragged.constant(dataframe[\"categorias\"].values)\n",
    "    label_binarized = lookup(labels).numpy()\n",
    "    dataset = tf.data.Dataset.from_tensor_slices(\n",
    "        (dataframe[\"abstract\"].values, label_binarized)\n",
    "    )\n",
    "    dataset = dataset.shuffle(batch_size * 10) if is_train else dataset\n",
    "    return dataset.batch(batch_size)\n"
   ]
  },
  {
   "cell_type": "code",
   "execution_count": 11,
   "id": "97ae9ff3",
   "metadata": {},
   "outputs": [],
   "source": [
    "train_dataset = make_dataset(train_df, is_train=True)\n",
    "validation_dataset = make_dataset(val_df, is_train=False)\n",
    "test_dataset = make_dataset(test_df, is_train=False)"
   ]
  },
  {
   "cell_type": "code",
   "execution_count": 12,
   "id": "9f46aec1",
   "metadata": {},
   "outputs": [],
   "source": [
    "#next(iter(train_dataset))\n",
    "#train_df"
   ]
  },
  {
   "cell_type": "markdown",
   "id": "6764d920",
   "metadata": {},
   "source": [
    "text_batch, label_batch = next(iter(train_dataset))\n",
    "\n",
    "for i, text in enumerate(text_batch[:3]):\n",
    "    label = label_batch[i].numpy()[None, ...]\n",
    "    print(f\"Abstract: {text}\")\n",
    "    print(f\"Label(s): {invert_multi_hot(label[0])}\")\n",
    "    print(\" \")"
   ]
  },
  {
   "cell_type": "code",
   "execution_count": 13,
   "id": "ef222ff6",
   "metadata": {},
   "outputs": [
    {
     "name": "stdout",
     "output_type": "stream",
     "text": [
      "49811\n"
     ]
    }
   ],
   "source": [
    "# Source: https://stackoverflow.com/a/18937309/7636462\n",
    "vocabulary = set()\n",
    "train_df[\"abstract\"].str.lower().str.split().apply(vocabulary.update)\n",
    "vocabulary_size = len(vocabulary)\n",
    "print( vocabulary_size)"
   ]
  },
  {
   "cell_type": "code",
   "execution_count": 14,
   "id": "00f849d3",
   "metadata": {},
   "outputs": [],
   "source": [
    "text_vectorizer = layers.TextVectorization(\n",
    "    max_tokens=vocabulary_size, ngrams=2, output_mode=\"tf_idf\"\n",
    ")\n",
    "\n",
    "# `TextVectorization` layer needs to be adapted as per the vocabulary from our\n",
    "# training set.\n",
    "with tf.device(\"/CPU:0\"):\n",
    "    text_vectorizer.adapt(train_dataset.map(lambda text, label: text))\n",
    "\n",
    "train_dataset = train_dataset.map(\n",
    "    lambda text, label: (text_vectorizer(text), label), num_parallel_calls=auto\n",
    ").prefetch(auto)\n",
    "validation_dataset = validation_dataset.map(\n",
    "    lambda text, label: (text_vectorizer(text), label), num_parallel_calls=auto\n",
    ").prefetch(auto)\n",
    "test_dataset = test_dataset.map(\n",
    "    lambda text, label: (text_vectorizer(text), label), num_parallel_calls=auto\n",
    ").prefetch(auto)"
   ]
  },
  {
   "cell_type": "markdown",
   "id": "c5e6857a",
   "metadata": {},
   "source": [
    "def make_model():\n",
    "    shallow_mlp_model = keras.Sequential(\n",
    "        [\n",
    "\n",
    "            layers.Dense(512, activation=\"relu\"),\n",
    "            layers.Dense(256, activation=\"relu\"),\n",
    "            layers.Dense(lookup.vocabulary_size(), activation=\"sigmoid\"),\n",
    "            #layers.Dense( len(vocab), activation=\"sigmoid\"),\n",
    "        ]  # More on why \"sigmoid\" has been used here in a moment.\n",
    "    )\n",
    "    return shallow_mlp_model\n",
    "\n"
   ]
  },
  {
   "cell_type": "code",
   "execution_count": 15,
   "id": "30bfb647",
   "metadata": {},
   "outputs": [],
   "source": [
    "def make_model():\n",
    "    shallow_mlp_model = keras.Sequential(\n",
    "        [\n",
    "\n",
    "            layers.Dense(1024, activation=\"sigmoid\"),\n",
    "            layers.Dropout(.1),\n",
    "            layers.Dense(512, activation=\"sigmoid\"),\n",
    "            layers.Dropout(.1),\n",
    "            layers.Dense(224, activation=\"sigmoid\"),\n",
    "            layers.Dropout(.1),\n",
    "            layers.Dense(512, activation=\"sigmoid\"),\n",
    "            layers.Dense(1024, activation=\"sigmoid\"),\n",
    "            layers.Dropout(.1),\n",
    "            layers.Dense(512, activation=\"sigmoid\"),\n",
    "            layers.Dense(1024, activation=\"sigmoid\"),\n",
    "            layers.Dropout(.1),\n",
    "            layers.Dense(512, activation=\"sigmoid\"),\n",
    "            layers.Dropout(.1),\n",
    "            layers.Dense(1024, activation=\"sigmoid\"),\n",
    "            layers.Dropout(.1),\n",
    "            layers.Dense(lookup.vocabulary_size(), activation=\"sigmoid\"),\n",
    "            #layers.Dense( len(vocab), activation=\"sigmoid\"),\n",
    "        ]  # More on why \"sigmoid\" has been used here in a moment.\n",
    "    )\n",
    "    # Reshape((16, 8)) \n",
    "    return shallow_mlp_model"
   ]
  },
  {
   "cell_type": "code",
   "execution_count": 16,
   "id": "f8d4647d",
   "metadata": {},
   "outputs": [],
   "source": [
    "#shallow_mlp_model = make_model()\n",
    "max_lay = 40\n",
    "red = []\n",
    "shallow_mlp_model =  keras.Sequential()\n",
    "for i in range(max_lay):\n",
    "    nodos = random.randint(800, 1024)\n",
    "    red.append(nodos)\n",
    "    shallow_mlp_model.add( layers.Dense(nodos, activation=\"sigmoid\"))\n",
    "    shallow_mlp_model.add( layers.Dropout(.2))\n",
    "shallow_mlp_model.add( layers.Dense(1024, activation=\"sigmoid\"))\n",
    "shallow_mlp_model.add( layers.Dropout(.2))\n",
    "shallow_mlp_model.add( layers.Dense(lookup.vocabulary_size(), activation=\"softmax\"))"
   ]
  },
  {
   "cell_type": "code",
   "execution_count": null,
   "id": "d8f042ca",
   "metadata": {},
   "outputs": [],
   "source": []
  },
  {
   "cell_type": "code",
   "execution_count": 17,
   "id": "c7ea818a",
   "metadata": {},
   "outputs": [],
   "source": [
    "epochs = 20\n",
    "#5 para acelerar las primeras versiones, solo queremos ver que no explota\n",
    "#opt = tf.keras.optimizers.Adam(learning_rate=0.00001)\n",
    "opt = tf.keras.optimizers.Adamax(\n",
    "    learning_rate=0.0001)\n",
    "#perd = tf.keras.losses.BinaryCrossentropy( )\n",
    "\n",
    "perd = tf.keras.losses.CategoricalCrossentropy()\n",
    "# Add the class weights to the training                                         \n",
    "#model.fit(x_train, y_train, epochs=10, batch_size=32, class_weight=weights)\n",
    "\n",
    "shallow_mlp_model.compile(loss='kullback_leibler_divergence', optimizer=opt, metrics=[\"accuracy\",\"binary_accuracy\"])\n",
    "#binary_crossentropy\n",
    "#sparse_categorical_crossentropy"
   ]
  },
  {
   "cell_type": "code",
   "execution_count": 18,
   "id": "ad0f196f",
   "metadata": {},
   "outputs": [
    {
     "name": "stdout",
     "output_type": "stream",
     "text": [
      "Epoch 1/20\n",
      "26/26 [==============================] - 9s 178ms/step - loss: 7.8807 - accuracy: 0.2077 - binary_accuracy: 0.9245 - val_loss: 7.3649 - val_accuracy: 0.3552 - val_binary_accuracy: 0.9256\n",
      "Epoch 2/20\n",
      "26/26 [==============================] - 5s 167ms/step - loss: 7.6269 - accuracy: 0.2562 - binary_accuracy: 0.9245 - val_loss: 7.3533 - val_accuracy: 0.3552 - val_binary_accuracy: 0.9256\n",
      "Epoch 3/20\n",
      "26/26 [==============================] - 5s 165ms/step - loss: 7.6237 - accuracy: 0.2521 - binary_accuracy: 0.9245 - val_loss: 7.3490 - val_accuracy: 0.3552 - val_binary_accuracy: 0.9256\n",
      "Epoch 4/20\n",
      "26/26 [==============================] - 5s 168ms/step - loss: 7.6034 - accuracy: 0.2534 - binary_accuracy: 0.9245 - val_loss: 7.3520 - val_accuracy: 0.3552 - val_binary_accuracy: 0.9256\n",
      "Epoch 5/20\n",
      "26/26 [==============================] - 5s 168ms/step - loss: 7.6011 - accuracy: 0.2510 - binary_accuracy: 0.9245 - val_loss: 7.3480 - val_accuracy: 0.3552 - val_binary_accuracy: 0.9256\n",
      "Epoch 6/20\n",
      "26/26 [==============================] - 5s 167ms/step - loss: 7.5929 - accuracy: 0.2546 - binary_accuracy: 0.9245 - val_loss: 7.3486 - val_accuracy: 0.3552 - val_binary_accuracy: 0.9256\n",
      "Epoch 7/20\n",
      "26/26 [==============================] - 5s 168ms/step - loss: 7.5949 - accuracy: 0.2611 - binary_accuracy: 0.9245 - val_loss: 7.3474 - val_accuracy: 0.3552 - val_binary_accuracy: 0.9256\n",
      "Epoch 8/20\n",
      "26/26 [==============================] - 5s 167ms/step - loss: 7.5853 - accuracy: 0.2591 - binary_accuracy: 0.9245 - val_loss: 7.3471 - val_accuracy: 0.3552 - val_binary_accuracy: 0.9256\n",
      "Epoch 9/20\n",
      "26/26 [==============================] - 5s 168ms/step - loss: 7.5862 - accuracy: 0.2684 - binary_accuracy: 0.9245 - val_loss: 7.3486 - val_accuracy: 0.3552 - val_binary_accuracy: 0.9256\n",
      "Epoch 10/20\n",
      "26/26 [==============================] - 5s 168ms/step - loss: 7.5825 - accuracy: 0.2634 - binary_accuracy: 0.9245 - val_loss: 7.3471 - val_accuracy: 0.3552 - val_binary_accuracy: 0.9256\n",
      "Epoch 11/20\n",
      "26/26 [==============================] - 5s 168ms/step - loss: 7.5802 - accuracy: 0.2598 - binary_accuracy: 0.9245 - val_loss: 7.3471 - val_accuracy: 0.3552 - val_binary_accuracy: 0.9256\n",
      "Epoch 12/20\n",
      "26/26 [==============================] - 5s 168ms/step - loss: 7.5667 - accuracy: 0.2704 - binary_accuracy: 0.9245 - val_loss: 7.3490 - val_accuracy: 0.3552 - val_binary_accuracy: 0.9256\n",
      "Epoch 13/20\n",
      "26/26 [==============================] - 5s 167ms/step - loss: 7.5653 - accuracy: 0.2615 - binary_accuracy: 0.9245 - val_loss: 7.3467 - val_accuracy: 0.3552 - val_binary_accuracy: 0.9256\n",
      "Epoch 14/20\n",
      "26/26 [==============================] - 5s 168ms/step - loss: 7.5722 - accuracy: 0.2692 - binary_accuracy: 0.9245 - val_loss: 7.3466 - val_accuracy: 0.3552 - val_binary_accuracy: 0.9256\n",
      "Epoch 15/20\n",
      "26/26 [==============================] - 5s 168ms/step - loss: 7.5658 - accuracy: 0.2675 - binary_accuracy: 0.9245 - val_loss: 7.3469 - val_accuracy: 0.3552 - val_binary_accuracy: 0.9256\n",
      "Epoch 16/20\n",
      "26/26 [==============================] - 5s 168ms/step - loss: 7.5578 - accuracy: 0.2729 - binary_accuracy: 0.9245 - val_loss: 7.3472 - val_accuracy: 0.3552 - val_binary_accuracy: 0.9256\n",
      "Epoch 17/20\n",
      "26/26 [==============================] - 5s 167ms/step - loss: 7.5518 - accuracy: 0.2706 - binary_accuracy: 0.9245 - val_loss: 7.3467 - val_accuracy: 0.3552 - val_binary_accuracy: 0.9256\n",
      "Epoch 18/20\n",
      "26/26 [==============================] - 5s 168ms/step - loss: 7.5510 - accuracy: 0.2798 - binary_accuracy: 0.9245 - val_loss: 7.3470 - val_accuracy: 0.3552 - val_binary_accuracy: 0.9256\n",
      "Epoch 19/20\n",
      "26/26 [==============================] - 5s 167ms/step - loss: 7.5456 - accuracy: 0.2764 - binary_accuracy: 0.9245 - val_loss: 7.3465 - val_accuracy: 0.3552 - val_binary_accuracy: 0.9256\n",
      "Epoch 20/20\n",
      "26/26 [==============================] - 5s 167ms/step - loss: 7.5512 - accuracy: 0.2797 - binary_accuracy: 0.9245 - val_loss: 7.3476 - val_accuracy: 0.3552 - val_binary_accuracy: 0.9256\n"
     ]
    }
   ],
   "source": [
    "with tf.device(\"/GPU:0\"):\n",
    "    history = shallow_mlp_model.fit(train_dataset, validation_data=validation_dataset, epochs=epochs)\n",
    "#"
   ]
  },
  {
   "cell_type": "code",
   "execution_count": 19,
   "id": "f7b9d6e5",
   "metadata": {},
   "outputs": [
    {
     "data": {
      "image/png": "[encoded data removed]",
      "text/plain": [
       "<Figure size 640x480 with 1 Axes>"
      ]
     },
     "metadata": {},
     "output_type": "display_data"
    },
    {
     "data": {
      "image/png": "[encoded data removed]",
      "text/plain": [
       "<Figure size 640x480 with 1 Axes>"
      ]
     },
     "metadata": {},
     "output_type": "display_data"
    },
    {
     "data": {
      "image/png": "[encoded data removed]",
      "text/plain": [
       "<Figure size 640x480 with 1 Axes>"
      ]
     },
     "metadata": {},
     "output_type": "display_data"
    }
   ],
   "source": [
    "def plot_result(item):\n",
    "    plt.plot(history.history[item], label=item)\n",
    "    plt.plot(history.history[\"val_\" + item], label=\"val_\" + item)\n",
    "    plt.xlabel(\"Epochs\")\n",
    "    plt.ylabel(item)\n",
    "    plt.title(\"Train and Validation {} Over Epochs\".format(item), fontsize=14)\n",
    "    plt.legend()\n",
    "    plt.grid()\n",
    "    plt.show()\n",
    "\n",
    "\n",
    "plot_result(\"loss\")\n",
    "plot_result(\"accuracy\")\n",
    "plot_result(\"binary_accuracy\")"
   ]
  },
  {
   "cell_type": "code",
   "execution_count": 20,
   "id": "04d359fb",
   "metadata": {},
   "outputs": [],
   "source": [
    "#keras.models.save_model(shallow_mlp_model,'spring/radEd_model_v2.hdf5')\n",
    "#shallow_mlp_model = tf.keras.models.load_model('spring/radEd_model_v2.hdf5')"
   ]
  },
  {
   "cell_type": "code",
   "execution_count": 21,
   "id": "983d0a5c",
   "metadata": {},
   "outputs": [
    {
     "name": "stdout",
     "output_type": "stream",
     "text": [
      "9/9 [==============================] - 1s 68ms/step - loss: 7.4886 - accuracy: 0.3615 - binary_accuracy: 0.9243\n",
      "Categorical binary_acc on the test set: 92.43%.\n",
      "Categorical accuracy on the test set: 36.15%.\n"
     ]
    }
   ],
   "source": [
    "_,accura, binary_acc  = shallow_mlp_model.evaluate(test_dataset)\n",
    "print(f\"Categorical binary_acc on the test set: {round(binary_acc * 100, 2)}%.\")\n",
    "print(f\"Categorical accuracy on the test set: {round(accura * 100, 2)}%.\")"
   ]
  },
  {
   "cell_type": "code",
   "execution_count": 22,
   "id": "ae5bce1e",
   "metadata": {},
   "outputs": [
    {
     "name": "stdout",
     "output_type": "stream",
     "text": [
      "Label(s): ['Transportation Technology and Traffic Engineering']\n",
      "Predicted Label(s): (Artificial Intelligence, Computational Intelligence, Computer Science, Communications Engineering, Networks, Control, Robotics, Mechatronics)\n",
      " \n",
      "Label(s): ['Computational Intelligence' 'Industrial and Production Engineering']\n",
      "Predicted Label(s): (Artificial Intelligence, Computational Intelligence, Computer Science, Communications Engineering, Networks, Control, Robotics, Mechatronics)\n",
      " \n",
      "Label(s): ['Manufacturing, Machines, Tools, Processes']\n",
      "Predicted Label(s): (Artificial Intelligence, Computational Intelligence, Computer Science, Communications Engineering, Networks, Control, Robotics, Mechatronics)\n",
      " \n",
      "Label(s): ['Artificial Intelligence' 'Computational Intelligence'\n",
      " 'Communications Engineering, Networks' 'Control, Robotics, Mechatronics'\n",
      " 'Data Structures and Information Theory']\n",
      "Predicted Label(s): (Artificial Intelligence, Computational Intelligence, Computer Science, Communications Engineering, Networks, Control, Robotics, Mechatronics)\n",
      " \n",
      "Label(s): ['Artificial Intelligence' 'Computational Intelligence'\n",
      " 'Control, Robotics, Mechatronics']\n",
      "Predicted Label(s): (Artificial Intelligence, Computational Intelligence, Computer Science, Communications Engineering, Networks, Control, Robotics, Mechatronics)\n",
      " \n",
      "Label(s): ['Artificial Intelligence' 'Computer Science' 'Mechanical Engineering'\n",
      " 'Manufacturing, Machines, Tools, Processes']\n",
      "Predicted Label(s): (Artificial Intelligence, Computational Intelligence, Computer Science, Communications Engineering, Networks, Control, Robotics, Mechatronics)\n",
      " \n",
      "Label(s): ['Science, Humanities and Social Sciences, multidisciplinary'\n",
      " 'Science, multidisciplinary']\n",
      "Predicted Label(s): (Artificial Intelligence, Computational Intelligence, Computer Science, Communications Engineering, Networks, Control, Robotics, Mechatronics)\n",
      " \n",
      "Label(s): ['Artificial Intelligence' 'Computational Intelligence' 'Data Engineering']\n",
      "Predicted Label(s): (Artificial Intelligence, Computational Intelligence, Computer Science, Communications Engineering, Networks, Control, Robotics, Mechatronics)\n",
      " \n",
      "Label(s): ['Artificial Intelligence' 'Control, Robotics, Mechatronics']\n",
      "Predicted Label(s): (Artificial Intelligence, Computational Intelligence, Computer Science, Communications Engineering, Networks, Control, Robotics, Mechatronics)\n",
      " \n",
      "Label(s): ['Artificial Intelligence' 'Communications Engineering, Networks']\n",
      "Predicted Label(s): (Artificial Intelligence, Computational Intelligence, Computer Science, Communications Engineering, Networks, Control, Robotics, Mechatronics)\n",
      " \n"
     ]
    }
   ],
   "source": [
    "# Create a model for inference.\n",
    "model_for_inference = keras.Sequential([text_vectorizer, shallow_mlp_model])\n",
    "\n",
    "# Create a small dataset just for demoing inference.\n",
    "inference_dataset = make_dataset(test_df.sample(100), is_train=False)\n",
    "text_batch, label_batch = next(iter(inference_dataset))\n",
    "predicted_probabilities = model_for_inference.predict(text_batch)\n",
    "\n",
    "# Perform inference.\n",
    "for i, text in enumerate(text_batch[:10]):\n",
    "    label = label_batch[i].numpy()[None, ...]\n",
    "    #print(f\"Abstract: {text}\")\n",
    "    print(f\"Label(s): {invert_multi_hot(label[0])}\")\n",
    "    predicted_proba = [proba for proba in predicted_probabilities[i]]\n",
    "    top_3_labels = [\n",
    "        x\n",
    "        for _, x in sorted(\n",
    "            zip(predicted_probabilities[i], lookup.get_vocabulary()),\n",
    "            key=lambda pair: pair[0],\n",
    "            reverse=True,\n",
    "        )\n",
    "    ][:5]\n",
    "    print(f\"Predicted Label(s): ({', '.join([label for label in top_3_labels])})\")\n",
    "    print(\" \")"
   ]
  },
  {
   "cell_type": "code",
   "execution_count": 23,
   "id": "55815ba5",
   "metadata": {},
   "outputs": [
    {
     "data": {
      "text/plain": [
       "[(0.14776643, 'Artificial Intelligence'),\n",
       " (0.12224217, 'Computational Intelligence'),\n",
       " (0.09322312, 'Computer Science'),\n",
       " (0.06923704, 'Communications Engineering, Networks'),\n",
       " (0.047419757, 'Control, Robotics, Mechatronics'),\n",
       " (0.04479344, 'Cyber-physical systems, IoT')]"
      ]
     },
     "execution_count": 23,
     "metadata": {},
     "output_type": "execute_result"
    }
   ],
   "source": [
    "\n",
    "[\n",
    "        x\n",
    "        for  x in sorted(\n",
    "            zip(predicted_probabilities[60], lookup.get_vocabulary()),\n",
    "            key=lambda pair: pair[0],\n",
    "            reverse=True,\n",
    "        )\n",
    "    ][:6]"
   ]
  },
  {
   "cell_type": "code",
   "execution_count": null,
   "id": "a5a67eba",
   "metadata": {},
   "outputs": [],
   "source": []
  }
 ],
 "metadata": {
  "kernelspec": {
   "display_name": "Python 3",
   "language": "python",
   "name": "python3"
  },
  "language_info": {
   "codemirror_mode": {
    "name": "ipython",
    "version": 3
   },
   "file_extension": ".py",
   "mimetype": "text/x-python",
   "name": "python",
   "nbconvert_exporter": "python",
   "pygments_lexer": "ipython3",
   "version": "3.10.8 (tags/v3.10.8:aaaf517, Oct 11 2022, 16:50:30) [MSC v.1933 64 bit (AMD64)]"
  },
  "vscode": {
   "interpreter": {
    "hash": "4e02a394f46a34fb7f702684e07532c65eb0e3cf841f78604b97865c14e9683e"
   }
  }
 },
 "nbformat": 4,
 "nbformat_minor": 5
}
