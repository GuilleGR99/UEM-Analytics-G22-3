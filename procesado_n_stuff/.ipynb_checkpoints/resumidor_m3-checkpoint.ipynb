{
 "cells": [
  {
   "cell_type": "code",
   "execution_count": 1,
   "id": "0c696c67",
   "metadata": {},
   "outputs": [],
   "source": [
    "#ml6team/keyphrase-extraction-kbir-inspec"
   ]
  },
  {
   "cell_type": "code",
   "execution_count": 2,
   "id": "4da4e82f",
   "metadata": {},
   "outputs": [],
   "source": [
    "import time\n",
    "#import radical_ed as rad_ed"
   ]
  },
  {
   "cell_type": "code",
   "execution_count": 3,
   "id": "b95711eb",
   "metadata": {},
   "outputs": [],
   "source": [
    "from tensorflow.keras import layers\n",
    "import tensorflow as tf\n",
    "import numpy as np"
   ]
  },
  {
   "cell_type": "code",
   "execution_count": null,
   "id": "f1766f10",
   "metadata": {},
   "outputs": [],
   "source": [
    "\n",
    "        \n"
   ]
  },
  {
   "cell_type": "code",
   "execution_count": null,
   "id": "aed8ba4c",
   "metadata": {},
   "outputs": [],
   "source": []
  },
  {
   "cell_type": "code",
   "execution_count": null,
   "id": "f58221ba",
   "metadata": {},
   "outputs": [],
   "source": []
  },
  {
   "cell_type": "code",
   "execution_count": 4,
   "id": "9dcd851a",
   "metadata": {},
   "outputs": [],
   "source": [
    "import pandas as pd\n",
    "import os"
   ]
  },
  {
   "cell_type": "code",
   "execution_count": 5,
   "id": "b522ecc3",
   "metadata": {},
   "outputs": [
    {
     "name": "stdout",
     "output_type": "stream",
     "text": [
      "spring_advantage actor critic.csv\n",
      "spring_algorithms.csv\n",
      "spring_artificial intelligence.csv\n",
      "spring_balance.csv\n",
      "spring_computer science.csv\n",
      "spring_computer.csv\n"
     ]
    },
    {
     "name": "stderr",
     "output_type": "stream",
     "text": [
      "C:\\Users\\yo\\AppData\\Local\\Temp\\ipykernel_20312\\519775614.py:9: FutureWarning: The frame.append method is deprecated and will be removed from pandas in a future version. Use pandas.concat instead.\n",
      "  data = data.append(data_temp.sample(10))\n",
      "C:\\Users\\yo\\AppData\\Local\\Temp\\ipykernel_20312\\519775614.py:9: FutureWarning: The frame.append method is deprecated and will be removed from pandas in a future version. Use pandas.concat instead.\n",
      "  data = data.append(data_temp.sample(10))\n",
      "C:\\Users\\yo\\AppData\\Local\\Temp\\ipykernel_20312\\519775614.py:9: FutureWarning: The frame.append method is deprecated and will be removed from pandas in a future version. Use pandas.concat instead.\n",
      "  data = data.append(data_temp.sample(10))\n",
      "C:\\Users\\yo\\AppData\\Local\\Temp\\ipykernel_20312\\519775614.py:9: FutureWarning: The frame.append method is deprecated and will be removed from pandas in a future version. Use pandas.concat instead.\n",
      "  data = data.append(data_temp.sample(10))\n",
      "C:\\Users\\yo\\AppData\\Local\\Temp\\ipykernel_20312\\519775614.py:9: FutureWarning: The frame.append method is deprecated and will be removed from pandas in a future version. Use pandas.concat instead.\n",
      "  data = data.append(data_temp.sample(10))\n",
      "C:\\Users\\yo\\AppData\\Local\\Temp\\ipykernel_20312\\519775614.py:9: FutureWarning: The frame.append method is deprecated and will be removed from pandas in a future version. Use pandas.concat instead.\n",
      "  data = data.append(data_temp.sample(10))\n"
     ]
    }
   ],
   "source": [
    "dir_list = os.listdir(\"spring/\")\n",
    "dir_list = [x for x in dir_list if   \".csv\" in x]\n",
    "data = pd.DataFrame()\n",
    "for i in dir_list:\n",
    "    if i == \"total.csv\":\n",
    "        continue\n",
    "    print(i)\n",
    "    data_temp = pd.read_csv(\"spring/\"+i)\n",
    "    data = data.append(data_temp.sample(10))"
   ]
  },
  {
   "cell_type": "code",
   "execution_count": 6,
   "id": "d2451bd5",
   "metadata": {},
   "outputs": [
    {
     "data": {
      "text/plain": [
       "<keras.layers.preprocessing.text_vectorization.TextVectorization at 0x1aae189d580>"
      ]
     },
     "execution_count": 6,
     "metadata": {},
     "output_type": "execute_result"
    }
   ],
   "source": [
    "#tf_idf\n",
    "\n",
    "max_length = 50000\n",
    "text_vectorizer = layers.TextVectorization(\n",
    "    max_tokens=max_length, ngrams=2, output_mode=\"tf_idf\" #multi_hot\n",
    ")\n",
    "\n",
    "# `TextVectorization` layer needs to be adapted as per the vocabulary from our\n",
    "# training set.\n",
    "with tf.device(\"/CPU:0\"):\n",
    "    text_vectorizer.adapt(data[\"abstract\"])\n"
   ]
  },
  {
   "cell_type": "code",
   "execution_count": 16,
   "id": "689b75a7",
   "metadata": {},
   "outputs": [],
   "source": [
    "processed_texts = data[\"abstract\"].map(lambda text : text_vectorizer(text)).tolist()\n",
    "\n",
    "cosine_loss = tf.keras.losses.CosineSimilarity(axis=1)\n",
    "# l2_norm(y_true) = [[0., 1.], [1./1.414, 1./1.414]]\n",
    "# l2_norm(y_pred) = [[1., 0.], [1./1.414, 1./1.414]]\n",
    "# l2_norm(y_true) . l2_norm(y_pred) = [[0., 0.], [0.5, 0.5]]\n",
    "# loss = mean(sum(l2_norm(y_true) . l2_norm(y_pred), axis=1))\n",
    "#       = -((0. + 0.) +  (0.5 + 0.5)) / 2\n"
   ]
  },
  {
   "cell_type": "code",
   "execution_count": 15,
   "id": "4ea698f9",
   "metadata": {},
   "outputs": [
    {
     "data": {
      "text/plain": [
       "[<tf.Tensor: shape=(9840,), dtype=float32, numpy=\n",
       " array([0.       , 6.16425  , 1.3698334, ..., 0.       , 0.       ,\n",
       "        0.       ], dtype=float32)>,\n",
       " <tf.Tensor: shape=(9840,), dtype=float32, numpy=\n",
       " array([ 0.      , 10.27375 ,  4.794417, ...,  0.      ,  0.      ,\n",
       "         0.      ], dtype=float32)>,\n",
       " <tf.Tensor: shape=(9840,), dtype=float32, numpy=\n",
       " array([ 0.     , 14.38325,  6.16425, ...,  0.     ,  0.     ,  0.     ],\n",
       "       dtype=float32)>,\n",
       " <tf.Tensor: shape=(9840,), dtype=float32, numpy=\n",
       " array([0.      , 6.16425 , 4.794417, ..., 0.      , 0.      , 0.      ],\n",
       "       dtype=float32)>,\n",
       " <tf.Tensor: shape=(9840,), dtype=float32, numpy=\n",
       " array([ 0.      , 13.013417, 11.643583, ...,  0.      ,  0.      ,\n",
       "         0.      ], dtype=float32)>,\n",
       " <tf.Tensor: shape=(9840,), dtype=float32, numpy=\n",
       " array([0.       , 6.849167 , 2.7396667, ..., 0.       , 0.       ,\n",
       "        0.       ], dtype=float32)>,\n",
       " <tf.Tensor: shape=(9840,), dtype=float32, numpy=\n",
       " array([0.       , 4.794417 , 5.4793334, ..., 0.       , 0.       ,\n",
       "        0.       ], dtype=float32)>,\n",
       " <tf.Tensor: shape=(9840,), dtype=float32, numpy=\n",
       " array([0.      , 6.16425 , 6.849167, ..., 0.      , 0.      , 0.      ],\n",
       "       dtype=float32)>,\n",
       " <tf.Tensor: shape=(9840,), dtype=float32, numpy=array([0.    , 8.219 , 4.1095, ..., 0.    , 0.    , 0.    ], dtype=float32)>,\n",
       " <tf.Tensor: shape=(9840,), dtype=float32, numpy=\n",
       " array([ 0.       , 10.958667 ,  3.4245834, ...,  0.       ,  0.       ,\n",
       "         0.       ], dtype=float32)>,\n",
       " <tf.Tensor: shape=(9840,), dtype=float32, numpy=array([0.    , 8.219 , 4.1095, ..., 0.    , 0.    , 0.    ], dtype=float32)>,\n",
       " <tf.Tensor: shape=(9840,), dtype=float32, numpy=\n",
       " array([ 0.       , 11.643583 ,  3.4245834, ...,  0.       ,  0.       ,\n",
       "         0.       ], dtype=float32)>,\n",
       " <tf.Tensor: shape=(9840,), dtype=float32, numpy=\n",
       " array([0.       , 8.903916 , 1.3698334, ..., 0.       , 0.       ,\n",
       "        0.       ], dtype=float32)>,\n",
       " <tf.Tensor: shape=(9840,), dtype=float32, numpy=\n",
       " array([0.       , 4.1095   , 1.3698334, ..., 0.       , 0.       ,\n",
       "        0.       ], dtype=float32)>,\n",
       " <tf.Tensor: shape=(9840,), dtype=float32, numpy=\n",
       " array([0.       , 9.588834 , 2.7396667, ..., 0.       , 0.       ,\n",
       "        0.       ], dtype=float32)>,\n",
       " <tf.Tensor: shape=(9840,), dtype=float32, numpy=\n",
       " array([0.       , 6.16425  , 2.7396667, ..., 0.       , 0.       ,\n",
       "        0.       ], dtype=float32)>,\n",
       " <tf.Tensor: shape=(9840,), dtype=float32, numpy=\n",
       " array([ 0.      , 17.122917,  6.16425 , ...,  0.      ,  0.      ,\n",
       "         0.      ], dtype=float32)>,\n",
       " <tf.Tensor: shape=(9840,), dtype=float32, numpy=array([0.    , 4.1095, 4.1095, ..., 0.    , 0.    , 0.    ], dtype=float32)>,\n",
       " <tf.Tensor: shape=(9840,), dtype=float32, numpy=\n",
       " array([ 0.       , 10.958667 ,  1.3698334, ...,  0.       ,  0.       ,\n",
       "         0.       ], dtype=float32)>,\n",
       " <tf.Tensor: shape=(9840,), dtype=float32, numpy=\n",
       " array([0.      , 8.903916, 6.849167, ..., 0.      , 0.      , 0.      ],\n",
       "       dtype=float32)>,\n",
       " <tf.Tensor: shape=(9840,), dtype=float32, numpy=\n",
       " array([0.       , 2.7396667, 2.05475  , ..., 0.       , 3.4339871,\n",
       "        3.4339871], dtype=float32)>,\n",
       " <tf.Tensor: shape=(9840,), dtype=float32, numpy=\n",
       " array([0.      , 6.16425 , 9.588834, ..., 0.      , 0.      , 0.      ],\n",
       "       dtype=float32)>,\n",
       " <tf.Tensor: shape=(9840,), dtype=float32, numpy=\n",
       " array([0.       , 0.6849167, 2.05475  , ..., 0.       , 0.       ,\n",
       "        0.       ], dtype=float32)>,\n",
       " <tf.Tensor: shape=(9840,), dtype=float32, numpy=\n",
       " array([0.       , 5.4793334, 4.1095   , ..., 0.       , 0.       ,\n",
       "        0.       ], dtype=float32)>,\n",
       " <tf.Tensor: shape=(9840,), dtype=float32, numpy=\n",
       " array([0.       , 6.16425  , 3.4245834, ..., 0.       , 0.       ,\n",
       "        0.       ], dtype=float32)>,\n",
       " <tf.Tensor: shape=(9840,), dtype=float32, numpy=\n",
       " array([0.       , 9.588834 , 5.4793334, ..., 0.       , 0.       ,\n",
       "        0.       ], dtype=float32)>,\n",
       " <tf.Tensor: shape=(9840,), dtype=float32, numpy=\n",
       " array([0.       , 0.6849167, 6.16425  , ..., 0.       , 0.       ,\n",
       "        0.       ], dtype=float32)>,\n",
       " <tf.Tensor: shape=(9840,), dtype=float32, numpy=\n",
       " array([0.       , 4.1095   , 0.6849167, ..., 0.       , 0.       ,\n",
       "        0.       ], dtype=float32)>,\n",
       " <tf.Tensor: shape=(9840,), dtype=float32, numpy=\n",
       " array([0.      , 8.219   , 4.794417, ..., 0.      , 0.      , 0.      ],\n",
       "       dtype=float32)>,\n",
       " <tf.Tensor: shape=(9840,), dtype=float32, numpy=\n",
       " array([0.     , 2.05475, 8.219  , ..., 0.     , 0.     , 0.     ],\n",
       "       dtype=float32)>,\n",
       " <tf.Tensor: shape=(9840,), dtype=float32, numpy=\n",
       " array([0.       , 6.849167 , 1.3698334, ..., 0.       , 0.       ,\n",
       "        0.       ], dtype=float32)>,\n",
       " <tf.Tensor: shape=(9840,), dtype=float32, numpy=\n",
       " array([ 0.       , 10.27375  ,  2.05475  , ...,  3.4339871,  0.       ,\n",
       "         0.       ], dtype=float32)>,\n",
       " <tf.Tensor: shape=(9840,), dtype=float32, numpy=\n",
       " array([ 0.       , 14.38325  ,  1.3698334, ...,  0.       ,  0.       ,\n",
       "         0.       ], dtype=float32)>,\n",
       " <tf.Tensor: shape=(9840,), dtype=float32, numpy=\n",
       " array([0.       , 5.4793334, 2.05475  , ..., 0.       , 0.       ,\n",
       "        0.       ], dtype=float32)>,\n",
       " <tf.Tensor: shape=(9840,), dtype=float32, numpy=\n",
       " array([0.      , 6.16425 , 8.903916, ..., 0.      , 0.      , 0.      ],\n",
       "       dtype=float32)>,\n",
       " <tf.Tensor: shape=(9840,), dtype=float32, numpy=array([0.    , 8.219 , 4.1095, ..., 0.    , 0.    , 0.    ], dtype=float32)>,\n",
       " <tf.Tensor: shape=(9840,), dtype=float32, numpy=\n",
       " array([0.       , 4.1095   , 2.7396667, ..., 0.       , 0.       ,\n",
       "        0.       ], dtype=float32)>,\n",
       " <tf.Tensor: shape=(9840,), dtype=float32, numpy=\n",
       " array([0.      , 9.588834, 2.05475 , ..., 0.      , 0.      , 0.      ],\n",
       "       dtype=float32)>,\n",
       " <tf.Tensor: shape=(9840,), dtype=float32, numpy=\n",
       " array([0.       , 2.7396667, 2.7396667, ..., 0.       , 0.       ,\n",
       "        0.       ], dtype=float32)>,\n",
       " <tf.Tensor: shape=(9840,), dtype=float32, numpy=\n",
       " array([0.       , 1.3698334, 5.4793334, ..., 0.       , 0.       ,\n",
       "        0.       ], dtype=float32)>,\n",
       " <tf.Tensor: shape=(9840,), dtype=float32, numpy=\n",
       " array([0.       , 2.7396667, 2.7396667, ..., 0.       , 0.       ,\n",
       "        0.       ], dtype=float32)>,\n",
       " <tf.Tensor: shape=(9840,), dtype=float32, numpy=\n",
       " array([0.       , 5.4793334, 4.1095   , ..., 0.       , 0.       ,\n",
       "        0.       ], dtype=float32)>,\n",
       " <tf.Tensor: shape=(9840,), dtype=float32, numpy=\n",
       " array([0.     , 4.1095 , 2.05475, ..., 0.     , 0.     , 0.     ],\n",
       "       dtype=float32)>,\n",
       " <tf.Tensor: shape=(9840,), dtype=float32, numpy=\n",
       " array([0.       , 9.588834 , 2.7396667, ..., 0.       , 0.       ,\n",
       "        0.       ], dtype=float32)>,\n",
       " <tf.Tensor: shape=(9840,), dtype=float32, numpy=\n",
       " array([0.       , 6.849167 , 2.7396667, ..., 0.       , 0.       ,\n",
       "        0.       ], dtype=float32)>,\n",
       " <tf.Tensor: shape=(9840,), dtype=float32, numpy=\n",
       " array([0.      , 6.849167, 4.794417, ..., 0.      , 0.      , 0.      ],\n",
       "       dtype=float32)>,\n",
       " <tf.Tensor: shape=(9840,), dtype=float32, numpy=\n",
       " array([0.       , 6.849167 , 2.7396667, ..., 0.       , 0.       ,\n",
       "        0.       ], dtype=float32)>,\n",
       " <tf.Tensor: shape=(9840,), dtype=float32, numpy=\n",
       " array([0.       , 4.1095   , 1.3698334, ..., 0.       , 0.       ,\n",
       "        0.       ], dtype=float32)>,\n",
       " <tf.Tensor: shape=(9840,), dtype=float32, numpy=\n",
       " array([0.      , 4.794417, 6.849167, ..., 0.      , 0.      , 0.      ],\n",
       "       dtype=float32)>,\n",
       " <tf.Tensor: shape=(9840,), dtype=float32, numpy=\n",
       " array([0.      , 4.794417, 2.05475 , ..., 0.      , 0.      , 0.      ],\n",
       "       dtype=float32)>,\n",
       " <tf.Tensor: shape=(9840,), dtype=float32, numpy=\n",
       " array([ 0.      , 23.287167, 10.958667, ...,  0.      ,  0.      ,\n",
       "         0.      ], dtype=float32)>,\n",
       " <tf.Tensor: shape=(9840,), dtype=float32, numpy=\n",
       " array([0.       , 5.4793334, 4.794417 , ..., 0.       , 0.       ,\n",
       "        0.       ], dtype=float32)>,\n",
       " <tf.Tensor: shape=(9840,), dtype=float32, numpy=\n",
       " array([0.       , 5.4793334, 5.4793334, ..., 0.       , 0.       ,\n",
       "        0.       ], dtype=float32)>,\n",
       " <tf.Tensor: shape=(9840,), dtype=float32, numpy=\n",
       " array([0.       , 0.6849167, 2.05475  , ..., 0.       , 0.       ,\n",
       "        0.       ], dtype=float32)>,\n",
       " <tf.Tensor: shape=(9840,), dtype=float32, numpy=\n",
       " array([0.       , 8.903916 , 1.3698334, ..., 0.       , 0.       ,\n",
       "        0.       ], dtype=float32)>,\n",
       " <tf.Tensor: shape=(9840,), dtype=float32, numpy=\n",
       " array([0.       , 3.4245834, 2.7396667, ..., 0.       , 0.       ,\n",
       "        0.       ], dtype=float32)>,\n",
       " <tf.Tensor: shape=(9840,), dtype=float32, numpy=\n",
       " array([0.      , 9.588834, 6.849167, ..., 0.      , 0.      , 0.      ],\n",
       "       dtype=float32)>,\n",
       " <tf.Tensor: shape=(9840,), dtype=float32, numpy=\n",
       " array([0.       , 6.16425  , 5.4793334, ..., 0.       , 0.       ,\n",
       "        0.       ], dtype=float32)>,\n",
       " <tf.Tensor: shape=(9840,), dtype=float32, numpy=\n",
       " array([ 0.      , 22.602251, 13.698334, ...,  0.      ,  0.      ,\n",
       "         0.      ], dtype=float32)>,\n",
       " <tf.Tensor: shape=(9840,), dtype=float32, numpy=\n",
       " array([0.       , 2.7396667, 4.1095   , ..., 0.       , 0.       ,\n",
       "        0.       ], dtype=float32)>]"
      ]
     },
     "execution_count": 15,
     "metadata": {},
     "output_type": "execute_result"
    }
   ],
   "source": []
  },
  {
   "cell_type": "code",
   "execution_count": 26,
   "id": "cfb0c1d0",
   "metadata": {},
   "outputs": [
    {
     "data": {
      "text/plain": [
       "-0.07396856"
      ]
     },
     "execution_count": 26,
     "metadata": {},
     "output_type": "execute_result"
    }
   ],
   "source": [
    "cosine_loss([processed_texts[0]], [processed_texts[8]]).numpy()"
   ]
  },
  {
   "cell_type": "code",
   "execution_count": 7,
   "id": "affe448d",
   "metadata": {},
   "outputs": [
    {
     "name": "stderr",
     "output_type": "stream",
     "text": [
      "C:\\Users\\yo\\.conda\\envs\\transformers\\lib\\site-packages\\tqdm\\auto.py:22: TqdmWarning: IProgress not found. Please update jupyter and ipywidgets. See https://ipywidgets.readthedocs.io/en/stable/user_install.html\n",
      "  from .autonotebook import tqdm as notebook_tqdm\n"
     ]
    },
    {
     "ename": "NameError",
     "evalue": "name 'torch' is not defined",
     "output_type": "error",
     "traceback": [
      "\u001b[1;31m---------------------------------------------------------------------------\u001b[0m",
      "\u001b[1;31mNameError\u001b[0m                                 Traceback (most recent call last)",
      "Cell \u001b[1;32mIn[7], line 28\u001b[0m\n\u001b[0;32m     17\u001b[0m batch \u001b[38;5;241m=\u001b[39m tokenizer\u001b[38;5;241m.\u001b[39mbatch_encode_plus(\n\u001b[0;32m     18\u001b[0m                 sentences,\n\u001b[0;32m     19\u001b[0m                 return_tensors\u001b[38;5;241m=\u001b[39m\u001b[38;5;124m'\u001b[39m\u001b[38;5;124mpt\u001b[39m\u001b[38;5;124m'\u001b[39m,\n\u001b[1;32m   (...)\u001b[0m\n\u001b[0;32m     22\u001b[0m                 truncation\u001b[38;5;241m=\u001b[39m\u001b[38;5;28;01mTrue\u001b[39;00m\n\u001b[0;32m     23\u001b[0m             )\n\u001b[0;32m     25\u001b[0m \u001b[38;5;66;03m# Compute the embeddings and keep only the _**[CLS]**_ embedding (the first token)\u001b[39;00m\n\u001b[0;32m     26\u001b[0m \n\u001b[0;32m     27\u001b[0m \u001b[38;5;66;03m# Get raw embeddings (no gradients)\u001b[39;00m\n\u001b[1;32m---> 28\u001b[0m \u001b[38;5;28;01mwith\u001b[39;00m \u001b[43mtorch\u001b[49m\u001b[38;5;241m.\u001b[39mno_grad():\n\u001b[0;32m     29\u001b[0m     outputs \u001b[38;5;241m=\u001b[39m model(\u001b[38;5;241m*\u001b[39m\u001b[38;5;241m*\u001b[39mbatch, output_hidden_states\u001b[38;5;241m=\u001b[39m\u001b[38;5;28;01mTrue\u001b[39;00m, return_dict\u001b[38;5;241m=\u001b[39m\u001b[38;5;28;01mTrue\u001b[39;00m)\n\u001b[0;32m     31\u001b[0m embeddings \u001b[38;5;241m=\u001b[39m outputs\u001b[38;5;241m.\u001b[39mlast_hidden_state[:,\u001b[38;5;241m0\u001b[39m]\n",
      "\u001b[1;31mNameError\u001b[0m: name 'torch' is not defined"
     ]
    }
   ],
   "source": []
  },
  {
   "cell_type": "code",
   "execution_count": null,
   "id": "c490e24d",
   "metadata": {},
   "outputs": [],
   "source": [
    "#text = data[\"abstract\"].tolist()[5]"
   ]
  },
  {
   "cell_type": "code",
   "execution_count": null,
   "id": "adfcd387",
   "metadata": {},
   "outputs": [],
   "source": []
  },
  {
   "cell_type": "code",
   "execution_count": null,
   "id": "fe583a88",
   "metadata": {},
   "outputs": [],
   "source": []
  },
  {
   "cell_type": "code",
   "execution_count": null,
   "id": "e748513b",
   "metadata": {},
   "outputs": [],
   "source": []
  },
  {
   "cell_type": "code",
   "execution_count": null,
   "id": "784257d4",
   "metadata": {},
   "outputs": [],
   "source": []
  },
  {
   "cell_type": "code",
   "execution_count": null,
   "id": "41befb29",
   "metadata": {},
   "outputs": [],
   "source": []
  }
 ],
 "metadata": {
  "kernelspec": {
   "display_name": "Python 3 (ipykernel)",
   "language": "python",
   "name": "python3"
  },
  "language_info": {
   "codemirror_mode": {
    "name": "ipython",
    "version": 3
   },
   "file_extension": ".py",
   "mimetype": "text/x-python",
   "name": "python",
   "nbconvert_exporter": "python",
   "pygments_lexer": "ipython3",
   "version": "3.9.15"
  }
 },
 "nbformat": 4,
 "nbformat_minor": 5
}
