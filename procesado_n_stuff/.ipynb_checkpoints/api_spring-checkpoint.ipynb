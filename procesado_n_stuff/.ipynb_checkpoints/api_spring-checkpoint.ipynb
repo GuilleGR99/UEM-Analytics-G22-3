{
 "cells": [
  {
   "cell_type": "code",
   "execution_count": 1,
   "id": "e92d0e0a",
   "metadata": {},
   "outputs": [],
   "source": [
    "# Importamos bibliotecas\n",
    "import requests\n",
    "from lxml import html\n",
    "import time\n",
    "import random\n",
    "import pandas as pd\n",
    "import json"
   ]
  },
  {
   "cell_type": "code",
   "execution_count": 2,
   "id": "1675a7eb",
   "metadata": {},
   "outputs": [],
   "source": [
    "area = 'law'\n",
    "fuente = 'spring'\n",
    "\n",
    "num_de_paginas = 200\n"
   ]
  },
  {
   "cell_type": "code",
   "execution_count": 3,
   "id": "96b4f298",
   "metadata": {},
   "outputs": [],
   "source": [
    "token = \"e92b055534e1400b7259e1827871f932\""
   ]
  },
  {
   "cell_type": "code",
   "execution_count": 4,
   "id": "dfcdd197",
   "metadata": {},
   "outputs": [],
   "source": [
    "#pagina = \"http://api.springernature.com/metadata/pam?q=keyword:onlinear&api_key=\"+token\n",
    "\n",
    "pagina =\"http://api.springernature.com/metadata/json?q=%22\"+area.replace(\" \", \"%20\")+\"%22&api_key=\"+token"
   ]
  },
  {
   "cell_type": "code",
   "execution_count": 5,
   "id": "4b54da5f",
   "metadata": {},
   "outputs": [
    {
     "name": "stdout",
     "output_type": "stream",
     "text": [
      "[{'total': '3053353', 'start': '1', 'pageLength': '10', 'recordsDisplayed': '10'}]\n"
     ]
    }
   ],
   "source": [
    "headers = requests.utils.default_headers()\n",
    "\n",
    "headers.update(\n",
    "    {\n",
    "        'User-Agent': 'Chrome/96.0.4664.93',\n",
    "    }\n",
    ")\n",
    "\n",
    "req =  requests.get(pagina, headers=headers)\n",
    "text = req.text\n",
    "dictio = json.loads(text)\n",
    "print(dictio.get(\"result\"))"
   ]
  },
  {
   "cell_type": "code",
   "execution_count": null,
   "id": "f5e072cf",
   "metadata": {},
   "outputs": [
    {
     "name": "stdout",
     "output_type": "stream",
     "text": [
      "0 : <Response [200]>\n",
      "1 : <Response [200]>\n",
      "2 : <Response [200]>\n",
      "3 : <Response [200]>\n",
      "4 : <Response [200]>\n",
      "5 : <Response [200]>\n",
      "6 : <Response [200]>\n",
      "7 : <Response [200]>\n",
      "8 : <Response [200]>\n",
      "9 : <Response [200]>\n",
      "10 : <Response [200]>\n",
      "11 : <Response [200]>\n",
      "12 : <Response [200]>\n",
      "13 : <Response [200]>\n",
      "14 : <Response [200]>\n",
      "15 : <Response [200]>\n",
      "16 : <Response [200]>\n",
      "17 : <Response [200]>\n",
      "18 : <Response [200]>\n",
      "19 : <Response [200]>\n",
      "20 : <Response [200]>\n",
      "21 : <Response [200]>\n",
      "22 : <Response [200]>\n",
      "23 : <Response [200]>\n",
      "24 : <Response [200]>\n",
      "25 : <Response [200]>\n",
      "26 : <Response [200]>\n",
      "27 : <Response [200]>\n",
      "28 : <Response [200]>\n",
      "29 : <Response [200]>\n",
      "30 : <Response [200]>\n",
      "31 : <Response [200]>\n",
      "32 : <Response [200]>\n",
      "33 : <Response [200]>\n",
      "34 : <Response [200]>\n",
      "35 : <Response [200]>\n",
      "36 : <Response [200]>\n",
      "37 : <Response [200]>\n",
      "38 : <Response [200]>\n",
      "39 : <Response [200]>\n",
      "40 : <Response [200]>\n",
      "41 : <Response [200]>\n",
      "42 : <Response [200]>\n",
      "43 : <Response [200]>\n",
      "44 : <Response [200]>\n",
      "45 : <Response [200]>\n",
      "46 : <Response [200]>\n",
      "47 : <Response [200]>\n",
      "48 : <Response [200]>\n"
     ]
    }
   ],
   "source": [
    "papers = []\n",
    "\n",
    "\n",
    "for i in range (num_de_paginas):\n",
    "    req =  requests.get(pagina, headers=headers)\n",
    "    print(str(i)+\" :\",req)\n",
    "    if req.status_code == 429:\n",
    "        print('wait' +req.headers.get('Retry-After'))\n",
    "        time.sleep(int(req.headers.get('Retry-After'))+1)\n",
    "        req =  requests.get(pagina, headers=headers)\n",
    "    #Convertimos a diccionario\n",
    "    text = req.text\n",
    "    dictio = json.loads(text)\n",
    "    # dict_keys(['apiMessage', 'query', 'apiKey', 'nextPage', 'result', 'records', 'facets'])\n",
    "    papers.extend(dictio.get(\"records\"))\n",
    "    pagina = \"http://api.springernature.com\" + dictio.get(\"nextPage\")"
   ]
  },
  {
   "cell_type": "code",
   "execution_count": null,
   "id": "6960a8a6",
   "metadata": {
    "scrolled": true
   },
   "outputs": [],
   "source": [
    "\n",
    "data_raw = pd.DataFrame.from_dict(papers)\n",
    "\n",
    "len(data_raw)"
   ]
  },
  {
   "cell_type": "code",
   "execution_count": null,
   "id": "8395363b",
   "metadata": {},
   "outputs": [],
   "source": [
    "data = data_raw[['identifier','language','title','genre','abstract','subjects']]\n",
    "\n",
    "data.head()"
   ]
  },
  {
   "cell_type": "code",
   "execution_count": null,
   "id": "7ee7e6dd",
   "metadata": {},
   "outputs": [],
   "source": [
    "filepath = 'spring/spring_'+area+\".csv\"\n",
    "data.to_csv(filepath,index=False)  "
   ]
  },
  {
   "cell_type": "code",
   "execution_count": null,
   "id": "541648ab",
   "metadata": {},
   "outputs": [],
   "source": []
  },
  {
   "cell_type": "code",
   "execution_count": null,
   "id": "50ec195c",
   "metadata": {},
   "outputs": [],
   "source": []
  },
  {
   "cell_type": "code",
   "execution_count": null,
   "id": "4d960add",
   "metadata": {},
   "outputs": [],
   "source": []
  }
 ],
 "metadata": {
  "kernelspec": {
   "display_name": "Python 3 (ipykernel)",
   "language": "python",
   "name": "python3"
  },
  "language_info": {
   "codemirror_mode": {
    "name": "ipython",
    "version": 3
   },
   "file_extension": ".py",
   "mimetype": "text/x-python",
   "name": "python",
   "nbconvert_exporter": "python",
   "pygments_lexer": "ipython3",
   "version": "3.8.8"
  }
 },
 "nbformat": 4,
 "nbformat_minor": 5
}
