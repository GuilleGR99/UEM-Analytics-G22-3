{
 "cells": [
  {
   "cell_type": "code",
   "execution_count": 1,
   "id": "9c3a084a",
   "metadata": {},
   "outputs": [],
   "source": [
    "import pandas as pd\n",
    "import re"
   ]
  },
  {
   "cell_type": "code",
   "execution_count": 2,
   "id": "0862c084",
   "metadata": {},
   "outputs": [],
   "source": [
    "data = pd.read_csv('data_advantage actor critic_10.csv')\n",
    "data_t1 = pd.read_csv('data_artificial intelligence_10.csv')\n",
    "data_t2 = pd.read_csv('data_computer_10.csv')\n",
    "data_t3 = pd.read_csv('data_machine learning_10.csv')\n",
    "data_t4 = pd.read_csv('data_machine learning_10.csv')\n",
    "data_t5 = pd.read_csv('data_magic_10.csv')\n",
    "data_t6 = pd.read_csv('data_robotic_10.csv')\n",
    "arxiv_data = pd.read_csv(\n",
    "    \"https://github.com/soumik12345/multi-label-text-classification/releases/download/v0.2/arxiv_data.csv\"\n",
    ")"
   ]
  },
  {
   "cell_type": "code",
   "execution_count": 3,
   "id": "e9142cca",
   "metadata": {},
   "outputs": [
    {
     "name": "stderr",
     "output_type": "stream",
     "text": [
      "C:\\Users\\yo\\AppData\\Local\\Temp\\ipykernel_1128\\585842888.py:1: FutureWarning: The frame.append method is deprecated and will be removed from pandas in a future version. Use pandas.concat instead.\n",
      "  data = data.append(data_t1)\n",
      "C:\\Users\\yo\\AppData\\Local\\Temp\\ipykernel_1128\\585842888.py:2: FutureWarning: The frame.append method is deprecated and will be removed from pandas in a future version. Use pandas.concat instead.\n",
      "  data = data.append(data_t2)\n",
      "C:\\Users\\yo\\AppData\\Local\\Temp\\ipykernel_1128\\585842888.py:3: FutureWarning: The frame.append method is deprecated and will be removed from pandas in a future version. Use pandas.concat instead.\n",
      "  data = data.append(data_t3)\n",
      "C:\\Users\\yo\\AppData\\Local\\Temp\\ipykernel_1128\\585842888.py:4: FutureWarning: The frame.append method is deprecated and will be removed from pandas in a future version. Use pandas.concat instead.\n",
      "  data = data.append(data_t4)\n",
      "C:\\Users\\yo\\AppData\\Local\\Temp\\ipykernel_1128\\585842888.py:5: FutureWarning: The frame.append method is deprecated and will be removed from pandas in a future version. Use pandas.concat instead.\n",
      "  data = data.append(data_t5)\n",
      "C:\\Users\\yo\\AppData\\Local\\Temp\\ipykernel_1128\\585842888.py:6: FutureWarning: The frame.append method is deprecated and will be removed from pandas in a future version. Use pandas.concat instead.\n",
      "  data = data.append(data_t6)\n"
     ]
    }
   ],
   "source": [
    "data = data.append(data_t1)\n",
    "data = data.append(data_t2)\n",
    "data = data.append(data_t3)\n",
    "data = data.append(data_t4)\n",
    "data = data.append(data_t5)\n",
    "data = data.append(data_t6)\n"
   ]
  },
  {
   "cell_type": "code",
   "execution_count": 4,
   "id": "202c15ff",
   "metadata": {},
   "outputs": [],
   "source": [
    "data[\"clase_otr\"] = data[\"clase_otr\"].fillna(\"\")\n",
    "data[\"clases\"] = data[\"clase_pri\"] + data[\"clase_otr\"] \n",
    "data[\"clases\"] = [x.replace(\" \",\"\") for x in data[\"clases\"]]\n",
    "data[\"categorias\"] = [  re.findall(\"[(](.*?)[)]\", x) for x in data[\"clases\"]]\n",
    "data[\"clases\"] = [x.split(\";\") for x in data[\"clases\"]]"
   ]
  },
  {
   "cell_type": "code",
   "execution_count": null,
   "id": "2b52117f",
   "metadata": {},
   "outputs": [],
   "source": []
  },
  {
   "cell_type": "code",
   "execution_count": 5,
   "id": "6a7c2e82",
   "metadata": {},
   "outputs": [],
   "source": [
    "filepath = \"total.csv\"\n",
    "data.to_csv(filepath,index=False)  "
   ]
  },
  {
   "cell_type": "code",
   "execution_count": 6,
   "id": "7e7f9986",
   "metadata": {},
   "outputs": [],
   "source": [
    "data2 = pd.read_csv(filepath)"
   ]
  },
  {
   "cell_type": "code",
   "execution_count": 7,
   "id": "06c24354",
   "metadata": {},
   "outputs": [
    {
     "data": {
      "text/html": [
       "<div>\n",
       "<style scoped>\n",
       "    .dataframe tbody tr th:only-of-type {\n",
       "        vertical-align: middle;\n",
       "    }\n",
       "\n",
       "    .dataframe tbody tr th {\n",
       "        vertical-align: top;\n",
       "    }\n",
       "\n",
       "    .dataframe thead th {\n",
       "        text-align: right;\n",
       "    }\n",
       "</style>\n",
       "<table border=\"1\" class=\"dataframe\">\n",
       "  <thead>\n",
       "    <tr style=\"text-align: right;\">\n",
       "      <th></th>\n",
       "      <th>titles</th>\n",
       "      <th>summaries</th>\n",
       "      <th>terms</th>\n",
       "    </tr>\n",
       "  </thead>\n",
       "  <tbody>\n",
       "    <tr>\n",
       "      <th>0</th>\n",
       "      <td>Survey on Semantic Stereo Matching / Semantic ...</td>\n",
       "      <td>Stereo matching is one of the widely used tech...</td>\n",
       "      <td>['cs.CV', 'cs.LG']</td>\n",
       "    </tr>\n",
       "    <tr>\n",
       "      <th>1</th>\n",
       "      <td>FUTURE-AI: Guiding Principles and Consensus Re...</td>\n",
       "      <td>The recent advancements in artificial intellig...</td>\n",
       "      <td>['cs.CV', 'cs.AI', 'cs.LG']</td>\n",
       "    </tr>\n",
       "    <tr>\n",
       "      <th>2</th>\n",
       "      <td>Enforcing Mutual Consistency of Hard Regions f...</td>\n",
       "      <td>In this paper, we proposed a novel mutual cons...</td>\n",
       "      <td>['cs.CV', 'cs.AI']</td>\n",
       "    </tr>\n",
       "    <tr>\n",
       "      <th>3</th>\n",
       "      <td>Parameter Decoupling Strategy for Semi-supervi...</td>\n",
       "      <td>Consistency training has proven to be an advan...</td>\n",
       "      <td>['cs.CV']</td>\n",
       "    </tr>\n",
       "    <tr>\n",
       "      <th>4</th>\n",
       "      <td>Background-Foreground Segmentation for Interio...</td>\n",
       "      <td>To ensure safety in automated driving, the cor...</td>\n",
       "      <td>['cs.CV', 'cs.LG']</td>\n",
       "    </tr>\n",
       "    <tr>\n",
       "      <th>...</th>\n",
       "      <td>...</td>\n",
       "      <td>...</td>\n",
       "      <td>...</td>\n",
       "    </tr>\n",
       "    <tr>\n",
       "      <th>51769</th>\n",
       "      <td>Hierarchically-coupled hidden Markov models fo...</td>\n",
       "      <td>We address the problem of analyzing sets of no...</td>\n",
       "      <td>['stat.ML', 'physics.bio-ph', 'q-bio.QM']</td>\n",
       "    </tr>\n",
       "    <tr>\n",
       "      <th>51770</th>\n",
       "      <td>Blinking Molecule Tracking</td>\n",
       "      <td>We discuss a method for tracking individual mo...</td>\n",
       "      <td>['cs.CV', 'cs.DM']</td>\n",
       "    </tr>\n",
       "    <tr>\n",
       "      <th>51771</th>\n",
       "      <td>Towards a Mathematical Foundation of Immunolog...</td>\n",
       "      <td>We attempt to set a mathematical foundation of...</td>\n",
       "      <td>['stat.ML', 'cs.LG', 'q-bio.GN']</td>\n",
       "    </tr>\n",
       "    <tr>\n",
       "      <th>51772</th>\n",
       "      <td>A Semi-Automatic Graph-Based Approach for Dete...</td>\n",
       "      <td>Diffusion Tensor Imaging (DTI) allows estimati...</td>\n",
       "      <td>['cs.CV']</td>\n",
       "    </tr>\n",
       "    <tr>\n",
       "      <th>51773</th>\n",
       "      <td>SparseCodePicking: feature extraction in mass ...</td>\n",
       "      <td>Mass spectrometry (MS) is an important techniq...</td>\n",
       "      <td>['stat.ML', 'physics.med-ph', 'stat.AP', 'stat...</td>\n",
       "    </tr>\n",
       "  </tbody>\n",
       "</table>\n",
       "<p>51774 rows × 3 columns</p>\n",
       "</div>"
      ],
      "text/plain": [
       "                                                  titles  \\\n",
       "0      Survey on Semantic Stereo Matching / Semantic ...   \n",
       "1      FUTURE-AI: Guiding Principles and Consensus Re...   \n",
       "2      Enforcing Mutual Consistency of Hard Regions f...   \n",
       "3      Parameter Decoupling Strategy for Semi-supervi...   \n",
       "4      Background-Foreground Segmentation for Interio...   \n",
       "...                                                  ...   \n",
       "51769  Hierarchically-coupled hidden Markov models fo...   \n",
       "51770                         Blinking Molecule Tracking   \n",
       "51771  Towards a Mathematical Foundation of Immunolog...   \n",
       "51772  A Semi-Automatic Graph-Based Approach for Dete...   \n",
       "51773  SparseCodePicking: feature extraction in mass ...   \n",
       "\n",
       "                                               summaries  \\\n",
       "0      Stereo matching is one of the widely used tech...   \n",
       "1      The recent advancements in artificial intellig...   \n",
       "2      In this paper, we proposed a novel mutual cons...   \n",
       "3      Consistency training has proven to be an advan...   \n",
       "4      To ensure safety in automated driving, the cor...   \n",
       "...                                                  ...   \n",
       "51769  We address the problem of analyzing sets of no...   \n",
       "51770  We discuss a method for tracking individual mo...   \n",
       "51771  We attempt to set a mathematical foundation of...   \n",
       "51772  Diffusion Tensor Imaging (DTI) allows estimati...   \n",
       "51773  Mass spectrometry (MS) is an important techniq...   \n",
       "\n",
       "                                                   terms  \n",
       "0                                     ['cs.CV', 'cs.LG']  \n",
       "1                            ['cs.CV', 'cs.AI', 'cs.LG']  \n",
       "2                                     ['cs.CV', 'cs.AI']  \n",
       "3                                              ['cs.CV']  \n",
       "4                                     ['cs.CV', 'cs.LG']  \n",
       "...                                                  ...  \n",
       "51769          ['stat.ML', 'physics.bio-ph', 'q-bio.QM']  \n",
       "51770                                 ['cs.CV', 'cs.DM']  \n",
       "51771                   ['stat.ML', 'cs.LG', 'q-bio.GN']  \n",
       "51772                                          ['cs.CV']  \n",
       "51773  ['stat.ML', 'physics.med-ph', 'stat.AP', 'stat...  \n",
       "\n",
       "[51774 rows x 3 columns]"
      ]
     },
     "execution_count": 7,
     "metadata": {},
     "output_type": "execute_result"
    }
   ],
   "source": [
    "arxiv_data "
   ]
  },
  {
   "cell_type": "code",
   "execution_count": 8,
   "id": "ada16c72",
   "metadata": {},
   "outputs": [
    {
     "name": "stderr",
     "output_type": "stream",
     "text": [
      "C:\\Users\\yo\\AppData\\Local\\Temp\\ipykernel_1128\\1789220294.py:2: FutureWarning: The frame.append method is deprecated and will be removed from pandas in a future version. Use pandas.concat instead.\n",
      "  data2 = data2.append(arxiv_data)\n"
     ]
    }
   ],
   "source": [
    "arxiv_data.columns = ['titulo', 'abstract', 'categorias']\n",
    "data2 = data2.append(arxiv_data)"
   ]
  },
  {
   "cell_type": "code",
   "execution_count": 9,
   "id": "c40404e4",
   "metadata": {},
   "outputs": [
    {
     "data": {
      "text/html": [
       "<div>\n",
       "<style scoped>\n",
       "    .dataframe tbody tr th:only-of-type {\n",
       "        vertical-align: middle;\n",
       "    }\n",
       "\n",
       "    .dataframe tbody tr th {\n",
       "        vertical-align: top;\n",
       "    }\n",
       "\n",
       "    .dataframe thead th {\n",
       "        text-align: right;\n",
       "    }\n",
       "</style>\n",
       "<table border=\"1\" class=\"dataframe\">\n",
       "  <thead>\n",
       "    <tr style=\"text-align: right;\">\n",
       "      <th></th>\n",
       "      <th>titulo</th>\n",
       "      <th>abstract</th>\n",
       "      <th>clase_pri</th>\n",
       "      <th>clase_otr</th>\n",
       "      <th>clases</th>\n",
       "      <th>categorias</th>\n",
       "    </tr>\n",
       "  </thead>\n",
       "  <tbody>\n",
       "    <tr>\n",
       "      <th>0</th>\n",
       "      <td>An Actor-Critic Algorithm for Sequence Prediction</td>\n",
       "      <td>We present an approach to training neural ne...</td>\n",
       "      <td>Machine Learning (cs.LG)</td>\n",
       "      <td>NaN</td>\n",
       "      <td>['MachineLearning(cs.LG)']</td>\n",
       "      <td>['cs.LG']</td>\n",
       "    </tr>\n",
       "    <tr>\n",
       "      <th>1</th>\n",
       "      <td>Playing Flappy Bird via Asynchronous Advantage...</td>\n",
       "      <td>Flappy Bird, which has a very high popularit...</td>\n",
       "      <td>Machine Learning (cs.LG)</td>\n",
       "      <td>; Neural and Evolutionary Computing (cs.NE)</td>\n",
       "      <td>['MachineLearning(cs.LG)', 'NeuralandEvolution...</td>\n",
       "      <td>['cs.LG', 'cs.NE']</td>\n",
       "    </tr>\n",
       "    <tr>\n",
       "      <th>2</th>\n",
       "      <td>Distributional Advantage Actor-Critic</td>\n",
       "      <td>In traditional reinforcement learning, an ag...</td>\n",
       "      <td>Machine Learning (cs.LG)</td>\n",
       "      <td>; Artificial Intelligence (cs.AI); Machine Lea...</td>\n",
       "      <td>['MachineLearning(cs.LG)', 'ArtificialIntellig...</td>\n",
       "      <td>['cs.LG', 'cs.AI', 'stat.ML']</td>\n",
       "    </tr>\n",
       "    <tr>\n",
       "      <th>3</th>\n",
       "      <td>Sample-efficient Actor-Critic Reinforcement Le...</td>\n",
       "      <td>Deep reinforcement learning (RL) methods hav...</td>\n",
       "      <td>Computation and Language (cs.CL)</td>\n",
       "      <td>; Artificial Intelligence (cs.AI); Machine Lea...</td>\n",
       "      <td>['ComputationandLanguage(cs.CL)', 'ArtificialI...</td>\n",
       "      <td>['cs.CL', 'cs.AI', 'cs.LG']</td>\n",
       "    </tr>\n",
       "    <tr>\n",
       "      <th>4</th>\n",
       "      <td>Towards Automatic Actor-Critic Solutions to Co...</td>\n",
       "      <td>Model-free off-policy actor-critic methods a...</td>\n",
       "      <td>Machine Learning (cs.LG)</td>\n",
       "      <td>; Neural and Evolutionary Computing (cs.NE); S...</td>\n",
       "      <td>['MachineLearning(cs.LG)', 'NeuralandEvolution...</td>\n",
       "      <td>['cs.LG', 'cs.NE', 'eess.SY']</td>\n",
       "    </tr>\n",
       "    <tr>\n",
       "      <th>...</th>\n",
       "      <td>...</td>\n",
       "      <td>...</td>\n",
       "      <td>...</td>\n",
       "      <td>...</td>\n",
       "      <td>...</td>\n",
       "      <td>...</td>\n",
       "    </tr>\n",
       "    <tr>\n",
       "      <th>51769</th>\n",
       "      <td>Hierarchically-coupled hidden Markov models fo...</td>\n",
       "      <td>We address the problem of analyzing sets of no...</td>\n",
       "      <td>NaN</td>\n",
       "      <td>NaN</td>\n",
       "      <td>NaN</td>\n",
       "      <td>['stat.ML', 'physics.bio-ph', 'q-bio.QM']</td>\n",
       "    </tr>\n",
       "    <tr>\n",
       "      <th>51770</th>\n",
       "      <td>Blinking Molecule Tracking</td>\n",
       "      <td>We discuss a method for tracking individual mo...</td>\n",
       "      <td>NaN</td>\n",
       "      <td>NaN</td>\n",
       "      <td>NaN</td>\n",
       "      <td>['cs.CV', 'cs.DM']</td>\n",
       "    </tr>\n",
       "    <tr>\n",
       "      <th>51771</th>\n",
       "      <td>Towards a Mathematical Foundation of Immunolog...</td>\n",
       "      <td>We attempt to set a mathematical foundation of...</td>\n",
       "      <td>NaN</td>\n",
       "      <td>NaN</td>\n",
       "      <td>NaN</td>\n",
       "      <td>['stat.ML', 'cs.LG', 'q-bio.GN']</td>\n",
       "    </tr>\n",
       "    <tr>\n",
       "      <th>51772</th>\n",
       "      <td>A Semi-Automatic Graph-Based Approach for Dete...</td>\n",
       "      <td>Diffusion Tensor Imaging (DTI) allows estimati...</td>\n",
       "      <td>NaN</td>\n",
       "      <td>NaN</td>\n",
       "      <td>NaN</td>\n",
       "      <td>['cs.CV']</td>\n",
       "    </tr>\n",
       "    <tr>\n",
       "      <th>51773</th>\n",
       "      <td>SparseCodePicking: feature extraction in mass ...</td>\n",
       "      <td>Mass spectrometry (MS) is an important techniq...</td>\n",
       "      <td>NaN</td>\n",
       "      <td>NaN</td>\n",
       "      <td>NaN</td>\n",
       "      <td>['stat.ML', 'physics.med-ph', 'stat.AP', 'stat...</td>\n",
       "    </tr>\n",
       "  </tbody>\n",
       "</table>\n",
       "<p>52339 rows × 6 columns</p>\n",
       "</div>"
      ],
      "text/plain": [
       "                                                  titulo  \\\n",
       "0      An Actor-Critic Algorithm for Sequence Prediction   \n",
       "1      Playing Flappy Bird via Asynchronous Advantage...   \n",
       "2                  Distributional Advantage Actor-Critic   \n",
       "3      Sample-efficient Actor-Critic Reinforcement Le...   \n",
       "4      Towards Automatic Actor-Critic Solutions to Co...   \n",
       "...                                                  ...   \n",
       "51769  Hierarchically-coupled hidden Markov models fo...   \n",
       "51770                         Blinking Molecule Tracking   \n",
       "51771  Towards a Mathematical Foundation of Immunolog...   \n",
       "51772  A Semi-Automatic Graph-Based Approach for Dete...   \n",
       "51773  SparseCodePicking: feature extraction in mass ...   \n",
       "\n",
       "                                                abstract  \\\n",
       "0        We present an approach to training neural ne...   \n",
       "1        Flappy Bird, which has a very high popularit...   \n",
       "2        In traditional reinforcement learning, an ag...   \n",
       "3        Deep reinforcement learning (RL) methods hav...   \n",
       "4        Model-free off-policy actor-critic methods a...   \n",
       "...                                                  ...   \n",
       "51769  We address the problem of analyzing sets of no...   \n",
       "51770  We discuss a method for tracking individual mo...   \n",
       "51771  We attempt to set a mathematical foundation of...   \n",
       "51772  Diffusion Tensor Imaging (DTI) allows estimati...   \n",
       "51773  Mass spectrometry (MS) is an important techniq...   \n",
       "\n",
       "                              clase_pri  \\\n",
       "0              Machine Learning (cs.LG)   \n",
       "1              Machine Learning (cs.LG)   \n",
       "2              Machine Learning (cs.LG)   \n",
       "3      Computation and Language (cs.CL)   \n",
       "4              Machine Learning (cs.LG)   \n",
       "...                                 ...   \n",
       "51769                               NaN   \n",
       "51770                               NaN   \n",
       "51771                               NaN   \n",
       "51772                               NaN   \n",
       "51773                               NaN   \n",
       "\n",
       "                                               clase_otr  \\\n",
       "0                                                    NaN   \n",
       "1            ; Neural and Evolutionary Computing (cs.NE)   \n",
       "2      ; Artificial Intelligence (cs.AI); Machine Lea...   \n",
       "3      ; Artificial Intelligence (cs.AI); Machine Lea...   \n",
       "4      ; Neural and Evolutionary Computing (cs.NE); S...   \n",
       "...                                                  ...   \n",
       "51769                                                NaN   \n",
       "51770                                                NaN   \n",
       "51771                                                NaN   \n",
       "51772                                                NaN   \n",
       "51773                                                NaN   \n",
       "\n",
       "                                                  clases  \\\n",
       "0                             ['MachineLearning(cs.LG)']   \n",
       "1      ['MachineLearning(cs.LG)', 'NeuralandEvolution...   \n",
       "2      ['MachineLearning(cs.LG)', 'ArtificialIntellig...   \n",
       "3      ['ComputationandLanguage(cs.CL)', 'ArtificialI...   \n",
       "4      ['MachineLearning(cs.LG)', 'NeuralandEvolution...   \n",
       "...                                                  ...   \n",
       "51769                                                NaN   \n",
       "51770                                                NaN   \n",
       "51771                                                NaN   \n",
       "51772                                                NaN   \n",
       "51773                                                NaN   \n",
       "\n",
       "                                              categorias  \n",
       "0                                              ['cs.LG']  \n",
       "1                                     ['cs.LG', 'cs.NE']  \n",
       "2                          ['cs.LG', 'cs.AI', 'stat.ML']  \n",
       "3                            ['cs.CL', 'cs.AI', 'cs.LG']  \n",
       "4                          ['cs.LG', 'cs.NE', 'eess.SY']  \n",
       "...                                                  ...  \n",
       "51769          ['stat.ML', 'physics.bio-ph', 'q-bio.QM']  \n",
       "51770                                 ['cs.CV', 'cs.DM']  \n",
       "51771                   ['stat.ML', 'cs.LG', 'q-bio.GN']  \n",
       "51772                                          ['cs.CV']  \n",
       "51773  ['stat.ML', 'physics.med-ph', 'stat.AP', 'stat...  \n",
       "\n",
       "[52339 rows x 6 columns]"
      ]
     },
     "execution_count": 9,
     "metadata": {},
     "output_type": "execute_result"
    }
   ],
   "source": [
    "data2"
   ]
  },
  {
   "cell_type": "code",
   "execution_count": 10,
   "id": "7de41fe6",
   "metadata": {},
   "outputs": [
    {
     "name": "stdout",
     "output_type": "stream",
     "text": [
      "There are 13045 duplicate titles.\n"
     ]
    }
   ],
   "source": [
    "total_duplicate_titles = sum(data2[\"titulo\"].duplicated())\n",
    "print(f\"There are {total_duplicate_titles} duplicate titles.\")"
   ]
  },
  {
   "cell_type": "code",
   "execution_count": 11,
   "id": "3450a2ff",
   "metadata": {},
   "outputs": [
    {
     "name": "stdout",
     "output_type": "stream",
     "text": [
      "There are 39294 rows in the deduplicated dataset.\n"
     ]
    }
   ],
   "source": [
    "data2 = data2[~data2[\"titulo\"].duplicated()]\n",
    "print(f\"There are {len(data2)} rows in the deduplicated dataset.\")"
   ]
  },
  {
   "cell_type": "code",
   "execution_count": 12,
   "id": "cc83bc98",
   "metadata": {},
   "outputs": [
    {
     "name": "stdout",
     "output_type": "stream",
     "text": [
      "2430\n",
      "3303\n"
     ]
    }
   ],
   "source": [
    "# There are some terms with occurrence as low as 1.\n",
    "print(sum(data2[\"categorias\"].value_counts() == 1))\n",
    "\n",
    "# How many unique terms?\n",
    "print(data2[\"categorias\"].nunique())"
   ]
  },
  {
   "cell_type": "code",
   "execution_count": 13,
   "id": "a451aeb1",
   "metadata": {},
   "outputs": [
    {
     "data": {
      "text/plain": [
       "(36864, 6)"
      ]
     },
     "execution_count": 13,
     "metadata": {},
     "output_type": "execute_result"
    }
   ],
   "source": [
    "data2_fil = data2.groupby(\"categorias\").filter(lambda x: len(x) > 1)\n",
    "data2_fil.shape"
   ]
  },
  {
   "cell_type": "code",
   "execution_count": 14,
   "id": "dbd6d22d",
   "metadata": {},
   "outputs": [],
   "source": [
    "data2_fil.to_csv(filepath,index=False)  "
   ]
  },
  {
   "cell_type": "code",
   "execution_count": null,
   "id": "39df3581",
   "metadata": {},
   "outputs": [],
   "source": []
  },
  {
   "cell_type": "code",
   "execution_count": null,
   "id": "0de3da24",
   "metadata": {},
   "outputs": [],
   "source": []
  }
 ],
 "metadata": {
  "kernelspec": {
   "display_name": "Python 3 (ipykernel)",
   "language": "python",
   "name": "python3"
  },
  "language_info": {
   "codemirror_mode": {
    "name": "ipython",
    "version": 3
   },
   "file_extension": ".py",
   "mimetype": "text/x-python",
   "name": "python",
   "nbconvert_exporter": "python",
   "pygments_lexer": "ipython3",
   "version": "3.9.15"
  }
 },
 "nbformat": 4,
 "nbformat_minor": 5
}
