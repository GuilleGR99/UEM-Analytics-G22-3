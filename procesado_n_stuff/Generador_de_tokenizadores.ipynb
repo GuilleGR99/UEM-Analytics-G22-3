{
 "cells": [
  {
   "cell_type": "code",
   "execution_count": 1,
   "id": "d66ca074",
   "metadata": {},
   "outputs": [],
   "source": [
    "\n",
    "from tensorflow.keras import layers\n",
    "import numpy as np\n",
    "import json\n",
    "from keras.preprocessing.text import Tokenizer\n",
    "#import tensorflow_text as text\n",
    "import tensorflow as tf\n",
    "import pandas as pd\n",
    "\n",
    "from tensorflow import keras\n"
   ]
  },
  {
   "cell_type": "code",
   "execution_count": 2,
   "id": "2ed59ef6",
   "metadata": {},
   "outputs": [
    {
     "data": {
      "text/plain": [
       "[PhysicalDevice(name='/physical_device:CPU:0', device_type='CPU')]"
      ]
     },
     "execution_count": 2,
     "metadata": {},
     "output_type": "execute_result"
    }
   ],
   "source": [
    "tf.config.list_physical_devices()"
   ]
  },
  {
   "cell_type": "code",
   "execution_count": null,
   "id": "7b1f41e6",
   "metadata": {},
   "outputs": [],
   "source": []
  },
  {
   "cell_type": "code",
   "execution_count": 3,
   "id": "10349235",
   "metadata": {},
   "outputs": [],
   "source": [
    "data = pd.read_csv(\"total_procesed.csv\",encoding='utf-8', engine='python')"
   ]
  },
  {
   "cell_type": "code",
   "execution_count": 18,
   "id": "6f9bdf45",
   "metadata": {},
   "outputs": [],
   "source": [
    "data[[\"abstract_plano\",\"resumen_plano\",\"subjects\"]].to_csv(\"sample_to_tokens.csv\",index=False) "
   ]
  },
  {
   "cell_type": "markdown",
   "id": "82eb0c08",
   "metadata": {},
   "source": [
    "# ABSTRACTS"
   ]
  },
  {
   "cell_type": "code",
   "execution_count": 5,
   "id": "3fa18e20",
   "metadata": {},
   "outputs": [],
   "source": [
    "vocabulary = set()\n",
    "data[\"abstract_plano\"].str.lower().str.split().apply(vocabulary.update)\n",
    "vocabulary_size = len(vocabulary)"
   ]
  },
  {
   "cell_type": "code",
   "execution_count": 6,
   "id": "af03d075",
   "metadata": {},
   "outputs": [],
   "source": [
    "text_vectorizer = layers.TextVectorization(\n",
    "    max_tokens=vocabulary_size, ngrams=5, output_mode=\"count\",pad_to_max_tokens=True\n",
    ")\n",
    "with tf.device(\"/CPU:0\"):\n",
    "    text_vectorizer.adapt(data[\"abstract_plano\"])"
   ]
  },
  {
   "cell_type": "code",
   "execution_count": 7,
   "id": "f48718ec",
   "metadata": {},
   "outputs": [],
   "source": [
    "\n",
    "with open(\"abstract_tokenizer.txt\", \"w\") as fp:\n",
    "    json.dump(text_vectorizer.get_vocabulary(), fp)"
   ]
  },
  {
   "cell_type": "code",
   "execution_count": 8,
   "id": "e1ab55e5",
   "metadata": {},
   "outputs": [],
   "source": [
    "#with open(\"abstract_tokenizer.txt\", \"r\") as fp:\n",
    "#    b = json.load(fp)\n"
   ]
  },
  {
   "cell_type": "markdown",
   "id": "62b0b7cf",
   "metadata": {},
   "source": [
    "# Resumenes"
   ]
  },
  {
   "cell_type": "code",
   "execution_count": 9,
   "id": "523c236e",
   "metadata": {},
   "outputs": [],
   "source": [
    "vocabulary = set()\n",
    "data[\"resumen_plano\"].str.lower().str.split().apply(vocabulary.update)\n",
    "vocabulary_size = len(vocabulary)"
   ]
  },
  {
   "cell_type": "code",
   "execution_count": 10,
   "id": "faa1fd28",
   "metadata": {},
   "outputs": [],
   "source": [
    "text_vectorizer = layers.TextVectorization(\n",
    "    max_tokens=vocabulary_size, ngrams=5, output_mode=\"count\",pad_to_max_tokens=True\n",
    ")\n",
    "with tf.device(\"/CPU:0\"):\n",
    "    text_vectorizer.adapt(data[\"resumen_plano\"])"
   ]
  },
  {
   "cell_type": "code",
   "execution_count": 11,
   "id": "7ba4f0c2",
   "metadata": {},
   "outputs": [],
   "source": [
    "\n",
    "with open(\"summary_tokenizer.txt\", \"w\") as fp:\n",
    "    json.dump(text_vectorizer.get_vocabulary(), fp)"
   ]
  },
  {
   "cell_type": "markdown",
   "id": "78127de9",
   "metadata": {},
   "source": [
    "# Subjects"
   ]
  },
  {
   "cell_type": "code",
   "execution_count": 12,
   "id": "2d2bcdea",
   "metadata": {},
   "outputs": [],
   "source": [
    "vocabulary = set()\n",
    "data[\"subjects\"].str.lower().str.split().apply(vocabulary.update)\n",
    "vocabulary_size = len(vocabulary)"
   ]
  },
  {
   "cell_type": "code",
   "execution_count": 13,
   "id": "3455783f",
   "metadata": {},
   "outputs": [
    {
     "data": {
      "text/plain": [
       "1074"
      ]
     },
     "execution_count": 13,
     "metadata": {},
     "output_type": "execute_result"
    }
   ],
   "source": [
    "vocabulary_size"
   ]
  },
  {
   "cell_type": "code",
   "execution_count": 14,
   "id": "9537c592",
   "metadata": {},
   "outputs": [],
   "source": [
    "text_vectorizer = layers.TextVectorization(\n",
    "    max_tokens=vocabulary_size, ngrams=5, output_mode=\"count\",pad_to_max_tokens=True\n",
    ")\n",
    "with tf.device(\"/CPU:0\"):\n",
    "    text_vectorizer.adapt(data[\"subjects\"])"
   ]
  },
  {
   "cell_type": "code",
   "execution_count": 15,
   "id": "e4b32a42",
   "metadata": {},
   "outputs": [],
   "source": [
    "with open(\"subjects_tokenizer.txt\", \"w\") as fp:\n",
    "    json.dump(text_vectorizer.get_vocabulary(), fp)"
   ]
  },
  {
   "cell_type": "code",
   "execution_count": null,
   "id": "c9800563",
   "metadata": {},
   "outputs": [],
   "source": []
  },
  {
   "cell_type": "code",
   "execution_count": null,
   "id": "d826ed17",
   "metadata": {},
   "outputs": [],
   "source": []
  }
 ],
 "metadata": {
  "kernelspec": {
   "display_name": "Python 3 (ipykernel)",
   "language": "python",
   "name": "python3"
  },
  "language_info": {
   "codemirror_mode": {
    "name": "ipython",
    "version": 3
   },
   "file_extension": ".py",
   "mimetype": "text/x-python",
   "name": "python",
   "nbconvert_exporter": "python",
   "pygments_lexer": "ipython3",
   "version": "3.9.15"
  }
 },
 "nbformat": 4,
 "nbformat_minor": 5
}
