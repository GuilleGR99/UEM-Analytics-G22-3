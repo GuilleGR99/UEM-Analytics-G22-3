{
 "cells": [
  {
   "cell_type": "code",
   "execution_count": 1,
   "id": "91753812",
   "metadata": {},
   "outputs": [],
   "source": [
    "#ml6team/keyphrase-extraction-kbir-inspec"
   ]
  },
  {
   "cell_type": "code",
   "execution_count": 2,
   "id": "947542ca",
   "metadata": {},
   "outputs": [],
   "source": [
    "import time\n"
   ]
  },
  {
   "cell_type": "code",
   "execution_count": 3,
   "id": "aed8ba4c",
   "metadata": {},
   "outputs": [
    {
     "name": "stderr",
     "output_type": "stream",
     "text": [
      "C:\\Users\\yo\\.conda\\envs\\transformers\\lib\\site-packages\\tqdm\\auto.py:22: TqdmWarning: IProgress not found. Please update jupyter and ipywidgets. See https://ipywidgets.readthedocs.io/en/stable/user_install.html\n",
      "  from .autonotebook import tqdm as notebook_tqdm\n"
     ]
    }
   ],
   "source": [
    "from transformers import (\n",
    "    TokenClassificationPipeline,\n",
    "    AutoModelForTokenClassification,\n",
    "    AutoTokenizer,\n",
    ")\n",
    "from transformers.pipelines import AggregationStrategy\n",
    "import numpy as np\n",
    "\n",
    "# Define keyphrase extraction pipeline\n",
    "class KeyphraseExtractionPipeline(TokenClassificationPipeline):\n",
    "    def __init__(self, model, *args, **kwargs):\n",
    "        super().__init__(\n",
    "            model=AutoModelForTokenClassification.from_pretrained(model),\n",
    "            tokenizer=AutoTokenizer.from_pretrained(model),\n",
    "            *args,\n",
    "            **kwargs\n",
    "        )\n",
    "\n",
    "    def postprocess(self, model_outputs):\n",
    "        results = super().postprocess(\n",
    "            model_outputs=model_outputs,\n",
    "            aggregation_strategy=AggregationStrategy.SIMPLE,\n",
    "        )\n",
    "        return np.unique([result.get(\"word\").strip() for result in results])"
   ]
  },
  {
   "cell_type": "code",
   "execution_count": null,
   "id": "f58221ba",
   "metadata": {},
   "outputs": [],
   "source": []
  },
  {
   "cell_type": "code",
   "execution_count": 4,
   "id": "12bbe328",
   "metadata": {},
   "outputs": [],
   "source": [
    "import pandas as pd\n",
    "import os"
   ]
  },
  {
   "cell_type": "code",
   "execution_count": 5,
   "id": "d869b555",
   "metadata": {},
   "outputs": [
    {
     "name": "stdout",
     "output_type": "stream",
     "text": [
      "spring_advantage actor critic.csv\n",
      "spring_algorithms.csv\n",
      "spring_artificial intelligence.csv\n",
      "spring_balance.csv\n",
      "spring_computer science.csv\n",
      "spring_computer.csv\n",
      "spring_graph.csv\n",
      "spring_health.csv\n",
      "spring_law.csv\n"
     ]
    },
    {
     "name": "stderr",
     "output_type": "stream",
     "text": [
      "C:\\Users\\yo\\AppData\\Local\\Temp\\ipykernel_15196\\2839428010.py:9: FutureWarning: The frame.append method is deprecated and will be removed from pandas in a future version. Use pandas.concat instead.\n",
      "  data = data.append(data_temp)\n",
      "C:\\Users\\yo\\AppData\\Local\\Temp\\ipykernel_15196\\2839428010.py:9: FutureWarning: The frame.append method is deprecated and will be removed from pandas in a future version. Use pandas.concat instead.\n",
      "  data = data.append(data_temp)\n",
      "C:\\Users\\yo\\AppData\\Local\\Temp\\ipykernel_15196\\2839428010.py:9: FutureWarning: The frame.append method is deprecated and will be removed from pandas in a future version. Use pandas.concat instead.\n",
      "  data = data.append(data_temp)\n",
      "C:\\Users\\yo\\AppData\\Local\\Temp\\ipykernel_15196\\2839428010.py:9: FutureWarning: The frame.append method is deprecated and will be removed from pandas in a future version. Use pandas.concat instead.\n",
      "  data = data.append(data_temp)\n",
      "C:\\Users\\yo\\AppData\\Local\\Temp\\ipykernel_15196\\2839428010.py:9: FutureWarning: The frame.append method is deprecated and will be removed from pandas in a future version. Use pandas.concat instead.\n",
      "  data = data.append(data_temp)\n",
      "C:\\Users\\yo\\AppData\\Local\\Temp\\ipykernel_15196\\2839428010.py:9: FutureWarning: The frame.append method is deprecated and will be removed from pandas in a future version. Use pandas.concat instead.\n",
      "  data = data.append(data_temp)\n",
      "C:\\Users\\yo\\AppData\\Local\\Temp\\ipykernel_15196\\2839428010.py:9: FutureWarning: The frame.append method is deprecated and will be removed from pandas in a future version. Use pandas.concat instead.\n",
      "  data = data.append(data_temp)\n",
      "C:\\Users\\yo\\AppData\\Local\\Temp\\ipykernel_15196\\2839428010.py:9: FutureWarning: The frame.append method is deprecated and will be removed from pandas in a future version. Use pandas.concat instead.\n",
      "  data = data.append(data_temp)\n",
      "C:\\Users\\yo\\AppData\\Local\\Temp\\ipykernel_15196\\2839428010.py:9: FutureWarning: The frame.append method is deprecated and will be removed from pandas in a future version. Use pandas.concat instead.\n",
      "  data = data.append(data_temp)\n"
     ]
    },
    {
     "name": "stdout",
     "output_type": "stream",
     "text": [
      "spring_machine learning.csv\n",
      "spring_magic.csv\n",
      "spring_math.csv\n",
      "spring_natural language processing.csv\n"
     ]
    },
    {
     "name": "stderr",
     "output_type": "stream",
     "text": [
      "C:\\Users\\yo\\AppData\\Local\\Temp\\ipykernel_15196\\2839428010.py:9: FutureWarning: The frame.append method is deprecated and will be removed from pandas in a future version. Use pandas.concat instead.\n",
      "  data = data.append(data_temp)\n",
      "C:\\Users\\yo\\AppData\\Local\\Temp\\ipykernel_15196\\2839428010.py:9: FutureWarning: The frame.append method is deprecated and will be removed from pandas in a future version. Use pandas.concat instead.\n",
      "  data = data.append(data_temp)\n",
      "C:\\Users\\yo\\AppData\\Local\\Temp\\ipykernel_15196\\2839428010.py:9: FutureWarning: The frame.append method is deprecated and will be removed from pandas in a future version. Use pandas.concat instead.\n",
      "  data = data.append(data_temp)\n",
      "C:\\Users\\yo\\AppData\\Local\\Temp\\ipykernel_15196\\2839428010.py:9: FutureWarning: The frame.append method is deprecated and will be removed from pandas in a future version. Use pandas.concat instead.\n",
      "  data = data.append(data_temp)\n",
      "C:\\Users\\yo\\AppData\\Local\\Temp\\ipykernel_15196\\2839428010.py:9: FutureWarning: The frame.append method is deprecated and will be removed from pandas in a future version. Use pandas.concat instead.\n",
      "  data = data.append(data_temp)\n",
      "C:\\Users\\yo\\AppData\\Local\\Temp\\ipykernel_15196\\2839428010.py:9: FutureWarning: The frame.append method is deprecated and will be removed from pandas in a future version. Use pandas.concat instead.\n",
      "  data = data.append(data_temp)\n"
     ]
    },
    {
     "name": "stdout",
     "output_type": "stream",
     "text": [
      "spring_optimizer.csv\n",
      "spring_robotic.csv\n",
      "spring_robotics.csv\n",
      "spring_science.csv\n"
     ]
    },
    {
     "name": "stderr",
     "output_type": "stream",
     "text": [
      "C:\\Users\\yo\\AppData\\Local\\Temp\\ipykernel_15196\\2839428010.py:9: FutureWarning: The frame.append method is deprecated and will be removed from pandas in a future version. Use pandas.concat instead.\n",
      "  data = data.append(data_temp)\n",
      "C:\\Users\\yo\\AppData\\Local\\Temp\\ipykernel_15196\\2839428010.py:9: FutureWarning: The frame.append method is deprecated and will be removed from pandas in a future version. Use pandas.concat instead.\n",
      "  data = data.append(data_temp)\n"
     ]
    }
   ],
   "source": [
    "dir_list = os.listdir(\"spring/\")\n",
    "dir_list = [x for x in dir_list if   \".csv\" in x]\n",
    "data = pd.DataFrame()\n",
    "for i in dir_list:\n",
    "    if i == \"total.csv\":\n",
    "        continue\n",
    "    print(i)\n",
    "    data_temp = pd.read_csv(\"spring/\"+i)\n",
    "    data = data.append(data_temp)"
   ]
  },
  {
   "cell_type": "code",
   "execution_count": 10,
   "id": "49331d6b",
   "metadata": {},
   "outputs": [],
   "source": [
    "models = [ \n",
    "    \"ml6team/keyphrase-extraction-kbir-inspec\",\n",
    "    \"ml6team/keyphrase-extraction-kbir-openkp\",\n",
    "    \"ml6team/keyphrase-extraction-kbir-kpcrowd\",\n",
    "    \"ml6team/keyphrase-extraction-kbir-semeval2017\",\n",
    "    \"ml6team/keyphrase-extraction-kbir-kptimes\",\n",
    "    \"ml6team/keyphrase-extraction-distilbert-openkp\",\n",
    "    \"ml6team/keyphrase-extraction-distilbert-inspec\",\n",
    "    \"ml6team/keyphrase-extraction-distilbert-kptimes\"\n",
    "    #\"ml6team/keyphrase-generation-t5-small-openkp\",\n",
    "    #\"ml6team/keyphrase-generation-t5-small-inspec\",\n",
    "    #\"ml6team/keyphrase-generation-keybart-inspec\"\n",
    "    \n",
    "]\n",
    "extractors = []\n",
    "for i in range(len(models)):\n",
    "    temp = KeyphraseExtractionPipeline(model=models[i])\n",
    "    extractors.append(temp)"
   ]
  },
  {
   "cell_type": "code",
   "execution_count": null,
   "id": "88427182",
   "metadata": {},
   "outputs": [],
   "source": []
  },
  {
   "cell_type": "code",
   "execution_count": 22,
   "id": "d49a0b5c",
   "metadata": {},
   "outputs": [
    {
     "name": "stdout",
     "output_type": "stream",
     "text": [
      "modelo:  ml6team/keyphrase-extraction-kbir-inspec\n",
      "modelo:  ml6team/keyphrase-extraction-kbir-openkp\n",
      "modelo:  ml6team/keyphrase-extraction-kbir-kpcrowd\n",
      "modelo:  ml6team/keyphrase-extraction-kbir-semeval2017\n",
      "modelo:  ml6team/keyphrase-extraction-kbir-kptimes\n",
      "modelo:  ml6team/keyphrase-extraction-distilbert-openkp\n",
      "modelo:  ml6team/keyphrase-extraction-distilbert-inspec\n",
      "modelo:  ml6team/keyphrase-extraction-distilbert-kptimes\n"
     ]
    }
   ],
   "source": [
    "text = data[\"abstract\"].tolist()[2]\n",
    "\n",
    "times = []\n",
    "keyphrases = []\n",
    "\n",
    "for i in range(len(extractors)):\n",
    "    print(\"modelo: \" , models[i])\n",
    "    start_time = time.time()\n",
    "    keywords = extractors[i](text)\n",
    "    times.append(time.time() - start_time)\n",
    "    keyphrases.append(keywords)\n"
   ]
  },
  {
   "cell_type": "code",
   "execution_count": null,
   "id": "17b5aa31",
   "metadata": {},
   "outputs": [],
   "source": []
  },
  {
   "cell_type": "code",
   "execution_count": 23,
   "id": "37938426",
   "metadata": {},
   "outputs": [],
   "source": [
    "#text = data[\"abstract\"].tolist()[5]"
   ]
  },
  {
   "cell_type": "code",
   "execution_count": null,
   "id": "99ff05b3",
   "metadata": {},
   "outputs": [],
   "source": []
  },
  {
   "cell_type": "code",
   "execution_count": 24,
   "id": "42f8e0cc",
   "metadata": {},
   "outputs": [
    {
     "name": "stdout",
     "output_type": "stream",
     "text": [
      "original:  The decision-making process for autonomous vehicles comes with numerous challenges that are not easily solved. With the ever-changing traffic situation of the world and the increasing need for autonomous driving technology, there are constant innovations to deal with the increasing number of problems in the complex environments that autonomous driving agents find themselves in. Developing countries like India face even more numerous challenges with existing autonomous driving solutions not being directly transferable. However, with the maturation and advancement of deep learning technology over the years, more and more novel methods in the field of deep reinforcement learning are being proposed to tackle both new challenges and existing challenges. In this study, we explore the contemporary reinforcement learning techniques for autonomous driving tasks and analyze their applicability for the unstructured road environment and also look at some of the less-common scenarios that occur frequently in the Indian context.\n",
      "----------------------------------------------------\n",
      "modelo:  ml6team/keyphrase-extraction-kbir-inspec\n",
      "tiempo:  50.30817627906799\n",
      "keyphrases:  ['Developing countries' 'India' 'Indian' 'autonomous'\n",
      " 'autonomous driving agents' 'autonomous driving technology'\n",
      " 'deep learning technology' 'deep reinforcement learning'\n",
      " 'unstructured road environment']\n",
      "----------------------------------------------------\n",
      "modelo:  ml6team/keyphrase-extraction-kbir-openkp\n",
      "tiempo:  51.45127511024475\n",
      "keyphrases:  ['autonomous vehicles']\n",
      "----------------------------------------------------\n",
      "modelo:  ml6team/keyphrase-extraction-kbir-kpcrowd\n",
      "tiempo:  51.71607971191406\n",
      "keyphrases:  ['Developing countries' 'India' 'Indian' 'advancement' 'analyze'\n",
      " 'applicability' 'autonomous' 'challenges' 'common' 'complex'\n",
      " 'constant innovations' 'contemporary' 'decision-making process' 'deep'\n",
      " 'driving' 'easily' 'environment' 'ever-changing' 'existing' 'explore'\n",
      " 'frequently' 'increasing' 'learning' 'maturation' 'need' 'novel'\n",
      " 'problems' 'proposed' 'reinforcement learning' 'technology'\n",
      " 'traffic situation' 'transferable' 'unstructured']\n",
      "----------------------------------------------------\n",
      "modelo:  ml6team/keyphrase-extraction-kbir-semeval2017\n",
      "tiempo:  51.429457664489746\n",
      "keyphrases:  ['autonomous driving' 'autonomous vehicles' 'deep learning'\n",
      " 'deep reinforcement learning' 'reinforcement learning techniques'\n",
      " 'unstructured road environment']\n",
      "----------------------------------------------------\n",
      "modelo:  ml6team/keyphrase-extraction-kbir-kptimes\n",
      "tiempo:  52.03261733055115\n",
      "keyphrases:  ['India']\n",
      "----------------------------------------------------\n",
      "modelo:  ml6team/keyphrase-extraction-distilbert-openkp\n",
      "tiempo:  8.07520580291748\n",
      "keyphrases:  []\n",
      "----------------------------------------------------\n",
      "modelo:  ml6team/keyphrase-extraction-distilbert-inspec\n",
      "tiempo:  7.714019775390625\n",
      "keyphrases:  ['autonomous driving agents' 'autonomous driving tasks'\n",
      " 'autonomous driving technology' 'autonomous vehicles' 'deep learning'\n",
      " 'deep reinforcement learning' 'india' 'reinforcement learning'\n",
      " 'unstructured road environment']\n",
      "----------------------------------------------------\n",
      "modelo:  ml6team/keyphrase-extraction-distilbert-kptimes\n",
      "tiempo:  7.770516395568848\n",
      "keyphrases:  ['india']\n"
     ]
    }
   ],
   "source": [
    "\n",
    "print(\"original: \", text)\n",
    "\n",
    "for i in range(len(models)):\n",
    "    print(\"----------------------------------------------------\")\n",
    "    print(\"modelo: \" , models[i])\n",
    "    print(\"tiempo: \" ,times[i])\n",
    "    print(\"keyphrases: \" ,keyphrases[i])\n",
    "          "
   ]
  },
  {
   "cell_type": "code",
   "execution_count": null,
   "id": "cae82efe",
   "metadata": {},
   "outputs": [],
   "source": []
  },
  {
   "cell_type": "code",
   "execution_count": null,
   "id": "c3e05e90",
   "metadata": {},
   "outputs": [],
   "source": []
  },
  {
   "cell_type": "code",
   "execution_count": null,
   "id": "c0b8394c",
   "metadata": {},
   "outputs": [],
   "source": []
  }
 ],
 "metadata": {
  "kernelspec": {
   "display_name": "Python 3 (ipykernel)",
   "language": "python",
   "name": "python3"
  },
  "language_info": {
   "codemirror_mode": {
    "name": "ipython",
    "version": 3
   },
   "file_extension": ".py",
   "mimetype": "text/x-python",
   "name": "python",
   "nbconvert_exporter": "python",
   "pygments_lexer": "ipython3",
   "version": "3.9.15"
  }
 },
 "nbformat": 4,
 "nbformat_minor": 5
}
