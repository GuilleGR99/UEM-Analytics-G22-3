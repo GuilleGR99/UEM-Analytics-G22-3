{
 "cells": [
  {
   "cell_type": "code",
   "execution_count": 1,
   "id": "0c696c67",
   "metadata": {},
   "outputs": [],
   "source": [
    "#ml6team/keyphrase-extraction-kbir-inspec"
   ]
  },
  {
   "cell_type": "code",
   "execution_count": 2,
   "id": "4da4e82f",
   "metadata": {},
   "outputs": [],
   "source": [
    "import time\n",
    "import pandas as pd"
   ]
  },
  {
   "cell_type": "code",
   "execution_count": 3,
   "id": "aed8ba4c",
   "metadata": {},
   "outputs": [
    {
     "name": "stderr",
     "output_type": "stream",
     "text": [
      "C:\\Users\\yo\\.conda\\envs\\transformers\\lib\\site-packages\\tqdm\\auto.py:22: TqdmWarning: IProgress not found. Please update jupyter and ipywidgets. See https://ipywidgets.readthedocs.io/en/stable/user_install.html\n",
      "  from .autonotebook import tqdm as notebook_tqdm\n"
     ]
    }
   ],
   "source": [
    "from transformers import (\n",
    "    TokenClassificationPipeline,\n",
    "    AutoModelForTokenClassification,\n",
    "    AutoTokenizer,\n",
    ")\n",
    "from transformers.pipelines import AggregationStrategy\n",
    "import numpy as np\n",
    "\n",
    "# Define keyphrase extraction pipeline\n",
    "class KeyphraseExtractionPipeline(TokenClassificationPipeline):\n",
    "    def __init__(self, model, *args, **kwargs):\n",
    "        super().__init__(\n",
    "            model=AutoModelForTokenClassification.from_pretrained(model),\n",
    "            tokenizer=AutoTokenizer.from_pretrained(model),\n",
    "            *args,\n",
    "            **kwargs\n",
    "        )\n",
    "\n",
    "    def postprocess(self, model_outputs):\n",
    "        results = super().postprocess(\n",
    "            model_outputs=model_outputs,\n",
    "            aggregation_strategy=AggregationStrategy.SIMPLE,\n",
    "        )\n",
    "        return np.unique([result.get(\"word\").strip() for result in results])"
   ]
  },
  {
   "cell_type": "code",
   "execution_count": null,
   "id": "f58221ba",
   "metadata": {},
   "outputs": [],
   "source": []
  },
  {
   "cell_type": "code",
   "execution_count": 4,
   "id": "9dcd851a",
   "metadata": {},
   "outputs": [],
   "source": [
    "import pandas as pd\n",
    "import os"
   ]
  },
  {
   "cell_type": "code",
   "execution_count": 5,
   "id": "b522ecc3",
   "metadata": {},
   "outputs": [
    {
     "name": "stdout",
     "output_type": "stream",
     "text": [
      "spring_advantage actor critic.csv\n",
      "spring_algorithms.csv\n",
      "spring_artificial intelligence.csv\n",
      "spring_balance.csv\n",
      "spring_computer science.csv\n",
      "spring_computer.csv\n",
      "spring_graph.csv\n",
      "spring_health.csv\n",
      "spring_law.csv\n"
     ]
    },
    {
     "name": "stderr",
     "output_type": "stream",
     "text": [
      "C:\\Users\\yo\\AppData\\Local\\Temp\\ipykernel_15196\\2839428010.py:9: FutureWarning: The frame.append method is deprecated and will be removed from pandas in a future version. Use pandas.concat instead.\n",
      "  data = data.append(data_temp)\n",
      "C:\\Users\\yo\\AppData\\Local\\Temp\\ipykernel_15196\\2839428010.py:9: FutureWarning: The frame.append method is deprecated and will be removed from pandas in a future version. Use pandas.concat instead.\n",
      "  data = data.append(data_temp)\n",
      "C:\\Users\\yo\\AppData\\Local\\Temp\\ipykernel_15196\\2839428010.py:9: FutureWarning: The frame.append method is deprecated and will be removed from pandas in a future version. Use pandas.concat instead.\n",
      "  data = data.append(data_temp)\n",
      "C:\\Users\\yo\\AppData\\Local\\Temp\\ipykernel_15196\\2839428010.py:9: FutureWarning: The frame.append method is deprecated and will be removed from pandas in a future version. Use pandas.concat instead.\n",
      "  data = data.append(data_temp)\n",
      "C:\\Users\\yo\\AppData\\Local\\Temp\\ipykernel_15196\\2839428010.py:9: FutureWarning: The frame.append method is deprecated and will be removed from pandas in a future version. Use pandas.concat instead.\n",
      "  data = data.append(data_temp)\n",
      "C:\\Users\\yo\\AppData\\Local\\Temp\\ipykernel_15196\\2839428010.py:9: FutureWarning: The frame.append method is deprecated and will be removed from pandas in a future version. Use pandas.concat instead.\n",
      "  data = data.append(data_temp)\n",
      "C:\\Users\\yo\\AppData\\Local\\Temp\\ipykernel_15196\\2839428010.py:9: FutureWarning: The frame.append method is deprecated and will be removed from pandas in a future version. Use pandas.concat instead.\n",
      "  data = data.append(data_temp)\n",
      "C:\\Users\\yo\\AppData\\Local\\Temp\\ipykernel_15196\\2839428010.py:9: FutureWarning: The frame.append method is deprecated and will be removed from pandas in a future version. Use pandas.concat instead.\n",
      "  data = data.append(data_temp)\n",
      "C:\\Users\\yo\\AppData\\Local\\Temp\\ipykernel_15196\\2839428010.py:9: FutureWarning: The frame.append method is deprecated and will be removed from pandas in a future version. Use pandas.concat instead.\n",
      "  data = data.append(data_temp)\n"
     ]
    },
    {
     "name": "stdout",
     "output_type": "stream",
     "text": [
      "spring_machine learning.csv\n",
      "spring_magic.csv\n",
      "spring_math.csv\n",
      "spring_natural language processing.csv\n"
     ]
    },
    {
     "name": "stderr",
     "output_type": "stream",
     "text": [
      "C:\\Users\\yo\\AppData\\Local\\Temp\\ipykernel_15196\\2839428010.py:9: FutureWarning: The frame.append method is deprecated and will be removed from pandas in a future version. Use pandas.concat instead.\n",
      "  data = data.append(data_temp)\n",
      "C:\\Users\\yo\\AppData\\Local\\Temp\\ipykernel_15196\\2839428010.py:9: FutureWarning: The frame.append method is deprecated and will be removed from pandas in a future version. Use pandas.concat instead.\n",
      "  data = data.append(data_temp)\n",
      "C:\\Users\\yo\\AppData\\Local\\Temp\\ipykernel_15196\\2839428010.py:9: FutureWarning: The frame.append method is deprecated and will be removed from pandas in a future version. Use pandas.concat instead.\n",
      "  data = data.append(data_temp)\n",
      "C:\\Users\\yo\\AppData\\Local\\Temp\\ipykernel_15196\\2839428010.py:9: FutureWarning: The frame.append method is deprecated and will be removed from pandas in a future version. Use pandas.concat instead.\n",
      "  data = data.append(data_temp)\n",
      "C:\\Users\\yo\\AppData\\Local\\Temp\\ipykernel_15196\\2839428010.py:9: FutureWarning: The frame.append method is deprecated and will be removed from pandas in a future version. Use pandas.concat instead.\n",
      "  data = data.append(data_temp)\n",
      "C:\\Users\\yo\\AppData\\Local\\Temp\\ipykernel_15196\\2839428010.py:9: FutureWarning: The frame.append method is deprecated and will be removed from pandas in a future version. Use pandas.concat instead.\n",
      "  data = data.append(data_temp)\n"
     ]
    },
    {
     "name": "stdout",
     "output_type": "stream",
     "text": [
      "spring_optimizer.csv\n",
      "spring_robotic.csv\n",
      "spring_robotics.csv\n",
      "spring_science.csv\n"
     ]
    },
    {
     "name": "stderr",
     "output_type": "stream",
     "text": [
      "C:\\Users\\yo\\AppData\\Local\\Temp\\ipykernel_15196\\2839428010.py:9: FutureWarning: The frame.append method is deprecated and will be removed from pandas in a future version. Use pandas.concat instead.\n",
      "  data = data.append(data_temp)\n",
      "C:\\Users\\yo\\AppData\\Local\\Temp\\ipykernel_15196\\2839428010.py:9: FutureWarning: The frame.append method is deprecated and will be removed from pandas in a future version. Use pandas.concat instead.\n",
      "  data = data.append(data_temp)\n"
     ]
    }
   ],
   "source": [
    "dir_list = os.listdir(\"spring/\")\n",
    "dir_list = [x for x in dir_list if   \".csv\" in x]\n",
    "data = pd.DataFrame()\n",
    "for i in dir_list:\n",
    "    if i == \"total.csv\":\n",
    "        continue\n",
    "    print(i)\n",
    "    data_temp = pd.read_csv(\"spring/\"+i)\n",
    "    data = data.append(data_temp)"
   ]
  },
  {
   "cell_type": "code",
   "execution_count": 10,
   "id": "0f8086c7",
   "metadata": {},
   "outputs": [],
   "source": [
    "models = [ \n",
    "    \"ml6team/keyphrase-extraction-kbir-inspec\",\n",
    "    \"ml6team/keyphrase-extraction-kbir-openkp\",\n",
    "    \"ml6team/keyphrase-extraction-kbir-kpcrowd\",\n",
    "    \"ml6team/keyphrase-extraction-kbir-semeval2017\",\n",
    "    \"ml6team/keyphrase-extraction-kbir-kptimes\",\n",
    "    \"ml6team/keyphrase-extraction-distilbert-openkp\",\n",
    "    \"ml6team/keyphrase-extraction-distilbert-inspec\",\n",
    "    \"ml6team/keyphrase-extraction-distilbert-kptimes\"\n",
    "    #\"ml6team/keyphrase-generation-t5-small-openkp\",\n",
    "    #\"ml6team/keyphrase-generation-t5-small-inspec\",\n",
    "    #\"ml6team/keyphrase-generation-keybart-inspec\"\n",
    "    \n",
    "]\n",
    "extractors = []\n",
    "for i in range(len(models)):\n",
    "    temp = KeyphraseExtractionPipeline(model=models[i])\n",
    "    extractors.append(temp)"
   ]
  },
  {
   "cell_type": "code",
   "execution_count": null,
   "id": "0a1f7243",
   "metadata": {},
   "outputs": [],
   "source": []
  },
  {
   "cell_type": "code",
   "execution_count": 28,
   "id": "d2451bd5",
   "metadata": {},
   "outputs": [
    {
     "name": "stdout",
     "output_type": "stream",
     "text": [
      "modelo:  ml6team/keyphrase-extraction-kbir-inspec\n",
      "modelo:  ml6team/keyphrase-extraction-kbir-openkp\n",
      "modelo:  ml6team/keyphrase-extraction-kbir-kpcrowd\n",
      "modelo:  ml6team/keyphrase-extraction-kbir-semeval2017\n",
      "modelo:  ml6team/keyphrase-extraction-kbir-kptimes\n",
      "modelo:  ml6team/keyphrase-extraction-distilbert-openkp\n",
      "modelo:  ml6team/keyphrase-extraction-distilbert-inspec\n",
      "modelo:  ml6team/keyphrase-extraction-distilbert-kptimes\n"
     ]
    }
   ],
   "source": [
    "text = data[\"abstract\"].tolist()[962]\n",
    "\n",
    "times = []\n",
    "keyphrases = []\n",
    "\n",
    "for i in range(len(extractors)):\n",
    "    print(\"modelo: \" , models[i])\n",
    "    start_time = time.time()\n",
    "    keywords = extractors[i](text)\n",
    "    times.append(time.time() - start_time)\n",
    "    keyphrases.append(keywords)\n"
   ]
  },
  {
   "cell_type": "code",
   "execution_count": null,
   "id": "affe448d",
   "metadata": {},
   "outputs": [],
   "source": []
  },
  {
   "cell_type": "code",
   "execution_count": 29,
   "id": "c490e24d",
   "metadata": {},
   "outputs": [],
   "source": [
    "#text = data[\"abstract\"].tolist()[5]"
   ]
  },
  {
   "cell_type": "code",
   "execution_count": null,
   "id": "adfcd387",
   "metadata": {},
   "outputs": [],
   "source": []
  },
  {
   "cell_type": "code",
   "execution_count": 30,
   "id": "fe583a88",
   "metadata": {},
   "outputs": [
    {
     "name": "stdout",
     "output_type": "stream",
     "text": [
      "original:  Motivated by the rapid development of the next generation artificial intelligence, we propose a novel adaptive self-detection and self-classification algorithm using matrix eigenvector trajectory in the paper. This algorithm’s mathematical inferences are also described and proved theoretically. The proposed algorithm is used in a multi-class bearing faults classification problem to validate its effectiveness. Results show that in an online data processing scenario, it can automatically adapt to new data patterns so that self-detection and self-classification can be realized by monitoring the eigenvector evolution trajectory. By comparing with other machine learning algorithms, we have validated that the proposed algorithm does not require explicit training, its required data processing time dropped more than 78% and achieved the same classification accuracy on new testing data.\n",
      "----------------------------------------------------\n",
      "modelo:  ml6team/keyphrase-extraction-kbir-inspec\n",
      "tiempo:  46.3181266784668\n",
      "keyphrases:  ['artificial intelligence' 'bearing' 'classification'\n",
      " 'data processing time' 'machine learning' 'matrix eigenvector trajectory'\n",
      " 'online data processing']\n",
      "----------------------------------------------------\n",
      "modelo:  ml6team/keyphrase-extraction-kbir-openkp\n",
      "tiempo:  47.567296266555786\n",
      "keyphrases:  []\n",
      "----------------------------------------------------\n",
      "modelo:  ml6team/keyphrase-extraction-kbir-kpcrowd\n",
      "tiempo:  48.40030384063721\n",
      "keyphrases:  ['Motivated' 'Results' 'achieved' 'algorithm' 'algorithms'\n",
      " 'artificial intelligence' 'classification' 'classification accuracy'\n",
      " 'comparing' 'described' 'effectiveness' 'eigenvector'\n",
      " 'evolution trajectory' 'machine learning' 'mathematical' 'monitoring'\n",
      " 'multi-class' 'next generation' 'novel' 'paper' 'patterns' 'processing'\n",
      " 'processing time dropped' 'propose' 'proposed' 'rapid' 'realized'\n",
      " 'required' 'scenario' 'self-classification' 'self-detection'\n",
      " 'theoretically' 'trajectory' 'validate' 'validated']\n",
      "----------------------------------------------------\n",
      "modelo:  ml6team/keyphrase-extraction-kbir-semeval2017\n",
      "tiempo:  47.911826848983765\n",
      "keyphrases:  ['adapt to new data patterns' 'algorithm' 'classification'\n",
      " 'classification problem' 'data processing' 'data processing scenario,'\n",
      " 'inf' 'machine learning algorithms,' 'matrix eigenvector trajectory'\n",
      " 'monitoring the eigenvector evolution trajectory.'\n",
      " 'next generation artificial intelligence,' 'online']\n",
      "----------------------------------------------------\n",
      "modelo:  ml6team/keyphrase-extraction-kbir-kptimes\n",
      "tiempo:  48.005470752716064\n",
      "keyphrases:  ['artificial intelligence,']\n",
      "----------------------------------------------------\n",
      "modelo:  ml6team/keyphrase-extraction-distilbert-openkp\n",
      "tiempo:  7.1115803718566895\n",
      "keyphrases:  ['artificial intelligence']\n",
      "----------------------------------------------------\n",
      "modelo:  ml6team/keyphrase-extraction-distilbert-inspec\n",
      "tiempo:  7.144001007080078\n",
      "keyphrases:  ['artificial intelligence' 'classification'\n",
      " 'eigenvector evolution trajectory' 'explicit training' 'machine learning'\n",
      " 'mathematical inferences' 'matrix eigenvector trajectory'\n",
      " 'online data processing' 'required data processing time']\n",
      "----------------------------------------------------\n",
      "modelo:  ml6team/keyphrase-extraction-distilbert-kptimes\n",
      "tiempo:  6.920162916183472\n",
      "keyphrases:  ['artificial intelligence,']\n"
     ]
    }
   ],
   "source": [
    "\n",
    "print(\"original: \", text)\n",
    "\n",
    "for i in range(len(models)):\n",
    "    print(\"----------------------------------------------------\")\n",
    "    print(\"modelo: \" , models[i])\n",
    "    print(\"tiempo: \" ,times[i])\n",
    "    print(\"keyphrases: \" ,keyphrases[i])\n",
    "          "
   ]
  },
  {
   "cell_type": "code",
   "execution_count": null,
   "id": "e748513b",
   "metadata": {},
   "outputs": [],
   "source": []
  },
  {
   "cell_type": "code",
   "execution_count": null,
   "id": "784257d4",
   "metadata": {},
   "outputs": [],
   "source": []
  },
  {
   "cell_type": "code",
   "execution_count": null,
   "id": "41befb29",
   "metadata": {},
   "outputs": [],
   "source": []
  }
 ],
 "metadata": {
  "kernelspec": {
   "display_name": "Python 3 (ipykernel)",
   "language": "python",
   "name": "python3"
  },
  "language_info": {
   "codemirror_mode": {
    "name": "ipython",
    "version": 3
   },
   "file_extension": ".py",
   "mimetype": "text/x-python",
   "name": "python",
   "nbconvert_exporter": "python",
   "pygments_lexer": "ipython3",
   "version": "3.9.15"
  }
 },
 "nbformat": 4,
 "nbformat_minor": 5
}
