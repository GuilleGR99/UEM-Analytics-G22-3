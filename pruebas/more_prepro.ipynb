{
 "cells": [
  {
   "cell_type": "code",
   "execution_count": 1,
   "id": "aed8ba4c",
   "metadata": {},
   "outputs": [],
   "source": [
    "import pandas as pd\n",
    "import os\n",
    "import nltk\n",
    "from nltk.corpus import stopwords\n",
    "import re"
   ]
  },
  {
   "cell_type": "code",
   "execution_count": 10,
   "id": "c374fb1b",
   "metadata": {},
   "outputs": [
    {
     "name": "stdout",
     "output_type": "stream",
     "text": [
      "Cholesterol is an essential lipid molecule for several biological functions including the proper functioning of cell membranes, lipoproteins, and lipid rafts, as well as the synthesis of bile acids, vitamin D, and steroid hormones. Cholesterol can be extracted from liver tissue by multiple methods of lipid extraction. Subsequently, gas chromatography–mass spectrometry (GC–MS) can be used to obtain the highest level of sensitivity and selectivity in the analysis of cholesterol. This chapter describes two methods of lipid extraction for liver tissue, Bligh and Dyer and methyl tertiary butyl ether (MTBE), followed by an analysis with GC–MS.\n",
      "--------------\n",
      "this chapter presents an analysis of two methods of extraction of cholesterol from liver tissue .<n> the methods described in this chapter are : ( 1 ) extraction of cholesterol from liver tissue bligh and dyer and ( 2 ) extraction of\n"
     ]
    }
   ],
   "source": [
    "data = pd.read_csv(\"total_procesed.csv\")\n",
    "number = 30\n",
    "text = data[\"abstract\"].tolist()[number]\n",
    "text_res = data[\"reumen\"].tolist()[number]\n",
    "print(text)\n",
    "print(\"--------------\")\n",
    "print(text_res)"
   ]
  },
  {
   "cell_type": "code",
   "execution_count": null,
   "id": "57c136d7",
   "metadata": {},
   "outputs": [],
   "source": [
    "\n"
   ]
  },
  {
   "cell_type": "code",
   "execution_count": 3,
   "id": "11cc8e46",
   "metadata": {},
   "outputs": [],
   "source": [
    "dir_list = os.listdir(\"spring/\")"
   ]
  },
  {
   "cell_type": "code",
   "execution_count": 4,
   "id": "2f6b91e1",
   "metadata": {},
   "outputs": [
    {
     "data": {
      "text/plain": [
       "['spring_advantage actor critic.csv',\n",
       " 'spring_algorithms.csv',\n",
       " 'spring_artificial intelligence.csv',\n",
       " 'spring_balance.csv',\n",
       " 'spring_computer science.csv',\n",
       " 'spring_computer.csv',\n",
       " 'total.csv']"
      ]
     },
     "execution_count": 4,
     "metadata": {},
     "output_type": "execute_result"
    }
   ],
   "source": [
    "dir_list = [x for x in dir_list if   \".csv\" in x]\n",
    "dir_list"
   ]
  },
  {
   "cell_type": "code",
   "execution_count": null,
   "id": "8f08c9d0",
   "metadata": {},
   "outputs": [],
   "source": []
  },
  {
   "cell_type": "code",
   "execution_count": 5,
   "id": "5f472d7d",
   "metadata": {},
   "outputs": [
    {
     "name": "stdout",
     "output_type": "stream",
     "text": [
      "spring_advantage actor critic.csv\n",
      "spring_algorithms.csv\n",
      "spring_artificial intelligence.csv\n",
      "spring_balance.csv\n",
      "spring_computer science.csv\n",
      "spring_computer.csv\n"
     ]
    },
    {
     "name": "stderr",
     "output_type": "stream",
     "text": [
      "C:\\Users\\yo\\AppData\\Local\\Temp\\ipykernel_5228\\859499848.py:7: FutureWarning: The frame.append method is deprecated and will be removed from pandas in a future version. Use pandas.concat instead.\n",
      "  data = data.append(data_temp)\n",
      "C:\\Users\\yo\\AppData\\Local\\Temp\\ipykernel_5228\\859499848.py:7: FutureWarning: The frame.append method is deprecated and will be removed from pandas in a future version. Use pandas.concat instead.\n",
      "  data = data.append(data_temp)\n",
      "C:\\Users\\yo\\AppData\\Local\\Temp\\ipykernel_5228\\859499848.py:7: FutureWarning: The frame.append method is deprecated and will be removed from pandas in a future version. Use pandas.concat instead.\n",
      "  data = data.append(data_temp)\n",
      "C:\\Users\\yo\\AppData\\Local\\Temp\\ipykernel_5228\\859499848.py:7: FutureWarning: The frame.append method is deprecated and will be removed from pandas in a future version. Use pandas.concat instead.\n",
      "  data = data.append(data_temp)\n",
      "C:\\Users\\yo\\AppData\\Local\\Temp\\ipykernel_5228\\859499848.py:7: FutureWarning: The frame.append method is deprecated and will be removed from pandas in a future version. Use pandas.concat instead.\n",
      "  data = data.append(data_temp)\n",
      "C:\\Users\\yo\\AppData\\Local\\Temp\\ipykernel_5228\\859499848.py:7: FutureWarning: The frame.append method is deprecated and will be removed from pandas in a future version. Use pandas.concat instead.\n",
      "  data = data.append(data_temp)\n"
     ]
    }
   ],
   "source": [
    "data = pd.DataFrame()\n",
    "for i in dir_list:\n",
    "    if i == \"total.csv\":\n",
    "        continue\n",
    "    print(i)\n",
    "    data_temp = pd.read_csv(\"spring/\"+i)\n",
    "    data = data.append(data_temp)"
   ]
  },
  {
   "cell_type": "code",
   "execution_count": 6,
   "id": "d48cff9a",
   "metadata": {},
   "outputs": [
    {
     "data": {
      "text/html": [
       "<div>\n",
       "<style scoped>\n",
       "    .dataframe tbody tr th:only-of-type {\n",
       "        vertical-align: middle;\n",
       "    }\n",
       "\n",
       "    .dataframe tbody tr th {\n",
       "        vertical-align: top;\n",
       "    }\n",
       "\n",
       "    .dataframe thead th {\n",
       "        text-align: right;\n",
       "    }\n",
       "</style>\n",
       "<table border=\"1\" class=\"dataframe\">\n",
       "  <thead>\n",
       "    <tr style=\"text-align: right;\">\n",
       "      <th></th>\n",
       "      <th>identifier</th>\n",
       "      <th>language</th>\n",
       "      <th>title</th>\n",
       "      <th>genre</th>\n",
       "      <th>abstract</th>\n",
       "      <th>subjects</th>\n",
       "    </tr>\n",
       "  </thead>\n",
       "  <tbody>\n",
       "    <tr>\n",
       "      <th>0</th>\n",
       "      <td>doi:10.1007/978-3-031-16203-9_8</td>\n",
       "      <td>en</td>\n",
       "      <td>The Comprehensive Model of Using In-Depth Cons...</td>\n",
       "      <td>OriginalPaper</td>\n",
       "      <td>The paper describes the relevance of machine l...</td>\n",
       "      <td>['Engineering', 'Computational Intelligence', ...</td>\n",
       "    </tr>\n",
       "    <tr>\n",
       "      <th>1</th>\n",
       "      <td>doi:10.1007/978-3-031-08246-7_7</td>\n",
       "      <td>en</td>\n",
       "      <td>Implementation of Reinforcement-Learning Algor...</td>\n",
       "      <td>OriginalPaper</td>\n",
       "      <td>The problem of autonomous robot navigation in ...</td>\n",
       "      <td>['Engineering', 'Computational Intelligence', ...</td>\n",
       "    </tr>\n",
       "    <tr>\n",
       "      <th>2</th>\n",
       "      <td>doi:10.1007/978-981-19-4960-9_31</td>\n",
       "      <td>en</td>\n",
       "      <td>Reinforcement Learning for Autonomous Driving ...</td>\n",
       "      <td>OriginalPaper</td>\n",
       "      <td>The decision-making process for autonomous veh...</td>\n",
       "      <td>['Engineering', 'Computational Intelligence', ...</td>\n",
       "    </tr>\n",
       "    <tr>\n",
       "      <th>3</th>\n",
       "      <td>doi:10.1007/978-3-031-18461-1_11</td>\n",
       "      <td>en</td>\n",
       "      <td>A Survey of Reinforcement Learning Toolkits fo...</td>\n",
       "      <td>OriginalPaper</td>\n",
       "      <td>The gaming industry has become one of the most...</td>\n",
       "      <td>['Engineering', 'Computational Intelligence', ...</td>\n",
       "    </tr>\n",
       "    <tr>\n",
       "      <th>4</th>\n",
       "      <td>doi:10.1007/978-981-19-7648-3_12</td>\n",
       "      <td>en</td>\n",
       "      <td>Priority-Aware Computational Resource Allocation</td>\n",
       "      <td>OriginalPaper</td>\n",
       "      <td>Vehicular fog computing (VFC) has been expecte...</td>\n",
       "      <td>['Computer Science', 'Computer Systems Organiz...</td>\n",
       "    </tr>\n",
       "    <tr>\n",
       "      <th>...</th>\n",
       "      <td>...</td>\n",
       "      <td>...</td>\n",
       "      <td>...</td>\n",
       "      <td>...</td>\n",
       "      <td>...</td>\n",
       "      <td>...</td>\n",
       "    </tr>\n",
       "    <tr>\n",
       "      <th>195</th>\n",
       "      <td>doi:10.1007/978-3-031-08580-2_12</td>\n",
       "      <td>en</td>\n",
       "      <td>Shop Product Tracking and Early Fire Detection...</td>\n",
       "      <td>OriginalPaper</td>\n",
       "      <td>With the blooming of Internet of Things techno...</td>\n",
       "      <td>['Engineering', 'Computational Intelligence', ...</td>\n",
       "    </tr>\n",
       "    <tr>\n",
       "      <th>196</th>\n",
       "      <td>doi:10.1007/978-3-031-17746-0_14</td>\n",
       "      <td>en</td>\n",
       "      <td>Augmented Press and Robot Journalists Who Dete...</td>\n",
       "      <td>OriginalPaper</td>\n",
       "      <td>The focus is on researching the relationship b...</td>\n",
       "      <td>['Engineering', 'Computational Intelligence', ...</td>\n",
       "    </tr>\n",
       "    <tr>\n",
       "      <th>197</th>\n",
       "      <td>doi:10.1007/978-981-19-6737-5_26</td>\n",
       "      <td>en</td>\n",
       "      <td>Comparative Analysis of Generative Adversarial...</td>\n",
       "      <td>OriginalPaper</td>\n",
       "      <td>In the past decade, a convolutional neural net...</td>\n",
       "      <td>['Computer Science', 'Computer Communication N...</td>\n",
       "    </tr>\n",
       "    <tr>\n",
       "      <th>198</th>\n",
       "      <td>doi:10.1007/978-3-031-11051-1_119</td>\n",
       "      <td>en</td>\n",
       "      <td>Architecture of Software Complex for Multicrit...</td>\n",
       "      <td>OriginalPaper</td>\n",
       "      <td>The objective of the work was to develop a com...</td>\n",
       "      <td>['Engineering', 'Control and Systems Theory', ...</td>\n",
       "    </tr>\n",
       "    <tr>\n",
       "      <th>199</th>\n",
       "      <td>doi:10.1007/978-3-031-21333-5_85</td>\n",
       "      <td>en</td>\n",
       "      <td>LEDBoard: Using Visual Feedback to Support Tex...</td>\n",
       "      <td>OriginalPaper</td>\n",
       "      <td>Physical keyboards persist as one of the most ...</td>\n",
       "      <td>['Engineering', 'Data Engineering', 'Computati...</td>\n",
       "    </tr>\n",
       "  </tbody>\n",
       "</table>\n",
       "<p>7400 rows × 6 columns</p>\n",
       "</div>"
      ],
      "text/plain": [
       "                            identifier language  \\\n",
       "0      doi:10.1007/978-3-031-16203-9_8       en   \n",
       "1      doi:10.1007/978-3-031-08246-7_7       en   \n",
       "2     doi:10.1007/978-981-19-4960-9_31       en   \n",
       "3     doi:10.1007/978-3-031-18461-1_11       en   \n",
       "4     doi:10.1007/978-981-19-7648-3_12       en   \n",
       "..                                 ...      ...   \n",
       "195   doi:10.1007/978-3-031-08580-2_12       en   \n",
       "196   doi:10.1007/978-3-031-17746-0_14       en   \n",
       "197   doi:10.1007/978-981-19-6737-5_26       en   \n",
       "198  doi:10.1007/978-3-031-11051-1_119       en   \n",
       "199   doi:10.1007/978-3-031-21333-5_85       en   \n",
       "\n",
       "                                                 title          genre  \\\n",
       "0    The Comprehensive Model of Using In-Depth Cons...  OriginalPaper   \n",
       "1    Implementation of Reinforcement-Learning Algor...  OriginalPaper   \n",
       "2    Reinforcement Learning for Autonomous Driving ...  OriginalPaper   \n",
       "3    A Survey of Reinforcement Learning Toolkits fo...  OriginalPaper   \n",
       "4     Priority-Aware Computational Resource Allocation  OriginalPaper   \n",
       "..                                                 ...            ...   \n",
       "195  Shop Product Tracking and Early Fire Detection...  OriginalPaper   \n",
       "196  Augmented Press and Robot Journalists Who Dete...  OriginalPaper   \n",
       "197  Comparative Analysis of Generative Adversarial...  OriginalPaper   \n",
       "198  Architecture of Software Complex for Multicrit...  OriginalPaper   \n",
       "199  LEDBoard: Using Visual Feedback to Support Tex...  OriginalPaper   \n",
       "\n",
       "                                              abstract  \\\n",
       "0    The paper describes the relevance of machine l...   \n",
       "1    The problem of autonomous robot navigation in ...   \n",
       "2    The decision-making process for autonomous veh...   \n",
       "3    The gaming industry has become one of the most...   \n",
       "4    Vehicular fog computing (VFC) has been expecte...   \n",
       "..                                                 ...   \n",
       "195  With the blooming of Internet of Things techno...   \n",
       "196  The focus is on researching the relationship b...   \n",
       "197  In the past decade, a convolutional neural net...   \n",
       "198  The objective of the work was to develop a com...   \n",
       "199  Physical keyboards persist as one of the most ...   \n",
       "\n",
       "                                              subjects  \n",
       "0    ['Engineering', 'Computational Intelligence', ...  \n",
       "1    ['Engineering', 'Computational Intelligence', ...  \n",
       "2    ['Engineering', 'Computational Intelligence', ...  \n",
       "3    ['Engineering', 'Computational Intelligence', ...  \n",
       "4    ['Computer Science', 'Computer Systems Organiz...  \n",
       "..                                                 ...  \n",
       "195  ['Engineering', 'Computational Intelligence', ...  \n",
       "196  ['Engineering', 'Computational Intelligence', ...  \n",
       "197  ['Computer Science', 'Computer Communication N...  \n",
       "198  ['Engineering', 'Control and Systems Theory', ...  \n",
       "199  ['Engineering', 'Data Engineering', 'Computati...  \n",
       "\n",
       "[7400 rows x 6 columns]"
      ]
     },
     "execution_count": 6,
     "metadata": {},
     "output_type": "execute_result"
    }
   ],
   "source": [
    "data"
   ]
  },
  {
   "cell_type": "code",
   "execution_count": 7,
   "id": "c526ff63",
   "metadata": {},
   "outputs": [],
   "source": [
    "\n",
    "data.to_csv(\"spring/total.csv\",index=False) \n",
    "#data = pd.read_csv(\"spring/total.csv\")"
   ]
  },
  {
   "cell_type": "code",
   "execution_count": null,
   "id": "010ea497",
   "metadata": {},
   "outputs": [],
   "source": []
  },
  {
   "cell_type": "code",
   "execution_count": 8,
   "id": "88eea991",
   "metadata": {},
   "outputs": [],
   "source": [
    "#data_fil.columns = ['id','idioma', 'titulo','genero', 'abstract', 'categorias']"
   ]
  },
  {
   "cell_type": "code",
   "execution_count": null,
   "id": "df2a8d70",
   "metadata": {},
   "outputs": [],
   "source": []
  },
  {
   "cell_type": "code",
   "execution_count": 9,
   "id": "13d3c8fa",
   "metadata": {},
   "outputs": [],
   "source": [
    "#data_fil.to_csv(\"spring/total.csv\",index=False)  "
   ]
  },
  {
   "cell_type": "code",
   "execution_count": null,
   "id": "3fa4cdf1",
   "metadata": {},
   "outputs": [],
   "source": []
  }
 ],
 "metadata": {
  "kernelspec": {
   "display_name": "Python 3",
   "language": "python",
   "name": "python3"
  },
  "language_info": {
   "codemirror_mode": {
    "name": "ipython",
    "version": 3
   },
   "file_extension": ".py",
   "mimetype": "text/x-python",
   "name": "python",
   "nbconvert_exporter": "python",
   "pygments_lexer": "ipython3",
   "version": "3.10.8 (tags/v3.10.8:aaaf517, Oct 11 2022, 16:50:30) [MSC v.1933 64 bit (AMD64)]"
  },
  "vscode": {
   "interpreter": {
    "hash": "4e02a394f46a34fb7f702684e07532c65eb0e3cf841f78604b97865c14e9683e"
   }
  }
 },
 "nbformat": 4,
 "nbformat_minor": 5
}
