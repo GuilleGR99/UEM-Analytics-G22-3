{
 "cells": [
  {
   "cell_type": "code",
   "execution_count": 1,
   "id": "d66ca074",
   "metadata": {},
   "outputs": [],
   "source": [
    "import os\n",
    "#!pip install -U numpy\n",
    "#os.environ['KMP_DUPLICATE_LIB_OK']='True'\n",
    "from tensorflow.keras import layers\n",
    "from tensorflow import keras\n",
    "import tensorflow as tf\n",
    "\n",
    "from sklearn.model_selection import train_test_split\n",
    "from sklearn.model_selection import StratifiedKFold\n",
    "from ast import literal_eval\n",
    "import random\n",
    "import matplotlib.pyplot as plt\n",
    "import numpy as np\n",
    "import pandas as pd\n",
    "from sklearn.utils import class_weight\n"
   ]
  },
  {
   "cell_type": "code",
   "execution_count": 2,
   "id": "2ed59ef6",
   "metadata": {},
   "outputs": [
    {
     "data": {
      "text/plain": [
       "[PhysicalDevice(name='/physical_device:CPU:0', device_type='CPU'),\n",
       " PhysicalDevice(name='/physical_device:GPU:0', device_type='GPU')]"
      ]
     },
     "execution_count": 2,
     "metadata": {},
     "output_type": "execute_result"
    }
   ],
   "source": [
    "tf.config.list_physical_devices()"
   ]
  },
  {
   "cell_type": "code",
   "execution_count": null,
   "id": "e38c6e8d",
   "metadata": {},
   "outputs": [],
   "source": []
  },
  {
   "cell_type": "code",
   "execution_count": 3,
   "id": "47e75f81",
   "metadata": {},
   "outputs": [],
   "source": [
    "data = pd.read_csv(\"spring/total.csv\",encoding='utf-8')"
   ]
  },
  {
   "cell_type": "code",
   "execution_count": 4,
   "id": "23a7cca5",
   "metadata": {},
   "outputs": [],
   "source": [
    "data[\"categorias\"] = data[\"categorias\"].apply(\n",
    "    lambda x: literal_eval(x)\n",
    ")\n"
   ]
  },
  {
   "cell_type": "code",
   "execution_count": null,
   "id": "78a33d83",
   "metadata": {},
   "outputs": [],
   "source": []
  },
  {
   "cell_type": "code",
   "execution_count": 5,
   "id": "c8d44e62",
   "metadata": {},
   "outputs": [],
   "source": [
    "test_split = 0.3\n",
    "\n",
    "# Initial train and test split.\n",
    "train_df, test_df = train_test_split(\n",
    "    data,\n",
    "    test_size=test_split,\n",
    "    stratify=data[\"categorias\"].values,\n",
    ")\n",
    "# Splitting the test set further into validation\n",
    "# and new test sets.\n",
    "val_df = test_df.sample(frac=0.2)\n",
    "test_df.drop(val_df.index, inplace=True)"
   ]
  },
  {
   "cell_type": "code",
   "execution_count": 6,
   "id": "97f433e2",
   "metadata": {},
   "outputs": [
    {
     "name": "stdout",
     "output_type": "stream",
     "text": [
      "Vocabulary:\n",
      "\n",
      "104\n"
     ]
    }
   ],
   "source": [
    "terms = tf.ragged.constant(train_df[\"categorias\"].values)\n",
    "lookup = tf.keras.layers.StringLookup(output_mode=\"multi_hot\")\n",
    "lookup.adapt(terms)\n",
    "vocab = lookup.get_vocabulary()\n",
    "\n",
    "\n",
    "def invert_multi_hot(encoded_labels):\n",
    "    \"\"\"Reverse a single multi-hot encoded label to a tuple of vocab terms.\"\"\"\n",
    "    hot_indices = np.argwhere(encoded_labels == 1.0)[..., 0]\n",
    "    return np.take(vocab, hot_indices)\n",
    "\n",
    "\n",
    "print(\"Vocabulary:\\n\")\n",
    "print(lookup.vocabulary_size())"
   ]
  },
  {
   "cell_type": "code",
   "execution_count": 7,
   "id": "621bd69e",
   "metadata": {},
   "outputs": [
    {
     "data": {
      "text/plain": [
       "{'[UNK]': 0,\n",
       " 'Artificial Intelligence': 6344,\n",
       " 'Computational Intelligence': 5077,\n",
       " 'Computer Science': 3934,\n",
       " 'Communications Engineering, Networks': 2841,\n",
       " 'Control, Robotics, Mechatronics': 2010,\n",
       " 'Cyber-physical systems, IoT': 1902,\n",
       " 'Professional Computing': 1479,\n",
       " 'Mechanical Engineering': 1323,\n",
       " 'Data Structures and Information Theory': 1178,\n",
       " 'Medicine & Public Health': 1158,\n",
       " 'Science, Humanities and Social Sciences, multidisciplinary': 1152,\n",
       " 'Industrial and Production Engineering': 1087,\n",
       " 'Machine Learning': 1076,\n",
       " 'Computer Communication Networks': 995,\n",
       " 'Manufacturing, Machines, Tools, Processes': 882,\n",
       " 'Robotics and Automation': 869,\n",
       " 'Computer Science, general': 814,\n",
       " 'Signal, Image and Speech Processing': 787,\n",
       " 'Data Mining and Knowledge Discovery': 786,\n",
       " 'Data Engineering': 735,\n",
       " 'Control and Systems Theory': 676,\n",
       " 'Image Processing and Computer Vision': 641,\n",
       " 'Aerospace Technology and Astronautics': 612,\n",
       " 'Business and Management': 601,\n",
       " 'Computer Imaging, Vision, Pattern Recognition and Graphics': 588,\n",
       " 'Transportation Technology and Traffic Engineering': 560,\n",
       " 'Computational Biology/Bioinformatics': 533,\n",
       " 'Science, multidisciplinary': 526,\n",
       " 'Statistics, general': 523,\n",
       " 'Life Sciences': 508,\n",
       " 'Automotive Engineering': 503,\n",
       " 'Multimedia Information Systems': 497,\n",
       " 'Information Storage and Retrieval': 486,\n",
       " 'Biomedical Engineering and Bioengineering': 471,\n",
       " 'Electronics and Microelectronics, Instrumentation': 451,\n",
       " 'User Interfaces and Human Computer Interaction': 439,\n",
       " 'Wireless and Mobile Communication': 424,\n",
       " 'Biomedicine': 418,\n",
       " 'Special Purpose and Application-Based Systems': 415,\n",
       " 'Computational Science and Engineering': 415,\n",
       " 'Mathematical and Computational Engineering': 404,\n",
       " 'Engineering Design': 392,\n",
       " 'Vibration, Dynamical Systems, Control': 389,\n",
       " 'Engineering Economics, Organization, Logistics, Marketing': 382,\n",
       " 'Computer Systems Organization and Communication Networks': 383,\n",
       " 'Bioinformatics': 379,\n",
       " 'Science and Technology Studies': 378,\n",
       " 'Environment, general': 382,\n",
       " 'Mobile and Network Security': 374,\n",
       " 'Probability and Statistics in Computer Science': 370,\n",
       " 'Materials Science, general': 367,\n",
       " 'Energy Systems': 365,\n",
       " 'IT in Business': 355,\n",
       " 'Circuits and Systems': 351,\n",
       " 'Building Construction and Design': 349,\n",
       " 'Operations Research/Decision Theory': 347,\n",
       " 'Sustainable Development': 345,\n",
       " 'Political Science and International Relations': 335,\n",
       " 'Natural Language Processing (NLP)': 336,\n",
       " 'Environment': 335,\n",
       " 'Building Repair and Maintenance': 324,\n",
       " 'Systems and Data Security': 323,\n",
       " 'Machinery and Machine Elements': 323,\n",
       " 'Earth Sciences': 322,\n",
       " 'Information Systems Applications (incl.Internet)': 317,\n",
       " 'Chemistry': 320,\n",
       " 'Analytical Chemistry': 308,\n",
       " 'Systems Theory, Control': 303,\n",
       " 'Materials Engineering': 297,\n",
       " 'Software Engineering/Programming and Operating Systems': 290,\n",
       " 'Complex Systems': 285,\n",
       " 'Computer Applications': 281,\n",
       " 'Social Sciences': 277,\n",
       " 'Energy Policy, Economics and Management': 275,\n",
       " 'Electrical Engineering': 268,\n",
       " 'Biomedicine, general': 271,\n",
       " 'Computer-Aided Engineering (CAD, CAE) and Design': 271,\n",
       " 'Neurosciences': 264,\n",
       " 'Business and Management, general': 264,\n",
       " 'Monitoring/Environmental Analysis': 260,\n",
       " 'Imaging / Radiology': 258,\n",
       " 'Psychology': 254,\n",
       " 'Power Electronics, Electrical Machines and Networks': 252,\n",
       " 'Health Informatics': 250,\n",
       " 'Energy': 241,\n",
       " 'Sociology, general': 236,\n",
       " 'Database Management': 232,\n",
       " 'Complexity': 232,\n",
       " 'Robotics': 234,\n",
       " 'Civil Engineering': 236,\n",
       " 'Public Policy': 228,\n",
       " 'Medicine/Public Health, general': 231,\n",
       " 'Information Systems and Communication Service': 230,\n",
       " 'Mathematics': 225,\n",
       " 'Operating Systems': 219,\n",
       " 'Materials Science': 220,\n",
       " 'Signal,Image and Speech Processing': 218,\n",
       " 'Education, general': 216,\n",
       " 'Processor Architectures': 212,\n",
       " 'Geotechnical Engineering & Applied Earth Sciences': 212,\n",
       " 'Engineering, general': 206,\n",
       " 'Structural Materials': 206,\n",
       " 'Pattern Recognition': 203}"
      ]
     },
     "execution_count": 7,
     "metadata": {},
     "output_type": "execute_result"
    }
   ],
   "source": [
    "flat = [item for sublist in data[\"categorias\"].tolist() for item in sublist]\n",
    "from collections import Counter\n",
    "contados = Counter(flat)\n",
    "{ i:contados[i] for i in vocab}"
   ]
  },
  {
   "cell_type": "code",
   "execution_count": 8,
   "id": "6b435c76",
   "metadata": {},
   "outputs": [
    {
     "name": "stdout",
     "output_type": "stream",
     "text": [
      "Original label: ['Circuits and Systems', 'Electronics and Microelectronics, Instrumentation']\n",
      "Label-binarized representation: [[0. 0. 0. 0. 0. 0. 0. 0. 0. 0. 0. 0. 0. 0. 0. 0. 0. 0. 0. 0. 0. 0. 0. 0.\n",
      "  0. 0. 0. 0. 0. 0. 0. 0. 0. 0. 0. 1. 0. 0. 0. 0. 0. 0. 0. 0. 0. 0. 0. 0.\n",
      "  0. 0. 0. 0. 0. 0. 1. 0. 0. 0. 0. 0. 0. 0. 0. 0. 0. 0. 0. 0. 0. 0. 0. 0.\n",
      "  0. 0. 0. 0. 0. 0. 0. 0. 0. 0. 0. 0. 0. 0. 0. 0. 0. 0. 0. 0. 0. 0. 0. 0.\n",
      "  0. 0. 0. 0. 0. 0. 0. 0.]]\n"
     ]
    }
   ],
   "source": [
    "sample_label = train_df[\"categorias\"].iloc[0]\n",
    "print(f\"Original label: {sample_label}\")\n",
    "\n",
    "label_binarized = lookup([sample_label])\n",
    "print(f\"Label-binarized representation: {label_binarized}\")"
   ]
  },
  {
   "cell_type": "code",
   "execution_count": 9,
   "id": "f8fb5e55",
   "metadata": {},
   "outputs": [
    {
     "data": {
      "text/plain": [
       "count    15061.000000\n",
       "mean       181.040104\n",
       "std         68.437884\n",
       "min          1.000000\n",
       "25%        139.000000\n",
       "50%        179.000000\n",
       "75%        221.000000\n",
       "max       1184.000000\n",
       "Name: abstract, dtype: float64"
      ]
     },
     "execution_count": 9,
     "metadata": {},
     "output_type": "execute_result"
    }
   ],
   "source": [
    "train_df[\"abstract\"].apply(lambda x: len(x.split(\" \"))).describe()"
   ]
  },
  {
   "cell_type": "code",
   "execution_count": 10,
   "id": "cf1778f0",
   "metadata": {},
   "outputs": [],
   "source": [
    "max_seqlen = 221\n",
    "batch_size = 500\n",
    "padding_token = \"<pad>\"\n",
    "auto = tf.data.AUTOTUNE\n",
    "\n",
    "\n",
    "def make_dataset(dataframe, is_train=True):\n",
    "    labels = tf.ragged.constant(dataframe[\"categorias\"].values)\n",
    "    label_binarized = lookup(labels).numpy()\n",
    "    dataset = tf.data.Dataset.from_tensor_slices(\n",
    "        (dataframe[\"abstract\"].values, label_binarized)\n",
    "    )\n",
    "    dataset = dataset.shuffle(batch_size * 10) if is_train else dataset\n",
    "    return dataset.batch(batch_size)\n"
   ]
  },
  {
   "cell_type": "code",
   "execution_count": 11,
   "id": "97ae9ff3",
   "metadata": {},
   "outputs": [],
   "source": [
    "train_dataset = make_dataset(train_df, is_train=True)\n",
    "validation_dataset = make_dataset(val_df, is_train=False)\n",
    "test_dataset = make_dataset(test_df, is_train=False)"
   ]
  },
  {
   "cell_type": "code",
   "execution_count": 12,
   "id": "9f46aec1",
   "metadata": {},
   "outputs": [],
   "source": [
    "#next(iter(train_dataset))\n",
    "#train_df"
   ]
  },
  {
   "cell_type": "markdown",
   "id": "6764d920",
   "metadata": {},
   "source": [
    "text_batch, label_batch = next(iter(train_dataset))\n",
    "\n",
    "for i, text in enumerate(text_batch[:3]):\n",
    "    label = label_batch[i].numpy()[None, ...]\n",
    "    print(f\"Abstract: {text}\")\n",
    "    print(f\"Label(s): {invert_multi_hot(label[0])}\")\n",
    "    print(\" \")"
   ]
  },
  {
   "cell_type": "code",
   "execution_count": 13,
   "id": "ef222ff6",
   "metadata": {},
   "outputs": [
    {
     "name": "stdout",
     "output_type": "stream",
     "text": [
      "91286\n"
     ]
    }
   ],
   "source": [
    "# Source: https://stackoverflow.com/a/18937309/7636462\n",
    "vocabulary = set()\n",
    "train_df[\"abstract\"].str.lower().str.split().apply(vocabulary.update)\n",
    "vocabulary_size = len(vocabulary)\n",
    "print( vocabulary_size)"
   ]
  },
  {
   "cell_type": "code",
   "execution_count": 14,
   "id": "00f849d3",
   "metadata": {},
   "outputs": [],
   "source": [
    "text_vectorizer = layers.TextVectorization(\n",
    "    max_tokens=vocabulary_size, ngrams=2, output_mode=\"tf_idf\"\n",
    ")\n",
    "\n",
    "# `TextVectorization` layer needs to be adapted as per the vocabulary from our\n",
    "# training set.\n",
    "with tf.device(\"/CPU:0\"):\n",
    "    text_vectorizer.adapt(train_dataset.map(lambda text, label: text))\n",
    "\n",
    "train_dataset = train_dataset.map(\n",
    "    lambda text, label: (text_vectorizer(text), label), num_parallel_calls=auto\n",
    ").prefetch(auto)\n",
    "validation_dataset = validation_dataset.map(\n",
    "    lambda text, label: (text_vectorizer(text), label), num_parallel_calls=auto\n",
    ").prefetch(auto)\n",
    "test_dataset = test_dataset.map(\n",
    "    lambda text, label: (text_vectorizer(text), label), num_parallel_calls=auto\n",
    ").prefetch(auto)"
   ]
  },
  {
   "cell_type": "markdown",
   "id": "c5e6857a",
   "metadata": {},
   "source": [
    "def make_model():\n",
    "    shallow_mlp_model = keras.Sequential(\n",
    "        [\n",
    "\n",
    "            layers.Dense(512, activation=\"relu\"),\n",
    "            layers.Dense(256, activation=\"relu\"),\n",
    "            layers.Dense(lookup.vocabulary_size(), activation=\"sigmoid\"),\n",
    "            #layers.Dense( len(vocab), activation=\"sigmoid\"),\n",
    "        ]  # More on why \"sigmoid\" has been used here in a moment.\n",
    "    )\n",
    "    return shallow_mlp_model\n",
    "\n"
   ]
  },
  {
   "cell_type": "code",
   "execution_count": 15,
   "id": "30bfb647",
   "metadata": {},
   "outputs": [],
   "source": [
    "def make_model():\n",
    "    shallow_mlp_model = keras.Sequential(\n",
    "        [\n",
    "\n",
    "            layers.Dense(1024, activation=\"sigmoid\"),\n",
    "            layers.Dropout(.1),\n",
    "            layers.Dense(512, activation=\"sigmoid\"),\n",
    "            layers.Dropout(.1),\n",
    "            layers.Dense(224, activation=\"sigmoid\"),\n",
    "            layers.Dropout(.1),\n",
    "            layers.Dense(512, activation=\"sigmoid\"),\n",
    "            layers.Dense(1024, activation=\"sigmoid\"),\n",
    "            layers.Dropout(.1),\n",
    "            layers.Dense(512, activation=\"sigmoid\"),\n",
    "            layers.Dense(1024, activation=\"sigmoid\"),\n",
    "            layers.Dropout(.1),\n",
    "            layers.Dense(512, activation=\"sigmoid\"),\n",
    "            layers.Dropout(.1),\n",
    "            layers.Dense(1024, activation=\"sigmoid\"),\n",
    "            layers.Dropout(.1),\n",
    "            layers.Dense(lookup.vocabulary_size(), activation=\"sigmoid\"),\n",
    "            #layers.Dense( len(vocab), activation=\"sigmoid\"),\n",
    "        ]  # More on why \"sigmoid\" has been used here in a moment.\n",
    "    )\n",
    "    # Reshape((16, 8)) \n",
    "    return shallow_mlp_model"
   ]
  },
  {
   "cell_type": "code",
   "execution_count": 16,
   "id": "f8594189",
   "metadata": {},
   "outputs": [],
   "source": [
    "#shallow_mlp_model = make_model()\n",
    "max_lay = 40\n",
    "red = []\n",
    "shallow_mlp_model =  keras.Sequential()\n",
    "for i in range(max_lay):\n",
    "    nodos = random.randint(800, 1024)\n",
    "    red.append(nodos)\n",
    "    shallow_mlp_model.add( layers.Dense(nodos, activation=\"sigmoid\"))\n",
    "    shallow_mlp_model.add( layers.Dropout(.2))\n",
    "shallow_mlp_model.add( layers.Dense(1024, activation=\"sigmoid\"))\n",
    "shallow_mlp_model.add( layers.Dropout(.2))\n",
    "shallow_mlp_model.add( layers.Dense(lookup.vocabulary_size(), activation=\"softmax\"))"
   ]
  },
  {
   "cell_type": "code",
   "execution_count": null,
   "id": "1d1ab810",
   "metadata": {},
   "outputs": [],
   "source": []
  },
  {
   "cell_type": "code",
   "execution_count": 17,
   "id": "c7ea818a",
   "metadata": {},
   "outputs": [],
   "source": [
    "epochs = 20\n",
    "#5 para acelerar las primeras versiones, solo queremos ver que no explota\n",
    "#opt = tf.keras.optimizers.Adam(learning_rate=0.00001)\n",
    "opt = tf.keras.optimizers.Adamax(\n",
    "    learning_rate=0.0001)\n",
    "#perd = tf.keras.losses.BinaryCrossentropy( )\n",
    "\n",
    "perd = tf.keras.losses.CategoricalCrossentropy()\n",
    "# Add the class weights to the training                                         \n",
    "#model.fit(x_train, y_train, epochs=10, batch_size=32, class_weight=weights)\n",
    "\n",
    "shallow_mlp_model.compile(loss='kullback_leibler_divergence', optimizer=opt, metrics=[\"accuracy\",\"binary_accuracy\"])\n",
    "#binary_crossentropy\n",
    "#sparse_categorical_crossentropy"
   ]
  },
  {
   "cell_type": "code",
   "execution_count": 18,
   "id": "ad0f196f",
   "metadata": {},
   "outputs": [
    {
     "name": "stdout",
     "output_type": "stream",
     "text": [
      "Epoch 1/20\n",
      "31/31 [==============================] - 13s 273ms/step - loss: 13.1782 - accuracy: 0.1613 - binary_accuracy: 0.9711 - val_loss: 12.4569 - val_accuracy: 0.2897 - val_binary_accuracy: 0.9713\n",
      "Epoch 2/20\n",
      "31/31 [==============================] - 9s 267ms/step - loss: 12.5940 - accuracy: 0.2059 - binary_accuracy: 0.9712 - val_loss: 12.4208 - val_accuracy: 0.2897 - val_binary_accuracy: 0.9713\n",
      "Epoch 3/20\n",
      "31/31 [==============================] - 9s 261ms/step - loss: 12.5864 - accuracy: 0.2078 - binary_accuracy: 0.9712 - val_loss: 12.4202 - val_accuracy: 0.2897 - val_binary_accuracy: 0.9713\n",
      "Epoch 4/20\n",
      "31/31 [==============================] - 9s 261ms/step - loss: 12.5649 - accuracy: 0.2154 - binary_accuracy: 0.9711 - val_loss: 12.4186 - val_accuracy: 0.2897 - val_binary_accuracy: 0.9713\n",
      "Epoch 5/20\n",
      "31/31 [==============================] - 9s 262ms/step - loss: 12.5642 - accuracy: 0.2084 - binary_accuracy: 0.9711 - val_loss: 12.4190 - val_accuracy: 0.2897 - val_binary_accuracy: 0.9713\n",
      "Epoch 6/20\n",
      "31/31 [==============================] - 9s 260ms/step - loss: 12.5601 - accuracy: 0.2157 - binary_accuracy: 0.9712 - val_loss: 12.4191 - val_accuracy: 0.2897 - val_binary_accuracy: 0.9713\n",
      "Epoch 7/20\n",
      "31/31 [==============================] - 9s 260ms/step - loss: 12.5486 - accuracy: 0.2142 - binary_accuracy: 0.9711 - val_loss: 12.4181 - val_accuracy: 0.2897 - val_binary_accuracy: 0.9713\n",
      "Epoch 8/20\n",
      "31/31 [==============================] - 9s 263ms/step - loss: 12.5468 - accuracy: 0.2180 - binary_accuracy: 0.9712 - val_loss: 12.4195 - val_accuracy: 0.2897 - val_binary_accuracy: 0.9713\n",
      "Epoch 9/20\n",
      "31/31 [==============================] - 9s 262ms/step - loss: 12.5276 - accuracy: 0.2236 - binary_accuracy: 0.9712 - val_loss: 12.4175 - val_accuracy: 0.2897 - val_binary_accuracy: 0.9713\n",
      "Epoch 10/20\n",
      "31/31 [==============================] - 9s 261ms/step - loss: 12.5383 - accuracy: 0.2187 - binary_accuracy: 0.9712 - val_loss: 12.4169 - val_accuracy: 0.2897 - val_binary_accuracy: 0.9713\n",
      "Epoch 11/20\n",
      "31/31 [==============================] - 9s 263ms/step - loss: 12.5273 - accuracy: 0.2174 - binary_accuracy: 0.9712 - val_loss: 12.4174 - val_accuracy: 0.2897 - val_binary_accuracy: 0.9713\n",
      "Epoch 12/20\n",
      "31/31 [==============================] - 9s 261ms/step - loss: 12.5228 - accuracy: 0.2220 - binary_accuracy: 0.9711 - val_loss: 12.4172 - val_accuracy: 0.2897 - val_binary_accuracy: 0.9713\n",
      "Epoch 13/20\n",
      "31/31 [==============================] - 9s 263ms/step - loss: 12.5186 - accuracy: 0.2246 - binary_accuracy: 0.9712 - val_loss: 12.4181 - val_accuracy: 0.2897 - val_binary_accuracy: 0.9713\n",
      "Epoch 14/20\n",
      "31/31 [==============================] - 9s 264ms/step - loss: 12.5111 - accuracy: 0.2305 - binary_accuracy: 0.9711 - val_loss: 12.4175 - val_accuracy: 0.2897 - val_binary_accuracy: 0.9713\n",
      "Epoch 15/20\n",
      "31/31 [==============================] - 9s 262ms/step - loss: 12.5147 - accuracy: 0.2250 - binary_accuracy: 0.9712 - val_loss: 12.4176 - val_accuracy: 0.2897 - val_binary_accuracy: 0.9713\n",
      "Epoch 16/20\n",
      "31/31 [==============================] - 9s 263ms/step - loss: 12.5003 - accuracy: 0.2301 - binary_accuracy: 0.9711 - val_loss: 12.4176 - val_accuracy: 0.2897 - val_binary_accuracy: 0.9713\n",
      "Epoch 17/20\n",
      "31/31 [==============================] - 9s 263ms/step - loss: 12.4976 - accuracy: 0.2331 - binary_accuracy: 0.9711 - val_loss: 12.4189 - val_accuracy: 0.2897 - val_binary_accuracy: 0.9713\n",
      "Epoch 18/20\n",
      "31/31 [==============================] - 9s 264ms/step - loss: 12.4946 - accuracy: 0.2359 - binary_accuracy: 0.9711 - val_loss: 12.4191 - val_accuracy: 0.2897 - val_binary_accuracy: 0.9713\n",
      "Epoch 19/20\n",
      "31/31 [==============================] - 9s 264ms/step - loss: 12.4988 - accuracy: 0.2310 - binary_accuracy: 0.9712 - val_loss: 12.4162 - val_accuracy: 0.2897 - val_binary_accuracy: 0.9713\n",
      "Epoch 20/20\n",
      "31/31 [==============================] - 9s 265ms/step - loss: 12.4917 - accuracy: 0.2356 - binary_accuracy: 0.9711 - val_loss: 12.4179 - val_accuracy: 0.2897 - val_binary_accuracy: 0.9713\n"
     ]
    }
   ],
   "source": [
    "with tf.device(\"/GPU:0\"):\n",
    "    history = shallow_mlp_model.fit(train_dataset, validation_data=validation_dataset, epochs=epochs)\n",
    "#"
   ]
  },
  {
   "cell_type": "code",
   "execution_count": 19,
   "id": "f7b9d6e5",
   "metadata": {},
   "outputs": [
    {
     "data": {
      "image/png": "[encoded data removed]",
      "text/plain": [
       "<Figure size 640x480 with 1 Axes>"
      ]
     },
     "metadata": {},
     "output_type": "display_data"
    },
    {
     "data": {
      "image/png": "[encoded data removed]",
      "text/plain": [
       "<Figure size 640x480 with 1 Axes>"
      ]
     },
     "metadata": {},
     "output_type": "display_data"
    },
    {
     "data": {
      "image/png": "[encoded data removed]",
      "text/plain": [
       "<Figure size 640x480 with 1 Axes>"
      ]
     },
     "metadata": {},
     "output_type": "display_data"
    }
   ],
   "source": [
    "def plot_result(item):\n",
    "    plt.plot(history.history[item], label=item)\n",
    "    plt.plot(history.history[\"val_\" + item], label=\"val_\" + item)\n",
    "    plt.xlabel(\"Epochs\")\n",
    "    plt.ylabel(item)\n",
    "    plt.title(\"Train and Validation {} Over Epochs\".format(item), fontsize=14)\n",
    "    plt.legend()\n",
    "    plt.grid()\n",
    "    plt.show()\n",
    "\n",
    "\n",
    "plot_result(\"loss\")\n",
    "plot_result(\"accuracy\")\n",
    "plot_result(\"binary_accuracy\")"
   ]
  },
  {
   "cell_type": "code",
   "execution_count": 20,
   "id": "04d359fb",
   "metadata": {},
   "outputs": [],
   "source": [
    "#keras.models.save_model(shallow_mlp_model,'spring/radEd_model_v2.hdf5')\n",
    "#shallow_mlp_model = tf.keras.models.load_model('spring/radEd_model_v2.hdf5')"
   ]
  },
  {
   "cell_type": "code",
   "execution_count": 21,
   "id": "983d0a5c",
   "metadata": {},
   "outputs": [
    {
     "name": "stdout",
     "output_type": "stream",
     "text": [
      "11/11 [==============================] - 2s 123ms/step - loss: 12.4006 - accuracy: 0.2932 - binary_accuracy: 0.9711\n",
      "Categorical binary_acc on the test set: 97.11%.\n",
      "Categorical accuracy on the test set: 29.32%.\n"
     ]
    }
   ],
   "source": [
    "_,accura, binary_acc  = shallow_mlp_model.evaluate(test_dataset)\n",
    "print(f\"Categorical binary_acc on the test set: {round(binary_acc * 100, 2)}%.\")\n",
    "print(f\"Categorical accuracy on the test set: {round(accura * 100, 2)}%.\")"
   ]
  },
  {
   "cell_type": "code",
   "execution_count": 22,
   "id": "ae5bce1e",
   "metadata": {},
   "outputs": [
    {
     "name": "stdout",
     "output_type": "stream",
     "text": [
      "Label(s): ['Biomedicine' 'Neurosciences']\n",
      "Predicted Label(s): (Artificial Intelligence, Computational Intelligence, Computer Science, Communications Engineering, Networks, Control, Robotics, Mechatronics)\n",
      " \n",
      "Label(s): ['Psychology' 'Sociology, general']\n",
      "Predicted Label(s): (Artificial Intelligence, Computational Intelligence, Computer Science, Communications Engineering, Networks, Control, Robotics, Mechatronics)\n",
      " \n",
      "Label(s): ['Materials Science, general' 'Materials Science' 'Structural Materials']\n",
      "Predicted Label(s): (Artificial Intelligence, Computational Intelligence, Computer Science, Communications Engineering, Networks, Control, Robotics, Mechatronics)\n",
      " \n",
      "Label(s): ['Materials Science, general' 'Circuits and Systems']\n",
      "Predicted Label(s): (Artificial Intelligence, Computational Intelligence, Computer Science, Communications Engineering, Networks, Control, Robotics, Mechatronics)\n",
      " \n",
      "Label(s): ['Life Sciences']\n",
      "Predicted Label(s): (Artificial Intelligence, Computational Intelligence, Computer Science, Communications Engineering, Networks, Control, Robotics, Mechatronics)\n",
      " \n",
      "Label(s): ['Artificial Intelligence' 'Computational Intelligence'\n",
      " 'Control, Robotics, Mechatronics']\n",
      "Predicted Label(s): (Artificial Intelligence, Computational Intelligence, Computer Science, Communications Engineering, Networks, Control, Robotics, Mechatronics)\n",
      " \n",
      "Label(s): ['Computer Communication Networks' 'Wireless and Mobile Communication']\n",
      "Predicted Label(s): (Artificial Intelligence, Computational Intelligence, Computer Science, Communications Engineering, Networks, Control, Robotics, Mechatronics)\n",
      " \n",
      "Label(s): ['Earth Sciences']\n",
      "Predicted Label(s): (Artificial Intelligence, Computational Intelligence, Computer Science, Communications Engineering, Networks, Control, Robotics, Mechatronics)\n",
      " \n",
      "Label(s): ['Data Structures and Information Theory'\n",
      " 'Computer Communication Networks' 'Business and Management'\n",
      " 'IT in Business' 'Operations Research/Decision Theory'\n",
      " 'Business and Management, general']\n",
      "Predicted Label(s): (Artificial Intelligence, Computational Intelligence, Computer Science, Communications Engineering, Networks, Control, Robotics, Mechatronics)\n",
      " \n",
      "Label(s): ['Life Sciences' 'Bioinformatics']\n",
      "Predicted Label(s): (Artificial Intelligence, Computational Intelligence, Computer Science, Communications Engineering, Networks, Control, Robotics, Mechatronics)\n",
      " \n"
     ]
    }
   ],
   "source": [
    "# Create a model for inference.\n",
    "model_for_inference = keras.Sequential([text_vectorizer, shallow_mlp_model])\n",
    "\n",
    "# Create a small dataset just for demoing inference.\n",
    "inference_dataset = make_dataset(test_df.sample(100), is_train=False)\n",
    "text_batch, label_batch = next(iter(inference_dataset))\n",
    "predicted_probabilities = model_for_inference.predict(text_batch)\n",
    "\n",
    "# Perform inference.\n",
    "for i, text in enumerate(text_batch[:10]):\n",
    "    label = label_batch[i].numpy()[None, ...]\n",
    "    #print(f\"Abstract: {text}\")\n",
    "    print(f\"Label(s): {invert_multi_hot(label[0])}\")\n",
    "    predicted_proba = [proba for proba in predicted_probabilities[i]]\n",
    "    top_3_labels = [\n",
    "        x\n",
    "        for _, x in sorted(\n",
    "            zip(predicted_probabilities[i], lookup.get_vocabulary()),\n",
    "            key=lambda pair: pair[0],\n",
    "            reverse=True,\n",
    "        )\n",
    "    ][:5]\n",
    "    print(f\"Predicted Label(s): ({', '.join([label for label in top_3_labels])})\")\n",
    "    print(\" \")"
   ]
  },
  {
   "cell_type": "code",
   "execution_count": 23,
   "id": "55815ba5",
   "metadata": {},
   "outputs": [
    {
     "data": {
      "text/plain": [
       "[(0.09776994, 'Artificial Intelligence'),\n",
       " (0.0811701, 'Computational Intelligence'),\n",
       " (0.060217764, 'Computer Science'),\n",
       " (0.04275928, 'Communications Engineering, Networks'),\n",
       " (0.031974856, 'Control, Robotics, Mechatronics'),\n",
       " (0.028613204, 'Cyber-physical systems, IoT')]"
      ]
     },
     "execution_count": 23,
     "metadata": {},
     "output_type": "execute_result"
    }
   ],
   "source": [
    "\n",
    "[\n",
    "        x\n",
    "        for  x in sorted(\n",
    "            zip(predicted_probabilities[60], lookup.get_vocabulary()),\n",
    "            key=lambda pair: pair[0],\n",
    "            reverse=True,\n",
    "        )\n",
    "    ][:6]"
   ]
  },
  {
   "cell_type": "code",
   "execution_count": null,
   "id": "a5a67eba",
   "metadata": {},
   "outputs": [],
   "source": []
  }
 ],
 "metadata": {
  "kernelspec": {
   "display_name": "Python 3 (ipykernel)",
   "language": "python",
   "name": "python3"
  },
  "language_info": {
   "codemirror_mode": {
    "name": "ipython",
    "version": 3
   },
   "file_extension": ".py",
   "mimetype": "text/x-python",
   "name": "python",
   "nbconvert_exporter": "python",
   "pygments_lexer": "ipython3",
   "version": "3.9.15"
  }
 },
 "nbformat": 4,
 "nbformat_minor": 5
}
