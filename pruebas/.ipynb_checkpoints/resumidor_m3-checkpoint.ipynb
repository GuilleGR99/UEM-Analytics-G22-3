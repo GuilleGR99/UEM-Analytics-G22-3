{
 "cells": [
  {
   "cell_type": "code",
   "execution_count": 1,
   "id": "0c696c67",
   "metadata": {},
   "outputs": [],
   "source": [
    "#ml6team/keyphrase-extraction-kbir-inspec"
   ]
  },
  {
   "cell_type": "code",
   "execution_count": 2,
   "id": "4da4e82f",
   "metadata": {},
   "outputs": [],
   "source": [
    "import time\n",
    "#import radical_ed as rad_ed"
   ]
  },
  {
   "cell_type": "code",
   "execution_count": 3,
   "id": "b95711eb",
   "metadata": {},
   "outputs": [],
   "source": [
    "from tensorflow.keras import layers\n",
    "import tensorflow as tf\n",
    "import numpy as np"
   ]
  },
  {
   "cell_type": "code",
   "execution_count": null,
   "id": "f1766f10",
   "metadata": {},
   "outputs": [],
   "source": [
    "\n",
    "        \n"
   ]
  },
  {
   "cell_type": "code",
   "execution_count": null,
   "id": "aed8ba4c",
   "metadata": {},
   "outputs": [],
   "source": []
  },
  {
   "cell_type": "code",
   "execution_count": null,
   "id": "f58221ba",
   "metadata": {},
   "outputs": [],
   "source": []
  },
  {
   "cell_type": "code",
   "execution_count": 4,
   "id": "9dcd851a",
   "metadata": {},
   "outputs": [],
   "source": [
    "import pandas as pd\n",
    "import os"
   ]
  },
  {
   "cell_type": "code",
   "execution_count": 5,
   "id": "b522ecc3",
   "metadata": {},
   "outputs": [
    {
     "name": "stdout",
     "output_type": "stream",
     "text": [
      "spring_advantage actor critic.csv\n",
      "spring_algorithms.csv\n",
      "spring_artificial intelligence.csv\n",
      "spring_balance.csv\n",
      "spring_computer science.csv\n",
      "spring_computer.csv\n"
     ]
    },
    {
     "name": "stderr",
     "output_type": "stream",
     "text": [
      "C:\\Users\\yo\\AppData\\Local\\Temp\\ipykernel_10588\\519775614.py:9: FutureWarning: The frame.append method is deprecated and will be removed from pandas in a future version. Use pandas.concat instead.\n",
      "  data = data.append(data_temp.sample(10))\n",
      "C:\\Users\\yo\\AppData\\Local\\Temp\\ipykernel_10588\\519775614.py:9: FutureWarning: The frame.append method is deprecated and will be removed from pandas in a future version. Use pandas.concat instead.\n",
      "  data = data.append(data_temp.sample(10))\n",
      "C:\\Users\\yo\\AppData\\Local\\Temp\\ipykernel_10588\\519775614.py:9: FutureWarning: The frame.append method is deprecated and will be removed from pandas in a future version. Use pandas.concat instead.\n",
      "  data = data.append(data_temp.sample(10))\n",
      "C:\\Users\\yo\\AppData\\Local\\Temp\\ipykernel_10588\\519775614.py:9: FutureWarning: The frame.append method is deprecated and will be removed from pandas in a future version. Use pandas.concat instead.\n",
      "  data = data.append(data_temp.sample(10))\n",
      "C:\\Users\\yo\\AppData\\Local\\Temp\\ipykernel_10588\\519775614.py:9: FutureWarning: The frame.append method is deprecated and will be removed from pandas in a future version. Use pandas.concat instead.\n",
      "  data = data.append(data_temp.sample(10))\n",
      "C:\\Users\\yo\\AppData\\Local\\Temp\\ipykernel_10588\\519775614.py:9: FutureWarning: The frame.append method is deprecated and will be removed from pandas in a future version. Use pandas.concat instead.\n",
      "  data = data.append(data_temp.sample(10))\n"
     ]
    }
   ],
   "source": [
    "dir_list = os.listdir(\"spring/\")\n",
    "dir_list = [x for x in dir_list if   \".csv\" in x]\n",
    "data = pd.DataFrame()\n",
    "for i in dir_list:\n",
    "    if i == \"total.csv\":\n",
    "        continue\n",
    "    print(i)\n",
    "    data_temp = pd.read_csv(\"spring/\"+i)\n",
    "    data = data.append(data_temp.sample(10))"
   ]
  },
  {
   "cell_type": "code",
   "execution_count": 6,
   "id": "bb16f8d5",
   "metadata": {},
   "outputs": [
    {
     "data": {
      "text/plain": [
       "48      Deep Neural Network (DNN) models for both reso...\n",
       "24      Edge service computing is an emerging paradigm...\n",
       "4       Vehicular fog computing (VFC) has been expecte...\n",
       "123     Instant delivery platforms, equipped with prof...\n",
       "64      Robotic motion planning in dense and dynamic i...\n",
       "20      Abstract Web users are flooded with informatio...\n",
       "135     Object-oriented navigation in unknown environm...\n",
       "177     In this paper, we present our findings on appl...\n",
       "155     In this work we approach the dynamic taxi disp...\n",
       "6       In this chapter, we provide an overview of inv...\n",
       "771     With the advancement of fabrication technology...\n",
       "655     This chapter covers topics related to big data...\n",
       "684     The deployment of the inference phase in self–...\n",
       "1137    Modern trends in the development of mechanical...\n",
       "182     Protein interactions play a critical role in a...\n",
       "1904    The study presents some results of an experime...\n",
       "438     The emergence of data-driven business models, ...\n",
       "837     Early prediction of whether a product will go ...\n",
       "1801    Pulsating hydroforming Hydroforming is a sheet...\n",
       "653     The cyclic bandwidth sum problem (CBSP) consis...\n",
       "911     In computational biology different methods inc...\n",
       "488     Intellectual capital (IC) has become an essent...\n",
       "667     Protection of personal data from unwanted acce...\n",
       "564     Currently, virtual reality is booming and grow...\n",
       "271     Architecture, engineering, and construction (A...\n",
       "885     In computer vision, object detection is an app...\n",
       "790     Through the combination of artificial intellig...\n",
       "576     The internet of things (IoT) is focused in off...\n",
       "457     Health care is important to live a happy and h...\n",
       "72      Population duress on the resources in the deve...\n",
       "1906    This case study chapter focuses on historical ...\n",
       "39      To improve the accuracy of erosion prediction,...\n",
       "603     Accurate source rock characterizations via geo...\n",
       "1331    In order to minimize the invasiveness of pedia...\n",
       "1248    Wide-ranging studies have recently been perfor...\n",
       "1409    The chapter provides a quantitative analysis o...\n",
       "854     This paper presents an innovative multi-agent ...\n",
       "868     As cloud computing technologies and applicatio...\n",
       "1926    The relevance of the proposed article is cause...\n",
       "1845    Particle Swarm Optimization (PSO) is a well-kn...\n",
       "1855    Logistic regression is an ubiquitous model for...\n",
       "711     Today, Artificial Intelligence is already part...\n",
       "28      Model checking of strategic abilities is a not...\n",
       "1777    Nowadays, IoT systems are widely used, they ar...\n",
       "1990    In this paper, we develop a fuzzy Proportional...\n",
       "1083    This article presents the architecture, design...\n",
       "1546    In multivariate analysis, the measures of simi...\n",
       "949     In this, our final chapter, we will look at wa...\n",
       "1223    Learning to program is a task that requires pr...\n",
       "1221    This chapter presents the background of the Mo...\n",
       "26      The community composition and activity-density...\n",
       "191     This article explores the theoretical and prac...\n",
       "108     If you’ve decided to start learning how to pro...\n",
       "164     We adapted an application called Non-Intrusive...\n",
       "179     Combination of locally intelligent devices wit...\n",
       "91      Currently, computers and the Internet are used...\n",
       "3       The pool boiling characteristics with differen...\n",
       "45      Now that we know a little bit about where comp...\n",
       "118     Space is a fundamental feature of virtual real...\n",
       "166     This chapter examines the conditions for autom...\n",
       "Name: abstract, dtype: object"
      ]
     },
     "execution_count": 6,
     "metadata": {},
     "output_type": "execute_result"
    }
   ],
   "source": [
    "data[\"abstract\"]"
   ]
  },
  {
   "cell_type": "code",
   "execution_count": 7,
   "id": "d2451bd5",
   "metadata": {},
   "outputs": [],
   "source": [
    "#tf_idf\n",
    "\n",
    "max_length = 50000\n",
    "text_vectorizer = layers.TextVectorization(\n",
    "    max_tokens=max_length, ngrams=2, output_mode=\"tf_idf\" #multi_hot\n",
    ")\n",
    "\n",
    "# `TextVectorization` layer needs to be adapted as per the vocabulary from our\n",
    "# training set.\n",
    "with tf.device(\"/CPU:0\"):\n",
    "    text_vectorizer.adapt(data[\"abstract\"])\n"
   ]
  },
  {
   "cell_type": "code",
   "execution_count": 8,
   "id": "689b75a7",
   "metadata": {},
   "outputs": [],
   "source": [
    "processed_texts = data[\"abstract\"].map(lambda text : text_vectorizer(text)).tolist()\n",
    "\n",
    "cosine_loss = tf.keras.losses.CosineSimilarity(axis=1)\n",
    "# l2_norm(y_true) = [[0., 1.], [1./1.414, 1./1.414]]\n",
    "# l2_norm(y_pred) = [[1., 0.], [1./1.414, 1./1.414]]\n",
    "# l2_norm(y_true) . l2_norm(y_pred) = [[0., 0.], [0.5, 0.5]]\n",
    "# loss = mean(sum(l2_norm(y_true) . l2_norm(y_pred), axis=1))\n",
    "#       = -((0. + 0.) +  (0.5 + 0.5)) / 2\n"
   ]
  },
  {
   "cell_type": "code",
   "execution_count": null,
   "id": "4ea698f9",
   "metadata": {},
   "outputs": [],
   "source": []
  },
  {
   "cell_type": "code",
   "execution_count": 9,
   "id": "cfb0c1d0",
   "metadata": {},
   "outputs": [
    {
     "data": {
      "text/plain": [
       "-0.0876748"
      ]
     },
     "execution_count": 9,
     "metadata": {},
     "output_type": "execute_result"
    }
   ],
   "source": [
    "cosine_loss([processed_texts[0]], [processed_texts[15]]).numpy()"
   ]
  },
  {
   "cell_type": "code",
   "execution_count": null,
   "id": "adfcd387",
   "metadata": {},
   "outputs": [],
   "source": []
  },
  {
   "cell_type": "code",
   "execution_count": null,
   "id": "fe583a88",
   "metadata": {},
   "outputs": [],
   "source": []
  },
  {
   "cell_type": "code",
   "execution_count": null,
   "id": "e748513b",
   "metadata": {},
   "outputs": [],
   "source": []
  },
  {
   "cell_type": "code",
   "execution_count": null,
   "id": "784257d4",
   "metadata": {},
   "outputs": [],
   "source": []
  },
  {
   "cell_type": "code",
   "execution_count": null,
   "id": "41befb29",
   "metadata": {},
   "outputs": [],
   "source": []
  }
 ],
 "metadata": {
  "kernelspec": {
   "display_name": "Python 3 (ipykernel)",
   "language": "python",
   "name": "python3"
  },
  "language_info": {
   "codemirror_mode": {
    "name": "ipython",
    "version": 3
   },
   "file_extension": ".py",
   "mimetype": "text/x-python",
   "name": "python",
   "nbconvert_exporter": "python",
   "pygments_lexer": "ipython3",
   "version": "3.9.15"
  }
 },
 "nbformat": 4,
 "nbformat_minor": 5
}
