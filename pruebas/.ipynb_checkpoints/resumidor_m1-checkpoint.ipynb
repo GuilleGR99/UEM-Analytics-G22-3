{
 "cells": [
  {
   "cell_type": "code",
   "execution_count": 1,
   "id": "e5b0828a",
   "metadata": {},
   "outputs": [],
   "source": [
    "#ml6team/keyphrase-extraction-kbir-inspec"
   ]
  },
  {
   "cell_type": "code",
   "execution_count": 2,
   "id": "60600d3f",
   "metadata": {},
   "outputs": [],
   "source": [
    "import time\n"
   ]
  },
  {
   "cell_type": "code",
   "execution_count": 3,
   "id": "aed8ba4c",
   "metadata": {},
   "outputs": [
    {
     "name": "stderr",
     "output_type": "stream",
     "text": [
      "C:\\Users\\yo\\.conda\\envs\\transformers\\lib\\site-packages\\tqdm\\auto.py:22: TqdmWarning: IProgress not found. Please update jupyter and ipywidgets. See https://ipywidgets.readthedocs.io/en/stable/user_install.html\n",
      "  from .autonotebook import tqdm as notebook_tqdm\n"
     ]
    }
   ],
   "source": [
    "from transformers import (\n",
    "    TokenClassificationPipeline,\n",
    "    AutoModelForTokenClassification,\n",
    "    AutoTokenizer,\n",
    ")\n",
    "from transformers.pipelines import AggregationStrategy\n",
    "import numpy as np\n",
    "\n",
    "# Define keyphrase extraction pipeline\n",
    "class KeyphraseExtractionPipeline(TokenClassificationPipeline):\n",
    "    def __init__(self, model, *args, **kwargs):\n",
    "        super().__init__(\n",
    "            model=AutoModelForTokenClassification.from_pretrained(model),\n",
    "            tokenizer=AutoTokenizer.from_pretrained(model),\n",
    "            *args,\n",
    "            **kwargs\n",
    "        )\n",
    "\n",
    "    def postprocess(self, model_outputs):\n",
    "        results = super().postprocess(\n",
    "            model_outputs=model_outputs,\n",
    "            aggregation_strategy=AggregationStrategy.SIMPLE,\n",
    "        )\n",
    "        return np.unique([result.get(\"word\").strip() for result in results])"
   ]
  },
  {
   "cell_type": "code",
   "execution_count": null,
   "id": "f58221ba",
   "metadata": {},
   "outputs": [],
   "source": []
  },
  {
   "cell_type": "code",
   "execution_count": 4,
   "id": "b9ad032d",
   "metadata": {},
   "outputs": [],
   "source": [
    "import pandas as pd\n",
    "import os"
   ]
  },
  {
   "cell_type": "code",
   "execution_count": 5,
   "id": "aaeef615",
   "metadata": {},
   "outputs": [
    {
     "name": "stdout",
     "output_type": "stream",
     "text": [
      "spring_advantage actor critic.csv\n",
      "spring_algorithms.csv\n",
      "spring_artificial intelligence.csv\n",
      "spring_balance.csv\n",
      "spring_computer science.csv\n",
      "spring_computer.csv\n",
      "spring_graph.csv\n",
      "spring_health.csv\n",
      "spring_law.csv\n"
     ]
    },
    {
     "name": "stderr",
     "output_type": "stream",
     "text": [
      "C:\\Users\\yo\\AppData\\Local\\Temp\\ipykernel_15196\\2839428010.py:9: FutureWarning: The frame.append method is deprecated and will be removed from pandas in a future version. Use pandas.concat instead.\n",
      "  data = data.append(data_temp)\n",
      "C:\\Users\\yo\\AppData\\Local\\Temp\\ipykernel_15196\\2839428010.py:9: FutureWarning: The frame.append method is deprecated and will be removed from pandas in a future version. Use pandas.concat instead.\n",
      "  data = data.append(data_temp)\n",
      "C:\\Users\\yo\\AppData\\Local\\Temp\\ipykernel_15196\\2839428010.py:9: FutureWarning: The frame.append method is deprecated and will be removed from pandas in a future version. Use pandas.concat instead.\n",
      "  data = data.append(data_temp)\n",
      "C:\\Users\\yo\\AppData\\Local\\Temp\\ipykernel_15196\\2839428010.py:9: FutureWarning: The frame.append method is deprecated and will be removed from pandas in a future version. Use pandas.concat instead.\n",
      "  data = data.append(data_temp)\n",
      "C:\\Users\\yo\\AppData\\Local\\Temp\\ipykernel_15196\\2839428010.py:9: FutureWarning: The frame.append method is deprecated and will be removed from pandas in a future version. Use pandas.concat instead.\n",
      "  data = data.append(data_temp)\n",
      "C:\\Users\\yo\\AppData\\Local\\Temp\\ipykernel_15196\\2839428010.py:9: FutureWarning: The frame.append method is deprecated and will be removed from pandas in a future version. Use pandas.concat instead.\n",
      "  data = data.append(data_temp)\n",
      "C:\\Users\\yo\\AppData\\Local\\Temp\\ipykernel_15196\\2839428010.py:9: FutureWarning: The frame.append method is deprecated and will be removed from pandas in a future version. Use pandas.concat instead.\n",
      "  data = data.append(data_temp)\n",
      "C:\\Users\\yo\\AppData\\Local\\Temp\\ipykernel_15196\\2839428010.py:9: FutureWarning: The frame.append method is deprecated and will be removed from pandas in a future version. Use pandas.concat instead.\n",
      "  data = data.append(data_temp)\n",
      "C:\\Users\\yo\\AppData\\Local\\Temp\\ipykernel_15196\\2839428010.py:9: FutureWarning: The frame.append method is deprecated and will be removed from pandas in a future version. Use pandas.concat instead.\n",
      "  data = data.append(data_temp)\n"
     ]
    },
    {
     "name": "stdout",
     "output_type": "stream",
     "text": [
      "spring_machine learning.csv\n",
      "spring_magic.csv\n",
      "spring_math.csv\n",
      "spring_natural language processing.csv\n"
     ]
    },
    {
     "name": "stderr",
     "output_type": "stream",
     "text": [
      "C:\\Users\\yo\\AppData\\Local\\Temp\\ipykernel_15196\\2839428010.py:9: FutureWarning: The frame.append method is deprecated and will be removed from pandas in a future version. Use pandas.concat instead.\n",
      "  data = data.append(data_temp)\n",
      "C:\\Users\\yo\\AppData\\Local\\Temp\\ipykernel_15196\\2839428010.py:9: FutureWarning: The frame.append method is deprecated and will be removed from pandas in a future version. Use pandas.concat instead.\n",
      "  data = data.append(data_temp)\n",
      "C:\\Users\\yo\\AppData\\Local\\Temp\\ipykernel_15196\\2839428010.py:9: FutureWarning: The frame.append method is deprecated and will be removed from pandas in a future version. Use pandas.concat instead.\n",
      "  data = data.append(data_temp)\n",
      "C:\\Users\\yo\\AppData\\Local\\Temp\\ipykernel_15196\\2839428010.py:9: FutureWarning: The frame.append method is deprecated and will be removed from pandas in a future version. Use pandas.concat instead.\n",
      "  data = data.append(data_temp)\n",
      "C:\\Users\\yo\\AppData\\Local\\Temp\\ipykernel_15196\\2839428010.py:9: FutureWarning: The frame.append method is deprecated and will be removed from pandas in a future version. Use pandas.concat instead.\n",
      "  data = data.append(data_temp)\n",
      "C:\\Users\\yo\\AppData\\Local\\Temp\\ipykernel_15196\\2839428010.py:9: FutureWarning: The frame.append method is deprecated and will be removed from pandas in a future version. Use pandas.concat instead.\n",
      "  data = data.append(data_temp)\n"
     ]
    },
    {
     "name": "stdout",
     "output_type": "stream",
     "text": [
      "spring_optimizer.csv\n",
      "spring_robotic.csv\n",
      "spring_robotics.csv\n",
      "spring_science.csv\n"
     ]
    },
    {
     "name": "stderr",
     "output_type": "stream",
     "text": [
      "C:\\Users\\yo\\AppData\\Local\\Temp\\ipykernel_15196\\2839428010.py:9: FutureWarning: The frame.append method is deprecated and will be removed from pandas in a future version. Use pandas.concat instead.\n",
      "  data = data.append(data_temp)\n",
      "C:\\Users\\yo\\AppData\\Local\\Temp\\ipykernel_15196\\2839428010.py:9: FutureWarning: The frame.append method is deprecated and will be removed from pandas in a future version. Use pandas.concat instead.\n",
      "  data = data.append(data_temp)\n"
     ]
    }
   ],
   "source": [
    "dir_list = os.listdir(\"spring/\")\n",
    "dir_list = [x for x in dir_list if   \".csv\" in x]\n",
    "data = pd.DataFrame()\n",
    "for i in dir_list:\n",
    "    if i == \"total.csv\":\n",
    "        continue\n",
    "    print(i)\n",
    "    data_temp = pd.read_csv(\"spring/\"+i)\n",
    "    data = data.append(data_temp)"
   ]
  },
  {
   "cell_type": "code",
   "execution_count": 10,
   "id": "b37e7988",
   "metadata": {},
   "outputs": [],
   "source": [
    "models = [ \n",
    "    \"ml6team/keyphrase-extraction-kbir-inspec\",\n",
    "    \"ml6team/keyphrase-extraction-kbir-openkp\",\n",
    "    \"ml6team/keyphrase-extraction-kbir-kpcrowd\",\n",
    "    \"ml6team/keyphrase-extraction-kbir-semeval2017\",\n",
    "    \"ml6team/keyphrase-extraction-kbir-kptimes\",\n",
    "    \"ml6team/keyphrase-extraction-distilbert-openkp\",\n",
    "    \"ml6team/keyphrase-extraction-distilbert-inspec\",\n",
    "    \"ml6team/keyphrase-extraction-distilbert-kptimes\"\n",
    "    #\"ml6team/keyphrase-generation-t5-small-openkp\",\n",
    "    #\"ml6team/keyphrase-generation-t5-small-inspec\",\n",
    "    #\"ml6team/keyphrase-generation-keybart-inspec\"\n",
    "    \n",
    "]\n",
    "extractors = []\n",
    "for i in range(len(models)):\n",
    "    temp = KeyphraseExtractionPipeline(model=models[i])\n",
    "    extractors.append(temp)"
   ]
  },
  {
   "cell_type": "code",
   "execution_count": null,
   "id": "3368bc4c",
   "metadata": {},
   "outputs": [],
   "source": []
  },
  {
   "cell_type": "code",
   "execution_count": null,
   "id": "f31c4f92",
   "metadata": {},
   "outputs": [
    {
     "name": "stdout",
     "output_type": "stream",
     "text": [
      "modelo:  ml6team/keyphrase-extraction-kbir-inspec\n"
     ]
    },
    {
     "name": "stderr",
     "output_type": "stream",
     "text": [
      "Asking to truncate to max_length but no maximum length is provided and the model has no predefined maximum length. Default to no truncation.\n"
     ]
    },
    {
     "name": "stdout",
     "output_type": "stream",
     "text": [
      "modelo:  ml6team/keyphrase-extraction-kbir-openkp\n",
      "modelo:  ml6team/keyphrase-extraction-kbir-kpcrowd\n"
     ]
    },
    {
     "name": "stderr",
     "output_type": "stream",
     "text": [
      "Asking to truncate to max_length but no maximum length is provided and the model has no predefined maximum length. Default to no truncation.\n"
     ]
    },
    {
     "name": "stdout",
     "output_type": "stream",
     "text": [
      "modelo:  ml6team/keyphrase-extraction-kbir-semeval2017\n"
     ]
    }
   ],
   "source": [
    "text = data[\"abstract\"].tolist()[200]\n",
    "\n",
    "times = []\n",
    "keyphrases = []\n",
    "\n",
    "for i in range(len(extractors)):\n",
    "    print(\"modelo: \" , models[i])\n",
    "    start_time = time.time()\n",
    "    keywords = extractors[i](text)\n",
    "    times.append(time.time() - start_time)\n",
    "    keyphrases.append(keywords)\n"
   ]
  },
  {
   "cell_type": "code",
   "execution_count": null,
   "id": "5612983d",
   "metadata": {},
   "outputs": [],
   "source": []
  },
  {
   "cell_type": "code",
   "execution_count": null,
   "id": "66f1feee",
   "metadata": {},
   "outputs": [],
   "source": [
    "#text = data[\"abstract\"].tolist()[5]"
   ]
  },
  {
   "cell_type": "code",
   "execution_count": null,
   "id": "440aa83c",
   "metadata": {},
   "outputs": [],
   "source": []
  },
  {
   "cell_type": "code",
   "execution_count": null,
   "id": "be4b6b83",
   "metadata": {},
   "outputs": [],
   "source": [
    "\n",
    "print(\"original: \", text)\n",
    "\n",
    "for i in range(len(models)):\n",
    "    print(\"----------------------------------------------------\")\n",
    "    print(\"modelo: \" , models[i])\n",
    "    print(\"tiempo: \" ,times[i])\n",
    "    print(\"keyphrases: \" ,keyphrases[i])\n",
    "          "
   ]
  },
  {
   "cell_type": "code",
   "execution_count": null,
   "id": "0591de1c",
   "metadata": {},
   "outputs": [],
   "source": []
  },
  {
   "cell_type": "code",
   "execution_count": null,
   "id": "fbc99af6",
   "metadata": {},
   "outputs": [],
   "source": []
  },
  {
   "cell_type": "code",
   "execution_count": null,
   "id": "904224e5",
   "metadata": {},
   "outputs": [],
   "source": []
  }
 ],
 "metadata": {
  "kernelspec": {
   "display_name": "Python 3 (ipykernel)",
   "language": "python",
   "name": "python3"
  },
  "language_info": {
   "codemirror_mode": {
    "name": "ipython",
    "version": 3
   },
   "file_extension": ".py",
   "mimetype": "text/x-python",
   "name": "python",
   "nbconvert_exporter": "python",
   "pygments_lexer": "ipython3",
   "version": "3.9.15"
  }
 },
 "nbformat": 4,
 "nbformat_minor": 5
}
