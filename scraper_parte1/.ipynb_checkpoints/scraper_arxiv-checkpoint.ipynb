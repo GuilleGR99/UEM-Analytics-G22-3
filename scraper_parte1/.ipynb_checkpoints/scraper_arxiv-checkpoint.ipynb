{
 "cells": [
  {
   "cell_type": "code",
   "execution_count": 1,
   "id": "f04f04ad",
   "metadata": {},
   "outputs": [],
   "source": [
    "# Importamos bibliotecas\n",
    "import requests\n",
    "from lxml import html\n",
    "import time\n",
    "import random\n",
    "import pandas as pd"
   ]
  },
  {
   "cell_type": "code",
   "execution_count": 2,
   "id": "cc1ffcf9",
   "metadata": {},
   "outputs": [],
   "source": [
    "#macros, se podren pasar como argumentos en futuras versiones\n",
    "#hasta = '2021-12-31'\n",
    "#desde = '2021-01-01'\n",
    "area = 'advantage actor critic'\n",
    "fuente = 'arxiv'\n",
    "# numero de paginas a revisar (paginas de 10 elementos)\n",
    "num_de_paginas = 4 \n"
   ]
  },
  {
   "cell_type": "code",
   "execution_count": 3,
   "id": "8454a038",
   "metadata": {},
   "outputs": [],
   "source": [
    "# Url original \n",
    "#https://scholar.google.com/scholar?q=advantage+actor+critic+source%3Aarxiv&oq="
   ]
  },
  {
   "cell_type": "code",
   "execution_count": 4,
   "id": "fefca25b",
   "metadata": {},
   "outputs": [
    {
     "name": "stdout",
     "output_type": "stream",
     "text": [
      "<Response [200]>\n"
     ]
    }
   ],
   "source": [
    "\n",
    "pagina = 'https://scholar.google.com/scholar?q='+area.replace(\" \", \"+\")+'+source%3A'+fuente+'&oq='\n",
    "headers = requests.utils.default_headers()\n",
    "\n",
    "headers.update(\n",
    "    {\n",
    "        'User-Agent': 'Chrome/96.0.4664.93',\n",
    "    }\n",
    ")\n",
    "\n",
    "req =  requests.get(pagina, headers=headers)\n",
    "if req.status_code == 429:\n",
    "    print('wait' +req.headers.get('Retry-After'))\n",
    "    time.sleep(int(req.headers.get('Retry-After'))+1)\n",
    "    req =  requests.get(pagina, headers=headers)\n",
    "print(req)\n",
    "\n",
    "#Convertimos a tree \n",
    "arbol_html = html.fromstring(req.content)\n",
    "\n",
    "\n"
   ]
  },
  {
   "cell_type": "code",
   "execution_count": 5,
   "id": "4e77642f",
   "metadata": {},
   "outputs": [
    {
     "name": "stdout",
     "output_type": "stream",
     "text": [
      "Empiezo vuelta 0 :11:56:52\n",
      "Empiezo vuelta 1 :11:57:06\n",
      "Empiezo vuelta 2 :11:57:18\n",
      "Empiezo vuelta 3 :11:57:32\n"
     ]
    }
   ],
   "source": [
    "# start=10 \n",
    "\n",
    "\n",
    "papers = []\n",
    "\n",
    "\n",
    "for i in range (num_de_paginas):\n",
    "    print('Empiezo vuelta '+str(i)+' :'+time.strftime(\"%H:%M:%S\", time.gmtime()))\n",
    "    req =  requests.get(pagina, headers=headers)\n",
    "    if req.status_code == 429:\n",
    "        print('wait' +req.headers.get('Retry-After'))\n",
    "        time.sleep(int(req.headers.get('Retry-After'))+1)\n",
    "        req =  requests.get(pagina, headers=headers)\n",
    "    #Convertimos a tree \n",
    "    arbol_html = html.fromstring(req.content)\n",
    "    temp_res = arbol_html.xpath('//h3 [@class =\"gs_rt\"]/a/@href')\n",
    "    for i in range(len(temp_res)):\n",
    "        pag = temp_res[i]\n",
    "        time.sleep(random.randint(1,2)*0.5)\n",
    "        paper_res =  requests.get(pag, headers=headers)\n",
    "        paper_dic = {}\n",
    "        if paper_res.status_code == 429:\n",
    "            print('wait' +paper_res.headers.get('Retry-After'))\n",
    "            time.sleep(int(jugador_req.headers.get('Retry-After'))+1)\n",
    "            paper_res =  requests.get(pag, headers=headers)\n",
    "        paper_arbol_html = html.fromstring(paper_res.content)\n",
    "        # especifico de la pagina\n",
    "        paper_dic[\"fuente\"] = \"arxiv.org\"\n",
    "        paper_dic[\"titulo\"] = paper_arbol_html.xpath('//h1 [@class =\"title mathjax\"]/text()')\n",
    "        paper_dic[\"autores\"] = paper_arbol_html.xpath('//div [@class =\"authors\"]/a/text()')\n",
    "        paper_dic[\"abstract\"] = paper_arbol_html.xpath('//blockquote [@class =\"abstract mathjax\"]/text()')\n",
    "        paper_dic[\"clase_primaria\"] = paper_arbol_html.xpath('//span [@class =\"primary-subject\"]/text()')\n",
    "        paper_dic[\"otras_clases\"] = paper_arbol_html.xpath('//td [@class =\"tablecell subjects\"]/text()')\n",
    "        paper_dic[\"clase_primaria\"] = paper_arbol_html.xpath('//span [@class =\"primary-subject\"]/text()')\n",
    "        #generico\n",
    "        paper_dic[\"n_citaciones\"] = arbol_html.xpath('//a [@href =\"'+pag+'\"]/parent::*/parent::*/div [@class = \"gs_fl\"]/a [contains(text(),\"Citado\")]/text()')\n",
    "        paper_dic[\"citado\"] = arbol_html.xpath('//a [@href =\"'+pag+'\"]/parent::*/parent::*/div [@class = \"gs_fl\"]/a [contains(text(),\"Citado\")]/@href')\n",
    "        papers.append(paper_dic)\n",
    "        pagina = 'https://scholar.google.com/scholar?start='+str(10*(i+1))+'&q='+area.replace(\" \", \"+\")+'+source%3A'+fuente+'&oq='\n",
    "\n",
    "    \n",
    "    \n",
    "    \n"
   ]
  },
  {
   "cell_type": "code",
   "execution_count": 6,
   "id": "05f5a5f6",
   "metadata": {},
   "outputs": [
    {
     "name": "stdout",
     "output_type": "stream",
     "text": [
      "['Reinforcement Learning through Asynchronous Advantage Actor-Critic on a GPU']\n",
      "['Altruistic Maneuver Planning for Cooperative Autonomous Vehicles Using Multi-agent Advantage Actor-Critic']\n",
      "['Towards Understanding Asynchronous Advantage Actor-critic: Convergence and Linear Speedup']\n",
      "['The Advantage Regret-Matching Actor-Critic']\n",
      "['Actor-Critic Sequence Training for Image Captioning']\n",
      "['Sample Efficient Actor-Critic with Experience Replay']\n",
      "['Off-policy Maximum Entropy Reinforcement Learning : Soft Actor-Critic with Advantage Weighted Mixture Policy(SAC-AWMP)']\n",
      "['Asynchronous Advantage Actor-Critic Agent for Starcraft II']\n",
      "['An advantage actor-critic algorithm for robotic motion planning in dense and dynamic scenarios']\n",
      "['Hybrid Actor-Critic Reinforcement Learning in Parameterized Action Space']\n",
      "['Multimodal Machine Translation with Reinforcement Learning']\n",
      "['On the Global Convergence of Actor-Critic: A Case for Linear Quadratic Regulator with Ergodic Cost']\n",
      "['Inspiration Learning through Preferences']\n",
      "['Epersist: A Self Balancing Robot Using PID Controller And Deep Reinforcement Learning']\n",
      "['Towards Practical Credit Assignment for Deep Reinforcement Learning']\n",
      "['Intelligent Coordination among Multiple Traffic Intersections Using Multi-Agent Reinforcement Learning']\n",
      "['Acceleration of Actor-Critic Deep Reinforcement Learning for Visual Grasping in Clutter by State Representation Learning Based on Disentanglement of a Raw Input Image']\n",
      "['Cooperative Multi-Agent Actor-Critic for Privacy-Preserving Load Scheduling in a Residential Microgrid']\n",
      "['Expert-augmented actor-critic for ViZDoom and Montezumas Revenge']\n",
      "['Learning to Repeat: Fine Grained Action Repetition for Deep Reinforcement Learning']\n",
      "['Self-Imitation Advantage Learning']\n",
      "[]\n",
      "[]\n",
      "['Microscopic Traffic Simulation by Cooperative Multi-agent Deep Reinforcement Learning']\n",
      "['Simultaneous Control and Human Feedback in the Training of a Robotic Agent with Actor-Critic Reinforcement Learning']\n",
      "['Variational Quantum Soft Actor-Critic']\n",
      "['An Actor-Critic Contextual Bandit Algorithm for Personalized Mobile Health Interventions']\n",
      "['Robust Reinforcement Learning with Wasserstein Constraint']\n",
      "['Multimodal Machine Translation with Reinforcement Learning']\n",
      "['On the Global Convergence of Actor-Critic: A Case for Linear Quadratic Regulator with Ergodic Cost']\n",
      "['Inspiration Learning through Preferences']\n",
      "['Epersist: A Self Balancing Robot Using PID Controller And Deep Reinforcement Learning']\n",
      "['Towards Practical Credit Assignment for Deep Reinforcement Learning']\n",
      "['Intelligent Coordination among Multiple Traffic Intersections Using Multi-Agent Reinforcement Learning']\n",
      "['Acceleration of Actor-Critic Deep Reinforcement Learning for Visual Grasping in Clutter by State Representation Learning Based on Disentanglement of a Raw Input Image']\n",
      "['Cooperative Multi-Agent Actor-Critic for Privacy-Preserving Load Scheduling in a Residential Microgrid']\n"
     ]
    }
   ],
   "source": [
    "for i in papers:\n",
    "    print(i[\"titulo\"])"
   ]
  },
  {
   "cell_type": "code",
   "execution_count": null,
   "id": "8d11763e",
   "metadata": {},
   "outputs": [],
   "source": []
  },
  {
   "cell_type": "code",
   "execution_count": null,
   "id": "4e40999f",
   "metadata": {},
   "outputs": [],
   "source": []
  },
  {
   "cell_type": "code",
   "execution_count": null,
   "id": "2ed997f2",
   "metadata": {},
   "outputs": [],
   "source": []
  }
 ],
 "metadata": {
  "kernelspec": {
   "display_name": "Python 3 (ipykernel)",
   "language": "python",
   "name": "python3"
  },
  "language_info": {
   "codemirror_mode": {
    "name": "ipython",
    "version": 3
   },
   "file_extension": ".py",
   "mimetype": "text/x-python",
   "name": "python",
   "nbconvert_exporter": "python",
   "pygments_lexer": "ipython3",
   "version": "3.8.8"
  }
 },
 "nbformat": 4,
 "nbformat_minor": 5
}
