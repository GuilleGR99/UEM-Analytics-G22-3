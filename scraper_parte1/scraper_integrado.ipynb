{
 "cells": [
  {
   "cell_type": "code",
   "execution_count": 129,
   "id": "f04f04ad",
   "metadata": {},
   "outputs": [],
   "source": [
    "# Importamos bibliotecas\n",
    "import requests\n",
    "from lxml import html\n",
    "import time\n",
    "import random\n",
    "import pandas as pd\n",
    "import json"
   ]
  },
  {
   "cell_type": "code",
   "execution_count": 130,
   "id": "cc1ffcf9",
   "metadata": {},
   "outputs": [],
   "source": [
    "#macros, se podren pasar como argumentos en futuras versiones\n",
    "#hasta = '2021-12-31'\n",
    "#desde = '2021-01-01'\n",
    "# area = 'advantage actor critic'\n",
    "# fuente = 'arxiv'\n",
    "# numero de paginas a revisar (paginas de 10 elementos)\n",
    "num_de_paginas = 2\n"
   ]
  },
  {
   "cell_type": "markdown",
   "id": "e2f689ee",
   "metadata": {},
   "source": [
    "La clase primaria de springer no es correcto, tiene un html generico para que se ejecute sin dar fallo\n",
    "tengo que hacer que colocar el html correcto\n",
    "Cuando google te banea el bucle for que itera las pagina especificas falla --arreglar\n",
    "El .json solo guarda los datos de la ultima iteracion --arreglas\n"
   ]
  },
  {
   "cell_type": "code",
   "execution_count": 131,
   "id": "273b3248",
   "metadata": {},
   "outputs": [],
   "source": [
    "info_fuentes = []\n",
    "\n",
    "info_fuente_arvix = {\n",
    "    'area':'advantage actor critic',\n",
    "    'fuente':'arxiv',\n",
    "    'titulo':'//h1 [@class =\"title mathjax\"]/text()',\n",
    "    'autores':'//div [@class =\"authors\"]/a/text()',\n",
    "    'abstract':'//blockquote [@class =\"abstract mathjax\"]/text()',\n",
    "    'clase_primaria':'//span [@class =\"primary-subject\"]/text()',\n",
    "    # 'otras_clases':'//td [@class =\"tablecell subjects\"]/text()',\n",
    "}\n",
    "info_fuente_arvix['pagina'] = 'https://scholar.google.com/scholar?q='+info_fuente_arvix.get(\"area\").replace(\" \", \"+\")+'+source%3A'+info_fuente_arvix.get(\"fuente\")+'&oq='\n",
    "info_fuentes.append(info_fuente_arvix)\n",
    "\n",
    "info_fuente_springer = {\n",
    "    'area':'advantage actor critic',\n",
    "    'fuente':'springer',\n",
    "    'titulo':'//h1 [@class =\"c-article-title\"]/text()',\n",
    "    'autores':'//li [@class =\"c-article-author-list__item\"]/a/text()',\n",
    "    'abstract':'//div [@class =\"c-article-section__content\"][@id=\"Abs1-content\"]/p/text()',\n",
    "    'clase_primaria':'//li [@class =\"c-article-subject-list__subject\"]/span/text()',\n",
    "    # 'otras_clases':'',\n",
    "}\n",
    "info_fuente_springer['pagina'] = 'https://scholar.google.com/scholar?q='+info_fuente_springer.get(\"area\").replace(\" \", \"+\")+'+source%3A'+info_fuente_springer.get(\"fuente\")+'&oq='\n",
    "info_fuentes.append(info_fuente_springer)\n",
    "\n",
    "info_fuente_SSRN = {\n",
    "    'area':'advantage actor critic',\n",
    "    'fuente':'SSRN',\n",
    "    'titulo':'//h1/text()',\n",
    "    'autores':'//div [@class =\"authors authors-full-width\"]/h2/a/text()',\n",
    "    'abstract':'//div [@class =\"abstract-text\"]/p/text()',\n",
    "    'clase_primaria':'//vacio',\n",
    "    # 'otras_clases':'',\n",
    "}\n",
    "info_fuente_SSRN['pagina'] = 'https://scholar.google.com/scholar?q='+info_fuente_SSRN.get(\"area\").replace(\" \", \"+\")+'+source%3A'+info_fuente_SSRN.get(\"fuente\")+'&oq='\n",
    "info_fuentes.append(info_fuente_SSRN)\n",
    "\n",
    "info_fuente_cambridge = {\n",
    "    'area':'machine learning',\n",
    "    'fuente':'cambridge',\n",
    "    'titulo':'//h1 [@data-v-0950e612=\"\"]/text()',\n",
    "    'autores':'//div [@class=\"row contributor-type\"]/div/a [@class=\"app-link app-link__text app-link--accent\"]/span/text()',\n",
    "    'abstract':'//div [@class=\"abstract-content\"]/div/div/p/text()',\n",
    "    'clase_primaria':'//div [@class=\"row keywords__pills\"]/a/span/text()',\n",
    "    # 'otras_clases':'',\n",
    "}\n",
    "info_fuente_cambridge['pagina'] = 'https://scholar.google.com/scholar?q='+info_fuente_cambridge.get(\"area\").replace(\" \", \"+\")+'+source%3A'+info_fuente_cambridge.get(\"fuente\")+'&oq='\n",
    "info_fuentes.append(info_fuente_cambridge)"
   ]
  },
  {
   "cell_type": "code",
   "execution_count": 132,
   "id": "4e77642f",
   "metadata": {},
   "outputs": [
    {
     "name": "stdout",
     "output_type": "stream",
     "text": [
      "<Response [200]>\n",
      "Empiezo vuelta 0 :10:57:38\n",
      "scrapig google https://scholar.google.com/scholar?q=advantage+actor+critic+source%3Aarxiv&oq=\n",
      "scraping a https://arxiv.org/abs/1611.06256\n",
      "Empiezo vuelta 1 :10:57:41\n",
      "scrapig google https://scholar.google.com/scholar?start=10&q=advantage+actor+critic+source%3Aarxiv&oq=\n",
      "scraping a https://arxiv.org/abs/1607.07086\n",
      "<Response [200]>\n",
      "Empiezo vuelta 0 :10:57:44\n",
      "scrapig google https://scholar.google.com/scholar?q=advantage+actor+critic+source%3Aspringer&oq=\n",
      "scraping a https://link.springer.com/article/10.1007/s11276-019-02225-x\n",
      "Empiezo vuelta 1 :10:57:47\n",
      "scrapig google https://scholar.google.com/scholar?start=10&q=advantage+actor+critic+source%3Aspringer&oq=\n",
      "scraping a https://link.springer.com/chapter/10.1007/978-3-319-71682-4_5\n",
      "<Response [200]>\n",
      "Empiezo vuelta 0 :10:58:12\n",
      "scrapig google https://scholar.google.com/scholar?q=advantage+actor+critic+source%3ASSRN&oq=\n",
      "scraping a https://papers.ssrn.com/sol3/papers.cfm?abstract_id=4021959\n",
      "Empiezo vuelta 1 :10:58:15\n",
      "scrapig google https://scholar.google.com/scholar?start=10&q=advantage+actor+critic+source%3ASSRN&oq=\n",
      "scraping a https://papers.ssrn.com/sol3/papers.cfm?abstract_id=4200141\n",
      "<Response [200]>\n",
      "Empiezo vuelta 0 :10:58:20\n",
      "scrapig google https://scholar.google.com/scholar?q=machine+learning+source%3Acambridge&oq=\n",
      "scraping a https://www.cambridge.org/core/journals/psychological-medicine/article/machine-learning-in-mental-health-a-scoping-review-of-methods-and-applications/0B70B1C827B3A4604C1C01026049F7D9\n",
      "Empiezo vuelta 1 :10:58:30\n",
      "scrapig google https://scholar.google.com/scholar?start=10&q=machine+learning+source%3Acambridge&oq=\n",
      "scraping a https://books.google.com/books?hl=nl&lr=&id=pFjPDwAAQBAJ&oi=fnd&pg=PR9&dq=machine+learning+source:cambridge&ots=VLlv9MG6Ab&sig=xbk-7jj_hW2ORvuRgIq9rC4Yaw8\n"
     ]
    }
   ],
   "source": [
    "for k in range(len(info_fuentes)):\n",
    "    headers = requests.utils.default_headers()\n",
    "\n",
    "    headers.update(\n",
    "        {\n",
    "            'User-Agent': 'Chrome/96.0.4664.93',\n",
    "        }\n",
    "    )\n",
    "\n",
    "    req =  requests.get(info_fuentes[k].get('pagina'), headers=headers)\n",
    "    if req.status_code == 429:\n",
    "        print('wait' +req.headers.get('Retry-After'))\n",
    "        time.sleep(int(req.headers.get('Retry-After'))+1)\n",
    "        req =  requests.get(info_fuentes[k].get('pagina'), headers=headers)\n",
    "    print(req)\n",
    "\n",
    "    #Convertimos a tree \n",
    "    arbol_html = html.fromstring(req.content)\n",
    "\n",
    "    # start=10 \n",
    "\n",
    "    papers = []\n",
    "\n",
    "\n",
    "    for i in range (num_de_paginas):\n",
    "        print('Empiezo vuelta '+str(i)+' :'+time.strftime(\"%H:%M:%S\", time.gmtime()))\n",
    "        req =  requests.get(info_fuentes[k].get('pagina'), headers=headers)\n",
    "        print('scrapig google', info_fuentes[k].get('pagina'))\n",
    "\n",
    "        # repetir despues del tiempo de espera\n",
    "        if req.status_code == 429:\n",
    "            print('wait' +req.headers.get('Retry-After'))\n",
    "            time.sleep(int(req.headers.get('Retry-After'))+1)\n",
    "            req =  requests.get(info_fuentes[k].get('pagina'), headers=headers)\n",
    "\n",
    "        # Convertimos a tree \n",
    "        arbol_html = html.fromstring(req.content)\n",
    "        temp_res = arbol_html.xpath('//h3 [@class =\"gs_rt\"]/a/@href')\n",
    "\n",
    "        # for j in range(len(temp_res)):\n",
    "        for j in range(1):\n",
    "            paper_dic = {}\n",
    "            print('scraping a', temp_res[j])\n",
    "            pag = temp_res[j]\n",
    "            time.sleep(random.randint(1,2)*0.5)\n",
    "            paper_res =  requests.get(pag, headers=headers)\n",
    "            \n",
    "            if paper_res.status_code == 429:\n",
    "                print('wait' +paper_res.headers.get('Retry-After'))\n",
    "                time.sleep(int(paper_res.headers.get('Retry-After'))+1)\n",
    "                paper_res =  requests.get(pag, headers=headers)\n",
    "            paper_arbol_html = html.fromstring(paper_res.content)\n",
    "\n",
    "            # especifico de la pagina\n",
    "            paper_dic['fuente'] = info_fuentes[k]['fuente']\n",
    "            paper_dic['titulo'] = paper_arbol_html.xpath(info_fuentes[k]['titulo'])\n",
    "            paper_dic['autores'] = paper_arbol_html.xpath(info_fuentes[k]['autores'])\n",
    "            paper_dic['abstract'] = paper_arbol_html.xpath(info_fuentes[k]['abstract'])\n",
    "            paper_dic['clase_primaria'] = paper_arbol_html.xpath(info_fuentes[k]['clase_primaria'])\n",
    "            # paper_dic['otras_clases'] = paper_arbol_html.xpath(info_fuentes[k]['otras_clases'])\n",
    "            #metadata\n",
    "            paper_dic['pag_espec'] = pag\n",
    "            paper_dic['pag_espec'] = info_fuentes[k].get('pagina')\n",
    "            #generico\n",
    "            paper_dic[\"n_citaciones\"] = arbol_html.xpath('//a [@href =\"'+pag+'\"]/parent::*/parent::*/div [@class = \"gs_fl\"]/a [contains(text(),\"Citado\")]/text()')\n",
    "            paper_dic[\"citado\"] = arbol_html.xpath('//a [@href =\"'+pag+'\"]/parent::*/parent::*/div [@class = \"gs_fl\"]/a [contains(text(),\"Citado\")]/@href')\n",
    "            papers.append(paper_dic)\n",
    "        info_fuentes[k]['pagina'] = 'https://scholar.google.com/scholar?start='+str(10*(i+1))+'&q='+info_fuentes[k].get(\"area\").replace(\" \", \"+\")+'+source%3A'+info_fuentes[k].get(\"fuente\").split('.')[0]+'&oq='\n",
    "        \n",
    "#guarda la info es .json\n",
    "with open('papers.json', 'a') as file:\n",
    "    json.dump(papers, indent=7, fp=file)\n",
    "    \n",
    "    \n",
    "    \n"
   ]
  },
  {
   "cell_type": "code",
   "execution_count": null,
   "id": "d602d38b",
   "metadata": {},
   "outputs": [],
   "source": []
  },
  {
   "cell_type": "code",
   "execution_count": 133,
   "id": "3e8a5d7e",
   "metadata": {},
   "outputs": [
    {
     "name": "stdout",
     "output_type": "stream",
     "text": [
      "{'fuente': 'cambridge', 'titulo': ['Machine learning in mental health: a scoping review of methods and applications'], 'autores': ['Adrian B. R. Shatte', 'Delyse M. Hutchinson', 'Samantha J. Teague'], 'abstract': ['This paper aims to synthesise the literature on machine learning (ML) and big data applications for mental health, highlighting current research and applications in practice.', \"We employed a scoping review methodology to rapidly map the field of ML in mental health. Eight health and information technology research databases were searched for papers covering this domain. Articles were assessed by two reviewers, and data were extracted on the article's mental health application, ML technique, data type, and study results. Articles were then synthesised via narrative review.\", \"Three hundred papers focusing on the application of ML to mental health were identified. Four main application domains emerged in the literature, including: (i) detection and diagnosis; (ii) prognosis, treatment and support; (iii) public health, and; (iv) research and clinical administration. The most common mental health conditions addressed included depression, schizophrenia, and Alzheimer's disease. ML techniques used included support vector machines, decision trees, neural networks, latent Dirichlet allocation, and clustering.\", 'Overall, the application of ML to mental health has demonstrated a range of benefits across the areas of diagnosis, treatment and support, research, and clinical administration. With the majority of studies identified focusing on the detection and diagnosis of mental health conditions, it is evident that there is significant room for the application of ML to other areas of psychology and mental health. The challenges of using ML techniques are discussed, as well as opportunities to improve and advance the field.'], 'clase_primaria': ['Big data', 'health informatics', 'machine learning', 'mental health'], 'pag_espec': 'https://scholar.google.com/scholar?q=machine+learning+source%3Acambridge&oq=', 'n_citaciones': [], 'citado': []}\n"
     ]
    }
   ],
   "source": [
    "for paper in papers:\n",
    "    print(paper)\n",
    "    break"
   ]
  },
  {
   "cell_type": "code",
   "execution_count": 134,
   "id": "6f7239fb",
   "metadata": {},
   "outputs": [
    {
     "name": "stdout",
     "output_type": "stream",
     "text": [
      "['Machine learning in mental health: a scoping review of methods and applications']\n",
      "[]\n"
     ]
    }
   ],
   "source": [
    "for i in papers:\n",
    "    print(i[\"titulo\"])"
   ]
  },
  {
   "cell_type": "code",
   "execution_count": 135,
   "id": "05f5a5f6",
   "metadata": {},
   "outputs": [
    {
     "name": "stdout",
     "output_type": "stream",
     "text": [
      "['Machine learning in mental health: a scoping review of methods and applications']\n",
      "[]\n",
      "['Adrian B. R. Shatte', 'Delyse M. Hutchinson', 'Samantha J. Teague']\n",
      "[]\n",
      "['This paper aims to synthesise the literature on machine learning (ML) and big data applications for mental health, highlighting current research and applications in practice.', \"We employed a scoping review methodology to rapidly map the field of ML in mental health. Eight health and information technology research databases were searched for papers covering this domain. Articles were assessed by two reviewers, and data were extracted on the article's mental health application, ML technique, data type, and study results. Articles were then synthesised via narrative review.\", \"Three hundred papers focusing on the application of ML to mental health were identified. Four main application domains emerged in the literature, including: (i) detection and diagnosis; (ii) prognosis, treatment and support; (iii) public health, and; (iv) research and clinical administration. The most common mental health conditions addressed included depression, schizophrenia, and Alzheimer's disease. ML techniques used included support vector machines, decision trees, neural networks, latent Dirichlet allocation, and clustering.\", 'Overall, the application of ML to mental health has demonstrated a range of benefits across the areas of diagnosis, treatment and support, research, and clinical administration. With the majority of studies identified focusing on the detection and diagnosis of mental health conditions, it is evident that there is significant room for the application of ML to other areas of psychology and mental health. The challenges of using ML techniques are discussed, as well as opportunities to improve and advance the field.']\n",
      "[]\n",
      "['Big data', 'health informatics', 'machine learning', 'mental health']\n",
      "[]\n",
      "[]\n",
      "[]\n"
     ]
    }
   ],
   "source": [
    "try:\n",
    "    for i in papers:\n",
    "        print(i[\"titulo\"])\n",
    "except:pass\n",
    "try:\n",
    "    for i in papers:\n",
    "        print(i[\"autores\"])\n",
    "except:pass\n",
    "try:    \n",
    "    for i in papers:\n",
    "        print(i[\"abstract\"])\n",
    "except:pass\n",
    "try:\n",
    "    for i in papers:\n",
    "        print(i[\"clase_primaria\"])\n",
    "except:pass\n",
    "try: \n",
    "    for i in papers:\n",
    "        print(i[\"n_citaciones\"])\n",
    "except:pass"
   ]
  },
  {
   "cell_type": "code",
   "execution_count": null,
   "id": "8d11763e",
   "metadata": {},
   "outputs": [],
   "source": []
  },
  {
   "cell_type": "code",
   "execution_count": null,
   "id": "4e40999f",
   "metadata": {},
   "outputs": [],
   "source": []
  },
  {
   "cell_type": "code",
   "execution_count": null,
   "id": "2ed997f2",
   "metadata": {},
   "outputs": [],
   "source": []
  }
 ],
 "metadata": {
  "kernelspec": {
   "display_name": "Python 3.10.8 64-bit",
   "language": "python",
   "name": "python3"
  },
  "language_info": {
   "codemirror_mode": {
    "name": "ipython",
    "version": 3
   },
   "file_extension": ".py",
   "mimetype": "text/x-python",
   "name": "python",
   "nbconvert_exporter": "python",
   "pygments_lexer": "ipython3",
   "version": "3.10.8"
  },
  "vscode": {
   "interpreter": {
    "hash": "4e02a394f46a34fb7f702684e07532c65eb0e3cf841f78604b97865c14e9683e"
   }
  }
 },
 "nbformat": 4,
 "nbformat_minor": 5
}
