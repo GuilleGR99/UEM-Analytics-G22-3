{
 "cells": [
  {
   "cell_type": "code",
   "execution_count": null,
   "id": "f04f04ad",
   "metadata": {},
   "outputs": [],
   "source": [
    "# Importamos bibliotecas\n",
    "import requests\n",
    "from lxml import html\n",
    "import time\n",
    "import random\n",
    "import pandas as pd"
   ]
  },
  {
   "cell_type": "code",
   "execution_count": null,
   "id": "cc1ffcf9",
   "metadata": {},
   "outputs": [],
   "source": [
    "#macros, se podren pasar como argumentos en futuras versiones\n",
    "#hasta = '2021-12-31'\n",
    "#desde = '2021-01-01'\n",
    "# area = 'advantage actor critic'\n",
    "# fuente = 'arxiv'\n",
    "# numero de paginas a revisar (paginas de 10 elementos)\n",
    "num_de_paginas = 2\n"
   ]
  },
  {
   "cell_type": "code",
   "execution_count": null,
   "id": "273b3248",
   "metadata": {},
   "outputs": [],
   "source": [
    "info_fuentes = []\n",
    "\n",
    "info_fuente_arvix = {\n",
    "    'area':'advantage actor critic',\n",
    "    'fuente':'arxiv',\n",
    "    'titulo':'//h1 [@class =\"title mathjax\"]/text()',\n",
    "    'autores':'//div [@class =\"authors\"]/a/text()',\n",
    "    'abstract':'//blockquote [@class =\"abstract mathjax\"]/text()',\n",
    "    'clase_primaria':'//span [@class =\"primary-subject\"]/text()',\n",
    "    # 'otras_clases':'//td [@class =\"tablecell subjects\"]/text()',\n",
    "}\n",
    "info_fuente_arvix['pagina'] = 'https://scholar.google.com/scholar?q='+info_fuente_arvix.get(\"area\").replace(\" \", \"+\")+'+source%3A'+info_fuente_arvix.get(\"fuente\")+'&oq='\n",
    "info_fuentes.append(info_fuente_arvix)\n",
    "\n",
    "info_fuente_springer = {\n",
    "    'area':'advantage actor critic',\n",
    "    'fuente':'springer',\n",
    "    'titulo':'//h1 [@class =\"c-article-title\"]/text()',\n",
    "    'autores':'//li [@class =\"c-article-author-list__item\"]/a/text()',\n",
    "    'abstract':'//div [@class =\"c-article-section__content\"][@id=\"Abs1-content\"]/p/text()',\n",
    "    'clase_primaria':'//li [@class =\"c-article-subject-list__subject\"]/span/text()',\n",
    "    # 'otras_clases':'',\n",
    "}\n",
    "info_fuente_springer['pagina'] = 'https://scholar.google.com/scholar?q='+info_fuente_springer.get(\"area\").replace(\" \", \"+\")+'+source%3A'+info_fuente_springer.get(\"fuente\")+'&oq='\n",
    "info_fuentes.append(info_fuente_springer)"
   ]
  },
  {
   "cell_type": "code",
   "execution_count": null,
   "id": "4e77642f",
   "metadata": {},
   "outputs": [],
   "source": [
    "for k in range(len(info_fuentes)):\n",
    "    headers = requests.utils.default_headers()\n",
    "\n",
    "    headers.update(\n",
    "        {\n",
    "            'User-Agent': 'Chrome/96.0.4664.93',\n",
    "        }\n",
    "    )\n",
    "\n",
    "    req =  requests.get(info_fuentes[k].get('pagina'), headers=headers)\n",
    "    if req.status_code == 429:\n",
    "        print('wait' +req.headers.get('Retry-After'))\n",
    "        time.sleep(int(req.headers.get('Retry-After'))+1)\n",
    "        req =  requests.get(info_fuentes[k].get('pagina'), headers=headers)\n",
    "    print(req)\n",
    "\n",
    "    #Convertimos a tree \n",
    "    arbol_html = html.fromstring(req.content)\n",
    "\n",
    "    # start=10 \n",
    "\n",
    "    papers = []\n",
    "\n",
    "\n",
    "    for i in range (num_de_paginas):\n",
    "        print('Empiezo vuelta '+str(i)+' :'+time.strftime(\"%H:%M:%S\", time.gmtime()))\n",
    "        req =  requests.get(info_fuentes[k].get('pagina'), headers=headers)\n",
    "        print('scrapig google', info_fuentes[k].get('pagina'))\n",
    "\n",
    "        # repetir despues del tiempo de espera\n",
    "        if req.status_code == 429:\n",
    "            print('wait' +req.headers.get('Retry-After'))\n",
    "            time.sleep(int(req.headers.get('Retry-After'))+1)\n",
    "            req =  requests.get(info_fuentes[k].get('pagina'), headers=headers)\n",
    "\n",
    "        # Convertimos a tree \n",
    "        arbol_html = html.fromstring(req.content)\n",
    "        temp_res = arbol_html.xpath('//h3 [@class =\"gs_rt\"]/a/@href')\n",
    "\n",
    "        # for j in range(len(temp_res)):\n",
    "        for j in range(1):\n",
    "            paper_dic = {}\n",
    "            print('scraping a', temp_res[j])\n",
    "            pag = temp_res[j]\n",
    "            time.sleep(random.randint(1,2)*0.5)\n",
    "            paper_res =  requests.get(pag, headers=headers)\n",
    "            \n",
    "            if paper_res.status_code == 429:\n",
    "                print('wait' +paper_res.headers.get('Retry-After'))\n",
    "                time.sleep(int(paper_res.headers.get('Retry-After'))+1)\n",
    "                paper_res =  requests.get(pag, headers=headers)\n",
    "            paper_arbol_html = html.fromstring(paper_res.content)\n",
    "\n",
    "            # especifico de la pagina\n",
    "            paper_dic['fuente'] = info_fuentes[k]['fuente']\n",
    "            paper_dic['titulo'] = paper_arbol_html.xpath(info_fuentes[k]['titulo'])\n",
    "            paper_dic['autores'] = paper_arbol_html.xpath(info_fuentes[k]['autores'])\n",
    "            paper_dic['abstract'] = paper_arbol_html.xpath(info_fuentes[k]['abstract'])\n",
    "            paper_dic['clase_primaria'] = paper_arbol_html.xpath(info_fuentes[k]['clase_primaria'])\n",
    "            # paper_dic['otras_clases'] = paper_arbol_html.xpath(info_fuentes[k]['otras_clases'])\n",
    "            #metadata\n",
    "            paper_dic['pag_espec'] = pag\n",
    "            paper_dic['pag_espec'] = info_fuentes[k].get('pagina')\n",
    "            #generico\n",
    "            paper_dic[\"n_citaciones\"] = arbol_html.xpath('//a [@href =\"'+pag+'\"]/parent::*/parent::*/div [@class = \"gs_fl\"]/a [contains(text(),\"Citado\")]/text()')\n",
    "            paper_dic[\"citado\"] = arbol_html.xpath('//a [@href =\"'+pag+'\"]/parent::*/parent::*/div [@class = \"gs_fl\"]/a [contains(text(),\"Citado\")]/@href')\n",
    "            papers.append(paper_dic)\n",
    "        info_fuentes[k]['pagina'] = 'https://scholar.google.com/scholar?start='+str(10*(i+1))+'&q='+info_fuentes[k].get(\"area\").replace(\" \", \"+\")+'+source%3A'+info_fuentes[k].get(\"fuente\").split('.')[0]+'&oq='\n",
    "        \n",
    "\n",
    "    \n",
    "    \n",
    "    \n"
   ]
  },
  {
   "cell_type": "code",
   "execution_count": null,
   "id": "3e8a5d7e",
   "metadata": {},
   "outputs": [],
   "source": [
    "for paper in papers:\n",
    "    print(paper)\n",
    "    break"
   ]
  },
  {
   "cell_type": "code",
   "execution_count": null,
   "id": "6f7239fb",
   "metadata": {},
   "outputs": [],
   "source": [
    "for i in papers:\n",
    "    print(i[\"titulo\"])"
   ]
  },
  {
   "cell_type": "code",
   "execution_count": null,
   "id": "05f5a5f6",
   "metadata": {},
   "outputs": [],
   "source": [
    "for i in papers:\n",
    "    print(i[\"titulo\"])\n",
    "for i in papers:\n",
    "    print(i[\"autores\"])\n",
    "for i in papers:\n",
    "    print(i[\"abstract\"])\n",
    "for i in papers:\n",
    "    print(i[\"clase_primaria\"])\n",
    "for i in papers:\n",
    "    print(i[\"n_citaciones\"])"
   ]
  },
  {
   "cell_type": "code",
   "execution_count": null,
   "id": "8d11763e",
   "metadata": {},
   "outputs": [],
   "source": []
  },
  {
   "cell_type": "code",
   "execution_count": null,
   "id": "4e40999f",
   "metadata": {},
   "outputs": [],
   "source": []
  },
  {
   "cell_type": "code",
   "execution_count": null,
   "id": "2ed997f2",
   "metadata": {},
   "outputs": [],
   "source": []
  }
 ],
 "metadata": {
  "kernelspec": {
   "display_name": "Python 3.10.8 64-bit",
   "language": "python",
   "name": "python3"
  },
  "language_info": {
   "codemirror_mode": {
    "name": "ipython",
    "version": 3
   },
   "file_extension": ".py",
   "mimetype": "text/x-python",
   "name": "python",
   "nbconvert_exporter": "python",
   "pygments_lexer": "ipython3",
   "version": "3.10.8"
  },
  "vscode": {
   "interpreter": {
    "hash": "4e02a394f46a34fb7f702684e07532c65eb0e3cf841f78604b97865c14e9683e"
   }
  }
 },
 "nbformat": 4,
 "nbformat_minor": 5
}
